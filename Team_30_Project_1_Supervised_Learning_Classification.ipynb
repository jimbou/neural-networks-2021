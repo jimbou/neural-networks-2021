{
  "nbformat": 4,
  "nbformat_minor": 0,
  "metadata": {
    "colab": {
      "name": "Team 30 Project 1 - Supervised Learning : Classification.ipynb",
      "provenance": [],
      "collapsed_sections": [
        "9FSU_ytP-7rO",
        "33C1mUp_-_fN",
        "oV8OO0R1ARhI",
        "Ct3Y9vSkAVs_",
        "GLYMil3YXI0X",
        "55piXbN8_QKo",
        "AR1uMd1l9oRB",
        "ACfIr6N7XAjV"
      ]
    },
    "kernelspec": {
      "display_name": "Python 3",
      "name": "python3"
    },
    "language_info": {
      "name": "python"
    },
    "accelerator": "GPU"
  },
  "cells": [
    {
      "cell_type": "markdown",
      "metadata": {
        "id": "9FSU_ytP-7rO"
      },
      "source": [
        "#Imports\n"
      ]
    },
    {
      "cell_type": "code",
      "metadata": {
        "id": "58YGLXB-ZnSN"
      },
      "source": [
        "%%capture\n",
        "!pip install kaggle\n",
        "!pip install optuna"
      ],
      "execution_count": 32,
      "outputs": []
    },
    {
      "cell_type": "code",
      "metadata": {
        "id": "IaQcJ43z-mut"
      },
      "source": [
        "import pandas as pd\n",
        "import numpy as np\n",
        "import matplotlib.pyplot as plt\n",
        "import copy\n",
        "\n",
        "from imblearn.under_sampling import RandomUnderSampler\n",
        "from imblearn.over_sampling import RandomOverSampler\n",
        "from imblearn.pipeline import Pipeline\n",
        "\n",
        "from sklearn.metrics import accuracy_score, f1_score, accuracy_score, classification_report, ConfusionMatrixDisplay, confusion_matrix\n",
        "from sklearn.model_selection import train_test_split\n",
        "from sklearn.feature_selection import VarianceThreshold\n",
        "from sklearn.preprocessing import StandardScaler # φέρνουμε τον StandarScaler ως transformer που έχει .transform kai ΄όχι ως scale()\n",
        "from sklearn.decomposition import PCA\n",
        "from sklearn import neighbors\n",
        "from sklearn.dummy import DummyClassifier\n",
        "from sklearn.naive_bayes import GaussianNB\n",
        "from sklearn.neighbors import KNeighborsClassifier\n",
        "from sklearn.linear_model import LogisticRegression\n",
        "from sklearn.model_selection import GridSearchCV, KFold\n",
        "from sklearn.neural_network import MLPClassifier\n",
        "from sklearn.impute import SimpleImputer\n",
        "from sklearn.svm import LinearSVC, SVC\n",
        "\n",
        "import optuna\n",
        "from collections import defaultdict \n",
        "\n",
        "import time\n",
        "import os\n",
        "\n",
        "from google.colab import drive\n",
        "\n",
        "import warnings\n",
        "from sklearn.exceptions import ConvergenceWarning\n",
        "\n",
        "warnings.simplefilter(action='ignore', category=FutureWarning)\n",
        "warnings.simplefilter(action='ignore', category=ConvergenceWarning)"
      ],
      "execution_count": 33,
      "outputs": []
    },
    {
      "cell_type": "markdown",
      "metadata": {
        "id": "33C1mUp_-_fN"
      },
      "source": [
        "#Μέρος 1. UCI Dataset\n"
      ]
    },
    {
      "cell_type": "markdown",
      "metadata": {
        "id": "oV8OO0R1ARhI"
      },
      "source": [
        "##Εισαγωγή Dataset"
      ]
    },
    {
      "cell_type": "code",
      "metadata": {
        "id": "YHQfmQp0AQpl"
      },
      "source": [
        "#%%capture\n",
        "\n",
        "!wget --no-check-certificate 'https://www.dropbox.com/s/j0qzrchft16mhx7/dermatology.data?dl=0' -o dermatology_data\n",
        "!wget --no-check-certificate 'https://www.dropbox.com/s/e187frer1zzwyag/dermatology.names?dl=0' -o dermatology_names"
      ],
      "execution_count": 3,
      "outputs": []
    },
    {
      "cell_type": "code",
      "metadata": {
        "id": "Mr3I1UPRHkPT"
      },
      "source": [
        "df_uci = pd.read_csv('/content/dermatology.data?dl=0', sep = ',')\n",
        "\n",
        "cols_names = ['erythema',\n",
        "      'scaling',\n",
        "      'definite borders',\n",
        "      'itching',\n",
        "      'koebner phenomenon',\n",
        "      'polygonal papules',\n",
        "      'follicular papules',\n",
        "      'oral mucosal involvement',\n",
        "      'knee and elbow involvement',\n",
        "      'scalp involvement',\n",
        "      'family history',\n",
        "      'melanin incontinence',\n",
        "      'eosinophils in the infiltrate',\n",
        "      'PNL infiltrate',\n",
        "      'fibrosis of the papillary dermis',\n",
        "      'exocytosis',\n",
        "      'acanthosis',\n",
        "      'hyperkeratosis',\n",
        "      'parakeratosis',\n",
        "      'clubbing of the rete ridges',\n",
        "      'elongation of the rete ridges',\n",
        "      'thinning of the suprapapillary epidermis',\n",
        "      'spongiform pustule',\n",
        "      'munro microabcess',\n",
        "      'focal hypergranulosis',\n",
        "      'disappearance of the granular layer',\n",
        "      'vacuolisation and damage of basal layer',\n",
        "      'spongiosis',\n",
        "      'saw-tooth appearance of retes',\n",
        "      'follicular horn plug',\n",
        "      'perifollicular parakeratosis',\n",
        "      'inflammatory monoluclear inflitrate',\n",
        "      'band-like infiltrate', \n",
        "      'Age',\n",
        "      'labels']\n",
        "\n",
        "df_uci.columns = cols_names"
      ],
      "execution_count": 4,
      "outputs": []
    },
    {
      "cell_type": "code",
      "metadata": {
        "colab": {
          "base_uri": "https://localhost:8080/",
          "height": 496
        },
        "id": "ynhj0jJMbIQB",
        "outputId": "b86c8cd0-24d5-49e9-df43-f0b580288c2a"
      },
      "source": [
        "df_uci"
      ],
      "execution_count": 5,
      "outputs": [
        {
          "output_type": "execute_result",
          "data": {
            "text/html": [
              "<div>\n",
              "<style scoped>\n",
              "    .dataframe tbody tr th:only-of-type {\n",
              "        vertical-align: middle;\n",
              "    }\n",
              "\n",
              "    .dataframe tbody tr th {\n",
              "        vertical-align: top;\n",
              "    }\n",
              "\n",
              "    .dataframe thead th {\n",
              "        text-align: right;\n",
              "    }\n",
              "</style>\n",
              "<table border=\"1\" class=\"dataframe\">\n",
              "  <thead>\n",
              "    <tr style=\"text-align: right;\">\n",
              "      <th></th>\n",
              "      <th>erythema</th>\n",
              "      <th>scaling</th>\n",
              "      <th>definite borders</th>\n",
              "      <th>itching</th>\n",
              "      <th>koebner phenomenon</th>\n",
              "      <th>polygonal papules</th>\n",
              "      <th>follicular papules</th>\n",
              "      <th>oral mucosal involvement</th>\n",
              "      <th>knee and elbow involvement</th>\n",
              "      <th>scalp involvement</th>\n",
              "      <th>family history</th>\n",
              "      <th>melanin incontinence</th>\n",
              "      <th>eosinophils in the infiltrate</th>\n",
              "      <th>PNL infiltrate</th>\n",
              "      <th>fibrosis of the papillary dermis</th>\n",
              "      <th>exocytosis</th>\n",
              "      <th>acanthosis</th>\n",
              "      <th>hyperkeratosis</th>\n",
              "      <th>parakeratosis</th>\n",
              "      <th>clubbing of the rete ridges</th>\n",
              "      <th>elongation of the rete ridges</th>\n",
              "      <th>thinning of the suprapapillary epidermis</th>\n",
              "      <th>spongiform pustule</th>\n",
              "      <th>munro microabcess</th>\n",
              "      <th>focal hypergranulosis</th>\n",
              "      <th>disappearance of the granular layer</th>\n",
              "      <th>vacuolisation and damage of basal layer</th>\n",
              "      <th>spongiosis</th>\n",
              "      <th>saw-tooth appearance of retes</th>\n",
              "      <th>follicular horn plug</th>\n",
              "      <th>perifollicular parakeratosis</th>\n",
              "      <th>inflammatory monoluclear inflitrate</th>\n",
              "      <th>band-like infiltrate</th>\n",
              "      <th>Age</th>\n",
              "      <th>labels</th>\n",
              "    </tr>\n",
              "  </thead>\n",
              "  <tbody>\n",
              "    <tr>\n",
              "      <th>0</th>\n",
              "      <td>3</td>\n",
              "      <td>3</td>\n",
              "      <td>3</td>\n",
              "      <td>2</td>\n",
              "      <td>1</td>\n",
              "      <td>0</td>\n",
              "      <td>0</td>\n",
              "      <td>0</td>\n",
              "      <td>1</td>\n",
              "      <td>1</td>\n",
              "      <td>1</td>\n",
              "      <td>0</td>\n",
              "      <td>0</td>\n",
              "      <td>1</td>\n",
              "      <td>0</td>\n",
              "      <td>1</td>\n",
              "      <td>2</td>\n",
              "      <td>0</td>\n",
              "      <td>2</td>\n",
              "      <td>2</td>\n",
              "      <td>2</td>\n",
              "      <td>2</td>\n",
              "      <td>2</td>\n",
              "      <td>1</td>\n",
              "      <td>0</td>\n",
              "      <td>0</td>\n",
              "      <td>0</td>\n",
              "      <td>0</td>\n",
              "      <td>0</td>\n",
              "      <td>0</td>\n",
              "      <td>0</td>\n",
              "      <td>1</td>\n",
              "      <td>0</td>\n",
              "      <td>8</td>\n",
              "      <td>1</td>\n",
              "    </tr>\n",
              "    <tr>\n",
              "      <th>1</th>\n",
              "      <td>2</td>\n",
              "      <td>1</td>\n",
              "      <td>2</td>\n",
              "      <td>3</td>\n",
              "      <td>1</td>\n",
              "      <td>3</td>\n",
              "      <td>0</td>\n",
              "      <td>3</td>\n",
              "      <td>0</td>\n",
              "      <td>0</td>\n",
              "      <td>0</td>\n",
              "      <td>1</td>\n",
              "      <td>0</td>\n",
              "      <td>0</td>\n",
              "      <td>0</td>\n",
              "      <td>1</td>\n",
              "      <td>2</td>\n",
              "      <td>0</td>\n",
              "      <td>2</td>\n",
              "      <td>0</td>\n",
              "      <td>0</td>\n",
              "      <td>0</td>\n",
              "      <td>0</td>\n",
              "      <td>0</td>\n",
              "      <td>2</td>\n",
              "      <td>0</td>\n",
              "      <td>2</td>\n",
              "      <td>3</td>\n",
              "      <td>2</td>\n",
              "      <td>0</td>\n",
              "      <td>0</td>\n",
              "      <td>2</td>\n",
              "      <td>3</td>\n",
              "      <td>26</td>\n",
              "      <td>3</td>\n",
              "    </tr>\n",
              "    <tr>\n",
              "      <th>2</th>\n",
              "      <td>2</td>\n",
              "      <td>2</td>\n",
              "      <td>2</td>\n",
              "      <td>0</td>\n",
              "      <td>0</td>\n",
              "      <td>0</td>\n",
              "      <td>0</td>\n",
              "      <td>0</td>\n",
              "      <td>3</td>\n",
              "      <td>2</td>\n",
              "      <td>0</td>\n",
              "      <td>0</td>\n",
              "      <td>0</td>\n",
              "      <td>3</td>\n",
              "      <td>0</td>\n",
              "      <td>0</td>\n",
              "      <td>2</td>\n",
              "      <td>0</td>\n",
              "      <td>3</td>\n",
              "      <td>2</td>\n",
              "      <td>2</td>\n",
              "      <td>2</td>\n",
              "      <td>2</td>\n",
              "      <td>0</td>\n",
              "      <td>0</td>\n",
              "      <td>3</td>\n",
              "      <td>0</td>\n",
              "      <td>0</td>\n",
              "      <td>0</td>\n",
              "      <td>0</td>\n",
              "      <td>0</td>\n",
              "      <td>3</td>\n",
              "      <td>0</td>\n",
              "      <td>40</td>\n",
              "      <td>1</td>\n",
              "    </tr>\n",
              "    <tr>\n",
              "      <th>3</th>\n",
              "      <td>2</td>\n",
              "      <td>3</td>\n",
              "      <td>2</td>\n",
              "      <td>2</td>\n",
              "      <td>2</td>\n",
              "      <td>2</td>\n",
              "      <td>0</td>\n",
              "      <td>2</td>\n",
              "      <td>0</td>\n",
              "      <td>0</td>\n",
              "      <td>0</td>\n",
              "      <td>1</td>\n",
              "      <td>0</td>\n",
              "      <td>0</td>\n",
              "      <td>0</td>\n",
              "      <td>1</td>\n",
              "      <td>2</td>\n",
              "      <td>0</td>\n",
              "      <td>0</td>\n",
              "      <td>0</td>\n",
              "      <td>0</td>\n",
              "      <td>0</td>\n",
              "      <td>0</td>\n",
              "      <td>0</td>\n",
              "      <td>2</td>\n",
              "      <td>2</td>\n",
              "      <td>3</td>\n",
              "      <td>2</td>\n",
              "      <td>3</td>\n",
              "      <td>0</td>\n",
              "      <td>0</td>\n",
              "      <td>2</td>\n",
              "      <td>3</td>\n",
              "      <td>45</td>\n",
              "      <td>3</td>\n",
              "    </tr>\n",
              "    <tr>\n",
              "      <th>4</th>\n",
              "      <td>2</td>\n",
              "      <td>3</td>\n",
              "      <td>2</td>\n",
              "      <td>0</td>\n",
              "      <td>0</td>\n",
              "      <td>0</td>\n",
              "      <td>0</td>\n",
              "      <td>0</td>\n",
              "      <td>0</td>\n",
              "      <td>0</td>\n",
              "      <td>0</td>\n",
              "      <td>0</td>\n",
              "      <td>2</td>\n",
              "      <td>1</td>\n",
              "      <td>0</td>\n",
              "      <td>2</td>\n",
              "      <td>2</td>\n",
              "      <td>0</td>\n",
              "      <td>2</td>\n",
              "      <td>0</td>\n",
              "      <td>0</td>\n",
              "      <td>0</td>\n",
              "      <td>1</td>\n",
              "      <td>0</td>\n",
              "      <td>0</td>\n",
              "      <td>0</td>\n",
              "      <td>0</td>\n",
              "      <td>2</td>\n",
              "      <td>0</td>\n",
              "      <td>0</td>\n",
              "      <td>0</td>\n",
              "      <td>1</td>\n",
              "      <td>0</td>\n",
              "      <td>41</td>\n",
              "      <td>2</td>\n",
              "    </tr>\n",
              "    <tr>\n",
              "      <th>...</th>\n",
              "      <td>...</td>\n",
              "      <td>...</td>\n",
              "      <td>...</td>\n",
              "      <td>...</td>\n",
              "      <td>...</td>\n",
              "      <td>...</td>\n",
              "      <td>...</td>\n",
              "      <td>...</td>\n",
              "      <td>...</td>\n",
              "      <td>...</td>\n",
              "      <td>...</td>\n",
              "      <td>...</td>\n",
              "      <td>...</td>\n",
              "      <td>...</td>\n",
              "      <td>...</td>\n",
              "      <td>...</td>\n",
              "      <td>...</td>\n",
              "      <td>...</td>\n",
              "      <td>...</td>\n",
              "      <td>...</td>\n",
              "      <td>...</td>\n",
              "      <td>...</td>\n",
              "      <td>...</td>\n",
              "      <td>...</td>\n",
              "      <td>...</td>\n",
              "      <td>...</td>\n",
              "      <td>...</td>\n",
              "      <td>...</td>\n",
              "      <td>...</td>\n",
              "      <td>...</td>\n",
              "      <td>...</td>\n",
              "      <td>...</td>\n",
              "      <td>...</td>\n",
              "      <td>...</td>\n",
              "      <td>...</td>\n",
              "    </tr>\n",
              "    <tr>\n",
              "      <th>360</th>\n",
              "      <td>2</td>\n",
              "      <td>1</td>\n",
              "      <td>1</td>\n",
              "      <td>0</td>\n",
              "      <td>1</td>\n",
              "      <td>0</td>\n",
              "      <td>0</td>\n",
              "      <td>0</td>\n",
              "      <td>0</td>\n",
              "      <td>0</td>\n",
              "      <td>0</td>\n",
              "      <td>0</td>\n",
              "      <td>0</td>\n",
              "      <td>1</td>\n",
              "      <td>0</td>\n",
              "      <td>1</td>\n",
              "      <td>1</td>\n",
              "      <td>0</td>\n",
              "      <td>0</td>\n",
              "      <td>0</td>\n",
              "      <td>0</td>\n",
              "      <td>0</td>\n",
              "      <td>0</td>\n",
              "      <td>0</td>\n",
              "      <td>0</td>\n",
              "      <td>0</td>\n",
              "      <td>0</td>\n",
              "      <td>1</td>\n",
              "      <td>0</td>\n",
              "      <td>0</td>\n",
              "      <td>0</td>\n",
              "      <td>2</td>\n",
              "      <td>0</td>\n",
              "      <td>25</td>\n",
              "      <td>4</td>\n",
              "    </tr>\n",
              "    <tr>\n",
              "      <th>361</th>\n",
              "      <td>3</td>\n",
              "      <td>2</td>\n",
              "      <td>1</td>\n",
              "      <td>0</td>\n",
              "      <td>1</td>\n",
              "      <td>0</td>\n",
              "      <td>0</td>\n",
              "      <td>0</td>\n",
              "      <td>0</td>\n",
              "      <td>0</td>\n",
              "      <td>0</td>\n",
              "      <td>0</td>\n",
              "      <td>0</td>\n",
              "      <td>0</td>\n",
              "      <td>0</td>\n",
              "      <td>2</td>\n",
              "      <td>2</td>\n",
              "      <td>0</td>\n",
              "      <td>0</td>\n",
              "      <td>0</td>\n",
              "      <td>0</td>\n",
              "      <td>0</td>\n",
              "      <td>0</td>\n",
              "      <td>0</td>\n",
              "      <td>0</td>\n",
              "      <td>1</td>\n",
              "      <td>0</td>\n",
              "      <td>1</td>\n",
              "      <td>0</td>\n",
              "      <td>0</td>\n",
              "      <td>0</td>\n",
              "      <td>2</td>\n",
              "      <td>0</td>\n",
              "      <td>36</td>\n",
              "      <td>4</td>\n",
              "    </tr>\n",
              "    <tr>\n",
              "      <th>362</th>\n",
              "      <td>3</td>\n",
              "      <td>2</td>\n",
              "      <td>2</td>\n",
              "      <td>2</td>\n",
              "      <td>3</td>\n",
              "      <td>2</td>\n",
              "      <td>0</td>\n",
              "      <td>2</td>\n",
              "      <td>0</td>\n",
              "      <td>0</td>\n",
              "      <td>0</td>\n",
              "      <td>2</td>\n",
              "      <td>2</td>\n",
              "      <td>0</td>\n",
              "      <td>0</td>\n",
              "      <td>3</td>\n",
              "      <td>3</td>\n",
              "      <td>0</td>\n",
              "      <td>0</td>\n",
              "      <td>0</td>\n",
              "      <td>0</td>\n",
              "      <td>0</td>\n",
              "      <td>0</td>\n",
              "      <td>0</td>\n",
              "      <td>3</td>\n",
              "      <td>0</td>\n",
              "      <td>3</td>\n",
              "      <td>0</td>\n",
              "      <td>3</td>\n",
              "      <td>0</td>\n",
              "      <td>0</td>\n",
              "      <td>2</td>\n",
              "      <td>3</td>\n",
              "      <td>28</td>\n",
              "      <td>3</td>\n",
              "    </tr>\n",
              "    <tr>\n",
              "      <th>363</th>\n",
              "      <td>2</td>\n",
              "      <td>1</td>\n",
              "      <td>3</td>\n",
              "      <td>1</td>\n",
              "      <td>2</td>\n",
              "      <td>3</td>\n",
              "      <td>0</td>\n",
              "      <td>2</td>\n",
              "      <td>0</td>\n",
              "      <td>0</td>\n",
              "      <td>0</td>\n",
              "      <td>2</td>\n",
              "      <td>0</td>\n",
              "      <td>0</td>\n",
              "      <td>0</td>\n",
              "      <td>3</td>\n",
              "      <td>2</td>\n",
              "      <td>0</td>\n",
              "      <td>0</td>\n",
              "      <td>0</td>\n",
              "      <td>0</td>\n",
              "      <td>0</td>\n",
              "      <td>0</td>\n",
              "      <td>0</td>\n",
              "      <td>3</td>\n",
              "      <td>0</td>\n",
              "      <td>2</td>\n",
              "      <td>0</td>\n",
              "      <td>1</td>\n",
              "      <td>0</td>\n",
              "      <td>0</td>\n",
              "      <td>2</td>\n",
              "      <td>3</td>\n",
              "      <td>50</td>\n",
              "      <td>3</td>\n",
              "    </tr>\n",
              "    <tr>\n",
              "      <th>364</th>\n",
              "      <td>3</td>\n",
              "      <td>2</td>\n",
              "      <td>2</td>\n",
              "      <td>0</td>\n",
              "      <td>0</td>\n",
              "      <td>0</td>\n",
              "      <td>0</td>\n",
              "      <td>0</td>\n",
              "      <td>3</td>\n",
              "      <td>3</td>\n",
              "      <td>0</td>\n",
              "      <td>0</td>\n",
              "      <td>0</td>\n",
              "      <td>1</td>\n",
              "      <td>0</td>\n",
              "      <td>0</td>\n",
              "      <td>2</td>\n",
              "      <td>0</td>\n",
              "      <td>2</td>\n",
              "      <td>3</td>\n",
              "      <td>2</td>\n",
              "      <td>3</td>\n",
              "      <td>0</td>\n",
              "      <td>2</td>\n",
              "      <td>0</td>\n",
              "      <td>2</td>\n",
              "      <td>0</td>\n",
              "      <td>0</td>\n",
              "      <td>0</td>\n",
              "      <td>0</td>\n",
              "      <td>0</td>\n",
              "      <td>3</td>\n",
              "      <td>0</td>\n",
              "      <td>35</td>\n",
              "      <td>1</td>\n",
              "    </tr>\n",
              "  </tbody>\n",
              "</table>\n",
              "<p>365 rows × 35 columns</p>\n",
              "</div>"
            ],
            "text/plain": [
              "     erythema  scaling  definite borders  ...  band-like infiltrate  Age  labels\n",
              "0           3        3                 3  ...                     0    8       1\n",
              "1           2        1                 2  ...                     3   26       3\n",
              "2           2        2                 2  ...                     0   40       1\n",
              "3           2        3                 2  ...                     3   45       3\n",
              "4           2        3                 2  ...                     0   41       2\n",
              "..        ...      ...               ...  ...                   ...  ...     ...\n",
              "360         2        1                 1  ...                     0   25       4\n",
              "361         3        2                 1  ...                     0   36       4\n",
              "362         3        2                 2  ...                     3   28       3\n",
              "363         2        1                 3  ...                     3   50       3\n",
              "364         3        2                 2  ...                     0   35       1\n",
              "\n",
              "[365 rows x 35 columns]"
            ]
          },
          "metadata": {},
          "execution_count": 5
        }
      ]
    },
    {
      "cell_type": "markdown",
      "metadata": {
        "id": "K2nCC0nElMOo"
      },
      "source": [
        "### Επισκόπηση"
      ]
    },
    {
      "cell_type": "markdown",
      "metadata": {
        "id": "kIeO4JGCqyr7"
      },
      "source": [
        "**Σύντομη παρουσίαση του dataset δηλαδή ποιο είναι το πρόβλημα που περιγράφει**\n",
        "\n",
        "To συγκεκριμένο dataset περιγράφει την διάγνωση των ερυθηµατολεπιδωδών πλακωδών(erythemato-squamous) ασθενειών. Οι ασθένειες αυτού του τύπου έχουν κάποια κοινά χαρακτηριστικά, όπως ερύθημα και \"scaling\" με μικρές διαφορές, γεγονός που καθιστά δύσκολη τη διάγνωση, κρίνοντας απαραίτητη τη βιοψία. Για την αποφυγή αυτού, δημιουργούμε το συγκεκριμένο μοντέλο, το οποίο λαμβάνοντας υπ' όψιν 34 χαρακτηριστικά του ασθενή προβλέπει από ποια από τις 6 ασθένειες πάσχει."
      ]
    },
    {
      "cell_type": "markdown",
      "metadata": {
        "id": "Y3tTCl9es6o3"
      },
      "source": [
        "**Χρειάστηκε να κάνετε μετατροπές στα αρχεία plain text για την εισαγωγή του; αν ναι, ποιες είναι αυτές;**\n",
        "\n",
        "Επειδή στο αρχείο .data δεν συμπεριλαμβανόταν τα ονόματα των \"attributes\" χρείαστηκε να τα προσθέσουμε χειροκίνητα με βάση το αρχείο .names."
      ]
    },
    {
      "cell_type": "markdown",
      "metadata": {
        "id": "s-ohDG-ZtgQd"
      },
      "source": [
        "**Δώστε το πλήθος δειγμάτων και χαρακτηριστικών, και το είδος όλων των χαρακτηριστικών. Υπάρχουν μη διατεταγμένα χαρακτηριστικά και ποια είναι αυτά;**\n",
        "\n"
      ]
    },
    {
      "cell_type": "code",
      "metadata": {
        "colab": {
          "base_uri": "https://localhost:8080/"
        },
        "id": "q7Ad05zCtwXk",
        "outputId": "33509e37-b289-4e7a-f994-3f8cc5b3057f"
      },
      "source": [
        "print('Number of instances = ' + str(df_uci.shape[0]))\n",
        "print('Number of attributes = ' + str(df_uci.shape[1]))\n",
        "print('Type of attributes: \\n' + str(df_uci.dtypes))"
      ],
      "execution_count": 6,
      "outputs": [
        {
          "output_type": "stream",
          "name": "stdout",
          "text": [
            "Number of instances = 365\n",
            "Number of attributes = 35\n",
            "Type of attributes: \n",
            "erythema                                     int64\n",
            "scaling                                      int64\n",
            "definite borders                             int64\n",
            "itching                                      int64\n",
            "koebner phenomenon                           int64\n",
            "polygonal papules                            int64\n",
            "follicular papules                           int64\n",
            "oral mucosal involvement                     int64\n",
            "knee and elbow involvement                   int64\n",
            "scalp involvement                            int64\n",
            "family history                               int64\n",
            "melanin incontinence                         int64\n",
            "eosinophils in the infiltrate                int64\n",
            "PNL infiltrate                               int64\n",
            "fibrosis of the papillary dermis             int64\n",
            "exocytosis                                   int64\n",
            "acanthosis                                   int64\n",
            "hyperkeratosis                               int64\n",
            "parakeratosis                                int64\n",
            "clubbing of the rete ridges                  int64\n",
            "elongation of the rete ridges                int64\n",
            "thinning of the suprapapillary epidermis     int64\n",
            "spongiform pustule                           int64\n",
            "munro microabcess                            int64\n",
            "focal hypergranulosis                        int64\n",
            "disappearance of the granular layer          int64\n",
            "vacuolisation and damage of basal layer      int64\n",
            "spongiosis                                   int64\n",
            "saw-tooth appearance of retes                int64\n",
            "follicular horn plug                         int64\n",
            "perifollicular parakeratosis                 int64\n",
            "inflammatory monoluclear inflitrate          int64\n",
            "band-like infiltrate                         int64\n",
            "Age                                         object\n",
            "labels                                       int64\n",
            "dtype: object\n"
          ]
        }
      ]
    },
    {
      "cell_type": "markdown",
      "metadata": {
        "id": "RoGveQlAKWZ7"
      },
      "source": [
        "Παρατηρούμε πως όλα τα χαρακτηριστικά είναι διατεταγμένα."
      ]
    },
    {
      "cell_type": "markdown",
      "metadata": {
        "id": "QP97Z_J8twK_"
      },
      "source": [
        "**Υπάρχουν επικεφαλίδες; Αρίθμηση γραμμών;**\n",
        "\n",
        "Όχι δεν υπάρχουν επικεφαλίδες στα raw data αλλά προσθέθηκαν manually από το αρχείο .names.\n",
        "\n",
        "Δεν υπάρχει αρίθμηση γραμμών και συμπληρώνεται αυτόματα από την βιβλιοθήκη pandas."
      ]
    },
    {
      "cell_type": "markdown",
      "metadata": {
        "id": "5XX3Ba9SygR_"
      },
      "source": [
        "**Ποιες είναι οι ετικέτες των κλάσεων και σε ποια κολόνα βρίσκονται;**\n",
        "\n",
        "Οι ετικέτες των κλάσεων είναι οι εξής:\n",
        "\n",
        "|Class code | Class|\n",
        "| ----- | --------  |\n",
        "| 1 | psoriasis |\n",
        "| 2 | seboreic dermatitis |\n",
        "| 3 | lichen planus |\n",
        "| 4 | pityriasis rosea |\n",
        "| 5 | cronic dermatitis |\n",
        "| 6 | pityriasis rubra pilaris  |\n",
        "\n",
        "και βρίσκονται στο column ['labels'], δηλαδή στην στήλη 35 του dataframe."
      ]
    },
    {
      "cell_type": "markdown",
      "metadata": {
        "id": "sYZAaypAz4Fa"
      },
      "source": [
        "**Υπάρχουν απουσιάζουσες τιμές; Πόσα είναι τα δείγματα με απουσιάζουσες τιμές και ποιο το ποσοστό τους επί του συνόλου;**\n",
        "\n",
        "Υπάρχουν απουσιάζουσες τιμές στη στήλη ['Age']\n"
      ]
    },
    {
      "cell_type": "code",
      "metadata": {
        "colab": {
          "base_uri": "https://localhost:8080/"
        },
        "id": "hzWm8Xsu0BTL",
        "outputId": "109e4a82-5808-4f4e-bad6-163063dfeaee"
      },
      "source": [
        "num_of_missing_data = df_uci.shape[0] - df_uci.drop(df_uci.loc[df_uci.values == '?'].index).shape[0]\n",
        "\n",
        "print('Number of data with missing attributes = ' + str(num_of_missing_data))\n",
        "print('Data with Missing attributes percentage = ' + str(round((num_of_missing_data / df_uci.shape[0]) * 100, 2)) + '%')"
      ],
      "execution_count": 7,
      "outputs": [
        {
          "output_type": "stream",
          "name": "stdout",
          "text": [
            "Number of data with missing attributes = 8\n",
            "Data with Missing attributes percentage = 2.19%\n"
          ]
        }
      ]
    },
    {
      "cell_type": "markdown",
      "metadata": {
        "id": "8dwNrmOr2Lz2"
      },
      "source": [
        "**Ποιος είναι το πλήθος των κλάσεων και τα ποσοστά δειγμάτων τους επί του συνόλου; Αν θεωρήσουμε ότι ένα dataset είναι μη ισορροπημένο αν μια οποιαδήποτε κλάση είναι 1.5 φορά πιο συχνή από κάποια άλλη (60%-40% σε binary datasets) εκτιμήστε αν το dataset είναι ισορροπημένο ή όχι.**"
      ]
    },
    {
      "cell_type": "code",
      "metadata": {
        "colab": {
          "base_uri": "https://localhost:8080/"
        },
        "id": "DzxR4mf52LGi",
        "outputId": "e2267c28-cb4a-4069-d167-4681e5bf47de"
      },
      "source": [
        "num_of_classes = len(df_uci['labels'].unique())\n",
        "\n",
        "psoriasis = round((len(df_uci[df_uci.labels == 1]) / df_uci.shape[0]) * 100, 2)\n",
        "seboreic_dermatitis = round((len(df_uci[df_uci.labels == 2]) / df_uci.shape[0]) * 100, 2)\n",
        "lichen_planus = round((len(df_uci[df_uci.labels == 3]) / df_uci.shape[0]) * 100, 2)\n",
        "pityriasis_rosea = round((len(df_uci[df_uci.labels == 4]) / df_uci.shape[0]) * 100, 2)\n",
        "cronic_dermatitis = round((len(df_uci[df_uci.labels == 5]) / df_uci.shape[0]) * 100, 2)\n",
        "pityriasis_rubra_pilaris = round((len(df_uci[df_uci.labels == 6]) / df_uci.shape[0]) * 100, 2)\n",
        "\n",
        "print('Total number of classes = ' + str(num_of_classes))\n",
        "print('Percentage of psoriasis = ' + str(psoriasis) + ' %')\n",
        "print('Percentage of seboreic_dermatitis = ' + str(seboreic_dermatitis) + ' %')\n",
        "print('Percentage of lichen_planus = ' + str(lichen_planus) + ' %')\n",
        "print('Percentage of pityriasis_rosea = ' + str(pityriasis_rosea) + ' %')\n",
        "print('Percentage of cronic_dermatitis = ' + str(cronic_dermatitis) + ' %')\n",
        "print('Percentage of pityriasis_rubra_pilaris = ' + str(pityriasis_rubra_pilaris) + ' %')"
      ],
      "execution_count": 8,
      "outputs": [
        {
          "output_type": "stream",
          "name": "stdout",
          "text": [
            "Total number of classes = 6\n",
            "Percentage of psoriasis = 30.68 %\n",
            "Percentage of seboreic_dermatitis = 16.44 %\n",
            "Percentage of lichen_planus = 19.73 %\n",
            "Percentage of pityriasis_rosea = 13.42 %\n",
            "Percentage of cronic_dermatitis = 14.25 %\n",
            "Percentage of pityriasis_rubra_pilaris = 5.48 %\n"
          ]
        }
      ]
    },
    {
      "cell_type": "code",
      "metadata": {
        "colab": {
          "base_uri": "https://localhost:8080/"
        },
        "id": "ccX6Ieve6tNh",
        "outputId": "25dc7646-f954-4471-f1e0-482478c0db33"
      },
      "source": [
        "a = [psoriasis, seboreic_dermatitis, lichen_planus, pityriasis_rosea, cronic_dermatitis, pityriasis_rubra_pilaris]\n",
        "if min(a) * 1.5 < max(a):\n",
        "    print('The dataset is unbalanced')\n",
        "else:\n",
        "    print('The dataset is balanced')"
      ],
      "execution_count": 9,
      "outputs": [
        {
          "output_type": "stream",
          "name": "stdout",
          "text": [
            "The dataset is unbalanced\n"
          ]
        }
      ]
    },
    {
      "cell_type": "markdown",
      "metadata": {
        "id": "Ct3Y9vSkAVs_"
      },
      "source": [
        "## Προετοιμασία"
      ]
    },
    {
      "cell_type": "markdown",
      "metadata": {
        "id": "fUC78bSUDL_r"
      },
      "source": [
        "Όπως φαίνεται και παραπάνω, οι τιμές που απουσιάζουν αντιστοίχουν σε 8 δείγματα (2% συνολικού dataset). Επομένως, επιλέγουμε να αφαιρέσουμε τα συγκεκριμένα δείγματα από το dataset και, στη συνέχεια, να κάνουμε τον διαχωρισμό σε train και test set."
      ]
    },
    {
      "cell_type": "code",
      "metadata": {
        "colab": {
          "base_uri": "https://localhost:8080/"
        },
        "id": "YrVY-ynTDLtd",
        "outputId": "e12a5f8d-9f11-430f-a93f-f8214737c73e"
      },
      "source": [
        "df_uci = df_uci.drop(df_uci.loc[df_uci.Age == '?'].index).astype(int)\n",
        "data = df_uci.values\n",
        "features = data[:,:-1]\n",
        "labels = data[:,-1]\n",
        "x_train, x_test, y_train, y_test = train_test_split(features, labels, test_size=0.3, shuffle=True)\n",
        "\n",
        "print(f'Train data shape: {x_train.shape}')\n",
        "print(f'Train labels shape: {y_train.shape}')\n",
        "print(f'Test data shape: {x_test.shape}')\n",
        "print(f'Test labels shape: {y_test.shape}')"
      ],
      "execution_count": 10,
      "outputs": [
        {
          "output_type": "stream",
          "name": "stdout",
          "text": [
            "Train data shape: (249, 34)\n",
            "Train labels shape: (249,)\n",
            "Test data shape: (108, 34)\n",
            "Test labels shape: (108,)\n"
          ]
        }
      ]
    },
    {
      "cell_type": "code",
      "metadata": {
        "colab": {
          "base_uri": "https://localhost:8080/"
        },
        "id": "Os94fL0xI0uf",
        "outputId": "74416e3c-9bf0-4a24-e6ac-326e2398f434"
      },
      "source": [
        "train_label_count = np.bincount(y_train)\n",
        "if min(train_label_count[1:]) * 1.5 < max(train_label_count[1:]):\n",
        "    print('Train set is unbalanced')\n",
        "else:\n",
        "    print('Train se is balanced')\n",
        "print(f'Labels count: {train_label_count[1:]}')"
      ],
      "execution_count": 11,
      "outputs": [
        {
          "output_type": "stream",
          "name": "stdout",
          "text": [
            "Train set is unbalanced\n",
            "Labels count: [79 37 56 31 33 13]\n"
          ]
        }
      ]
    },
    {
      "cell_type": "markdown",
      "metadata": {
        "id": "NjoNUvnOceOH"
      },
      "source": [
        "Ελέγχουμε εάν το το train set είναι ισορροπημένο και παρατηρούμε ότι δεν είναι.Για τον λόγο αυτό στο στάδιο της βελτιστοποίησης των ταξινομητών μας θα το εξισορροπήσουμε με υποδειγματοληψία (undersampling) και υπερδειγματοληψία (oversampling) μέσω ενός Pipeline. Αυτό το κάνουμε καθώς υπάρχει μεγάλη απόκλιση μεταξύ του μέγιστου και του ελάχιστου αριθμού δειγμάτων μίας κλάσης (Μέγιστος: 78, Ελάχιστος: 15). "
      ]
    },
    {
      "cell_type": "markdown",
      "metadata": {
        "id": "quDuEsHGjt1t"
      },
      "source": [
        "Στο data set δεν υπήρχαν εξ αρχής κατηγορικά ή/και μη διατεταγμένα χαρακτηριστικά, οπότε δεν χρειάστηκε περαιτέρω επεξεργασία."
      ]
    },
    {
      "cell_type": "markdown",
      "metadata": {
        "id": "3ruUBk82ka-s"
      },
      "source": [
        "## Ταξινόμηση"
      ]
    },
    {
      "cell_type": "markdown",
      "metadata": {
        "id": "GLYMil3YXI0X"
      },
      "source": [
        "### Επίδοση out-of-the-box"
      ]
    },
    {
      "cell_type": "code",
      "metadata": {
        "id": "OhalfwiBkhml"
      },
      "source": [
        "dc_uniform = DummyClassifier(strategy=\"uniform\")\n",
        "dc_most_frequent = DummyClassifier(strategy=\"most_frequent\")\n",
        "dc_stratified = DummyClassifier(strategy=\"stratified\")\n",
        "gnb = GaussianNB()\n",
        "knn = KNeighborsClassifier()\n",
        "logisticRegr = LogisticRegression()"
      ],
      "execution_count": 12,
      "outputs": []
    },
    {
      "cell_type": "code",
      "metadata": {
        "colab": {
          "base_uri": "https://localhost:8080/"
        },
        "id": "53IvIekFl8Ln",
        "outputId": "d4283340-3a1d-4896-89b6-115a3a725bd2"
      },
      "source": [
        "uci_accuracy = {}\n",
        "models_names = ['uniform (random)','most frequent label', 'stratified', 'gaussian naive bayes', 'k-NN', 'logistic regression']\n",
        "models = [dc_uniform, dc_most_frequent, dc_stratified, gnb, knn, logisticRegr]\n",
        "for model_name, model in zip(models_names, models):\n",
        "  model = model.fit(x_train, y_train)\n",
        "  preds = model.predict(x_test)\n",
        "  uci_accuracy[model_name] = (model.score(x_test, y_test), f1_score(preds, y_test, average='macro'))\n",
        "\n",
        "print(\"Classification Accuracy on the Dataset (30% test set)\\n\")\n",
        "sorted_accuracy = [(k[0], uci_accuracy[k[0]]) for k in sorted(uci_accuracy.items(), key=lambda x: x[1][0], reverse=True)]\n",
        "sorted_f1 = [(k[0], uci_accuracy[k[0]]) for k in sorted(uci_accuracy.items(), key=lambda x: x[1][1], reverse=True)]\n",
        "\n",
        "for k, v in sorted_accuracy:\n",
        "  print('\\033[1m'+ k +'\\033[0m' )\n",
        "  print(f'Accuracy: {v[0]}')\n",
        "  print(f'f1 (macro): {v[1]} \\n')\n",
        "\n",
        "print('Depending on accuracy: ')\n",
        "for k, _ in sorted_accuracy:\n",
        "  print('\\033[1m'+ k +'\\033[0m' , end = \" \")\n",
        "  if k != sorted_accuracy[-1][0]:\n",
        "    print(\">\", end = \" \")\n",
        "\n",
        "\n",
        "print('\\n \\nDepending on f1: ')\n",
        "for k, _ in sorted_f1:\n",
        "  print('\\033[1m'+ k +'\\033[0m' , end = \" \")\n",
        "  if k != sorted_f1[-1][0]:\n",
        "    print(\">\", end = \" \")\n",
        "print()"
      ],
      "execution_count": 19,
      "outputs": [
        {
          "output_type": "stream",
          "name": "stdout",
          "text": [
            "Classification Accuracy on the Dataset (30% test set)\n",
            "\n",
            "\u001b[1mlogistic regression\u001b[0m\n",
            "Accuracy: 0.9629629629629629\n",
            "f1 (macro): 0.9652406417112299 \n",
            "\n",
            "\u001b[1mgaussian naive bayes\u001b[0m\n",
            "Accuracy: 0.8703703703703703\n",
            "f1 (macro): 0.8707465873560588 \n",
            "\n",
            "\u001b[1mk-NN\u001b[0m\n",
            "Accuracy: 0.8055555555555556\n",
            "f1 (macro): 0.8038235038235038 \n",
            "\n",
            "\u001b[1mmost frequent label\u001b[0m\n",
            "Accuracy: 0.2962962962962963\n",
            "f1 (macro): 0.07619047619047618 \n",
            "\n",
            "\u001b[1muniform (random)\u001b[0m\n",
            "Accuracy: 0.25925925925925924\n",
            "f1 (macro): 0.1690809706489149 \n",
            "\n",
            "\u001b[1mstratified\u001b[0m\n",
            "Accuracy: 0.23148148148148148\n",
            "f1 (macro): 0.12098596544560976 \n",
            "\n",
            "Depending on accuracy: \n",
            "\u001b[1mlogistic regression\u001b[0m > \u001b[1mgaussian naive bayes\u001b[0m > \u001b[1mk-NN\u001b[0m > \u001b[1mmost frequent label\u001b[0m > \u001b[1muniform (random)\u001b[0m > \u001b[1mstratified\u001b[0m \n",
            " \n",
            "Depending on f1: \n",
            "\u001b[1mlogistic regression\u001b[0m > \u001b[1mgaussian naive bayes\u001b[0m > \u001b[1mk-NN\u001b[0m > \u001b[1muniform (random)\u001b[0m > \u001b[1mstratified\u001b[0m > \u001b[1mmost frequent label\u001b[0m \n"
          ]
        }
      ]
    },
    {
      "cell_type": "code",
      "metadata": {
        "colab": {
          "base_uri": "https://localhost:8080/",
          "height": 483
        },
        "id": "ckxEpul6iZ3t",
        "outputId": "56a5ab9d-7fdd-4652-9e3f-ad5938f4bf76"
      },
      "source": [
        "fig = plt.subplots(figsize=(12,8))\n",
        "accuracy = [x for (x,_) in list(uci_accuracy.values())]\n",
        "f1 = [x for (_,x) in list(uci_accuracy.values())]\n",
        "\n",
        "barWidth = 0.25\n",
        "\n",
        "bar_acc = np.arange(len(accuracy))-barWidth/2\n",
        "bar_f1 = [x+barWidth for x in bar_acc]\n",
        "models_names = ['uniform (random)','most frequent label','stratified', 'Gaussian Naive Bayes', 'k-NN', 'Logistic Regression']\n",
        "\n",
        "plt.bar(bar_acc, accuracy,width=barWidth, label='Accuracy')\n",
        "plt.bar(bar_f1, f1,width=barWidth, label='f1 macro')\n",
        "plt.xticks(np.array(bar_acc), np.array(models_names))\n",
        "plt.legend(loc=2,prop={'size': 20})\n",
        "plt.grid(True)\n",
        "plt.show()"
      ],
      "execution_count": 20,
      "outputs": [
        {
          "output_type": "display_data",
          "data": {
            "image/png": "[encoded data removed]",
            "text/plain": [
              "<Figure size 864x576 with 1 Axes>"
            ]
          },
          "metadata": {
            "needs_background": "light"
          }
        }
      ]
    },
    {
      "cell_type": "code",
      "metadata": {
        "id": "gNggr07n7lgT"
      },
      "source": [
        "out_of_the_box_df = pd.DataFrame()\n",
        "out_of_the_box_df['Accuracy'] = pd.Series(accuracy)\n",
        "out_of_the_box_df['F1 score (macro)'] = pd.Series(f1)\n",
        "out_of_the_box_df.index = models_names"
      ],
      "execution_count": 21,
      "outputs": []
    },
    {
      "cell_type": "code",
      "metadata": {
        "colab": {
          "base_uri": "https://localhost:8080/",
          "height": 237
        },
        "id": "IeDzS80k8OgA",
        "outputId": "e0c00f97-4f39-45ca-f735-ff5b66922485"
      },
      "source": [
        "out_of_the_box_df"
      ],
      "execution_count": 22,
      "outputs": [
        {
          "output_type": "execute_result",
          "data": {
            "text/html": [
              "<div>\n",
              "<style scoped>\n",
              "    .dataframe tbody tr th:only-of-type {\n",
              "        vertical-align: middle;\n",
              "    }\n",
              "\n",
              "    .dataframe tbody tr th {\n",
              "        vertical-align: top;\n",
              "    }\n",
              "\n",
              "    .dataframe thead th {\n",
              "        text-align: right;\n",
              "    }\n",
              "</style>\n",
              "<table border=\"1\" class=\"dataframe\">\n",
              "  <thead>\n",
              "    <tr style=\"text-align: right;\">\n",
              "      <th></th>\n",
              "      <th>Accuracy</th>\n",
              "      <th>F1 score (macro)</th>\n",
              "    </tr>\n",
              "  </thead>\n",
              "  <tbody>\n",
              "    <tr>\n",
              "      <th>uniform (random)</th>\n",
              "      <td>0.259259</td>\n",
              "      <td>0.169081</td>\n",
              "    </tr>\n",
              "    <tr>\n",
              "      <th>most frequent label</th>\n",
              "      <td>0.296296</td>\n",
              "      <td>0.076190</td>\n",
              "    </tr>\n",
              "    <tr>\n",
              "      <th>stratified</th>\n",
              "      <td>0.231481</td>\n",
              "      <td>0.120986</td>\n",
              "    </tr>\n",
              "    <tr>\n",
              "      <th>Gaussian Naive Bayes</th>\n",
              "      <td>0.870370</td>\n",
              "      <td>0.870747</td>\n",
              "    </tr>\n",
              "    <tr>\n",
              "      <th>k-NN</th>\n",
              "      <td>0.805556</td>\n",
              "      <td>0.803824</td>\n",
              "    </tr>\n",
              "    <tr>\n",
              "      <th>Logistic Regression</th>\n",
              "      <td>0.962963</td>\n",
              "      <td>0.965241</td>\n",
              "    </tr>\n",
              "  </tbody>\n",
              "</table>\n",
              "</div>"
            ],
            "text/plain": [
              "                      Accuracy  F1 score (macro)\n",
              "uniform (random)      0.259259          0.169081\n",
              "most frequent label   0.296296          0.076190\n",
              "stratified            0.231481          0.120986\n",
              "Gaussian Naive Bayes  0.870370          0.870747\n",
              "k-NN                  0.805556          0.803824\n",
              "Logistic Regression   0.962963          0.965241"
            ]
          },
          "metadata": {},
          "execution_count": 22
        }
      ]
    },
    {
      "cell_type": "markdown",
      "metadata": {
        "id": "ULYzCV20dKK5"
      },
      "source": [
        "Δεν υλοποιήθηκαν constant 1, 2,... dummy classifiers, καθώς σε προβλήματα με πολλές διαφορετικές κλάσσεις, ο most frequent dummy classifier αποτελεί τον καλύτερο constant."
      ]
    },
    {
      "cell_type": "markdown",
      "metadata": {
        "id": "8ogcpZceXT7i"
      },
      "source": [
        "### Βελτιστοποίηση"
      ]
    },
    {
      "cell_type": "markdown",
      "metadata": {
        "id": "bAw_8pPtd4Ic"
      },
      "source": [
        "Κατά την βελτιστοποίηση χρησιμοποιούμε ορισμό Pipelines (μέσω των οποίων γίνεται και η προεπεξεργασία της εισόδου και το oversampling-undersampling), και Gridsearch για την εύρεση των βέλτιστων υπερπαραμέτρων."
      ]
    },
    {
      "cell_type": "code",
      "metadata": {
        "id": "C8b9Q4OC-dqZ"
      },
      "source": [
        "optimized = defaultdict(lambda: defaultdict(dict))\n",
        "predictions = {}"
      ],
      "execution_count": 23,
      "outputs": []
    },
    {
      "cell_type": "markdown",
      "metadata": {
        "id": "55piXbN8_QKo"
      },
      "source": [
        "#### Dummy Classifiers"
      ]
    },
    {
      "cell_type": "code",
      "metadata": {
        "colab": {
          "base_uri": "https://localhost:8080/"
        },
        "id": "_RwVXnaw_P8l",
        "outputId": "c83079a1-bea4-412d-b299-4185e969a67d"
      },
      "source": [
        "models_names = ['uniform (random)','most frequent label','stratified']\n",
        "models = [dc_uniform, dc_most_frequent, dc_stratified]\n",
        "for model_name, model in zip(models_names, models):# αρχικοποιούμε τον εκτιμητή (ταξινομητής) και τους μετασχηματιστές χωρίς υπερ-παραμέτρους\n",
        "  scaler = StandardScaler()\n",
        "  under = RandomUnderSampler(\"all\")\n",
        "  over=RandomOverSampler(\"minority\")\n",
        "\n",
        "  # αρχικοποίηση του Pipeline\n",
        "  pca = PCA()\n",
        "  clf = model\n",
        "  pipe = Pipeline(steps=[('scaler', scaler), ('o1', over), ('o2', over), ('o3', over), ('u', under), ('pca', pca), ('', model)])\n",
        "  n_components = [10, 15, 20, 25, 30]\n",
        "  \n",
        "  for metric in ['f1_macro', 'accuracy']:\n",
        "    estimator = GridSearchCV(pipe, dict(pca__n_components=n_components), cv=10, scoring=metric, n_jobs=-1) \n",
        "    start_time_fit = time.time()\n",
        "    estimator.fit(x_train, y_train)\n",
        "    time_fit = time.time() - start_time_fit\n",
        "    start_time_pred = time.time()\n",
        "    preds = estimator.predict(x_test)\n",
        "    time_pred = time.time() - start_time_pred\n",
        "    print(f'\\033[1m Classifier: {model_name} \\033[0m')\n",
        "    print(f'Metric: \\033[1m {metric} \\033[0m')\n",
        "    print(f'Elapsed Train Time: {time_fit}')\n",
        "    print(f'Elapsed Test Time: {time_pred} \\n')\n",
        "    print(f'Accuracy: {accuracy_score(preds, y_test)}')\n",
        "    met = 'macro'\n",
        "    print(f'F1 score (macro): {f1_score(preds, y_test, average=met)}')\n",
        "\n",
        "    print()\n",
        "    #print(f'Best Estimator with GridSearchCV\\n: {estimator.best_estimator_} \\n')\n",
        "    print(f'Best parameters: {estimator.best_params_}')\n",
        "    print()\n",
        "\n",
        "    optimized[model_name][metric] = {'accuracy': accuracy_score(preds, y_test),\n",
        "                                     'f1': f1_score(preds, y_test, average=met),\n",
        "                                     'train time': time_fit,\n",
        "                                     'test time': time_pred}"
      ],
      "execution_count": 24,
      "outputs": [
        {
          "output_type": "stream",
          "name": "stdout",
          "text": [
            "\u001b[1m Classifier: uniform (random) \u001b[0m\n",
            "Metric: \u001b[1m f1_macro \u001b[0m\n",
            "Elapsed Train Time: 0.4323768615722656\n",
            "Elapsed Test Time: 0.0004754066467285156 \n",
            "\n",
            "Accuracy: 0.21296296296296297\n",
            "F1 score (macro): 0.2070219850392264\n",
            "\n",
            "Best parameters: {'pca__n_components': 20}\n",
            "\n",
            "\u001b[1m Classifier: uniform (random) \u001b[0m\n",
            "Metric: \u001b[1m accuracy \u001b[0m\n",
            "Elapsed Train Time: 0.38788652420043945\n",
            "Elapsed Test Time: 0.0005395412445068359 \n",
            "\n",
            "Accuracy: 0.18518518518518517\n",
            "F1 score (macro): 0.1896480083980084\n",
            "\n",
            "Best parameters: {'pca__n_components': 30}\n",
            "\n",
            "\u001b[1m Classifier: most frequent label \u001b[0m\n",
            "Metric: \u001b[1m f1_macro \u001b[0m\n",
            "Elapsed Train Time: 0.43361759185791016\n",
            "Elapsed Test Time: 0.0004470348358154297 \n",
            "\n",
            "Accuracy: 0.2962962962962963\n",
            "F1 score (macro): 0.07619047619047618\n",
            "\n",
            "Best parameters: {'pca__n_components': 10}\n",
            "\n",
            "\u001b[1m Classifier: most frequent label \u001b[0m\n",
            "Metric: \u001b[1m accuracy \u001b[0m\n",
            "Elapsed Train Time: 0.3948366641998291\n",
            "Elapsed Test Time: 0.0004825592041015625 \n",
            "\n",
            "Accuracy: 0.2962962962962963\n",
            "F1 score (macro): 0.07619047619047618\n",
            "\n",
            "Best parameters: {'pca__n_components': 10}\n",
            "\n",
            "\u001b[1m Classifier: stratified \u001b[0m\n",
            "Metric: \u001b[1m f1_macro \u001b[0m\n",
            "Elapsed Train Time: 0.43343496322631836\n",
            "Elapsed Test Time: 0.0005435943603515625 \n",
            "\n",
            "Accuracy: 0.08333333333333333\n",
            "F1 score (macro): 0.08584319717324644\n",
            "\n",
            "Best parameters: {'pca__n_components': 25}\n",
            "\n",
            "\u001b[1m Classifier: stratified \u001b[0m\n",
            "Metric: \u001b[1m accuracy \u001b[0m\n",
            "Elapsed Train Time: 0.4099280834197998\n",
            "Elapsed Test Time: 0.0007519721984863281 \n",
            "\n",
            "Accuracy: 0.18518518518518517\n",
            "F1 score (macro): 0.17160775732204303\n",
            "\n",
            "Best parameters: {'pca__n_components': 30}\n",
            "\n"
          ]
        }
      ]
    },
    {
      "cell_type": "markdown",
      "metadata": {
        "id": "AR1uMd1l9oRB"
      },
      "source": [
        "#### Gaussian Naive Bayes"
      ]
    },
    {
      "cell_type": "code",
      "metadata": {
        "colab": {
          "base_uri": "https://localhost:8080/"
        },
        "id": "3mcwpKzY9mM7",
        "outputId": "806474e6-8653-4f93-bc44-ced106796533"
      },
      "source": [
        "model_name = 'Gaussian Naive Bayes'\n",
        "scaler = StandardScaler()\n",
        "under = RandomUnderSampler(\"all\")\n",
        "over=RandomOverSampler(\"minority\")\n",
        "\n",
        "# αρχικοποίηση του Pipeline\n",
        "pca = PCA()\n",
        "clf = GaussianNB()\n",
        "pipe = Pipeline(steps=[('scaler', scaler), ('o1', over), ('o2', over), ('o3', over), ('u', under), ('pca', pca), ('gnb', clf)])\n",
        "n_components = [10, 15, 20, 25, 30]\n",
        "for metric in ['f1_macro', 'accuracy']:\n",
        "    estimator = GridSearchCV(pipe, dict(pca__n_components=n_components), cv=10, scoring=metric, n_jobs=-1) \n",
        "    start_time_fit = time.time()\n",
        "    estimator.fit(x_train, y_train)\n",
        "    time_fit = time.time() - start_time_fit\n",
        "    start_time_pred = time.time()\n",
        "    preds = estimator.predict(x_test)\n",
        "    time_pred = time.time() - start_time_pred\n",
        "    print(f'\\033[1m Classifier: {model_name} \\033[0m')\n",
        "    print(f'Metric: \\033[1m {metric} \\033[0m')\n",
        "    print(f'Elapsed Train Time: {time_fit}')\n",
        "    print(f'Elapsed Test Time: {time_pred} \\n')\n",
        "    print(f'Accuracy: {accuracy_score(preds, y_test)}')\n",
        "    met = 'macro'\n",
        "    print(f'F1 score (macro): {f1_score(preds, y_test, average=met)}')\n",
        "\n",
        "    print()\n",
        "    #print(f'Best Estimator with GridSearchCV\\n: {estimator.best_estimator_} \\n')\n",
        "    print(f'Best parameters: {estimator.best_params_}')\n",
        "    print()\n",
        "\n",
        "    optimized[model_name][metric] = {'accuracy': accuracy_score(preds, y_test),\n",
        "                                     'f1': f1_score(preds, y_test, average=met),\n",
        "                                     'train time': time_fit,\n",
        "                                     'test time': time_pred}\n",
        "\n",
        "    if metric == 'accuracy':\n",
        "        predictions['Gaussian Naive Bayes'] = preds"
      ],
      "execution_count": 25,
      "outputs": [
        {
          "output_type": "stream",
          "name": "stdout",
          "text": [
            "\u001b[1m Classifier: Gaussian Naive Bayes \u001b[0m\n",
            "Metric: \u001b[1m f1_macro \u001b[0m\n",
            "Elapsed Train Time: 0.48435425758361816\n",
            "Elapsed Test Time: 0.0009822845458984375 \n",
            "\n",
            "Accuracy: 0.9444444444444444\n",
            "F1 score (macro): 0.9493536551345882\n",
            "\n",
            "Best parameters: {'pca__n_components': 25}\n",
            "\n",
            "\u001b[1m Classifier: Gaussian Naive Bayes \u001b[0m\n",
            "Metric: \u001b[1m accuracy \u001b[0m\n",
            "Elapsed Train Time: 0.46556973457336426\n",
            "Elapsed Test Time: 0.0008568763732910156 \n",
            "\n",
            "Accuracy: 0.9166666666666666\n",
            "F1 score (macro): 0.9238866396761134\n",
            "\n",
            "Best parameters: {'pca__n_components': 15}\n",
            "\n"
          ]
        }
      ]
    },
    {
      "cell_type": "markdown",
      "metadata": {
        "id": "4RU6s6tJZGtU"
      },
      "source": [
        "#### kNN"
      ]
    },
    {
      "cell_type": "code",
      "metadata": {
        "colab": {
          "base_uri": "https://localhost:8080/"
        },
        "id": "77XrHl8zHxXR",
        "outputId": "d2ae24d5-8dd7-48b9-afb3-77613d4b2526"
      },
      "source": [
        "model_name = 'k-NN'\n",
        "scaler = StandardScaler()\n",
        "under = RandomUnderSampler(\"all\")\n",
        "over=RandomOverSampler(\"minority\")\n",
        "\n",
        "# αρχικοποίηση του Pipeline\n",
        "\n",
        "pca = PCA()\n",
        "clf = neighbors.KNeighborsClassifier(n_jobs=-1) # η παράμετρος n_jobs = 1 χρησιμοποιεί όλους τους πυρήνες του υπολογιστή\n",
        "pipe = Pipeline(steps=[('scaler', scaler), ('o1', over), ('o2', over), ('o3', over), ('u', under), ('pca', pca), ('kNN', clf)])\n",
        "n_components = [10, 15, 20, 25, 30]\n",
        "k = [1, 3, 5, 7, 11, 21, 31, 41] # η υπερπαράμετρος του ταξινομητή\n",
        "\n",
        "for metric in ['f1_macro', 'accuracy']:\n",
        "    estimator = GridSearchCV(pipe, dict(pca__n_components=n_components, kNN__n_neighbors=k), cv=10, scoring=metric, n_jobs=-1) \n",
        "    start_time_fit = time.time()\n",
        "    estimator.fit(x_train, y_train)\n",
        "    time_fit = time.time() - start_time_fit\n",
        "    start_time_pred = time.time()\n",
        "    preds = estimator.predict(x_test)\n",
        "    time_pred = time.time() - start_time_pred\n",
        "    print(f'\\033[1m Classifier: {model_name} \\033[0m')\n",
        "    print(f'Metric: \\033[1m {metric} \\033[0m')\n",
        "    print(f'Elapsed Train Time: {time_fit}')\n",
        "    print(f'Elapsed Test Time: {time_pred} \\n')\n",
        "    print(f'Accuracy: {accuracy_score(preds, y_test)}')\n",
        "    met = 'macro'\n",
        "    print(f'F1 score (macro): {f1_score(preds, y_test, average=met)}')\n",
        "\n",
        "    print()\n",
        "    #print(f'Best Estimator with GridSearchCV\\n: {estimator.best_estimator_} \\n')\n",
        "    print(f'Best parameters: {estimator.best_params_}')\n",
        "    print()\n",
        "\n",
        "    optimized[model_name][metric] = {'accuracy': accuracy_score(preds, y_test),\n",
        "                                     'f1': f1_score(preds, y_test, average=met),\n",
        "                                     'train time': time_fit,\n",
        "                                     'test time': time_pred}\n",
        "    \n",
        "    if metric == 'accuracy':\n",
        "        predictions['k-NN'] = preds"
      ],
      "execution_count": 26,
      "outputs": [
        {
          "output_type": "stream",
          "name": "stdout",
          "text": [
            "\u001b[1m Classifier: k-NN \u001b[0m\n",
            "Metric: \u001b[1m f1_macro \u001b[0m\n",
            "Elapsed Train Time: 23.330117225646973\n",
            "Elapsed Test Time: 0.1089162826538086 \n",
            "\n",
            "Accuracy: 0.9351851851851852\n",
            "F1 score (macro): 0.9416073709177156\n",
            "\n",
            "Best parameters: {'kNN__n_neighbors': 5, 'pca__n_components': 15}\n",
            "\n",
            "\u001b[1m Classifier: k-NN \u001b[0m\n",
            "Metric: \u001b[1m accuracy \u001b[0m\n",
            "Elapsed Train Time: 23.3635573387146\n",
            "Elapsed Test Time: 0.10652875900268555 \n",
            "\n",
            "Accuracy: 0.9629629629629629\n",
            "F1 score (macro): 0.9679679679679679\n",
            "\n",
            "Best parameters: {'kNN__n_neighbors': 3, 'pca__n_components': 10}\n",
            "\n"
          ]
        }
      ]
    },
    {
      "cell_type": "markdown",
      "metadata": {
        "id": "kFFq5Z1xZSFT"
      },
      "source": [
        "#### Logistic Regression"
      ]
    },
    {
      "cell_type": "code",
      "metadata": {
        "colab": {
          "base_uri": "https://localhost:8080/"
        },
        "id": "Tdj6rRwhZQZd",
        "outputId": "12e8fa03-6f26-4794-8f46-f8cd083766ff"
      },
      "source": [
        "model_name = 'Logistic Regression'\n",
        "scaler = StandardScaler()\n",
        "under = RandomUnderSampler(\"all\")\n",
        "over=RandomOverSampler(\"minority\")\n",
        "\n",
        "# αρχικοποίηση του Pipeline\n",
        "\n",
        "pca = PCA()\n",
        "clf = LogisticRegression() # η παράμετρος n_jobs = 1 χρησιμοποιεί όλους τους πυρήνες του υπολογιστή\n",
        "pipe = Pipeline(steps=[('scaler', scaler), ('o1', over), ('o2', over), ('o3', over), ('u', under), ('pca', pca), ('logreg', clf)])\n",
        "\n",
        "C=np.logspace(-1,1,10)\n",
        "penalty=[\"l2\"]\n",
        "n_components = [10, 15, 20, 23,24,25, 30]\n",
        "\n",
        "for metric in ['f1_macro', 'accuracy']:\n",
        "    estimator = GridSearchCV(pipe, dict(pca__n_components=n_components, logreg__C=C, logreg__penalty=penalty), cv=10, scoring=metric, n_jobs=-1) \n",
        "    start_time_fit = time.time()\n",
        "    estimator.fit(x_train, y_train)\n",
        "    time_fit = time.time() - start_time_fit\n",
        "    start_time_pred = time.time()\n",
        "    preds = estimator.predict(x_test)\n",
        "    time_pred = time.time() - start_time_pred\n",
        "    print(f'\\033[1m Classifier: {model_name} \\033[0m')\n",
        "    print(f'Metric: \\033[1m {metric} \\033[0m')\n",
        "    print(f'Elapsed Train Time: {time_fit}')\n",
        "    print(f'Elapsed Test Time: {time_pred} \\n')\n",
        "    print(f'Accuracy: {accuracy_score(preds, y_test)}')\n",
        "    met = 'macro'\n",
        "    print(f'F1 score (macro): {f1_score(preds, y_test, average=met)}')\n",
        "\n",
        "    print()\n",
        "    #print(f'Best Estimator with GridSearchCV\\n: {estimator.best_estimator_} \\n')\n",
        "    print(f'Best parameters: {estimator.best_params_}')\n",
        "    print()\n",
        "\n",
        "    optimized[model_name][metric] = {'accuracy': accuracy_score(preds, y_test),\n",
        "                                     'f1': f1_score(preds, y_test, average=met),\n",
        "                                     'train time': time_fit,\n",
        "                                     'test time': time_pred}\n",
        "\n",
        "    if metric == 'accuracy':\n",
        "        predictions['Logistic Regression'] = preds"
      ],
      "execution_count": 27,
      "outputs": [
        {
          "output_type": "stream",
          "name": "stdout",
          "text": [
            "\u001b[1m Classifier: Logistic Regression \u001b[0m\n",
            "Metric: \u001b[1m f1_macro \u001b[0m\n",
            "Elapsed Train Time: 17.861141681671143\n",
            "Elapsed Test Time: 0.0005040168762207031 \n",
            "\n",
            "Accuracy: 0.9629629629629629\n",
            "F1 score (macro): 0.9652406417112299\n",
            "\n",
            "Best parameters: {'logreg__C': 0.774263682681127, 'logreg__penalty': 'l2', 'pca__n_components': 25}\n",
            "\n",
            "\u001b[1m Classifier: Logistic Regression \u001b[0m\n",
            "Metric: \u001b[1m accuracy \u001b[0m\n",
            "Elapsed Train Time: 17.398984670639038\n",
            "Elapsed Test Time: 0.0005190372467041016 \n",
            "\n",
            "Accuracy: 0.9537037037037037\n",
            "F1 score (macro): 0.9568106312292359\n",
            "\n",
            "Best parameters: {'logreg__C': 0.46415888336127786, 'logreg__penalty': 'l2', 'pca__n_components': 24}\n",
            "\n"
          ]
        }
      ]
    },
    {
      "cell_type": "markdown",
      "metadata": {
        "id": "ACfIr6N7XAjV"
      },
      "source": [
        "## Αποτελέσματα και συμπεράσματα"
      ]
    },
    {
      "cell_type": "code",
      "metadata": {
        "id": "PPFrcKUGBF3t"
      },
      "source": [
        "optimized_new = defaultdict(lambda: defaultdict(dict))\n",
        "models_names_new = ['uniform (random)','most frequent label','stratified','Gaussian Naive Bayes','k-NN','Logistic Regression']\n",
        "for name in models_names_new:\n",
        "    for metric in ['f1_macro', 'accuracy']:\n",
        "      optimized_new[name][metric]= {'model': name,\n",
        "                                    'accuracy': optimized[name][metric]['accuracy'],\n",
        "                                    'f1 score':optimized[name][metric]['f1'],\n",
        "                                    'accuracy difference':optimized[name][metric]['accuracy']-out_of_the_box_df['Accuracy'][name],\n",
        "                                    'f1 score difference': optimized[name][metric]['accuracy']-out_of_the_box_df['F1 score (macro)'][name],\n",
        "                                    'train time': optimized[name][metric]['train time'],\n",
        "                                     'test  time':optimized[name][metric]['test time']}"
      ],
      "execution_count": 28,
      "outputs": []
    },
    {
      "cell_type": "code",
      "metadata": {
        "id": "jgpzCV2RAAYD"
      },
      "source": [
        "metric_acc = pd.DataFrame()\n",
        "for name in models_names_new:\n",
        "    for metric in ['accuracy']:\n",
        "      metric_acc = metric_acc.append(optimized_new[name][metric],ignore_index=True)\n",
        "\n",
        "metric_f1 = pd.DataFrame()\n",
        "for name in models_names_new:\n",
        "    for metric in ['f1_macro']:\n",
        "      metric_f1 = metric_f1.append(optimized_new[name][metric],ignore_index=True)"
      ],
      "execution_count": 29,
      "outputs": []
    },
    {
      "cell_type": "code",
      "metadata": {
        "id": "GqEN7YzNJOam"
      },
      "source": [
        "metric_acc = metric_acc.drop(columns = ['model'], axis = 1)\n",
        "metric_acc.index = models_names_new\n",
        "metric_f1 = metric_f1.drop(columns = ['model'], axis = 1)\n",
        "metric_f1.index = models_names_new"
      ],
      "execution_count": 30,
      "outputs": []
    },
    {
      "cell_type": "markdown",
      "metadata": {
        "id": "o_ceAxF1LbpK"
      },
      "source": [
        "Αντί να χρησιμοποιήσουμε mark-down cell με στατικούς πίνακες μεταφέραμε τα αποτελέσματα σε panda dataframe το οποίο είναι δυναμικό . Έτσι κάθε φορά που ξαναεκτελούμε τα παραπάνω κελιά δεν χρειάζεται να ανανεώσουμε \"με το χέρι\" τον στατικό πίνακα αφού αρκεί να εκτυπώσουμε το panda dataframe.\n",
        "\n"
      ]
    },
    {
      "cell_type": "markdown",
      "metadata": {
        "id": "_nPt1d6CLc6p"
      },
      "source": [
        "1. Έχουμε τον πίνακα αποτελεσμάτων για τον καλύτερο ταξινομητή κάθε μοντέλου με μετρική το accuracy:"
      ]
    },
    {
      "cell_type": "code",
      "metadata": {
        "colab": {
          "base_uri": "https://localhost:8080/",
          "height": 237
        },
        "id": "i86Vd9EOLeXp",
        "outputId": "f212ef80-2add-480b-e1d6-dc9b31dccf76"
      },
      "source": [
        "metric_acc"
      ],
      "execution_count": 31,
      "outputs": [
        {
          "output_type": "execute_result",
          "data": {
            "text/html": [
              "<div>\n",
              "<style scoped>\n",
              "    .dataframe tbody tr th:only-of-type {\n",
              "        vertical-align: middle;\n",
              "    }\n",
              "\n",
              "    .dataframe tbody tr th {\n",
              "        vertical-align: top;\n",
              "    }\n",
              "\n",
              "    .dataframe thead th {\n",
              "        text-align: right;\n",
              "    }\n",
              "</style>\n",
              "<table border=\"1\" class=\"dataframe\">\n",
              "  <thead>\n",
              "    <tr style=\"text-align: right;\">\n",
              "      <th></th>\n",
              "      <th>accuracy</th>\n",
              "      <th>accuracy difference</th>\n",
              "      <th>f1 score</th>\n",
              "      <th>f1 score difference</th>\n",
              "      <th>test  time</th>\n",
              "      <th>train time</th>\n",
              "    </tr>\n",
              "  </thead>\n",
              "  <tbody>\n",
              "    <tr>\n",
              "      <th>uniform (random)</th>\n",
              "      <td>0.185185</td>\n",
              "      <td>-0.074074</td>\n",
              "      <td>0.189648</td>\n",
              "      <td>0.016104</td>\n",
              "      <td>0.000540</td>\n",
              "      <td>0.387887</td>\n",
              "    </tr>\n",
              "    <tr>\n",
              "      <th>most frequent label</th>\n",
              "      <td>0.296296</td>\n",
              "      <td>0.000000</td>\n",
              "      <td>0.076190</td>\n",
              "      <td>0.220106</td>\n",
              "      <td>0.000483</td>\n",
              "      <td>0.394837</td>\n",
              "    </tr>\n",
              "    <tr>\n",
              "      <th>stratified</th>\n",
              "      <td>0.185185</td>\n",
              "      <td>-0.046296</td>\n",
              "      <td>0.171608</td>\n",
              "      <td>0.064199</td>\n",
              "      <td>0.000752</td>\n",
              "      <td>0.409928</td>\n",
              "    </tr>\n",
              "    <tr>\n",
              "      <th>Gaussian Naive Bayes</th>\n",
              "      <td>0.916667</td>\n",
              "      <td>0.046296</td>\n",
              "      <td>0.923887</td>\n",
              "      <td>0.045920</td>\n",
              "      <td>0.000857</td>\n",
              "      <td>0.465570</td>\n",
              "    </tr>\n",
              "    <tr>\n",
              "      <th>k-NN</th>\n",
              "      <td>0.962963</td>\n",
              "      <td>0.157407</td>\n",
              "      <td>0.967968</td>\n",
              "      <td>0.159139</td>\n",
              "      <td>0.106529</td>\n",
              "      <td>23.363557</td>\n",
              "    </tr>\n",
              "    <tr>\n",
              "      <th>Logistic Regression</th>\n",
              "      <td>0.953704</td>\n",
              "      <td>-0.009259</td>\n",
              "      <td>0.956811</td>\n",
              "      <td>-0.011537</td>\n",
              "      <td>0.000519</td>\n",
              "      <td>17.398985</td>\n",
              "    </tr>\n",
              "  </tbody>\n",
              "</table>\n",
              "</div>"
            ],
            "text/plain": [
              "                      accuracy  accuracy difference  ...  test  time  train time\n",
              "uniform (random)      0.185185            -0.074074  ...    0.000540    0.387887\n",
              "most frequent label   0.296296             0.000000  ...    0.000483    0.394837\n",
              "stratified            0.185185            -0.046296  ...    0.000752    0.409928\n",
              "Gaussian Naive Bayes  0.916667             0.046296  ...    0.000857    0.465570\n",
              "k-NN                  0.962963             0.157407  ...    0.106529   23.363557\n",
              "Logistic Regression   0.953704            -0.009259  ...    0.000519   17.398985\n",
              "\n",
              "[6 rows x 6 columns]"
            ]
          },
          "metadata": {},
          "execution_count": 31
        }
      ]
    },
    {
      "cell_type": "markdown",
      "metadata": {
        "id": "7tE1RNflLhNP"
      },
      "source": [
        "Επίσης έχουμε τον πίνακα αποτελεσμάτων για τον καλύτερο ταξινομητή κάθε μοντέλου με μετρική το f1 score:"
      ]
    },
    {
      "cell_type": "code",
      "metadata": {
        "colab": {
          "base_uri": "https://localhost:8080/",
          "height": 237
        },
        "id": "6xq2abFqLn_X",
        "outputId": "e9ad2a61-412b-42d4-866e-348489ef2478"
      },
      "source": [
        "metric_f1"
      ],
      "execution_count": 32,
      "outputs": [
        {
          "output_type": "execute_result",
          "data": {
            "text/html": [
              "<div>\n",
              "<style scoped>\n",
              "    .dataframe tbody tr th:only-of-type {\n",
              "        vertical-align: middle;\n",
              "    }\n",
              "\n",
              "    .dataframe tbody tr th {\n",
              "        vertical-align: top;\n",
              "    }\n",
              "\n",
              "    .dataframe thead th {\n",
              "        text-align: right;\n",
              "    }\n",
              "</style>\n",
              "<table border=\"1\" class=\"dataframe\">\n",
              "  <thead>\n",
              "    <tr style=\"text-align: right;\">\n",
              "      <th></th>\n",
              "      <th>accuracy</th>\n",
              "      <th>accuracy difference</th>\n",
              "      <th>f1 score</th>\n",
              "      <th>f1 score difference</th>\n",
              "      <th>test  time</th>\n",
              "      <th>train time</th>\n",
              "    </tr>\n",
              "  </thead>\n",
              "  <tbody>\n",
              "    <tr>\n",
              "      <th>uniform (random)</th>\n",
              "      <td>0.212963</td>\n",
              "      <td>-0.046296</td>\n",
              "      <td>0.207022</td>\n",
              "      <td>0.043882</td>\n",
              "      <td>0.000475</td>\n",
              "      <td>0.432377</td>\n",
              "    </tr>\n",
              "    <tr>\n",
              "      <th>most frequent label</th>\n",
              "      <td>0.296296</td>\n",
              "      <td>0.000000</td>\n",
              "      <td>0.076190</td>\n",
              "      <td>0.220106</td>\n",
              "      <td>0.000447</td>\n",
              "      <td>0.433618</td>\n",
              "    </tr>\n",
              "    <tr>\n",
              "      <th>stratified</th>\n",
              "      <td>0.083333</td>\n",
              "      <td>-0.148148</td>\n",
              "      <td>0.085843</td>\n",
              "      <td>-0.037653</td>\n",
              "      <td>0.000544</td>\n",
              "      <td>0.433435</td>\n",
              "    </tr>\n",
              "    <tr>\n",
              "      <th>Gaussian Naive Bayes</th>\n",
              "      <td>0.944444</td>\n",
              "      <td>0.074074</td>\n",
              "      <td>0.949354</td>\n",
              "      <td>0.073698</td>\n",
              "      <td>0.000982</td>\n",
              "      <td>0.484354</td>\n",
              "    </tr>\n",
              "    <tr>\n",
              "      <th>k-NN</th>\n",
              "      <td>0.935185</td>\n",
              "      <td>0.129630</td>\n",
              "      <td>0.941607</td>\n",
              "      <td>0.131362</td>\n",
              "      <td>0.108916</td>\n",
              "      <td>23.330117</td>\n",
              "    </tr>\n",
              "    <tr>\n",
              "      <th>Logistic Regression</th>\n",
              "      <td>0.962963</td>\n",
              "      <td>0.000000</td>\n",
              "      <td>0.965241</td>\n",
              "      <td>-0.002278</td>\n",
              "      <td>0.000504</td>\n",
              "      <td>17.861142</td>\n",
              "    </tr>\n",
              "  </tbody>\n",
              "</table>\n",
              "</div>"
            ],
            "text/plain": [
              "                      accuracy  accuracy difference  ...  test  time  train time\n",
              "uniform (random)      0.212963            -0.046296  ...    0.000475    0.432377\n",
              "most frequent label   0.296296             0.000000  ...    0.000447    0.433618\n",
              "stratified            0.083333            -0.148148  ...    0.000544    0.433435\n",
              "Gaussian Naive Bayes  0.944444             0.074074  ...    0.000982    0.484354\n",
              "k-NN                  0.935185             0.129630  ...    0.108916   23.330117\n",
              "Logistic Regression   0.962963             0.000000  ...    0.000504   17.861142\n",
              "\n",
              "[6 rows x 6 columns]"
            ]
          },
          "metadata": {},
          "execution_count": 32
        }
      ]
    },
    {
      "cell_type": "markdown",
      "metadata": {
        "id": "HRmU_cH_i1nB"
      },
      "source": [
        "2. Παρακάτω έχουμε τα bar plot σύγκρισης, αρχικά με μετρική το accuracy και έπειτα με μετρική το f1 score"
      ]
    },
    {
      "cell_type": "code",
      "metadata": {
        "colab": {
          "base_uri": "https://localhost:8080/",
          "height": 540
        },
        "id": "NLlYDKZOL3y2",
        "outputId": "3c6ec2ec-c247-4f39-dd57-ea8627db17a2"
      },
      "source": [
        "fig = plt.subplots(figsize=(12,8))\n",
        "\n",
        "acc = metric_acc['accuracy'].values\n",
        "f1 = metric_acc['f1 score'].values\n",
        "acc_diff = metric_acc['accuracy difference'].values\n",
        "f1_diff = metric_acc['f1 score difference'].values\n",
        "\n",
        "barWidth = 0.2\n",
        "\n",
        "bar_acc = np.arange(6)-barWidth/4\n",
        "bar_f1 = [x+barWidth for x in bar_acc]\n",
        "bar_acc_diff = [x+2*barWidth for x in bar_acc]\n",
        "bar_f1_diff = [x+3*barWidth for x in bar_acc]\n",
        "\n",
        "plt.bar(bar_acc, acc,width=barWidth, label='Accuracy')\n",
        "plt.bar(bar_f1, f1,width=barWidth, label='f1 macro')\n",
        "plt.bar(bar_acc_diff, acc_diff, width=barWidth, label='Accuracy Difference')\n",
        "plt.bar(bar_f1_diff , f1_diff,width=barWidth, label='f1 macro Difference')\n",
        "plt.xticks(np.array(bar_acc), np.array(models_names_new))\n",
        "plt.legend(loc=2,prop={'size': 20})\n",
        "plt.suptitle('Optimized results for accuracy metric')\n",
        "plt.grid(True)\n",
        "plt.show()"
      ],
      "execution_count": 33,
      "outputs": [
        {
          "output_type": "display_data",
          "data": {
            "image/png": "[encoded data removed]",
            "text/plain": [
              "<Figure size 864x576 with 1 Axes>"
            ]
          },
          "metadata": {
            "needs_background": "light"
          }
        }
      ]
    },
    {
      "cell_type": "code",
      "metadata": {
        "colab": {
          "base_uri": "https://localhost:8080/",
          "height": 540
        },
        "id": "_Eg9t_1gxNvA",
        "outputId": "499284fb-3b11-4c2b-efb2-42aa6c8d62b1"
      },
      "source": [
        "fig = plt.subplots(figsize=(12,8))\n",
        "\n",
        "acc = metric_f1['accuracy'].values\n",
        "f1 = metric_f1['f1 score'].values\n",
        "acc_diff = metric_f1['accuracy difference'].values\n",
        "f1_diff = metric_f1['f1 score difference'].values\n",
        "\n",
        "barWidth = 0.2\n",
        "\n",
        "bar_acc = np.arange(6)-barWidth/4\n",
        "bar_f1 = [x+barWidth for x in bar_acc]\n",
        "bar_acc_diff = [x+2*barWidth for x in bar_acc]\n",
        "bar_f1_diff = [x+3*barWidth for x in bar_acc]\n",
        "\n",
        "plt.bar(bar_acc, acc,width=barWidth, label='Accuracy')\n",
        "plt.bar(bar_f1, f1,width=barWidth, label='f1 macro')\n",
        "plt.bar(bar_acc_diff, acc_diff, width=barWidth, label='Accuracy Difference')\n",
        "plt.bar(bar_f1_diff , f1_diff,width=barWidth, label='f1 macro Difference')\n",
        "plt.xticks(np.array(bar_acc), np.array(models_names_new))\n",
        "plt.legend(loc=2,prop={'size': 20})\n",
        "plt.suptitle('Optimized results for accuracy metric')\n",
        "plt.grid(True)\n",
        "plt.show()"
      ],
      "execution_count": 34,
      "outputs": [
        {
          "output_type": "display_data",
          "data": {
            "image/png": "[encoded data removed]",
            "text/plain": [
              "<Figure size 864x576 with 1 Axes>"
            ]
          },
          "metadata": {
            "needs_background": "light"
          }
        }
      ]
    },
    {
      "cell_type": "markdown",
      "metadata": {
        "id": "PpYJM6s54I5q"
      },
      "source": [
        "Είναι εμφανές, πως στην πλειοψηφία των μοντέλων μέσω τη βελτιστοποίησης καταλήγουμε σε καλύτερες τιμές accuracy , f1 score. Ωστόσο παρατηρούμε χειροτέρευση των αποτελεσμάτων στις περιπτώσεις του dummy-stratified και του logistic regression. Τα αποτελέσματα για το dummy-stratified είναι φυσιολογικά, καθώς επιλέγει βάσει αναλογίας κλάσεων, την οποία εξισορροπίσαμε μέσω του oversampling και έπειτα undersampling. Στην περίπτωση του most frequent label, δεν έχουμε κάποια διαφορά, καθώς τώρα που είναι ίσος ο αριθμός όλων των labels, επιλέγεται το label = 1 (επειδή είναι πρώτο στη σειρά), το οποίο προηγουμένως είχε τα περισσότερα δείγματα. Φαίνεται ότι στο συγκεκριμένο πρόβλημα η μέθοδος του logistic regression είναι αρκετά συμπαγής με αποτελέσμα γενικά να έχει παρόμοιες αποδόσεις (στη συγκεκριμένη περίπτωση τα πάει ελάχιστα χειρότερα μετά την βελτιστοποίηση)."
      ]
    },
    {
      "cell_type": "code",
      "metadata": {
        "colab": {
          "base_uri": "https://localhost:8080/",
          "height": 1000
        },
        "id": "rHF7lwCuQiPv",
        "outputId": "f319343e-f236-4093-edd4-466e327bbd5f"
      },
      "source": [
        "for name, preds in predictions.items():\n",
        "    print('Confusion matrix for ' + str(name) + ' model')\n",
        "    print()\n",
        "    conf_matrix = confusion_matrix(y_test, preds)\n",
        "    disp = ConfusionMatrixDisplay(conf_matrix, display_labels=[1,2,3,4,5,6])\n",
        "    plt.rcParams['figure.figsize'] = [10, 7]\n",
        "    disp.plot()\n",
        "    plt.show()\n",
        "    print()\n",
        "    print()"
      ],
      "execution_count": 35,
      "outputs": [
        {
          "output_type": "stream",
          "name": "stdout",
          "text": [
            "Confusion matrix for Gaussian Naive Bayes model\n",
            "\n"
          ]
        },
        {
          "output_type": "display_data",
          "data": {
            "image/png": "[encoded data removed]",
            "text/plain": [
              "<Figure size 720x504 with 2 Axes>"
            ]
          },
          "metadata": {
            "needs_background": "light"
          }
        },
        {
          "output_type": "stream",
          "name": "stdout",
          "text": [
            "\n",
            "\n",
            "Confusion matrix for k-NN model\n",
            "\n"
          ]
        },
        {
          "output_type": "display_data",
          "data": {
            "image/png": "[encoded data removed]",
            "text/plain": [
              "<Figure size 720x504 with 2 Axes>"
            ]
          },
          "metadata": {
            "needs_background": "light"
          }
        },
        {
          "output_type": "stream",
          "name": "stdout",
          "text": [
            "\n",
            "\n",
            "Confusion matrix for Logistic Regression model\n",
            "\n"
          ]
        },
        {
          "output_type": "display_data",
          "data": {
            "image/png": "[encoded data removed]",
            "text/plain": [
              "<Figure size 720x504 with 2 Axes>"
            ]
          },
          "metadata": {
            "needs_background": "light"
          }
        },
        {
          "output_type": "stream",
          "name": "stdout",
          "text": [
            "\n",
            "\n"
          ]
        }
      ]
    },
    {
      "cell_type": "markdown",
      "metadata": {
        "id": "B-zEGZXjZAuG"
      },
      "source": [
        "**Ποιον ταξινομητή προτείνετε τελικά για το συγκεκριμένο πρόβλημα και γιατί; Μπορείτε να δώσετε κάποια ερμηνεία για την καλή επίδοσή του στο πρόβλημα, απόλυτα ή/και σε σχέση με τους υπόλοιπους (εκτός των dummy);**\n",
        "\n",
        "\n",
        "Θα επιλάγαμε να χρησιμοποιήσουμε την Logistic regression χωρίς την πραγματοποίηση βελτιστοποίησης καθώς δίνει τα καλύτερα αποτελέσματα accuracy και f1-score αλλά πιθανώς να χρησιμοποιήσαμε και βελτιστοποιημένο Gaussian Naive Bayes model το οποίο δίνει παραπλήσια αποτελέσματα ενώ παραμένει ταυτόχρονα και μια από τις πιο απλές μεθόδους μηχανικής μάθησης. Είναι μάλιστα λογικό οι 2 αυτές μέθοδοι να έχουν καλά αποτελέσματα για το dataset μας καθώς έχουμε ένα classification problem με κατηγορικές εισόδους. Ωστόσο και οι 3 \"εξυπνες μέθοδοι δίνουν πολύ ικανοποιητικά και συγκρίσιμα αποτελέσματα άρα στην πράξη θα μπορούσε να επιλεχθει οποιαδήποτε από αυτές αν και σε περιπτωση που στο μέλλον αυξηθει σημαντικά ο αριθμός των δεδομένων , ο k-ΝΝ δεν ενδείκνεται."
      ]
    },
    {
      "cell_type": "markdown",
      "metadata": {
        "id": "9MHk9TcuXDW-"
      },
      "source": [
        "# Μέρος 2. Kaggle Dataset"
      ]
    },
    {
      "cell_type": "markdown",
      "metadata": {
        "id": "OVMf_EZcZcao"
      },
      "source": [
        "## Εισαγωγή Dataset"
      ]
    },
    {
      "cell_type": "code",
      "metadata": {
        "id": "h25ToOucXZBb"
      },
      "source": [
        "%%capture\n",
        "drive.mount('/content/drive')\n",
        "\n",
        "os.getcwd()\n",
        "os.environ['KAGGLE_CONFIG_DIR'] = '/content/drive/MyDrive/Colab_Notebooks/Νευρωνικά Δίκτυα/kaggle'\n",
        "os.chdir('/content/drive/MyDrive/Colab_Notebooks/Νευρωνικά Δίκτυα/kaggle')\n",
        "!kaggle datasets download -d jsphyg/weather-dataset-rattle-package\n",
        "os.listdir()"
      ],
      "execution_count": 34,
      "outputs": []
    },
    {
      "cell_type": "code",
      "metadata": {
        "colab": {
          "base_uri": "https://localhost:8080/",
          "height": 0
        },
        "id": "Ev7qmbalXsF0",
        "outputId": "35a120ff-fb73-4c2d-ffd2-50f0612cbaa3"
      },
      "source": [
        "kaggle_df = pd.read_csv('weatherAUS.csv')\n",
        "initial_data = kaggle_df.shape[0]\n",
        "missing_labels = kaggle_df.RainTomorrow.isnull().sum()\n",
        "kaggle_df"
      ],
      "execution_count": 35,
      "outputs": [
        {
          "output_type": "execute_result",
          "data": {
            "text/html": [
              "<div>\n",
              "<style scoped>\n",
              "    .dataframe tbody tr th:only-of-type {\n",
              "        vertical-align: middle;\n",
              "    }\n",
              "\n",
              "    .dataframe tbody tr th {\n",
              "        vertical-align: top;\n",
              "    }\n",
              "\n",
              "    .dataframe thead th {\n",
              "        text-align: right;\n",
              "    }\n",
              "</style>\n",
              "<table border=\"1\" class=\"dataframe\">\n",
              "  <thead>\n",
              "    <tr style=\"text-align: right;\">\n",
              "      <th></th>\n",
              "      <th>Date</th>\n",
              "      <th>Location</th>\n",
              "      <th>MinTemp</th>\n",
              "      <th>MaxTemp</th>\n",
              "      <th>Rainfall</th>\n",
              "      <th>Evaporation</th>\n",
              "      <th>Sunshine</th>\n",
              "      <th>WindGustDir</th>\n",
              "      <th>WindGustSpeed</th>\n",
              "      <th>WindDir9am</th>\n",
              "      <th>WindDir3pm</th>\n",
              "      <th>WindSpeed9am</th>\n",
              "      <th>WindSpeed3pm</th>\n",
              "      <th>Humidity9am</th>\n",
              "      <th>Humidity3pm</th>\n",
              "      <th>Pressure9am</th>\n",
              "      <th>Pressure3pm</th>\n",
              "      <th>Cloud9am</th>\n",
              "      <th>Cloud3pm</th>\n",
              "      <th>Temp9am</th>\n",
              "      <th>Temp3pm</th>\n",
              "      <th>RainToday</th>\n",
              "      <th>RainTomorrow</th>\n",
              "    </tr>\n",
              "  </thead>\n",
              "  <tbody>\n",
              "    <tr>\n",
              "      <th>0</th>\n",
              "      <td>2008-12-01</td>\n",
              "      <td>Albury</td>\n",
              "      <td>13.4</td>\n",
              "      <td>22.9</td>\n",
              "      <td>0.6</td>\n",
              "      <td>NaN</td>\n",
              "      <td>NaN</td>\n",
              "      <td>W</td>\n",
              "      <td>44.0</td>\n",
              "      <td>W</td>\n",
              "      <td>WNW</td>\n",
              "      <td>20.0</td>\n",
              "      <td>24.0</td>\n",
              "      <td>71.0</td>\n",
              "      <td>22.0</td>\n",
              "      <td>1007.7</td>\n",
              "      <td>1007.1</td>\n",
              "      <td>8.0</td>\n",
              "      <td>NaN</td>\n",
              "      <td>16.9</td>\n",
              "      <td>21.8</td>\n",
              "      <td>No</td>\n",
              "      <td>No</td>\n",
              "    </tr>\n",
              "    <tr>\n",
              "      <th>1</th>\n",
              "      <td>2008-12-02</td>\n",
              "      <td>Albury</td>\n",
              "      <td>7.4</td>\n",
              "      <td>25.1</td>\n",
              "      <td>0.0</td>\n",
              "      <td>NaN</td>\n",
              "      <td>NaN</td>\n",
              "      <td>WNW</td>\n",
              "      <td>44.0</td>\n",
              "      <td>NNW</td>\n",
              "      <td>WSW</td>\n",
              "      <td>4.0</td>\n",
              "      <td>22.0</td>\n",
              "      <td>44.0</td>\n",
              "      <td>25.0</td>\n",
              "      <td>1010.6</td>\n",
              "      <td>1007.8</td>\n",
              "      <td>NaN</td>\n",
              "      <td>NaN</td>\n",
              "      <td>17.2</td>\n",
              "      <td>24.3</td>\n",
              "      <td>No</td>\n",
              "      <td>No</td>\n",
              "    </tr>\n",
              "    <tr>\n",
              "      <th>2</th>\n",
              "      <td>2008-12-03</td>\n",
              "      <td>Albury</td>\n",
              "      <td>12.9</td>\n",
              "      <td>25.7</td>\n",
              "      <td>0.0</td>\n",
              "      <td>NaN</td>\n",
              "      <td>NaN</td>\n",
              "      <td>WSW</td>\n",
              "      <td>46.0</td>\n",
              "      <td>W</td>\n",
              "      <td>WSW</td>\n",
              "      <td>19.0</td>\n",
              "      <td>26.0</td>\n",
              "      <td>38.0</td>\n",
              "      <td>30.0</td>\n",
              "      <td>1007.6</td>\n",
              "      <td>1008.7</td>\n",
              "      <td>NaN</td>\n",
              "      <td>2.0</td>\n",
              "      <td>21.0</td>\n",
              "      <td>23.2</td>\n",
              "      <td>No</td>\n",
              "      <td>No</td>\n",
              "    </tr>\n",
              "    <tr>\n",
              "      <th>3</th>\n",
              "      <td>2008-12-04</td>\n",
              "      <td>Albury</td>\n",
              "      <td>9.2</td>\n",
              "      <td>28.0</td>\n",
              "      <td>0.0</td>\n",
              "      <td>NaN</td>\n",
              "      <td>NaN</td>\n",
              "      <td>NE</td>\n",
              "      <td>24.0</td>\n",
              "      <td>SE</td>\n",
              "      <td>E</td>\n",
              "      <td>11.0</td>\n",
              "      <td>9.0</td>\n",
              "      <td>45.0</td>\n",
              "      <td>16.0</td>\n",
              "      <td>1017.6</td>\n",
              "      <td>1012.8</td>\n",
              "      <td>NaN</td>\n",
              "      <td>NaN</td>\n",
              "      <td>18.1</td>\n",
              "      <td>26.5</td>\n",
              "      <td>No</td>\n",
              "      <td>No</td>\n",
              "    </tr>\n",
              "    <tr>\n",
              "      <th>4</th>\n",
              "      <td>2008-12-05</td>\n",
              "      <td>Albury</td>\n",
              "      <td>17.5</td>\n",
              "      <td>32.3</td>\n",
              "      <td>1.0</td>\n",
              "      <td>NaN</td>\n",
              "      <td>NaN</td>\n",
              "      <td>W</td>\n",
              "      <td>41.0</td>\n",
              "      <td>ENE</td>\n",
              "      <td>NW</td>\n",
              "      <td>7.0</td>\n",
              "      <td>20.0</td>\n",
              "      <td>82.0</td>\n",
              "      <td>33.0</td>\n",
              "      <td>1010.8</td>\n",
              "      <td>1006.0</td>\n",
              "      <td>7.0</td>\n",
              "      <td>8.0</td>\n",
              "      <td>17.8</td>\n",
              "      <td>29.7</td>\n",
              "      <td>No</td>\n",
              "      <td>No</td>\n",
              "    </tr>\n",
              "    <tr>\n",
              "      <th>...</th>\n",
              "      <td>...</td>\n",
              "      <td>...</td>\n",
              "      <td>...</td>\n",
              "      <td>...</td>\n",
              "      <td>...</td>\n",
              "      <td>...</td>\n",
              "      <td>...</td>\n",
              "      <td>...</td>\n",
              "      <td>...</td>\n",
              "      <td>...</td>\n",
              "      <td>...</td>\n",
              "      <td>...</td>\n",
              "      <td>...</td>\n",
              "      <td>...</td>\n",
              "      <td>...</td>\n",
              "      <td>...</td>\n",
              "      <td>...</td>\n",
              "      <td>...</td>\n",
              "      <td>...</td>\n",
              "      <td>...</td>\n",
              "      <td>...</td>\n",
              "      <td>...</td>\n",
              "      <td>...</td>\n",
              "    </tr>\n",
              "    <tr>\n",
              "      <th>145455</th>\n",
              "      <td>2017-06-21</td>\n",
              "      <td>Uluru</td>\n",
              "      <td>2.8</td>\n",
              "      <td>23.4</td>\n",
              "      <td>0.0</td>\n",
              "      <td>NaN</td>\n",
              "      <td>NaN</td>\n",
              "      <td>E</td>\n",
              "      <td>31.0</td>\n",
              "      <td>SE</td>\n",
              "      <td>ENE</td>\n",
              "      <td>13.0</td>\n",
              "      <td>11.0</td>\n",
              "      <td>51.0</td>\n",
              "      <td>24.0</td>\n",
              "      <td>1024.6</td>\n",
              "      <td>1020.3</td>\n",
              "      <td>NaN</td>\n",
              "      <td>NaN</td>\n",
              "      <td>10.1</td>\n",
              "      <td>22.4</td>\n",
              "      <td>No</td>\n",
              "      <td>No</td>\n",
              "    </tr>\n",
              "    <tr>\n",
              "      <th>145456</th>\n",
              "      <td>2017-06-22</td>\n",
              "      <td>Uluru</td>\n",
              "      <td>3.6</td>\n",
              "      <td>25.3</td>\n",
              "      <td>0.0</td>\n",
              "      <td>NaN</td>\n",
              "      <td>NaN</td>\n",
              "      <td>NNW</td>\n",
              "      <td>22.0</td>\n",
              "      <td>SE</td>\n",
              "      <td>N</td>\n",
              "      <td>13.0</td>\n",
              "      <td>9.0</td>\n",
              "      <td>56.0</td>\n",
              "      <td>21.0</td>\n",
              "      <td>1023.5</td>\n",
              "      <td>1019.1</td>\n",
              "      <td>NaN</td>\n",
              "      <td>NaN</td>\n",
              "      <td>10.9</td>\n",
              "      <td>24.5</td>\n",
              "      <td>No</td>\n",
              "      <td>No</td>\n",
              "    </tr>\n",
              "    <tr>\n",
              "      <th>145457</th>\n",
              "      <td>2017-06-23</td>\n",
              "      <td>Uluru</td>\n",
              "      <td>5.4</td>\n",
              "      <td>26.9</td>\n",
              "      <td>0.0</td>\n",
              "      <td>NaN</td>\n",
              "      <td>NaN</td>\n",
              "      <td>N</td>\n",
              "      <td>37.0</td>\n",
              "      <td>SE</td>\n",
              "      <td>WNW</td>\n",
              "      <td>9.0</td>\n",
              "      <td>9.0</td>\n",
              "      <td>53.0</td>\n",
              "      <td>24.0</td>\n",
              "      <td>1021.0</td>\n",
              "      <td>1016.8</td>\n",
              "      <td>NaN</td>\n",
              "      <td>NaN</td>\n",
              "      <td>12.5</td>\n",
              "      <td>26.1</td>\n",
              "      <td>No</td>\n",
              "      <td>No</td>\n",
              "    </tr>\n",
              "    <tr>\n",
              "      <th>145458</th>\n",
              "      <td>2017-06-24</td>\n",
              "      <td>Uluru</td>\n",
              "      <td>7.8</td>\n",
              "      <td>27.0</td>\n",
              "      <td>0.0</td>\n",
              "      <td>NaN</td>\n",
              "      <td>NaN</td>\n",
              "      <td>SE</td>\n",
              "      <td>28.0</td>\n",
              "      <td>SSE</td>\n",
              "      <td>N</td>\n",
              "      <td>13.0</td>\n",
              "      <td>7.0</td>\n",
              "      <td>51.0</td>\n",
              "      <td>24.0</td>\n",
              "      <td>1019.4</td>\n",
              "      <td>1016.5</td>\n",
              "      <td>3.0</td>\n",
              "      <td>2.0</td>\n",
              "      <td>15.1</td>\n",
              "      <td>26.0</td>\n",
              "      <td>No</td>\n",
              "      <td>No</td>\n",
              "    </tr>\n",
              "    <tr>\n",
              "      <th>145459</th>\n",
              "      <td>2017-06-25</td>\n",
              "      <td>Uluru</td>\n",
              "      <td>14.9</td>\n",
              "      <td>NaN</td>\n",
              "      <td>0.0</td>\n",
              "      <td>NaN</td>\n",
              "      <td>NaN</td>\n",
              "      <td>NaN</td>\n",
              "      <td>NaN</td>\n",
              "      <td>ESE</td>\n",
              "      <td>ESE</td>\n",
              "      <td>17.0</td>\n",
              "      <td>17.0</td>\n",
              "      <td>62.0</td>\n",
              "      <td>36.0</td>\n",
              "      <td>1020.2</td>\n",
              "      <td>1017.9</td>\n",
              "      <td>8.0</td>\n",
              "      <td>8.0</td>\n",
              "      <td>15.0</td>\n",
              "      <td>20.9</td>\n",
              "      <td>No</td>\n",
              "      <td>NaN</td>\n",
              "    </tr>\n",
              "  </tbody>\n",
              "</table>\n",
              "<p>145460 rows × 23 columns</p>\n",
              "</div>"
            ],
            "text/plain": [
              "              Date Location  MinTemp  ...  Temp3pm  RainToday  RainTomorrow\n",
              "0       2008-12-01   Albury     13.4  ...     21.8         No            No\n",
              "1       2008-12-02   Albury      7.4  ...     24.3         No            No\n",
              "2       2008-12-03   Albury     12.9  ...     23.2         No            No\n",
              "3       2008-12-04   Albury      9.2  ...     26.5         No            No\n",
              "4       2008-12-05   Albury     17.5  ...     29.7         No            No\n",
              "...            ...      ...      ...  ...      ...        ...           ...\n",
              "145455  2017-06-21    Uluru      2.8  ...     22.4         No            No\n",
              "145456  2017-06-22    Uluru      3.6  ...     24.5         No            No\n",
              "145457  2017-06-23    Uluru      5.4  ...     26.1         No            No\n",
              "145458  2017-06-24    Uluru      7.8  ...     26.0         No            No\n",
              "145459  2017-06-25    Uluru     14.9  ...     20.9         No           NaN\n",
              "\n",
              "[145460 rows x 23 columns]"
            ]
          },
          "metadata": {},
          "execution_count": 35
        }
      ]
    },
    {
      "cell_type": "markdown",
      "metadata": {
        "id": "74BNaq1LlIoC"
      },
      "source": [
        "### Επισκόπηση"
      ]
    },
    {
      "cell_type": "markdown",
      "metadata": {
        "id": "m6I4ZuuOba79"
      },
      "source": [
        "**Σύντομη παρουσίαση του dataset δηλαδή ποιο είναι το πρόβλημα που περιγράφει**\n",
        "\n",
        "To συγκεκριμένο dataset περιγράφει την πρόγνωση βροχόπτωσης σε διάφορες περιοχές της Αυστραλίας. Επομένως σκόπος είναι η εκτίμηση του αν θα βρέξει ή όχι την επόμενη μέρα (θεωρείται ότι έβρεξε εάν η βρόχοπτωση ήταν περισσότερη από 1mm). Στο dataset περιέχονται δεδομένα καθημερινών καιρικών παρατηρήσεων 10 χρόνων, με κάθε δείγμα να έχει 22 διαφορετικά χαρακτηριστικά και τα τελικά labels."
      ]
    },
    {
      "cell_type": "markdown",
      "metadata": {
        "id": "cJ7JIBcpba8R"
      },
      "source": [
        "**Χρειάστηκε να κάνετε μετατροπές στα αρχεία plain text για την εισαγωγή του; αν ναι, ποιες είναι αυτές;**\n",
        "\n",
        "Όχι δεν χρειάστηκε να γίνει κάποια μετατροπή στο dataset κατα την εισαγωγή του."
      ]
    },
    {
      "cell_type": "markdown",
      "metadata": {
        "id": "4J0BM4_Bba8S"
      },
      "source": [
        "**Δώστε το πλήθος δειγμάτων και χαρακτηριστικών, και το είδος όλων των χαρακτηριστικών. Υπάρχουν μη διατεταγμένα χαρακτηριστικά και ποια είναι αυτά;**\n",
        "\n"
      ]
    },
    {
      "cell_type": "code",
      "metadata": {
        "colab": {
          "base_uri": "https://localhost:8080/"
        },
        "id": "yLK-_VK2ba8S",
        "outputId": "6467e1ba-e442-4aed-fa1b-14e164b9c2df"
      },
      "source": [
        "print('Number of instances = ' + str(kaggle_df.shape[0]))\n",
        "print('Number of attributes = ' + str(kaggle_df.shape[1]))\n",
        "print('Type of attributes: \\n' + str(kaggle_df.dtypes))"
      ],
      "execution_count": 36,
      "outputs": [
        {
          "output_type": "stream",
          "name": "stdout",
          "text": [
            "Number of instances = 145460\n",
            "Number of attributes = 23\n",
            "Type of attributes: \n",
            "Date              object\n",
            "Location          object\n",
            "MinTemp          float64\n",
            "MaxTemp          float64\n",
            "Rainfall         float64\n",
            "Evaporation      float64\n",
            "Sunshine         float64\n",
            "WindGustDir       object\n",
            "WindGustSpeed    float64\n",
            "WindDir9am        object\n",
            "WindDir3pm        object\n",
            "WindSpeed9am     float64\n",
            "WindSpeed3pm     float64\n",
            "Humidity9am      float64\n",
            "Humidity3pm      float64\n",
            "Pressure9am      float64\n",
            "Pressure3pm      float64\n",
            "Cloud9am         float64\n",
            "Cloud3pm         float64\n",
            "Temp9am          float64\n",
            "Temp3pm          float64\n",
            "RainToday         object\n",
            "RainTomorrow      object\n",
            "dtype: object\n"
          ]
        }
      ]
    },
    {
      "cell_type": "markdown",
      "metadata": {
        "id": "zgtvZiloba8T"
      },
      "source": [
        "**Υπάρχουν επικεφαλίδες; Αρίθμηση γραμμών;**\n",
        "\n",
        "Ναι υπάρχουν και επικεφαλίδες, ενώ η αρίθμηση γραμμών εισάγεται κατευθείαν από την βιβλιοθήκη pandas. Οι επικεδαλίδες είναι οι εξής:"
      ]
    },
    {
      "cell_type": "code",
      "metadata": {
        "colab": {
          "base_uri": "https://localhost:8080/"
        },
        "id": "c0KfRvLNdJAk",
        "outputId": "5c83cf40-0e75-4627-cbc2-978ee234e654"
      },
      "source": [
        "kaggle_df.columns"
      ],
      "execution_count": 37,
      "outputs": [
        {
          "output_type": "execute_result",
          "data": {
            "text/plain": [
              "Index(['Date', 'Location', 'MinTemp', 'MaxTemp', 'Rainfall', 'Evaporation',\n",
              "       'Sunshine', 'WindGustDir', 'WindGustSpeed', 'WindDir9am', 'WindDir3pm',\n",
              "       'WindSpeed9am', 'WindSpeed3pm', 'Humidity9am', 'Humidity3pm',\n",
              "       'Pressure9am', 'Pressure3pm', 'Cloud9am', 'Cloud3pm', 'Temp9am',\n",
              "       'Temp3pm', 'RainToday', 'RainTomorrow'],\n",
              "      dtype='object')"
            ]
          },
          "metadata": {},
          "execution_count": 37
        }
      ]
    },
    {
      "cell_type": "markdown",
      "metadata": {
        "id": "6QoacQbkba8T"
      },
      "source": [
        "**Ποιες είναι οι ετικέτες των κλάσεων και σε ποια κολόνα βρίσκονται;**\n",
        "\n",
        "Οι ετικέτες στον κλάσεων βρίσκονται στην κολόνα 'RainTommorow' και είναι 'Yes', 'No', δηλαδή εάν θα βρέξει ή όχι την επόμενη μέρα"
      ]
    },
    {
      "cell_type": "markdown",
      "metadata": {
        "id": "fHIPkZK2ba8U"
      },
      "source": [
        "**Υπάρχουν απουσιάζουσες τιμές; Πόσα είναι τα δείγματα με απουσιάζουσες τιμές και ποιο το ποσοστό τους επί του συνόλου;**\n",
        "\n",
        "Υπάρχουν απουσιάζουσες σε διάφορες στήλες και σημειώνονται με NaN (Not a Number)\n"
      ]
    },
    {
      "cell_type": "code",
      "metadata": {
        "colab": {
          "base_uri": "https://localhost:8080/"
        },
        "id": "4-DpKnrZCQSB",
        "outputId": "96b5ad73-4620-4b38-db7d-882115ebbb15"
      },
      "source": [
        "num_of_missing_data = kaggle_df.shape[0] - kaggle_df.dropna().shape[0]\n",
        "\n",
        "print('Number of data with missing attributes = ' + str(num_of_missing_data))\n",
        "print('Data with Missing attributes percentage = ' + str(round((num_of_missing_data / kaggle_df.shape[0]) * 100, 2)) + '%')"
      ],
      "execution_count": 38,
      "outputs": [
        {
          "output_type": "stream",
          "name": "stdout",
          "text": [
            "Number of data with missing attributes = 89040\n",
            "Data with Missing attributes percentage = 61.21%\n"
          ]
        }
      ]
    },
    {
      "cell_type": "code",
      "metadata": {
        "colab": {
          "base_uri": "https://localhost:8080/"
        },
        "id": "zjFKSD-6EpcA",
        "outputId": "a0346596-2dc5-4c95-c856-ff4d713892c9"
      },
      "source": [
        "kaggle_df.isnull().sum()"
      ],
      "execution_count": 39,
      "outputs": [
        {
          "output_type": "execute_result",
          "data": {
            "text/plain": [
              "Date                 0\n",
              "Location             0\n",
              "MinTemp           1485\n",
              "MaxTemp           1261\n",
              "Rainfall          3261\n",
              "Evaporation      62790\n",
              "Sunshine         69835\n",
              "WindGustDir      10326\n",
              "WindGustSpeed    10263\n",
              "WindDir9am       10566\n",
              "WindDir3pm        4228\n",
              "WindSpeed9am      1767\n",
              "WindSpeed3pm      3062\n",
              "Humidity9am       2654\n",
              "Humidity3pm       4507\n",
              "Pressure9am      15065\n",
              "Pressure3pm      15028\n",
              "Cloud9am         55888\n",
              "Cloud3pm         59358\n",
              "Temp9am           1767\n",
              "Temp3pm           3609\n",
              "RainToday         3261\n",
              "RainTomorrow      3267\n",
              "dtype: int64"
            ]
          },
          "metadata": {},
          "execution_count": 39
        }
      ]
    },
    {
      "cell_type": "markdown",
      "metadata": {
        "id": "Pw7qfJFuEcAg"
      },
      "source": [
        "Παρατηρούμε ότι για κάποια attributes υπάρχει πολύ μεγάλος αριθμός τιμών."
      ]
    },
    {
      "cell_type": "markdown",
      "metadata": {
        "id": "9-_SBP6fba8U"
      },
      "source": [
        "**Ποιος είναι το πλήθος των κλάσεων και τα ποσοστά δειγμάτων τους επί του συνόλου; Αν θεωρήσουμε ότι ένα dataset είναι μη ισορροπημένο αν μια οποιαδήποτε κλάση είναι 1.5 φορά πιο συχνή από κάποια άλλη (60%-40% σε binary datasets) εκτιμήστε αν το dataset είναι ισορροπημένο ή όχι.**"
      ]
    },
    {
      "cell_type": "code",
      "metadata": {
        "colab": {
          "base_uri": "https://localhost:8080/"
        },
        "id": "Ca_zCkTpba8U",
        "outputId": "333ec847-da68-4cbd-e9ba-a13d681f6c55"
      },
      "source": [
        "num_of_classes = len(kaggle_df['RainTomorrow'].unique())\n",
        "\n",
        "rain = round((len(kaggle_df[kaggle_df.RainTomorrow == 'Yes']) / kaggle_df.shape[0]) * 100, 2)\n",
        "no_rain = 100 - rain\n",
        "\n",
        "print('Total number of classes = ' + str(num_of_classes))\n",
        "print('Percentage of rain examples = ' + str(rain) + ' %')\n",
        "print('Percentage of no rain examples = ' + str(no_rain) + ' %')"
      ],
      "execution_count": 40,
      "outputs": [
        {
          "output_type": "stream",
          "name": "stdout",
          "text": [
            "Total number of classes = 3\n",
            "Percentage of rain examples = 21.91 %\n",
            "Percentage of no rain examples = 78.09 %\n"
          ]
        }
      ]
    },
    {
      "cell_type": "code",
      "metadata": {
        "colab": {
          "base_uri": "https://localhost:8080/"
        },
        "id": "beE6y9-9ba8V",
        "outputId": "e31881a8-a890-4939-bf95-15464472a5e8"
      },
      "source": [
        "if min(rain, no_rain) * 1.5 < max(rain, no_rain):\n",
        "    print('The dataset is unbalanced')\n",
        "else:\n",
        "    print('The dataset is balanced')"
      ],
      "execution_count": 41,
      "outputs": [
        {
          "output_type": "stream",
          "name": "stdout",
          "text": [
            "The dataset is unbalanced\n"
          ]
        }
      ]
    },
    {
      "cell_type": "markdown",
      "metadata": {
        "id": "V65jCu3NlOcS"
      },
      "source": [
        "### Μετρικές"
      ]
    },
    {
      "cell_type": "markdown",
      "metadata": {
        "id": "41GdC74XlQ5B"
      },
      "source": [
        "Επιλέγουμε να δουλέψουμε με το f1 score σαν κύρια μετρική, καθώς συνδιάζει τις τιμές precision και recall για να δώσει μία έγκυρη αξιολόγηση του μοντέλου μας, ειδικά εφόσον δουλεύουμε σε ένα unbalanced Dataset. \n",
        "$$f1_{score} = \\frac{2 * precision * recall}{precision + recall}$$"
      ]
    },
    {
      "cell_type": "markdown",
      "metadata": {
        "id": "zEpV4ZrFhMSb"
      },
      "source": [
        "## Προετοιμασία\n"
      ]
    },
    {
      "cell_type": "markdown",
      "metadata": {
        "id": "hkh1aRpvex8E"
      },
      "source": [
        "Αρχικά αφαιρούμε όλα τα δεδομένα του dataset τα οποία έχουν απουσιάζουσες τιμές στην στήλη των labels δηλαδή στην RainTomorrow."
      ]
    },
    {
      "cell_type": "code",
      "metadata": {
        "colab": {
          "base_uri": "https://localhost:8080/"
        },
        "id": "D7aGqn_Eew36",
        "outputId": "75610a93-947b-4082-d6f0-406385b8ed44"
      },
      "source": [
        "print('Initial number of data = ' + str(initial_data))\n",
        "print('Missing values from labels columns = ' + str(missing_labels))\n",
        "kaggle_df = kaggle_df.drop(kaggle_df.loc[kaggle_df.RainTomorrow.isnull()].index)\n",
        "print('Dataset decrease after removing data without labels = ' + str(round(((1 - (kaggle_df.shape[0] / initial_data)) * 100), 2)) + ' %')"
      ],
      "execution_count": 42,
      "outputs": [
        {
          "output_type": "stream",
          "name": "stdout",
          "text": [
            "Initial number of data = 145460\n",
            "Missing values from labels columns = 3267\n",
            "Dataset decrease after removing data without labels = 2.25 %\n"
          ]
        }
      ]
    },
    {
      "cell_type": "markdown",
      "metadata": {
        "id": "O3Uop2uBkaZF"
      },
      "source": [
        "Μετατρέπουμε όλες τις μη αριθμητικές τιμές σε αριθμητικές. Κρατάμε και ένα αντίγραφο του dataset για να πραγματοποιήσουμε άλλη προετοιμασία στην ενότητα της βελτιστοποίησης."
      ]
    },
    {
      "cell_type": "code",
      "metadata": {
        "id": "E9wtqeDpRAkA"
      },
      "source": [
        "kaggle_df_simple = kaggle_df\n",
        "kaggle_df_improved =copy.copy(kaggle_df)"
      ],
      "execution_count": 43,
      "outputs": []
    },
    {
      "cell_type": "code",
      "metadata": {
        "id": "Urgt-Df1Mm4d"
      },
      "source": [
        "cities = kaggle_df_simple['Location'].unique()\n",
        "wind_dirs = kaggle_df_simple['WindGustDir'].unique()\n",
        "\n",
        "location_mapping = {}\n",
        "\n",
        "for i,city in enumerate(cities):\n",
        "    location_mapping[city] = i\n",
        "    \n",
        "bool_mapping = {'Yes':1, 'No':0}\n",
        "wind_dir_mapping = {'W':1, 'NNW':2, 'SE':3, 'ENE':4, 'SW':5,\n",
        "                    'SSE':6, 'S':7, 'NE':8, 'SSW':9, 'N':10,\n",
        "                    'WSW':11, 'ESE':12, 'E':13, 'NW':14, 'WWW':15, 'NNE':16}\n",
        "\n",
        "kaggle_df_simple['Location'] = kaggle_df_simple['Location'].map(location_mapping)\n",
        "kaggle_df_simple['WindGustDir'] = kaggle_df_simple['WindGustDir'].map(wind_dir_mapping)\n",
        "kaggle_df_simple['WindDir9am'] = kaggle_df_simple['WindDir9am'].map(wind_dir_mapping)\n",
        "kaggle_df_simple['WindDir3pm'] = kaggle_df_simple['WindDir3pm'].map(wind_dir_mapping)\n",
        "kaggle_df_simple['RainToday'] = kaggle_df_simple['RainToday'].map(bool_mapping)\n",
        "kaggle_df_simple['RainTomorrow'] = kaggle_df_simple['RainTomorrow'].map(bool_mapping)"
      ],
      "execution_count": 44,
      "outputs": []
    },
    {
      "cell_type": "markdown",
      "metadata": {
        "id": "zrrRvL6MS0Ct"
      },
      "source": [
        "Κάναμε για αρχή το πιο απλό map που γίνεται απο όλες τις τιμές που δεν είναι αριθμοί σε ints .Πιο περίπλοκα maps θα γίνουν στην βελτιστοποίηση."
      ]
    },
    {
      "cell_type": "markdown",
      "metadata": {
        "id": "KczqNywuMXaH"
      },
      "source": [
        "Μετατρέψαμε τη στήλη Dates σε τρεις επιμέρους στήλες years,months,days γιατί αν μετατρέπαμε απλά την κάθε ημερομηνία σε έναν αριθμό, ο αριθμός αυτός θα ήταν πολύ μεγαλύτερης κλίμακας σε σχέση με την κλίμακα των υπόλοιπων attribute και το month που έχει και την μεγαλύτερη σημασία δεν θα βρισκόταν στα ψηφία με την μεγαλύτερη βαρύτητα."
      ]
    },
    {
      "cell_type": "code",
      "metadata": {
        "id": "wbmDuoufRVoE"
      },
      "source": [
        "dates = kaggle_df_simple['Date'].str.replace(\"-\",\"\").astype(int).values - 20000000\n",
        "month_days = np.remainder(dates, 10000)\n",
        "months = np.round(month_days / 100, 0)\n",
        "days = np.remainder(month_days, 100)\n",
        "\n",
        "kaggle_df_simple['Years'] = np.round(dates / 10000, 0)\n",
        "kaggle_df_simple['Months'] = months\n",
        "kaggle_df_simple['Days'] = days\n",
        "kaggle_df_simple = kaggle_df_simple.drop('Date', axis = 1)"
      ],
      "execution_count": 45,
      "outputs": []
    },
    {
      "cell_type": "code",
      "metadata": {
        "id": "VWih7JT3MoSN"
      },
      "source": [
        "kaggle_df_simple = kaggle_df_simple[[\"Years\", \"Months\", \"Days\", \"Location\", \"MinTemp\", \"MaxTemp\", \"Rainfall\", \"Evaporation\",\n",
        "       \"Sunshine\", \"WindGustDir\", \"WindGustSpeed\", \"WindDir9am\", \"WindDir3pm\",\n",
        "       \"WindSpeed9am\", \"WindSpeed3pm\", \"Humidity9am\", \"Humidity3pm\",\n",
        "       \"Pressure9am\", \"Pressure3pm\", \"Cloud9am\", \"Cloud3pm\", \"Temp9am\",\n",
        "       \"Temp3pm\", \"RainToday\", \"RainTomorrow\"]]"
      ],
      "execution_count": 46,
      "outputs": []
    },
    {
      "cell_type": "markdown",
      "metadata": {
        "id": "ESVesVo_Rp9K"
      },
      "source": [
        "Τέλος αντικαθιστούμε όλες τις υπόλοιπες απουσίαζουσες τιμές με τις μέσες τιμές του attribute που αντιστοιχούν."
      ]
    },
    {
      "cell_type": "code",
      "metadata": {
        "id": "oun2Hg9MM1-p",
        "colab": {
          "base_uri": "https://localhost:8080/",
          "height": 0
        },
        "outputId": "6f8fd470-3bc8-4962-8403-6819c58e9fb4"
      },
      "source": [
        "kaggle_df_simple.replace('nan',np.NaN,inplace=True)\n",
        "imp=SimpleImputer(missing_values=np.NaN,strategy='mean')\n",
        "kaggle_df_simple = pd.DataFrame(imp.fit_transform(kaggle_df_simple), columns = kaggle_df_simple.columns, index = kaggle_df_simple.index)\n",
        "kaggle_df_simple"
      ],
      "execution_count": 47,
      "outputs": [
        {
          "output_type": "execute_result",
          "data": {
            "text/html": [
              "<div>\n",
              "<style scoped>\n",
              "    .dataframe tbody tr th:only-of-type {\n",
              "        vertical-align: middle;\n",
              "    }\n",
              "\n",
              "    .dataframe tbody tr th {\n",
              "        vertical-align: top;\n",
              "    }\n",
              "\n",
              "    .dataframe thead th {\n",
              "        text-align: right;\n",
              "    }\n",
              "</style>\n",
              "<table border=\"1\" class=\"dataframe\">\n",
              "  <thead>\n",
              "    <tr style=\"text-align: right;\">\n",
              "      <th></th>\n",
              "      <th>Years</th>\n",
              "      <th>Months</th>\n",
              "      <th>Days</th>\n",
              "      <th>Location</th>\n",
              "      <th>MinTemp</th>\n",
              "      <th>MaxTemp</th>\n",
              "      <th>Rainfall</th>\n",
              "      <th>Evaporation</th>\n",
              "      <th>Sunshine</th>\n",
              "      <th>WindGustDir</th>\n",
              "      <th>WindGustSpeed</th>\n",
              "      <th>WindDir9am</th>\n",
              "      <th>WindDir3pm</th>\n",
              "      <th>WindSpeed9am</th>\n",
              "      <th>WindSpeed3pm</th>\n",
              "      <th>Humidity9am</th>\n",
              "      <th>Humidity3pm</th>\n",
              "      <th>Pressure9am</th>\n",
              "      <th>Pressure3pm</th>\n",
              "      <th>Cloud9am</th>\n",
              "      <th>Cloud3pm</th>\n",
              "      <th>Temp9am</th>\n",
              "      <th>Temp3pm</th>\n",
              "      <th>RainToday</th>\n",
              "      <th>RainTomorrow</th>\n",
              "    </tr>\n",
              "  </thead>\n",
              "  <tbody>\n",
              "    <tr>\n",
              "      <th>0</th>\n",
              "      <td>8.0</td>\n",
              "      <td>12.0</td>\n",
              "      <td>1.0</td>\n",
              "      <td>0.0</td>\n",
              "      <td>13.4</td>\n",
              "      <td>22.9</td>\n",
              "      <td>0.6</td>\n",
              "      <td>5.469824</td>\n",
              "      <td>7.624853</td>\n",
              "      <td>1.000000</td>\n",
              "      <td>44.0</td>\n",
              "      <td>1.0</td>\n",
              "      <td>7.811304</td>\n",
              "      <td>20.0</td>\n",
              "      <td>24.0</td>\n",
              "      <td>71.0</td>\n",
              "      <td>22.0</td>\n",
              "      <td>1007.7</td>\n",
              "      <td>1007.1</td>\n",
              "      <td>8.000000</td>\n",
              "      <td>4.503167</td>\n",
              "      <td>16.9</td>\n",
              "      <td>21.8</td>\n",
              "      <td>0.0</td>\n",
              "      <td>0.0</td>\n",
              "    </tr>\n",
              "    <tr>\n",
              "      <th>1</th>\n",
              "      <td>8.0</td>\n",
              "      <td>12.0</td>\n",
              "      <td>2.0</td>\n",
              "      <td>0.0</td>\n",
              "      <td>7.4</td>\n",
              "      <td>25.1</td>\n",
              "      <td>0.0</td>\n",
              "      <td>5.469824</td>\n",
              "      <td>7.624853</td>\n",
              "      <td>7.902009</td>\n",
              "      <td>44.0</td>\n",
              "      <td>2.0</td>\n",
              "      <td>11.000000</td>\n",
              "      <td>4.0</td>\n",
              "      <td>22.0</td>\n",
              "      <td>44.0</td>\n",
              "      <td>25.0</td>\n",
              "      <td>1010.6</td>\n",
              "      <td>1007.8</td>\n",
              "      <td>4.437189</td>\n",
              "      <td>4.503167</td>\n",
              "      <td>17.2</td>\n",
              "      <td>24.3</td>\n",
              "      <td>0.0</td>\n",
              "      <td>0.0</td>\n",
              "    </tr>\n",
              "    <tr>\n",
              "      <th>2</th>\n",
              "      <td>8.0</td>\n",
              "      <td>12.0</td>\n",
              "      <td>3.0</td>\n",
              "      <td>0.0</td>\n",
              "      <td>12.9</td>\n",
              "      <td>25.7</td>\n",
              "      <td>0.0</td>\n",
              "      <td>5.469824</td>\n",
              "      <td>7.624853</td>\n",
              "      <td>11.000000</td>\n",
              "      <td>46.0</td>\n",
              "      <td>1.0</td>\n",
              "      <td>11.000000</td>\n",
              "      <td>19.0</td>\n",
              "      <td>26.0</td>\n",
              "      <td>38.0</td>\n",
              "      <td>30.0</td>\n",
              "      <td>1007.6</td>\n",
              "      <td>1008.7</td>\n",
              "      <td>4.437189</td>\n",
              "      <td>2.000000</td>\n",
              "      <td>21.0</td>\n",
              "      <td>23.2</td>\n",
              "      <td>0.0</td>\n",
              "      <td>0.0</td>\n",
              "    </tr>\n",
              "    <tr>\n",
              "      <th>3</th>\n",
              "      <td>8.0</td>\n",
              "      <td>12.0</td>\n",
              "      <td>4.0</td>\n",
              "      <td>0.0</td>\n",
              "      <td>9.2</td>\n",
              "      <td>28.0</td>\n",
              "      <td>0.0</td>\n",
              "      <td>5.469824</td>\n",
              "      <td>7.624853</td>\n",
              "      <td>8.000000</td>\n",
              "      <td>24.0</td>\n",
              "      <td>3.0</td>\n",
              "      <td>13.000000</td>\n",
              "      <td>11.0</td>\n",
              "      <td>9.0</td>\n",
              "      <td>45.0</td>\n",
              "      <td>16.0</td>\n",
              "      <td>1017.6</td>\n",
              "      <td>1012.8</td>\n",
              "      <td>4.437189</td>\n",
              "      <td>4.503167</td>\n",
              "      <td>18.1</td>\n",
              "      <td>26.5</td>\n",
              "      <td>0.0</td>\n",
              "      <td>0.0</td>\n",
              "    </tr>\n",
              "    <tr>\n",
              "      <th>4</th>\n",
              "      <td>8.0</td>\n",
              "      <td>12.0</td>\n",
              "      <td>5.0</td>\n",
              "      <td>0.0</td>\n",
              "      <td>17.5</td>\n",
              "      <td>32.3</td>\n",
              "      <td>1.0</td>\n",
              "      <td>5.469824</td>\n",
              "      <td>7.624853</td>\n",
              "      <td>1.000000</td>\n",
              "      <td>41.0</td>\n",
              "      <td>4.0</td>\n",
              "      <td>14.000000</td>\n",
              "      <td>7.0</td>\n",
              "      <td>20.0</td>\n",
              "      <td>82.0</td>\n",
              "      <td>33.0</td>\n",
              "      <td>1010.8</td>\n",
              "      <td>1006.0</td>\n",
              "      <td>7.000000</td>\n",
              "      <td>8.000000</td>\n",
              "      <td>17.8</td>\n",
              "      <td>29.7</td>\n",
              "      <td>0.0</td>\n",
              "      <td>0.0</td>\n",
              "    </tr>\n",
              "    <tr>\n",
              "      <th>...</th>\n",
              "      <td>...</td>\n",
              "      <td>...</td>\n",
              "      <td>...</td>\n",
              "      <td>...</td>\n",
              "      <td>...</td>\n",
              "      <td>...</td>\n",
              "      <td>...</td>\n",
              "      <td>...</td>\n",
              "      <td>...</td>\n",
              "      <td>...</td>\n",
              "      <td>...</td>\n",
              "      <td>...</td>\n",
              "      <td>...</td>\n",
              "      <td>...</td>\n",
              "      <td>...</td>\n",
              "      <td>...</td>\n",
              "      <td>...</td>\n",
              "      <td>...</td>\n",
              "      <td>...</td>\n",
              "      <td>...</td>\n",
              "      <td>...</td>\n",
              "      <td>...</td>\n",
              "      <td>...</td>\n",
              "      <td>...</td>\n",
              "      <td>...</td>\n",
              "    </tr>\n",
              "    <tr>\n",
              "      <th>145454</th>\n",
              "      <td>17.0</td>\n",
              "      <td>6.0</td>\n",
              "      <td>20.0</td>\n",
              "      <td>48.0</td>\n",
              "      <td>3.5</td>\n",
              "      <td>21.8</td>\n",
              "      <td>0.0</td>\n",
              "      <td>5.469824</td>\n",
              "      <td>7.624853</td>\n",
              "      <td>13.000000</td>\n",
              "      <td>31.0</td>\n",
              "      <td>12.0</td>\n",
              "      <td>13.000000</td>\n",
              "      <td>15.0</td>\n",
              "      <td>13.0</td>\n",
              "      <td>59.0</td>\n",
              "      <td>27.0</td>\n",
              "      <td>1024.7</td>\n",
              "      <td>1021.2</td>\n",
              "      <td>4.437189</td>\n",
              "      <td>4.503167</td>\n",
              "      <td>9.4</td>\n",
              "      <td>20.9</td>\n",
              "      <td>0.0</td>\n",
              "      <td>0.0</td>\n",
              "    </tr>\n",
              "    <tr>\n",
              "      <th>145455</th>\n",
              "      <td>17.0</td>\n",
              "      <td>6.0</td>\n",
              "      <td>21.0</td>\n",
              "      <td>48.0</td>\n",
              "      <td>2.8</td>\n",
              "      <td>23.4</td>\n",
              "      <td>0.0</td>\n",
              "      <td>5.469824</td>\n",
              "      <td>7.624853</td>\n",
              "      <td>13.000000</td>\n",
              "      <td>31.0</td>\n",
              "      <td>3.0</td>\n",
              "      <td>4.000000</td>\n",
              "      <td>13.0</td>\n",
              "      <td>11.0</td>\n",
              "      <td>51.0</td>\n",
              "      <td>24.0</td>\n",
              "      <td>1024.6</td>\n",
              "      <td>1020.3</td>\n",
              "      <td>4.437189</td>\n",
              "      <td>4.503167</td>\n",
              "      <td>10.1</td>\n",
              "      <td>22.4</td>\n",
              "      <td>0.0</td>\n",
              "      <td>0.0</td>\n",
              "    </tr>\n",
              "    <tr>\n",
              "      <th>145456</th>\n",
              "      <td>17.0</td>\n",
              "      <td>6.0</td>\n",
              "      <td>22.0</td>\n",
              "      <td>48.0</td>\n",
              "      <td>3.6</td>\n",
              "      <td>25.3</td>\n",
              "      <td>0.0</td>\n",
              "      <td>5.469824</td>\n",
              "      <td>7.624853</td>\n",
              "      <td>2.000000</td>\n",
              "      <td>22.0</td>\n",
              "      <td>3.0</td>\n",
              "      <td>10.000000</td>\n",
              "      <td>13.0</td>\n",
              "      <td>9.0</td>\n",
              "      <td>56.0</td>\n",
              "      <td>21.0</td>\n",
              "      <td>1023.5</td>\n",
              "      <td>1019.1</td>\n",
              "      <td>4.437189</td>\n",
              "      <td>4.503167</td>\n",
              "      <td>10.9</td>\n",
              "      <td>24.5</td>\n",
              "      <td>0.0</td>\n",
              "      <td>0.0</td>\n",
              "    </tr>\n",
              "    <tr>\n",
              "      <th>145457</th>\n",
              "      <td>17.0</td>\n",
              "      <td>6.0</td>\n",
              "      <td>23.0</td>\n",
              "      <td>48.0</td>\n",
              "      <td>5.4</td>\n",
              "      <td>26.9</td>\n",
              "      <td>0.0</td>\n",
              "      <td>5.469824</td>\n",
              "      <td>7.624853</td>\n",
              "      <td>10.000000</td>\n",
              "      <td>37.0</td>\n",
              "      <td>3.0</td>\n",
              "      <td>7.811304</td>\n",
              "      <td>9.0</td>\n",
              "      <td>9.0</td>\n",
              "      <td>53.0</td>\n",
              "      <td>24.0</td>\n",
              "      <td>1021.0</td>\n",
              "      <td>1016.8</td>\n",
              "      <td>4.437189</td>\n",
              "      <td>4.503167</td>\n",
              "      <td>12.5</td>\n",
              "      <td>26.1</td>\n",
              "      <td>0.0</td>\n",
              "      <td>0.0</td>\n",
              "    </tr>\n",
              "    <tr>\n",
              "      <th>145458</th>\n",
              "      <td>17.0</td>\n",
              "      <td>6.0</td>\n",
              "      <td>24.0</td>\n",
              "      <td>48.0</td>\n",
              "      <td>7.8</td>\n",
              "      <td>27.0</td>\n",
              "      <td>0.0</td>\n",
              "      <td>5.469824</td>\n",
              "      <td>7.624853</td>\n",
              "      <td>3.000000</td>\n",
              "      <td>28.0</td>\n",
              "      <td>6.0</td>\n",
              "      <td>10.000000</td>\n",
              "      <td>13.0</td>\n",
              "      <td>7.0</td>\n",
              "      <td>51.0</td>\n",
              "      <td>24.0</td>\n",
              "      <td>1019.4</td>\n",
              "      <td>1016.5</td>\n",
              "      <td>3.000000</td>\n",
              "      <td>2.000000</td>\n",
              "      <td>15.1</td>\n",
              "      <td>26.0</td>\n",
              "      <td>0.0</td>\n",
              "      <td>0.0</td>\n",
              "    </tr>\n",
              "  </tbody>\n",
              "</table>\n",
              "<p>142193 rows × 25 columns</p>\n",
              "</div>"
            ],
            "text/plain": [
              "        Years  Months  Days  ...  Temp3pm  RainToday  RainTomorrow\n",
              "0         8.0    12.0   1.0  ...     21.8        0.0           0.0\n",
              "1         8.0    12.0   2.0  ...     24.3        0.0           0.0\n",
              "2         8.0    12.0   3.0  ...     23.2        0.0           0.0\n",
              "3         8.0    12.0   4.0  ...     26.5        0.0           0.0\n",
              "4         8.0    12.0   5.0  ...     29.7        0.0           0.0\n",
              "...       ...     ...   ...  ...      ...        ...           ...\n",
              "145454   17.0     6.0  20.0  ...     20.9        0.0           0.0\n",
              "145455   17.0     6.0  21.0  ...     22.4        0.0           0.0\n",
              "145456   17.0     6.0  22.0  ...     24.5        0.0           0.0\n",
              "145457   17.0     6.0  23.0  ...     26.1        0.0           0.0\n",
              "145458   17.0     6.0  24.0  ...     26.0        0.0           0.0\n",
              "\n",
              "[142193 rows x 25 columns]"
            ]
          },
          "metadata": {},
          "execution_count": 47
        }
      ]
    },
    {
      "cell_type": "code",
      "metadata": {
        "id": "dqw2OqvpSGLj"
      },
      "source": [
        "kaggle_df_simple['RainTomorrow'] = kaggle_df_simple.RainTomorrow.replace('Yes', 1)\n",
        "kaggle_df_simple['RainTomorrow'] = kaggle_df_simple.RainTomorrow.replace('No', 0)\n",
        "kaggle_df_simple['RainTomorrow'] = kaggle_df_simple['RainTomorrow'].astype(int)"
      ],
      "execution_count": 48,
      "outputs": []
    },
    {
      "cell_type": "markdown",
      "metadata": {
        "id": "bcnDcxmxR8px"
      },
      "source": [
        "Επιλέγουμε tain / test split = 90 / 10, καθώς το dataset είναι αρκετά μεγάλο οπότε και με το 10 % του dataset ως test set είμαστε καλλυμένοι και έχουμε και περισσότερα δεδομένα για εκπαίδευση. To σχήμα cross-validation Που θα χρησιμοποιήσουμε είναι 5-fold cross-validation αφού το μεγάλο μέγεθος του dataset καθυστά μεγαλύτερα k περιττά."
      ]
    },
    {
      "cell_type": "code",
      "metadata": {
        "id": "Nz2eJMyOhSLm",
        "colab": {
          "base_uri": "https://localhost:8080/"
        },
        "outputId": "92afff21-b311-4601-bb6d-86fbbc77a4e1"
      },
      "source": [
        "data = kaggle_df_simple.values\n",
        "features = data[:,:-1]\n",
        "labels = data[:,-1]\n",
        "x_train_base, x_test_base, y_train_base, y_test_base = train_test_split(features, labels, test_size=0.1, shuffle=True)\n",
        "\n",
        "print(f'Train data shape: {x_train_base.shape}')\n",
        "print(f'Train labels shape: {y_train_base.shape}')\n",
        "print(f'Test data shape: {x_test_base.shape}')\n",
        "print(f'Test labels shape: {y_test_base.shape}')"
      ],
      "execution_count": 49,
      "outputs": [
        {
          "output_type": "stream",
          "name": "stdout",
          "text": [
            "Train data shape: (127973, 24)\n",
            "Train labels shape: (127973,)\n",
            "Test data shape: (14220, 24)\n",
            "Test labels shape: (14220,)\n"
          ]
        }
      ]
    },
    {
      "cell_type": "markdown",
      "metadata": {
        "id": "KF5y7E0CbeGQ"
      },
      "source": [
        "## Ταξινομητές"
      ]
    },
    {
      "cell_type": "markdown",
      "metadata": {
        "id": "mHDHmCJ2kLcf"
      },
      "source": [
        "### Επίδοση Out-of-the-box"
      ]
    },
    {
      "cell_type": "code",
      "metadata": {
        "id": "neZiAtWMcySZ"
      },
      "source": [
        "final_preds={}\n",
        "final_preds_helper ={} #gia sullogi apotelesmaton"
      ],
      "execution_count": 59,
      "outputs": []
    },
    {
      "cell_type": "code",
      "metadata": {
        "id": "-Ob-Z4P_maiu"
      },
      "source": [
        "dc_uniform = DummyClassifier(strategy=\"uniform\")\n",
        "dc_most_frequent = DummyClassifier(strategy=\"most_frequent\")\n",
        "dc_stratified = DummyClassifier(strategy=\"stratified\")"
      ],
      "execution_count": 60,
      "outputs": []
    },
    {
      "cell_type": "code",
      "metadata": {
        "id": "kgNIxzvnyir4"
      },
      "source": [
        "mlp_base = MLPClassifier()\n",
        "svc_linear_base = SVC(kernel='linear')\n",
        "svc_rbf_base = SVC(kernel='rbf')"
      ],
      "execution_count": 61,
      "outputs": []
    },
    {
      "cell_type": "code",
      "metadata": {
        "id": "TZh_cVjxkPJn",
        "colab": {
          "base_uri": "https://localhost:8080/"
        },
        "outputId": "72f5be30-094c-4cf9-8444-7e6f805c2e49"
      },
      "source": [
        "kaggle_base_accuracy = {}\n",
        "models_names = ['uniform (random)','most frequent label', 'stratified', 'mlp_base']\n",
        "models = [dc_uniform, dc_most_frequent, dc_stratified, mlp_base ]\n",
        "\n",
        "for model_name, model in zip(models_names, models):\n",
        "  model = model.fit(x_train_base, y_train_base)\n",
        "  preds = model.predict(x_test_base)\n",
        "  kaggle_base_accuracy[model_name] = (model.score(x_test_base, y_test_base), f1_score(preds, y_test_base, average='macro'))\n",
        "  print(model_name)\n",
        "  if model_name == 'mlp_base' :\n",
        "    final_preds_helper[model_name] = preds\n",
        "    final_preds[model_name] = [f1_score(preds, y_test_base, average='macro'),model.score(x_test_base, y_test_base)]\n",
        "\n",
        "  \n"
      ],
      "execution_count": 62,
      "outputs": [
        {
          "output_type": "stream",
          "name": "stdout",
          "text": [
            "uniform (random)\n",
            "most frequent label\n",
            "stratified\n",
            "mlp_base\n"
          ]
        }
      ]
    },
    {
      "cell_type": "markdown",
      "metadata": {
        "id": "R1SfSS_0TaYH"
      },
      "source": [
        "Λόγω τις τεράστιας χρονικής πολυπλοκότητας των SVM σε συνάρτηση με τον αριθμό των δειγμάτων(Ν^4) και λόγω της δυσκολίας μας να αποκτήσουμε πρόσβαση σε υπερυπολογιστή , είναι μάλλον αδύνατο να εκπαιδεύσουμε το SVM με ολόκληρο το dataset . Για αυτό θα πραγματοποίσουμε ένα undersampling με το 15% των δεδομένων , κρατώντας όμως σταθερή την αναλογία των κλάσεων."
      ]
    },
    {
      "cell_type": "code",
      "metadata": {
        "colab": {
          "base_uri": "https://localhost:8080/"
        },
        "id": "G7c3e5fKTboG",
        "outputId": "945cbdd3-ea2b-4476-e8ad-f1da3a7611a8"
      },
      "source": [
        "sampled_df_15 = kaggle_df_simple.groupby('RainTomorrow', group_keys=False).apply(lambda x: x.sample(frac=0.15))\n",
        "rain_percentage = round((len(sampled_df_15[sampled_df_15.RainTomorrow == 1]) / sampled_df_15.shape[0]) * 100, 2)\n",
        "\n",
        "print('Number of sampled data = ' + str(sampled_df_15.shape[0]))\n",
        "print('Percentage of rain examples in sampled data = ' + str(rain_percentage) + ' %')\n",
        "print('Percentage of no rain examples in sampled dat = ' + str(100 - rain_percentage) + ' %')"
      ],
      "execution_count": 63,
      "outputs": [
        {
          "output_type": "stream",
          "name": "stdout",
          "text": [
            "Number of sampled data = 21329\n",
            "Percentage of rain examples in sampled data = 22.42 %\n",
            "Percentage of no rain examples in sampled dat = 77.58 %\n"
          ]
        }
      ]
    },
    {
      "cell_type": "markdown",
      "metadata": {
        "id": "Mmm7OztzTiG5"
      },
      "source": [
        "Επιλέγουμε train/test split = 80/20 μιας για την μελέτη των υπερπαραμέτρων μιας και μειώθηκε το dataset."
      ]
    },
    {
      "cell_type": "code",
      "metadata": {
        "colab": {
          "base_uri": "https://localhost:8080/"
        },
        "id": "LAXfjACGTi42",
        "outputId": "92156974-6b1f-4e76-d385-66fc238c02f7"
      },
      "source": [
        "data_sampled_15 = sampled_df_15.values\n",
        "features_sampled_15 = data_sampled_15[:,:-1]\n",
        "labels_samlped_15 = data_sampled_15[:,-1]\n",
        "x_train_sampled_15, x_test_sampled_15, y_train_sampled_15, y_test_sampled_15 = train_test_split(features_sampled_15, labels_samlped_15, test_size=0.2, shuffle=True)\n",
        "\n",
        "print(f'Train data shape: {x_train_sampled_15.shape}')\n",
        "print(f'Train labels shape: {y_train_sampled_15.shape}')\n",
        "print(f'Test data shape: {x_test_sampled_15.shape}')\n",
        "print(f'Test labels shape: {y_test_sampled_15.shape}')"
      ],
      "execution_count": 64,
      "outputs": [
        {
          "output_type": "stream",
          "name": "stdout",
          "text": [
            "Train data shape: (17063, 24)\n",
            "Train labels shape: (17063,)\n",
            "Test data shape: (4266, 24)\n",
            "Test labels shape: (4266,)\n"
          ]
        }
      ]
    },
    {
      "cell_type": "code",
      "metadata": {
        "colab": {
          "base_uri": "https://localhost:8080/"
        },
        "id": "wtoJT7p4Tl_Z",
        "outputId": "c7a26059-ef90-4681-a8fb-4d95fcffb2cd"
      },
      "source": [
        "\n",
        "models_names = ['svc_linear_base','svc_rbf_base']\n",
        "models = [svc_linear_base, svc_rbf_base]\n",
        "\n",
        "for model_name, model in zip(models_names, models):\n",
        "  model = model.fit(x_train_sampled_15, y_train_sampled_15)\n",
        "  preds = model.predict(x_test_sampled_15)\n",
        "  kaggle_base_accuracy[model_name] = (model.score(x_test_sampled_15, y_test_sampled_15), f1_score(preds, y_test_sampled_15, average='macro'))\n",
        "  print(model_name)\n",
        "  final_preds_helper[model_name] = preds\n",
        "  final_preds[model_name] = [f1_score(preds, y_test_sampled_15, average='macro'),model.score(x_test_sampled_15, y_test_sampled_15)]\n",
        "print(\"Classification Accuracy on the Dataset \\n\")\n",
        "sorted_accuracy = [(k[0], kaggle_base_accuracy[k[0]]) for k in sorted(kaggle_base_accuracy.items(), key=lambda x: x[1][0], reverse=True)]\n",
        "sorted_f1 = [(k[0], kaggle_base_accuracy[k[0]]) for k in sorted(kaggle_base_accuracy.items(), key=lambda x: x[1][1], reverse=True)]\n",
        "\n",
        "for k, v in sorted_accuracy:\n",
        "  print(k)\n",
        "  print(f'Accuracy: {v[0]}')\n",
        "  print(f'f1 (macro): {v[1]} \\n')\n",
        "\n",
        "print('Depending on accuracy: ')\n",
        "for k, _ in sorted_accuracy:\n",
        "  print(k, end = \" \")\n",
        "  if k != sorted_accuracy[-1][0]:\n",
        "    print(\">\", end = \" \")\n",
        "\n",
        "\n",
        "print('\\n \\nDepending on f1: ')\n",
        "for k, _ in sorted_f1:\n",
        "  print(k, end = \" \")\n",
        "  if k != sorted_f1[-1][0]:\n",
        "    print(\">\", end = \" \")\n",
        "print()"
      ],
      "execution_count": 65,
      "outputs": [
        {
          "output_type": "stream",
          "name": "stdout",
          "text": [
            "svc_linear_base\n",
            "svc_rbf_base\n",
            "Classification Accuracy on the Dataset \n",
            "\n",
            "mlp_base\n",
            "Accuracy: 0.8386075949367089\n",
            "f1 (macro): 0.709149923678692 \n",
            "\n",
            "svc_linear_base\n",
            "Accuracy: 0.8363806844819504\n",
            "f1 (macro): 0.7340760030864197 \n",
            "\n",
            "svc_rbf_base\n",
            "Accuracy: 0.7845757149554617\n",
            "f1 (macro): 0.5021890352816948 \n",
            "\n",
            "most frequent label\n",
            "Accuracy: 0.770464135021097\n",
            "f1 (macro): 0.4351763584366063 \n",
            "\n",
            "stratified\n",
            "Accuracy: 0.6523909985935302\n",
            "f1 (macro): 0.49975166953655187 \n",
            "\n",
            "uniform (random)\n",
            "Accuracy: 0.4989451476793249\n",
            "f1 (macro): 0.4598284097000065 \n",
            "\n",
            "Depending on accuracy: \n",
            "mlp_base > svc_linear_base > svc_rbf_base > most frequent label > stratified > uniform (random) \n",
            " \n",
            "Depending on f1: \n",
            "svc_linear_base > mlp_base > svc_rbf_base > stratified > uniform (random) > most frequent label \n"
          ]
        }
      ]
    },
    {
      "cell_type": "code",
      "metadata": {
        "id": "O9TW4Oz90WU7",
        "colab": {
          "base_uri": "https://localhost:8080/",
          "height": 705
        },
        "outputId": "575ac0a1-fc56-4fe0-8774-c6a6c1b1a4a0"
      },
      "source": [
        "fig = plt.subplots(figsize=(12,8))\n",
        "accuracy = [x for (x,_) in list(kaggle_base_accuracy.values())]\n",
        "f1 = [x for (_,x) in list(kaggle_base_accuracy.values())]\n",
        "\n",
        "barWidth = 0.25\n",
        "\n",
        "bar_acc = np.arange(len(accuracy))-barWidth/4\n",
        "bar_f1 = [x+barWidth for x in bar_acc]\n",
        "models_names = ['uniform','most frequent label', 'stratified','mlp_base','svc_linear_base','svc_rbf_base']\n",
        "plt.bar(bar_acc, accuracy,width=barWidth, label='Accuracy')\n",
        "plt.bar(bar_f1, f1,width=barWidth, label='f1 macro')\n",
        "plt.xticks(np.array(bar_acc), np.array(models_names))\n",
        "plt.legend(loc=2,prop={'size': 20})\n",
        "plt.grid(True)\n",
        "\n",
        "out_of_the_box_kaggle_df = pd.DataFrame()\n",
        "out_of_the_box_kaggle_df['Accuracy'] = pd.Series(accuracy)\n",
        "out_of_the_box_kaggle_df['F1 score (macro)'] = pd.Series(f1)\n",
        "out_of_the_box_kaggle_df.index = models_names\n",
        "out_of_the_box_kaggle_df"
      ],
      "execution_count": 66,
      "outputs": [
        {
          "output_type": "execute_result",
          "data": {
            "text/html": [
              "<div>\n",
              "<style scoped>\n",
              "    .dataframe tbody tr th:only-of-type {\n",
              "        vertical-align: middle;\n",
              "    }\n",
              "\n",
              "    .dataframe tbody tr th {\n",
              "        vertical-align: top;\n",
              "    }\n",
              "\n",
              "    .dataframe thead th {\n",
              "        text-align: right;\n",
              "    }\n",
              "</style>\n",
              "<table border=\"1\" class=\"dataframe\">\n",
              "  <thead>\n",
              "    <tr style=\"text-align: right;\">\n",
              "      <th></th>\n",
              "      <th>Accuracy</th>\n",
              "      <th>F1 score (macro)</th>\n",
              "    </tr>\n",
              "  </thead>\n",
              "  <tbody>\n",
              "    <tr>\n",
              "      <th>uniform</th>\n",
              "      <td>0.498945</td>\n",
              "      <td>0.459828</td>\n",
              "    </tr>\n",
              "    <tr>\n",
              "      <th>most frequent label</th>\n",
              "      <td>0.770464</td>\n",
              "      <td>0.435176</td>\n",
              "    </tr>\n",
              "    <tr>\n",
              "      <th>stratified</th>\n",
              "      <td>0.652391</td>\n",
              "      <td>0.499752</td>\n",
              "    </tr>\n",
              "    <tr>\n",
              "      <th>mlp_base</th>\n",
              "      <td>0.838608</td>\n",
              "      <td>0.709150</td>\n",
              "    </tr>\n",
              "    <tr>\n",
              "      <th>svc_linear_base</th>\n",
              "      <td>0.836381</td>\n",
              "      <td>0.734076</td>\n",
              "    </tr>\n",
              "    <tr>\n",
              "      <th>svc_rbf_base</th>\n",
              "      <td>0.784576</td>\n",
              "      <td>0.502189</td>\n",
              "    </tr>\n",
              "  </tbody>\n",
              "</table>\n",
              "</div>"
            ],
            "text/plain": [
              "                     Accuracy  F1 score (macro)\n",
              "uniform              0.498945          0.459828\n",
              "most frequent label  0.770464          0.435176\n",
              "stratified           0.652391          0.499752\n",
              "mlp_base             0.838608          0.709150\n",
              "svc_linear_base      0.836381          0.734076\n",
              "svc_rbf_base         0.784576          0.502189"
            ]
          },
          "metadata": {},
          "execution_count": 66
        },
        {
          "output_type": "display_data",
          "data": {
            "image/png": "[encoded data removed]",
            "text/plain": [
              "<Figure size 864x576 with 1 Axes>"
            ]
          },
          "metadata": {
            "needs_background": "light"
          }
        }
      ]
    },
    {
      "cell_type": "markdown",
      "metadata": {
        "id": "dFuqD1nUspxB"
      },
      "source": [
        "Σχολιασμός"
      ]
    },
    {
      "cell_type": "markdown",
      "metadata": {
        "id": "Vpp3hBs6sdp3"
      },
      "source": [
        "### Βελτιστοποίηση"
      ]
    },
    {
      "cell_type": "markdown",
      "metadata": {
        "id": "03tb1papTUY8"
      },
      "source": [
        "Θα γίνει αναζήτηση στο χώρο υπερπαραμέτρων μέσω Optuna για την εύρεση των υπερπαραμέτρων που μεγιστοποίουν την μετρική που επιλέξαμε ($f1_{score}$  macro). Η προεπεξεργασία των δεδομένων γίνεται μέσω του Pipeline που ορίζουμε, το οποίο περιέχει scaler (για την κανονικοποίηση των δεδομένων λόγω διαφορετικής κλίμακας τιμών), random under sampler (καθώς το dataset μας δεν είναι ισορροπημένο) και pca (για την μείωση της διάστασης εισόδου η οποία είναι αρκετά μεγάλη)."
      ]
    },
    {
      "cell_type": "markdown",
      "metadata": {
        "id": "1HbzAUHIUQt7"
      },
      "source": [
        "Θα πραγματοποιήσουμε καλύτερη προεπεξεργασία του dataset. Συγκεκριμένα αντί να κανουμε απλά map τα attributes που δεν είναι ints or boolean και δεν είναι ταξινομήσιμα σε ints έτσι ώστε να μπορεί να τρέξει οι μεθόσοι μας, θα δημιουργήσουμε dummy attributes για καθε τιμή."
      ]
    },
    {
      "cell_type": "code",
      "metadata": {
        "colab": {
          "base_uri": "https://localhost:8080/"
        },
        "id": "W2cxmcbQUTzV",
        "outputId": "f8f93b87-c40c-406c-83e5-93d9325a7285"
      },
      "source": [
        "dates = kaggle_df_improved['Date'].str.replace(\"-\",\"\").astype(int).values - 20000000\n",
        "month_days = np.remainder(dates, 10000)\n",
        "months = np.round(month_days / 100, 0)\n",
        "days = np.remainder(month_days, 100)\n",
        "\n",
        "kaggle_df_improved['Years'] = np.round(dates / 10000, 0)\n",
        "kaggle_df_improved['Months'] = months\n",
        "kaggle_df_improved['Days'] = days\n",
        "kaggle_df_improved = kaggle_df_improved.drop('Date', axis = 1)\n",
        "print(kaggle_df_improved)"
      ],
      "execution_count": 50,
      "outputs": [
        {
          "output_type": "stream",
          "name": "stdout",
          "text": [
            "       Location  MinTemp  MaxTemp  Rainfall  ...  RainTomorrow  Years Months  Days\n",
            "0        Albury     13.4     22.9       0.6  ...            No    8.0   12.0     1\n",
            "1        Albury      7.4     25.1       0.0  ...            No    8.0   12.0     2\n",
            "2        Albury     12.9     25.7       0.0  ...            No    8.0   12.0     3\n",
            "3        Albury      9.2     28.0       0.0  ...            No    8.0   12.0     4\n",
            "4        Albury     17.5     32.3       1.0  ...            No    8.0   12.0     5\n",
            "...         ...      ...      ...       ...  ...           ...    ...    ...   ...\n",
            "145454    Uluru      3.5     21.8       0.0  ...            No   17.0    6.0    20\n",
            "145455    Uluru      2.8     23.4       0.0  ...            No   17.0    6.0    21\n",
            "145456    Uluru      3.6     25.3       0.0  ...            No   17.0    6.0    22\n",
            "145457    Uluru      5.4     26.9       0.0  ...            No   17.0    6.0    23\n",
            "145458    Uluru      7.8     27.0       0.0  ...            No   17.0    6.0    24\n",
            "\n",
            "[142193 rows x 25 columns]\n"
          ]
        }
      ]
    },
    {
      "cell_type": "code",
      "metadata": {
        "id": "jBytqNlyUU8D"
      },
      "source": [
        "kaggle_df_improved = kaggle_df_improved[[\"Years\", \"Months\", \"Days\", \"Location\", \"MinTemp\", \"MaxTemp\", \"Rainfall\", \"Evaporation\",\n",
        "       \"Sunshine\", \"WindGustDir\", \"WindGustSpeed\", \"WindDir9am\", \"WindDir3pm\",\n",
        "       \"WindSpeed9am\", \"WindSpeed3pm\", \"Humidity9am\", \"Humidity3pm\",\n",
        "       \"Pressure9am\", \"Pressure3pm\", \"Cloud9am\", \"Cloud3pm\", \"Temp9am\",\n",
        "       \"Temp3pm\", \"RainToday\", \"RainTomorrow\"]]"
      ],
      "execution_count": 51,
      "outputs": []
    },
    {
      "cell_type": "code",
      "metadata": {
        "id": "ZPVPGHZkUXz_"
      },
      "source": [
        "bool_mapping = {'Yes':1, 'No':0}\n",
        "kaggle_df_improved['RainToday'] = kaggle_df_improved['RainToday'].map(bool_mapping)\n",
        "kaggle_df_improved['RainTomorrow'] = kaggle_df_improved['RainTomorrow'].map(bool_mapping)"
      ],
      "execution_count": 52,
      "outputs": []
    },
    {
      "cell_type": "code",
      "metadata": {
        "colab": {
          "base_uri": "https://localhost:8080/"
        },
        "id": "M9DxnYqBUZpe",
        "outputId": "c7e82917-7a3e-4ffc-ef6d-2af16e997968"
      },
      "source": [
        "kaggle_df_improved = pd.get_dummies(kaggle_df_improved, columns=['Location','WindGustDir','WindDir9am','WindDir3pm']).apply(pd.to_numeric)\n",
        "print(kaggle_df_improved)"
      ],
      "execution_count": 53,
      "outputs": [
        {
          "output_type": "stream",
          "name": "stdout",
          "text": [
            "        Years  Months  Days  ...  WindDir3pm_W  WindDir3pm_WNW  WindDir3pm_WSW\n",
            "0         8.0    12.0     1  ...             0               1               0\n",
            "1         8.0    12.0     2  ...             0               0               1\n",
            "2         8.0    12.0     3  ...             0               0               1\n",
            "3         8.0    12.0     4  ...             0               0               0\n",
            "4         8.0    12.0     5  ...             0               0               0\n",
            "...       ...     ...   ...  ...           ...             ...             ...\n",
            "145454   17.0     6.0    20  ...             0               0               0\n",
            "145455   17.0     6.0    21  ...             0               0               0\n",
            "145456   17.0     6.0    22  ...             0               0               0\n",
            "145457   17.0     6.0    23  ...             0               1               0\n",
            "145458   17.0     6.0    24  ...             0               0               0\n",
            "\n",
            "[142193 rows x 118 columns]\n"
          ]
        }
      ]
    },
    {
      "cell_type": "code",
      "metadata": {
        "colab": {
          "base_uri": "https://localhost:8080/",
          "height": 443
        },
        "id": "Wf8t16ffUdlw",
        "outputId": "3e33333a-9548-4abc-cb44-d9437fa9e4cc"
      },
      "source": [
        "kaggle_df_improved.replace('nan',np.NaN,inplace=True)\n",
        "imp=SimpleImputer(missing_values=np.NaN,strategy='mean')\n",
        "kaggle_df_improved = pd.DataFrame(imp.fit_transform(kaggle_df_improved), columns = kaggle_df_improved.columns, index = kaggle_df_improved.index)\n",
        "kaggle_df_improved"
      ],
      "execution_count": 54,
      "outputs": [
        {
          "output_type": "execute_result",
          "data": {
            "text/html": [
              "<div>\n",
              "<style scoped>\n",
              "    .dataframe tbody tr th:only-of-type {\n",
              "        vertical-align: middle;\n",
              "    }\n",
              "\n",
              "    .dataframe tbody tr th {\n",
              "        vertical-align: top;\n",
              "    }\n",
              "\n",
              "    .dataframe thead th {\n",
              "        text-align: right;\n",
              "    }\n",
              "</style>\n",
              "<table border=\"1\" class=\"dataframe\">\n",
              "  <thead>\n",
              "    <tr style=\"text-align: right;\">\n",
              "      <th></th>\n",
              "      <th>Years</th>\n",
              "      <th>Months</th>\n",
              "      <th>Days</th>\n",
              "      <th>MinTemp</th>\n",
              "      <th>MaxTemp</th>\n",
              "      <th>Rainfall</th>\n",
              "      <th>Evaporation</th>\n",
              "      <th>Sunshine</th>\n",
              "      <th>WindGustSpeed</th>\n",
              "      <th>WindSpeed9am</th>\n",
              "      <th>WindSpeed3pm</th>\n",
              "      <th>Humidity9am</th>\n",
              "      <th>Humidity3pm</th>\n",
              "      <th>Pressure9am</th>\n",
              "      <th>Pressure3pm</th>\n",
              "      <th>Cloud9am</th>\n",
              "      <th>Cloud3pm</th>\n",
              "      <th>Temp9am</th>\n",
              "      <th>Temp3pm</th>\n",
              "      <th>RainToday</th>\n",
              "      <th>RainTomorrow</th>\n",
              "      <th>Location_Adelaide</th>\n",
              "      <th>Location_Albany</th>\n",
              "      <th>Location_Albury</th>\n",
              "      <th>Location_AliceSprings</th>\n",
              "      <th>Location_BadgerysCreek</th>\n",
              "      <th>Location_Ballarat</th>\n",
              "      <th>Location_Bendigo</th>\n",
              "      <th>Location_Brisbane</th>\n",
              "      <th>Location_Cairns</th>\n",
              "      <th>Location_Canberra</th>\n",
              "      <th>Location_Cobar</th>\n",
              "      <th>Location_CoffsHarbour</th>\n",
              "      <th>Location_Dartmoor</th>\n",
              "      <th>Location_Darwin</th>\n",
              "      <th>Location_GoldCoast</th>\n",
              "      <th>Location_Hobart</th>\n",
              "      <th>Location_Katherine</th>\n",
              "      <th>Location_Launceston</th>\n",
              "      <th>Location_Melbourne</th>\n",
              "      <th>...</th>\n",
              "      <th>WindGustDir_S</th>\n",
              "      <th>WindGustDir_SE</th>\n",
              "      <th>WindGustDir_SSE</th>\n",
              "      <th>WindGustDir_SSW</th>\n",
              "      <th>WindGustDir_SW</th>\n",
              "      <th>WindGustDir_W</th>\n",
              "      <th>WindGustDir_WNW</th>\n",
              "      <th>WindGustDir_WSW</th>\n",
              "      <th>WindDir9am_E</th>\n",
              "      <th>WindDir9am_ENE</th>\n",
              "      <th>WindDir9am_ESE</th>\n",
              "      <th>WindDir9am_N</th>\n",
              "      <th>WindDir9am_NE</th>\n",
              "      <th>WindDir9am_NNE</th>\n",
              "      <th>WindDir9am_NNW</th>\n",
              "      <th>WindDir9am_NW</th>\n",
              "      <th>WindDir9am_S</th>\n",
              "      <th>WindDir9am_SE</th>\n",
              "      <th>WindDir9am_SSE</th>\n",
              "      <th>WindDir9am_SSW</th>\n",
              "      <th>WindDir9am_SW</th>\n",
              "      <th>WindDir9am_W</th>\n",
              "      <th>WindDir9am_WNW</th>\n",
              "      <th>WindDir9am_WSW</th>\n",
              "      <th>WindDir3pm_E</th>\n",
              "      <th>WindDir3pm_ENE</th>\n",
              "      <th>WindDir3pm_ESE</th>\n",
              "      <th>WindDir3pm_N</th>\n",
              "      <th>WindDir3pm_NE</th>\n",
              "      <th>WindDir3pm_NNE</th>\n",
              "      <th>WindDir3pm_NNW</th>\n",
              "      <th>WindDir3pm_NW</th>\n",
              "      <th>WindDir3pm_S</th>\n",
              "      <th>WindDir3pm_SE</th>\n",
              "      <th>WindDir3pm_SSE</th>\n",
              "      <th>WindDir3pm_SSW</th>\n",
              "      <th>WindDir3pm_SW</th>\n",
              "      <th>WindDir3pm_W</th>\n",
              "      <th>WindDir3pm_WNW</th>\n",
              "      <th>WindDir3pm_WSW</th>\n",
              "    </tr>\n",
              "  </thead>\n",
              "  <tbody>\n",
              "    <tr>\n",
              "      <th>0</th>\n",
              "      <td>8.0</td>\n",
              "      <td>12.0</td>\n",
              "      <td>1.0</td>\n",
              "      <td>13.4</td>\n",
              "      <td>22.9</td>\n",
              "      <td>0.6</td>\n",
              "      <td>5.469824</td>\n",
              "      <td>7.624853</td>\n",
              "      <td>44.0</td>\n",
              "      <td>20.0</td>\n",
              "      <td>24.0</td>\n",
              "      <td>71.0</td>\n",
              "      <td>22.0</td>\n",
              "      <td>1007.7</td>\n",
              "      <td>1007.1</td>\n",
              "      <td>8.000000</td>\n",
              "      <td>4.503167</td>\n",
              "      <td>16.9</td>\n",
              "      <td>21.8</td>\n",
              "      <td>0.0</td>\n",
              "      <td>0.0</td>\n",
              "      <td>0.0</td>\n",
              "      <td>0.0</td>\n",
              "      <td>1.0</td>\n",
              "      <td>0.0</td>\n",
              "      <td>0.0</td>\n",
              "      <td>0.0</td>\n",
              "      <td>0.0</td>\n",
              "      <td>0.0</td>\n",
              "      <td>0.0</td>\n",
              "      <td>0.0</td>\n",
              "      <td>0.0</td>\n",
              "      <td>0.0</td>\n",
              "      <td>0.0</td>\n",
              "      <td>0.0</td>\n",
              "      <td>0.0</td>\n",
              "      <td>0.0</td>\n",
              "      <td>0.0</td>\n",
              "      <td>0.0</td>\n",
              "      <td>0.0</td>\n",
              "      <td>...</td>\n",
              "      <td>0.0</td>\n",
              "      <td>0.0</td>\n",
              "      <td>0.0</td>\n",
              "      <td>0.0</td>\n",
              "      <td>0.0</td>\n",
              "      <td>1.0</td>\n",
              "      <td>0.0</td>\n",
              "      <td>0.0</td>\n",
              "      <td>0.0</td>\n",
              "      <td>0.0</td>\n",
              "      <td>0.0</td>\n",
              "      <td>0.0</td>\n",
              "      <td>0.0</td>\n",
              "      <td>0.0</td>\n",
              "      <td>0.0</td>\n",
              "      <td>0.0</td>\n",
              "      <td>0.0</td>\n",
              "      <td>0.0</td>\n",
              "      <td>0.0</td>\n",
              "      <td>0.0</td>\n",
              "      <td>0.0</td>\n",
              "      <td>1.0</td>\n",
              "      <td>0.0</td>\n",
              "      <td>0.0</td>\n",
              "      <td>0.0</td>\n",
              "      <td>0.0</td>\n",
              "      <td>0.0</td>\n",
              "      <td>0.0</td>\n",
              "      <td>0.0</td>\n",
              "      <td>0.0</td>\n",
              "      <td>0.0</td>\n",
              "      <td>0.0</td>\n",
              "      <td>0.0</td>\n",
              "      <td>0.0</td>\n",
              "      <td>0.0</td>\n",
              "      <td>0.0</td>\n",
              "      <td>0.0</td>\n",
              "      <td>0.0</td>\n",
              "      <td>1.0</td>\n",
              "      <td>0.0</td>\n",
              "    </tr>\n",
              "    <tr>\n",
              "      <th>1</th>\n",
              "      <td>8.0</td>\n",
              "      <td>12.0</td>\n",
              "      <td>2.0</td>\n",
              "      <td>7.4</td>\n",
              "      <td>25.1</td>\n",
              "      <td>0.0</td>\n",
              "      <td>5.469824</td>\n",
              "      <td>7.624853</td>\n",
              "      <td>44.0</td>\n",
              "      <td>4.0</td>\n",
              "      <td>22.0</td>\n",
              "      <td>44.0</td>\n",
              "      <td>25.0</td>\n",
              "      <td>1010.6</td>\n",
              "      <td>1007.8</td>\n",
              "      <td>4.437189</td>\n",
              "      <td>4.503167</td>\n",
              "      <td>17.2</td>\n",
              "      <td>24.3</td>\n",
              "      <td>0.0</td>\n",
              "      <td>0.0</td>\n",
              "      <td>0.0</td>\n",
              "      <td>0.0</td>\n",
              "      <td>1.0</td>\n",
              "      <td>0.0</td>\n",
              "      <td>0.0</td>\n",
              "      <td>0.0</td>\n",
              "      <td>0.0</td>\n",
              "      <td>0.0</td>\n",
              "      <td>0.0</td>\n",
              "      <td>0.0</td>\n",
              "      <td>0.0</td>\n",
              "      <td>0.0</td>\n",
              "      <td>0.0</td>\n",
              "      <td>0.0</td>\n",
              "      <td>0.0</td>\n",
              "      <td>0.0</td>\n",
              "      <td>0.0</td>\n",
              "      <td>0.0</td>\n",
              "      <td>0.0</td>\n",
              "      <td>...</td>\n",
              "      <td>0.0</td>\n",
              "      <td>0.0</td>\n",
              "      <td>0.0</td>\n",
              "      <td>0.0</td>\n",
              "      <td>0.0</td>\n",
              "      <td>0.0</td>\n",
              "      <td>1.0</td>\n",
              "      <td>0.0</td>\n",
              "      <td>0.0</td>\n",
              "      <td>0.0</td>\n",
              "      <td>0.0</td>\n",
              "      <td>0.0</td>\n",
              "      <td>0.0</td>\n",
              "      <td>0.0</td>\n",
              "      <td>1.0</td>\n",
              "      <td>0.0</td>\n",
              "      <td>0.0</td>\n",
              "      <td>0.0</td>\n",
              "      <td>0.0</td>\n",
              "      <td>0.0</td>\n",
              "      <td>0.0</td>\n",
              "      <td>0.0</td>\n",
              "      <td>0.0</td>\n",
              "      <td>0.0</td>\n",
              "      <td>0.0</td>\n",
              "      <td>0.0</td>\n",
              "      <td>0.0</td>\n",
              "      <td>0.0</td>\n",
              "      <td>0.0</td>\n",
              "      <td>0.0</td>\n",
              "      <td>0.0</td>\n",
              "      <td>0.0</td>\n",
              "      <td>0.0</td>\n",
              "      <td>0.0</td>\n",
              "      <td>0.0</td>\n",
              "      <td>0.0</td>\n",
              "      <td>0.0</td>\n",
              "      <td>0.0</td>\n",
              "      <td>0.0</td>\n",
              "      <td>1.0</td>\n",
              "    </tr>\n",
              "    <tr>\n",
              "      <th>2</th>\n",
              "      <td>8.0</td>\n",
              "      <td>12.0</td>\n",
              "      <td>3.0</td>\n",
              "      <td>12.9</td>\n",
              "      <td>25.7</td>\n",
              "      <td>0.0</td>\n",
              "      <td>5.469824</td>\n",
              "      <td>7.624853</td>\n",
              "      <td>46.0</td>\n",
              "      <td>19.0</td>\n",
              "      <td>26.0</td>\n",
              "      <td>38.0</td>\n",
              "      <td>30.0</td>\n",
              "      <td>1007.6</td>\n",
              "      <td>1008.7</td>\n",
              "      <td>4.437189</td>\n",
              "      <td>2.000000</td>\n",
              "      <td>21.0</td>\n",
              "      <td>23.2</td>\n",
              "      <td>0.0</td>\n",
              "      <td>0.0</td>\n",
              "      <td>0.0</td>\n",
              "      <td>0.0</td>\n",
              "      <td>1.0</td>\n",
              "      <td>0.0</td>\n",
              "      <td>0.0</td>\n",
              "      <td>0.0</td>\n",
              "      <td>0.0</td>\n",
              "      <td>0.0</td>\n",
              "      <td>0.0</td>\n",
              "      <td>0.0</td>\n",
              "      <td>0.0</td>\n",
              "      <td>0.0</td>\n",
              "      <td>0.0</td>\n",
              "      <td>0.0</td>\n",
              "      <td>0.0</td>\n",
              "      <td>0.0</td>\n",
              "      <td>0.0</td>\n",
              "      <td>0.0</td>\n",
              "      <td>0.0</td>\n",
              "      <td>...</td>\n",
              "      <td>0.0</td>\n",
              "      <td>0.0</td>\n",
              "      <td>0.0</td>\n",
              "      <td>0.0</td>\n",
              "      <td>0.0</td>\n",
              "      <td>0.0</td>\n",
              "      <td>0.0</td>\n",
              "      <td>1.0</td>\n",
              "      <td>0.0</td>\n",
              "      <td>0.0</td>\n",
              "      <td>0.0</td>\n",
              "      <td>0.0</td>\n",
              "      <td>0.0</td>\n",
              "      <td>0.0</td>\n",
              "      <td>0.0</td>\n",
              "      <td>0.0</td>\n",
              "      <td>0.0</td>\n",
              "      <td>0.0</td>\n",
              "      <td>0.0</td>\n",
              "      <td>0.0</td>\n",
              "      <td>0.0</td>\n",
              "      <td>1.0</td>\n",
              "      <td>0.0</td>\n",
              "      <td>0.0</td>\n",
              "      <td>0.0</td>\n",
              "      <td>0.0</td>\n",
              "      <td>0.0</td>\n",
              "      <td>0.0</td>\n",
              "      <td>0.0</td>\n",
              "      <td>0.0</td>\n",
              "      <td>0.0</td>\n",
              "      <td>0.0</td>\n",
              "      <td>0.0</td>\n",
              "      <td>0.0</td>\n",
              "      <td>0.0</td>\n",
              "      <td>0.0</td>\n",
              "      <td>0.0</td>\n",
              "      <td>0.0</td>\n",
              "      <td>0.0</td>\n",
              "      <td>1.0</td>\n",
              "    </tr>\n",
              "    <tr>\n",
              "      <th>3</th>\n",
              "      <td>8.0</td>\n",
              "      <td>12.0</td>\n",
              "      <td>4.0</td>\n",
              "      <td>9.2</td>\n",
              "      <td>28.0</td>\n",
              "      <td>0.0</td>\n",
              "      <td>5.469824</td>\n",
              "      <td>7.624853</td>\n",
              "      <td>24.0</td>\n",
              "      <td>11.0</td>\n",
              "      <td>9.0</td>\n",
              "      <td>45.0</td>\n",
              "      <td>16.0</td>\n",
              "      <td>1017.6</td>\n",
              "      <td>1012.8</td>\n",
              "      <td>4.437189</td>\n",
              "      <td>4.503167</td>\n",
              "      <td>18.1</td>\n",
              "      <td>26.5</td>\n",
              "      <td>0.0</td>\n",
              "      <td>0.0</td>\n",
              "      <td>0.0</td>\n",
              "      <td>0.0</td>\n",
              "      <td>1.0</td>\n",
              "      <td>0.0</td>\n",
              "      <td>0.0</td>\n",
              "      <td>0.0</td>\n",
              "      <td>0.0</td>\n",
              "      <td>0.0</td>\n",
              "      <td>0.0</td>\n",
              "      <td>0.0</td>\n",
              "      <td>0.0</td>\n",
              "      <td>0.0</td>\n",
              "      <td>0.0</td>\n",
              "      <td>0.0</td>\n",
              "      <td>0.0</td>\n",
              "      <td>0.0</td>\n",
              "      <td>0.0</td>\n",
              "      <td>0.0</td>\n",
              "      <td>0.0</td>\n",
              "      <td>...</td>\n",
              "      <td>0.0</td>\n",
              "      <td>0.0</td>\n",
              "      <td>0.0</td>\n",
              "      <td>0.0</td>\n",
              "      <td>0.0</td>\n",
              "      <td>0.0</td>\n",
              "      <td>0.0</td>\n",
              "      <td>0.0</td>\n",
              "      <td>0.0</td>\n",
              "      <td>0.0</td>\n",
              "      <td>0.0</td>\n",
              "      <td>0.0</td>\n",
              "      <td>0.0</td>\n",
              "      <td>0.0</td>\n",
              "      <td>0.0</td>\n",
              "      <td>0.0</td>\n",
              "      <td>0.0</td>\n",
              "      <td>1.0</td>\n",
              "      <td>0.0</td>\n",
              "      <td>0.0</td>\n",
              "      <td>0.0</td>\n",
              "      <td>0.0</td>\n",
              "      <td>0.0</td>\n",
              "      <td>0.0</td>\n",
              "      <td>1.0</td>\n",
              "      <td>0.0</td>\n",
              "      <td>0.0</td>\n",
              "      <td>0.0</td>\n",
              "      <td>0.0</td>\n",
              "      <td>0.0</td>\n",
              "      <td>0.0</td>\n",
              "      <td>0.0</td>\n",
              "      <td>0.0</td>\n",
              "      <td>0.0</td>\n",
              "      <td>0.0</td>\n",
              "      <td>0.0</td>\n",
              "      <td>0.0</td>\n",
              "      <td>0.0</td>\n",
              "      <td>0.0</td>\n",
              "      <td>0.0</td>\n",
              "    </tr>\n",
              "    <tr>\n",
              "      <th>4</th>\n",
              "      <td>8.0</td>\n",
              "      <td>12.0</td>\n",
              "      <td>5.0</td>\n",
              "      <td>17.5</td>\n",
              "      <td>32.3</td>\n",
              "      <td>1.0</td>\n",
              "      <td>5.469824</td>\n",
              "      <td>7.624853</td>\n",
              "      <td>41.0</td>\n",
              "      <td>7.0</td>\n",
              "      <td>20.0</td>\n",
              "      <td>82.0</td>\n",
              "      <td>33.0</td>\n",
              "      <td>1010.8</td>\n",
              "      <td>1006.0</td>\n",
              "      <td>7.000000</td>\n",
              "      <td>8.000000</td>\n",
              "      <td>17.8</td>\n",
              "      <td>29.7</td>\n",
              "      <td>0.0</td>\n",
              "      <td>0.0</td>\n",
              "      <td>0.0</td>\n",
              "      <td>0.0</td>\n",
              "      <td>1.0</td>\n",
              "      <td>0.0</td>\n",
              "      <td>0.0</td>\n",
              "      <td>0.0</td>\n",
              "      <td>0.0</td>\n",
              "      <td>0.0</td>\n",
              "      <td>0.0</td>\n",
              "      <td>0.0</td>\n",
              "      <td>0.0</td>\n",
              "      <td>0.0</td>\n",
              "      <td>0.0</td>\n",
              "      <td>0.0</td>\n",
              "      <td>0.0</td>\n",
              "      <td>0.0</td>\n",
              "      <td>0.0</td>\n",
              "      <td>0.0</td>\n",
              "      <td>0.0</td>\n",
              "      <td>...</td>\n",
              "      <td>0.0</td>\n",
              "      <td>0.0</td>\n",
              "      <td>0.0</td>\n",
              "      <td>0.0</td>\n",
              "      <td>0.0</td>\n",
              "      <td>1.0</td>\n",
              "      <td>0.0</td>\n",
              "      <td>0.0</td>\n",
              "      <td>0.0</td>\n",
              "      <td>1.0</td>\n",
              "      <td>0.0</td>\n",
              "      <td>0.0</td>\n",
              "      <td>0.0</td>\n",
              "      <td>0.0</td>\n",
              "      <td>0.0</td>\n",
              "      <td>0.0</td>\n",
              "      <td>0.0</td>\n",
              "      <td>0.0</td>\n",
              "      <td>0.0</td>\n",
              "      <td>0.0</td>\n",
              "      <td>0.0</td>\n",
              "      <td>0.0</td>\n",
              "      <td>0.0</td>\n",
              "      <td>0.0</td>\n",
              "      <td>0.0</td>\n",
              "      <td>0.0</td>\n",
              "      <td>0.0</td>\n",
              "      <td>0.0</td>\n",
              "      <td>0.0</td>\n",
              "      <td>0.0</td>\n",
              "      <td>0.0</td>\n",
              "      <td>1.0</td>\n",
              "      <td>0.0</td>\n",
              "      <td>0.0</td>\n",
              "      <td>0.0</td>\n",
              "      <td>0.0</td>\n",
              "      <td>0.0</td>\n",
              "      <td>0.0</td>\n",
              "      <td>0.0</td>\n",
              "      <td>0.0</td>\n",
              "    </tr>\n",
              "    <tr>\n",
              "      <th>...</th>\n",
              "      <td>...</td>\n",
              "      <td>...</td>\n",
              "      <td>...</td>\n",
              "      <td>...</td>\n",
              "      <td>...</td>\n",
              "      <td>...</td>\n",
              "      <td>...</td>\n",
              "      <td>...</td>\n",
              "      <td>...</td>\n",
              "      <td>...</td>\n",
              "      <td>...</td>\n",
              "      <td>...</td>\n",
              "      <td>...</td>\n",
              "      <td>...</td>\n",
              "      <td>...</td>\n",
              "      <td>...</td>\n",
              "      <td>...</td>\n",
              "      <td>...</td>\n",
              "      <td>...</td>\n",
              "      <td>...</td>\n",
              "      <td>...</td>\n",
              "      <td>...</td>\n",
              "      <td>...</td>\n",
              "      <td>...</td>\n",
              "      <td>...</td>\n",
              "      <td>...</td>\n",
              "      <td>...</td>\n",
              "      <td>...</td>\n",
              "      <td>...</td>\n",
              "      <td>...</td>\n",
              "      <td>...</td>\n",
              "      <td>...</td>\n",
              "      <td>...</td>\n",
              "      <td>...</td>\n",
              "      <td>...</td>\n",
              "      <td>...</td>\n",
              "      <td>...</td>\n",
              "      <td>...</td>\n",
              "      <td>...</td>\n",
              "      <td>...</td>\n",
              "      <td>...</td>\n",
              "      <td>...</td>\n",
              "      <td>...</td>\n",
              "      <td>...</td>\n",
              "      <td>...</td>\n",
              "      <td>...</td>\n",
              "      <td>...</td>\n",
              "      <td>...</td>\n",
              "      <td>...</td>\n",
              "      <td>...</td>\n",
              "      <td>...</td>\n",
              "      <td>...</td>\n",
              "      <td>...</td>\n",
              "      <td>...</td>\n",
              "      <td>...</td>\n",
              "      <td>...</td>\n",
              "      <td>...</td>\n",
              "      <td>...</td>\n",
              "      <td>...</td>\n",
              "      <td>...</td>\n",
              "      <td>...</td>\n",
              "      <td>...</td>\n",
              "      <td>...</td>\n",
              "      <td>...</td>\n",
              "      <td>...</td>\n",
              "      <td>...</td>\n",
              "      <td>...</td>\n",
              "      <td>...</td>\n",
              "      <td>...</td>\n",
              "      <td>...</td>\n",
              "      <td>...</td>\n",
              "      <td>...</td>\n",
              "      <td>...</td>\n",
              "      <td>...</td>\n",
              "      <td>...</td>\n",
              "      <td>...</td>\n",
              "      <td>...</td>\n",
              "      <td>...</td>\n",
              "      <td>...</td>\n",
              "      <td>...</td>\n",
              "      <td>...</td>\n",
              "    </tr>\n",
              "    <tr>\n",
              "      <th>145454</th>\n",
              "      <td>17.0</td>\n",
              "      <td>6.0</td>\n",
              "      <td>20.0</td>\n",
              "      <td>3.5</td>\n",
              "      <td>21.8</td>\n",
              "      <td>0.0</td>\n",
              "      <td>5.469824</td>\n",
              "      <td>7.624853</td>\n",
              "      <td>31.0</td>\n",
              "      <td>15.0</td>\n",
              "      <td>13.0</td>\n",
              "      <td>59.0</td>\n",
              "      <td>27.0</td>\n",
              "      <td>1024.7</td>\n",
              "      <td>1021.2</td>\n",
              "      <td>4.437189</td>\n",
              "      <td>4.503167</td>\n",
              "      <td>9.4</td>\n",
              "      <td>20.9</td>\n",
              "      <td>0.0</td>\n",
              "      <td>0.0</td>\n",
              "      <td>0.0</td>\n",
              "      <td>0.0</td>\n",
              "      <td>0.0</td>\n",
              "      <td>0.0</td>\n",
              "      <td>0.0</td>\n",
              "      <td>0.0</td>\n",
              "      <td>0.0</td>\n",
              "      <td>0.0</td>\n",
              "      <td>0.0</td>\n",
              "      <td>0.0</td>\n",
              "      <td>0.0</td>\n",
              "      <td>0.0</td>\n",
              "      <td>0.0</td>\n",
              "      <td>0.0</td>\n",
              "      <td>0.0</td>\n",
              "      <td>0.0</td>\n",
              "      <td>0.0</td>\n",
              "      <td>0.0</td>\n",
              "      <td>0.0</td>\n",
              "      <td>...</td>\n",
              "      <td>0.0</td>\n",
              "      <td>0.0</td>\n",
              "      <td>0.0</td>\n",
              "      <td>0.0</td>\n",
              "      <td>0.0</td>\n",
              "      <td>0.0</td>\n",
              "      <td>0.0</td>\n",
              "      <td>0.0</td>\n",
              "      <td>0.0</td>\n",
              "      <td>0.0</td>\n",
              "      <td>1.0</td>\n",
              "      <td>0.0</td>\n",
              "      <td>0.0</td>\n",
              "      <td>0.0</td>\n",
              "      <td>0.0</td>\n",
              "      <td>0.0</td>\n",
              "      <td>0.0</td>\n",
              "      <td>0.0</td>\n",
              "      <td>0.0</td>\n",
              "      <td>0.0</td>\n",
              "      <td>0.0</td>\n",
              "      <td>0.0</td>\n",
              "      <td>0.0</td>\n",
              "      <td>0.0</td>\n",
              "      <td>1.0</td>\n",
              "      <td>0.0</td>\n",
              "      <td>0.0</td>\n",
              "      <td>0.0</td>\n",
              "      <td>0.0</td>\n",
              "      <td>0.0</td>\n",
              "      <td>0.0</td>\n",
              "      <td>0.0</td>\n",
              "      <td>0.0</td>\n",
              "      <td>0.0</td>\n",
              "      <td>0.0</td>\n",
              "      <td>0.0</td>\n",
              "      <td>0.0</td>\n",
              "      <td>0.0</td>\n",
              "      <td>0.0</td>\n",
              "      <td>0.0</td>\n",
              "    </tr>\n",
              "    <tr>\n",
              "      <th>145455</th>\n",
              "      <td>17.0</td>\n",
              "      <td>6.0</td>\n",
              "      <td>21.0</td>\n",
              "      <td>2.8</td>\n",
              "      <td>23.4</td>\n",
              "      <td>0.0</td>\n",
              "      <td>5.469824</td>\n",
              "      <td>7.624853</td>\n",
              "      <td>31.0</td>\n",
              "      <td>13.0</td>\n",
              "      <td>11.0</td>\n",
              "      <td>51.0</td>\n",
              "      <td>24.0</td>\n",
              "      <td>1024.6</td>\n",
              "      <td>1020.3</td>\n",
              "      <td>4.437189</td>\n",
              "      <td>4.503167</td>\n",
              "      <td>10.1</td>\n",
              "      <td>22.4</td>\n",
              "      <td>0.0</td>\n",
              "      <td>0.0</td>\n",
              "      <td>0.0</td>\n",
              "      <td>0.0</td>\n",
              "      <td>0.0</td>\n",
              "      <td>0.0</td>\n",
              "      <td>0.0</td>\n",
              "      <td>0.0</td>\n",
              "      <td>0.0</td>\n",
              "      <td>0.0</td>\n",
              "      <td>0.0</td>\n",
              "      <td>0.0</td>\n",
              "      <td>0.0</td>\n",
              "      <td>0.0</td>\n",
              "      <td>0.0</td>\n",
              "      <td>0.0</td>\n",
              "      <td>0.0</td>\n",
              "      <td>0.0</td>\n",
              "      <td>0.0</td>\n",
              "      <td>0.0</td>\n",
              "      <td>0.0</td>\n",
              "      <td>...</td>\n",
              "      <td>0.0</td>\n",
              "      <td>0.0</td>\n",
              "      <td>0.0</td>\n",
              "      <td>0.0</td>\n",
              "      <td>0.0</td>\n",
              "      <td>0.0</td>\n",
              "      <td>0.0</td>\n",
              "      <td>0.0</td>\n",
              "      <td>0.0</td>\n",
              "      <td>0.0</td>\n",
              "      <td>0.0</td>\n",
              "      <td>0.0</td>\n",
              "      <td>0.0</td>\n",
              "      <td>0.0</td>\n",
              "      <td>0.0</td>\n",
              "      <td>0.0</td>\n",
              "      <td>0.0</td>\n",
              "      <td>1.0</td>\n",
              "      <td>0.0</td>\n",
              "      <td>0.0</td>\n",
              "      <td>0.0</td>\n",
              "      <td>0.0</td>\n",
              "      <td>0.0</td>\n",
              "      <td>0.0</td>\n",
              "      <td>0.0</td>\n",
              "      <td>1.0</td>\n",
              "      <td>0.0</td>\n",
              "      <td>0.0</td>\n",
              "      <td>0.0</td>\n",
              "      <td>0.0</td>\n",
              "      <td>0.0</td>\n",
              "      <td>0.0</td>\n",
              "      <td>0.0</td>\n",
              "      <td>0.0</td>\n",
              "      <td>0.0</td>\n",
              "      <td>0.0</td>\n",
              "      <td>0.0</td>\n",
              "      <td>0.0</td>\n",
              "      <td>0.0</td>\n",
              "      <td>0.0</td>\n",
              "    </tr>\n",
              "    <tr>\n",
              "      <th>145456</th>\n",
              "      <td>17.0</td>\n",
              "      <td>6.0</td>\n",
              "      <td>22.0</td>\n",
              "      <td>3.6</td>\n",
              "      <td>25.3</td>\n",
              "      <td>0.0</td>\n",
              "      <td>5.469824</td>\n",
              "      <td>7.624853</td>\n",
              "      <td>22.0</td>\n",
              "      <td>13.0</td>\n",
              "      <td>9.0</td>\n",
              "      <td>56.0</td>\n",
              "      <td>21.0</td>\n",
              "      <td>1023.5</td>\n",
              "      <td>1019.1</td>\n",
              "      <td>4.437189</td>\n",
              "      <td>4.503167</td>\n",
              "      <td>10.9</td>\n",
              "      <td>24.5</td>\n",
              "      <td>0.0</td>\n",
              "      <td>0.0</td>\n",
              "      <td>0.0</td>\n",
              "      <td>0.0</td>\n",
              "      <td>0.0</td>\n",
              "      <td>0.0</td>\n",
              "      <td>0.0</td>\n",
              "      <td>0.0</td>\n",
              "      <td>0.0</td>\n",
              "      <td>0.0</td>\n",
              "      <td>0.0</td>\n",
              "      <td>0.0</td>\n",
              "      <td>0.0</td>\n",
              "      <td>0.0</td>\n",
              "      <td>0.0</td>\n",
              "      <td>0.0</td>\n",
              "      <td>0.0</td>\n",
              "      <td>0.0</td>\n",
              "      <td>0.0</td>\n",
              "      <td>0.0</td>\n",
              "      <td>0.0</td>\n",
              "      <td>...</td>\n",
              "      <td>0.0</td>\n",
              "      <td>0.0</td>\n",
              "      <td>0.0</td>\n",
              "      <td>0.0</td>\n",
              "      <td>0.0</td>\n",
              "      <td>0.0</td>\n",
              "      <td>0.0</td>\n",
              "      <td>0.0</td>\n",
              "      <td>0.0</td>\n",
              "      <td>0.0</td>\n",
              "      <td>0.0</td>\n",
              "      <td>0.0</td>\n",
              "      <td>0.0</td>\n",
              "      <td>0.0</td>\n",
              "      <td>0.0</td>\n",
              "      <td>0.0</td>\n",
              "      <td>0.0</td>\n",
              "      <td>1.0</td>\n",
              "      <td>0.0</td>\n",
              "      <td>0.0</td>\n",
              "      <td>0.0</td>\n",
              "      <td>0.0</td>\n",
              "      <td>0.0</td>\n",
              "      <td>0.0</td>\n",
              "      <td>0.0</td>\n",
              "      <td>0.0</td>\n",
              "      <td>0.0</td>\n",
              "      <td>1.0</td>\n",
              "      <td>0.0</td>\n",
              "      <td>0.0</td>\n",
              "      <td>0.0</td>\n",
              "      <td>0.0</td>\n",
              "      <td>0.0</td>\n",
              "      <td>0.0</td>\n",
              "      <td>0.0</td>\n",
              "      <td>0.0</td>\n",
              "      <td>0.0</td>\n",
              "      <td>0.0</td>\n",
              "      <td>0.0</td>\n",
              "      <td>0.0</td>\n",
              "    </tr>\n",
              "    <tr>\n",
              "      <th>145457</th>\n",
              "      <td>17.0</td>\n",
              "      <td>6.0</td>\n",
              "      <td>23.0</td>\n",
              "      <td>5.4</td>\n",
              "      <td>26.9</td>\n",
              "      <td>0.0</td>\n",
              "      <td>5.469824</td>\n",
              "      <td>7.624853</td>\n",
              "      <td>37.0</td>\n",
              "      <td>9.0</td>\n",
              "      <td>9.0</td>\n",
              "      <td>53.0</td>\n",
              "      <td>24.0</td>\n",
              "      <td>1021.0</td>\n",
              "      <td>1016.8</td>\n",
              "      <td>4.437189</td>\n",
              "      <td>4.503167</td>\n",
              "      <td>12.5</td>\n",
              "      <td>26.1</td>\n",
              "      <td>0.0</td>\n",
              "      <td>0.0</td>\n",
              "      <td>0.0</td>\n",
              "      <td>0.0</td>\n",
              "      <td>0.0</td>\n",
              "      <td>0.0</td>\n",
              "      <td>0.0</td>\n",
              "      <td>0.0</td>\n",
              "      <td>0.0</td>\n",
              "      <td>0.0</td>\n",
              "      <td>0.0</td>\n",
              "      <td>0.0</td>\n",
              "      <td>0.0</td>\n",
              "      <td>0.0</td>\n",
              "      <td>0.0</td>\n",
              "      <td>0.0</td>\n",
              "      <td>0.0</td>\n",
              "      <td>0.0</td>\n",
              "      <td>0.0</td>\n",
              "      <td>0.0</td>\n",
              "      <td>0.0</td>\n",
              "      <td>...</td>\n",
              "      <td>0.0</td>\n",
              "      <td>0.0</td>\n",
              "      <td>0.0</td>\n",
              "      <td>0.0</td>\n",
              "      <td>0.0</td>\n",
              "      <td>0.0</td>\n",
              "      <td>0.0</td>\n",
              "      <td>0.0</td>\n",
              "      <td>0.0</td>\n",
              "      <td>0.0</td>\n",
              "      <td>0.0</td>\n",
              "      <td>0.0</td>\n",
              "      <td>0.0</td>\n",
              "      <td>0.0</td>\n",
              "      <td>0.0</td>\n",
              "      <td>0.0</td>\n",
              "      <td>0.0</td>\n",
              "      <td>1.0</td>\n",
              "      <td>0.0</td>\n",
              "      <td>0.0</td>\n",
              "      <td>0.0</td>\n",
              "      <td>0.0</td>\n",
              "      <td>0.0</td>\n",
              "      <td>0.0</td>\n",
              "      <td>0.0</td>\n",
              "      <td>0.0</td>\n",
              "      <td>0.0</td>\n",
              "      <td>0.0</td>\n",
              "      <td>0.0</td>\n",
              "      <td>0.0</td>\n",
              "      <td>0.0</td>\n",
              "      <td>0.0</td>\n",
              "      <td>0.0</td>\n",
              "      <td>0.0</td>\n",
              "      <td>0.0</td>\n",
              "      <td>0.0</td>\n",
              "      <td>0.0</td>\n",
              "      <td>0.0</td>\n",
              "      <td>1.0</td>\n",
              "      <td>0.0</td>\n",
              "    </tr>\n",
              "    <tr>\n",
              "      <th>145458</th>\n",
              "      <td>17.0</td>\n",
              "      <td>6.0</td>\n",
              "      <td>24.0</td>\n",
              "      <td>7.8</td>\n",
              "      <td>27.0</td>\n",
              "      <td>0.0</td>\n",
              "      <td>5.469824</td>\n",
              "      <td>7.624853</td>\n",
              "      <td>28.0</td>\n",
              "      <td>13.0</td>\n",
              "      <td>7.0</td>\n",
              "      <td>51.0</td>\n",
              "      <td>24.0</td>\n",
              "      <td>1019.4</td>\n",
              "      <td>1016.5</td>\n",
              "      <td>3.000000</td>\n",
              "      <td>2.000000</td>\n",
              "      <td>15.1</td>\n",
              "      <td>26.0</td>\n",
              "      <td>0.0</td>\n",
              "      <td>0.0</td>\n",
              "      <td>0.0</td>\n",
              "      <td>0.0</td>\n",
              "      <td>0.0</td>\n",
              "      <td>0.0</td>\n",
              "      <td>0.0</td>\n",
              "      <td>0.0</td>\n",
              "      <td>0.0</td>\n",
              "      <td>0.0</td>\n",
              "      <td>0.0</td>\n",
              "      <td>0.0</td>\n",
              "      <td>0.0</td>\n",
              "      <td>0.0</td>\n",
              "      <td>0.0</td>\n",
              "      <td>0.0</td>\n",
              "      <td>0.0</td>\n",
              "      <td>0.0</td>\n",
              "      <td>0.0</td>\n",
              "      <td>0.0</td>\n",
              "      <td>0.0</td>\n",
              "      <td>...</td>\n",
              "      <td>0.0</td>\n",
              "      <td>1.0</td>\n",
              "      <td>0.0</td>\n",
              "      <td>0.0</td>\n",
              "      <td>0.0</td>\n",
              "      <td>0.0</td>\n",
              "      <td>0.0</td>\n",
              "      <td>0.0</td>\n",
              "      <td>0.0</td>\n",
              "      <td>0.0</td>\n",
              "      <td>0.0</td>\n",
              "      <td>0.0</td>\n",
              "      <td>0.0</td>\n",
              "      <td>0.0</td>\n",
              "      <td>0.0</td>\n",
              "      <td>0.0</td>\n",
              "      <td>0.0</td>\n",
              "      <td>0.0</td>\n",
              "      <td>1.0</td>\n",
              "      <td>0.0</td>\n",
              "      <td>0.0</td>\n",
              "      <td>0.0</td>\n",
              "      <td>0.0</td>\n",
              "      <td>0.0</td>\n",
              "      <td>0.0</td>\n",
              "      <td>0.0</td>\n",
              "      <td>0.0</td>\n",
              "      <td>1.0</td>\n",
              "      <td>0.0</td>\n",
              "      <td>0.0</td>\n",
              "      <td>0.0</td>\n",
              "      <td>0.0</td>\n",
              "      <td>0.0</td>\n",
              "      <td>0.0</td>\n",
              "      <td>0.0</td>\n",
              "      <td>0.0</td>\n",
              "      <td>0.0</td>\n",
              "      <td>0.0</td>\n",
              "      <td>0.0</td>\n",
              "      <td>0.0</td>\n",
              "    </tr>\n",
              "  </tbody>\n",
              "</table>\n",
              "<p>142193 rows × 118 columns</p>\n",
              "</div>"
            ],
            "text/plain": [
              "        Years  Months  Days  ...  WindDir3pm_W  WindDir3pm_WNW  WindDir3pm_WSW\n",
              "0         8.0    12.0   1.0  ...           0.0             1.0             0.0\n",
              "1         8.0    12.0   2.0  ...           0.0             0.0             1.0\n",
              "2         8.0    12.0   3.0  ...           0.0             0.0             1.0\n",
              "3         8.0    12.0   4.0  ...           0.0             0.0             0.0\n",
              "4         8.0    12.0   5.0  ...           0.0             0.0             0.0\n",
              "...       ...     ...   ...  ...           ...             ...             ...\n",
              "145454   17.0     6.0  20.0  ...           0.0             0.0             0.0\n",
              "145455   17.0     6.0  21.0  ...           0.0             0.0             0.0\n",
              "145456   17.0     6.0  22.0  ...           0.0             0.0             0.0\n",
              "145457   17.0     6.0  23.0  ...           0.0             1.0             0.0\n",
              "145458   17.0     6.0  24.0  ...           0.0             0.0             0.0\n",
              "\n",
              "[142193 rows x 118 columns]"
            ]
          },
          "metadata": {},
          "execution_count": 54
        }
      ]
    },
    {
      "cell_type": "code",
      "metadata": {
        "colab": {
          "base_uri": "https://localhost:8080/"
        },
        "id": "D-nUKPUfUgO7",
        "outputId": "20bd245e-cbdd-4039-b34f-f10610031523"
      },
      "source": [
        "data = kaggle_df_improved.values\n",
        "features = data[:,:-1]\n",
        "labels = data[:,-1]\n",
        "x_train, x_test, y_train, y_test = train_test_split(features, labels, test_size=0.1, shuffle=True)\n",
        "\n",
        "print(f'Train data shape: {x_train.shape}')\n",
        "print(f'Train labels shape: {y_train.shape}')\n",
        "print(f'Test data shape: {x_test.shape}')\n",
        "print(f'Test labels shape: {y_test.shape}')"
      ],
      "execution_count": 55,
      "outputs": [
        {
          "output_type": "stream",
          "name": "stdout",
          "text": [
            "Train data shape: (127973, 117)\n",
            "Train labels shape: (127973,)\n",
            "Test data shape: (14220, 117)\n",
            "Test labels shape: (14220,)\n"
          ]
        }
      ]
    },
    {
      "cell_type": "markdown",
      "metadata": {
        "id": "EF88uekyaZAe"
      },
      "source": [
        "#### Multy-Layer Perceptron"
      ]
    },
    {
      "cell_type": "markdown",
      "metadata": {
        "id": "0S2k9FhQjhdE"
      },
      "source": [
        "Οι υπερπαράμετροι του MLP που θα μελετηθούν είναι οι εξής : \n",
        "\n",
        "*   learning rate : Αποτελεί την σημαντικότερη υπερπαράμετρο για έναν MLP και για τον λόγο αυτό θα μελετηθεί τόσο η αρχική τιμή του στο διάστημα (0.0005, 0.005) (default τιμή = 0.001), όσο και ο τύπος του learning rate (constant - παραμένει σταθερό, adaptive - μειώνεται αν δεν βελτιώνεται η εκπαίδευση).\n",
        "\n",
        "*   functional units : Μελετάμε τιμές στο διάστημα [100, 250], καθώς η default τιμή είναι 100 και αυξάνοντας τον αριθμό των functional unit ευελπιστούμε σε αύξηση της επίδοσης. \n",
        "\n",
        "*   activation function : Το συγκεκριμένο πρόβλημα είναι ένα binary classification πρόβλημα οπότε μελετάμε τα activation functions = tanh, logistic (sigmoid), τα οποία είναι τα πιο ταιριαστά για τέτοιο τύπου προβλήματος.\n",
        "\n",
        "*   alpha : Με σκοπό την αποφυγή overfitting θα μελετηθούν διαφορετικές τιμές penalty (alpha) κατά το regularization.\n",
        "\n",
        "Επιλέγουμε 2 hidden layers (πιο βαθύ νευρωνικό από το default που περιέχει 1 hidden layer) και όσον αφορά τα max iterations επιλέγουμε μεγάλο αριθμό επαναλήψεων και χρησιμοποιούμε early stopping, το οποίο σταματάει την διαδικασία εκπαίδευσης όταν η απόδοση στο testing set σταματάει να βελτιώνεται (αποφεύγοντας έτσι το overfitting).  "
      ]
    },
    {
      "cell_type": "code",
      "metadata": {
        "id": "JWohcPK7uOUB"
      },
      "source": [
        "def mlp_objective(trial):\n",
        "\n",
        "    scaler = StandardScaler()\n",
        "    rus = RandomUnderSampler()\n",
        "\n",
        "    #components = trial.suggest_int('pca_components', 10, 22)\n",
        "    #pca = PCA(n_components= components)\n",
        "\n",
        "    lr_types = trial.suggest_categorical('lr_type', ['constant', 'adaptive'])\n",
        "    learning_rates = trial.suggest_float('learning_rate',  0.0005, 0.01, step = 0.0001)\n",
        "    alphas = trial.suggest_float('alpha', 1e-5, 1e-1, step = 1e-6)\n",
        "    activations = trial.suggest_categorical('activation', ['logistic', 'relu'])\n",
        "    solvers = trial.suggest_categorical('solver', ['lbfgs', 'adam'])\n",
        "\n",
        "    layers_sizes = []\n",
        "    for i in range(2):\n",
        "        layers_sizes.append(trial.suggest_int(f'n_units_{i}', 100, 250, step = 10))\n",
        "\n",
        "    clf = MLPClassifier(hidden_layer_sizes=tuple(layers_sizes), activation = activations, solver = solvers,\n",
        "                        max_iter = 300, learning_rate_init = learning_rates,\n",
        "                        learning_rate = lr_types, early_stopping = True)\n",
        "    \n",
        "    pipe = Pipeline(steps=[('scaler', scaler), ('sampler', rus),  ('mlp', clf)])\n",
        "    \n",
        "    pipe.fit(x_train, y_train)\n",
        "    preds = pipe.predict(x_test)\n",
        "    goal = f1_score(y_test,preds, average= 'macro')\n",
        "\n",
        "    return goal"
      ],
      "execution_count": 102,
      "outputs": []
    },
    {
      "cell_type": "code",
      "metadata": {
        "colab": {
          "base_uri": "https://localhost:8080/"
        },
        "id": "Ju1VS6Tjj6gC",
        "outputId": "86a10625-a71a-46f5-b656-8f1f66bd4ae8"
      },
      "source": [
        "mlp_study = optuna.create_study(direction='maximize')\n",
        "mlp_study.optimize(mlp_objective, n_trials=100)"
      ],
      "execution_count": 103,
      "outputs": [
        {
          "output_type": "stream",
          "name": "stderr",
          "text": [
            "\u001b[32m[I 2021-11-30 10:41:01,469]\u001b[0m A new study created in memory with name: no-name-bff4eaa1-ef75-40b1-a7a5-e0baf7f9d5f2\u001b[0m\n",
            "\u001b[32m[I 2021-11-30 10:41:11,974]\u001b[0m Trial 0 finished with value: 0.9574992926511435 and parameters: {'lr_type': 'adaptive', 'learning_rate': 0.0051, 'alpha': 0.002662, 'activation': 'logistic', 'solver': 'adam', 'n_units_0': 130, 'n_units_1': 250}. Best is trial 0 with value: 0.9574992926511435.\u001b[0m\n",
            "\u001b[32m[I 2021-11-30 10:41:24,455]\u001b[0m Trial 1 finished with value: 0.9655699861380181 and parameters: {'lr_type': 'constant', 'learning_rate': 0.0074, 'alpha': 0.024163999999999998, 'activation': 'logistic', 'solver': 'adam', 'n_units_0': 100, 'n_units_1': 240}. Best is trial 1 with value: 0.9655699861380181.\u001b[0m\n",
            "\u001b[32m[I 2021-11-30 10:42:32,178]\u001b[0m Trial 2 finished with value: 0.9603285089601215 and parameters: {'lr_type': 'adaptive', 'learning_rate': 0.0023, 'alpha': 0.038698, 'activation': 'logistic', 'solver': 'lbfgs', 'n_units_0': 240, 'n_units_1': 230}. Best is trial 1 with value: 0.9655699861380181.\u001b[0m\n",
            "\u001b[32m[I 2021-11-30 10:42:49,751]\u001b[0m Trial 3 finished with value: 0.9653140517466678 and parameters: {'lr_type': 'adaptive', 'learning_rate': 0.006, 'alpha': 0.09882899999999999, 'activation': 'logistic', 'solver': 'adam', 'n_units_0': 210, 'n_units_1': 160}. Best is trial 1 with value: 0.9655699861380181.\u001b[0m\n",
            "\u001b[32m[I 2021-11-30 10:44:00,988]\u001b[0m Trial 4 finished with value: 0.9643356522216902 and parameters: {'lr_type': 'constant', 'learning_rate': 0.0071, 'alpha': 0.014988999999999999, 'activation': 'logistic', 'solver': 'lbfgs', 'n_units_0': 240, 'n_units_1': 250}. Best is trial 1 with value: 0.9655699861380181.\u001b[0m\n",
            "\u001b[32m[I 2021-11-30 10:44:14,977]\u001b[0m Trial 5 finished with value: 0.9443507037953185 and parameters: {'lr_type': 'adaptive', 'learning_rate': 0.0079, 'alpha': 0.07067699999999999, 'activation': 'relu', 'solver': 'adam', 'n_units_0': 210, 'n_units_1': 180}. Best is trial 1 with value: 0.9655699861380181.\u001b[0m\n",
            "\u001b[32m[I 2021-11-30 10:44:32,237]\u001b[0m Trial 6 finished with value: 0.9655402185779574 and parameters: {'lr_type': 'adaptive', 'learning_rate': 0.0007, 'alpha': 0.07363299999999999, 'activation': 'relu', 'solver': 'lbfgs', 'n_units_0': 170, 'n_units_1': 220}. Best is trial 1 with value: 0.9655699861380181.\u001b[0m\n",
            "\u001b[32m[I 2021-11-30 10:44:50,259]\u001b[0m Trial 7 finished with value: 0.9635236641064724 and parameters: {'lr_type': 'adaptive', 'learning_rate': 0.0051, 'alpha': 0.010325999999999998, 'activation': 'relu', 'solver': 'lbfgs', 'n_units_0': 200, 'n_units_1': 210}. Best is trial 1 with value: 0.9655699861380181.\u001b[0m\n",
            "\u001b[32m[I 2021-11-30 10:45:03,593]\u001b[0m Trial 8 finished with value: 0.9690159584048046 and parameters: {'lr_type': 'adaptive', 'learning_rate': 0.0045000000000000005, 'alpha': 0.018556999999999997, 'activation': 'logistic', 'solver': 'adam', 'n_units_0': 110, 'n_units_1': 190}. Best is trial 8 with value: 0.9690159584048046.\u001b[0m\n",
            "\u001b[32m[I 2021-11-30 10:45:16,928]\u001b[0m Trial 9 finished with value: 0.9663191648774379 and parameters: {'lr_type': 'adaptive', 'learning_rate': 0.0049, 'alpha': 0.063897, 'activation': 'relu', 'solver': 'lbfgs', 'n_units_0': 200, 'n_units_1': 170}. Best is trial 8 with value: 0.9690159584048046.\u001b[0m\n",
            "\u001b[32m[I 2021-11-30 10:45:26,235]\u001b[0m Trial 10 finished with value: 0.9689019229633711 and parameters: {'lr_type': 'constant', 'learning_rate': 0.01, 'alpha': 0.034504, 'activation': 'logistic', 'solver': 'adam', 'n_units_0': 140, 'n_units_1': 110}. Best is trial 8 with value: 0.9690159584048046.\u001b[0m\n",
            "\u001b[32m[I 2021-11-30 10:45:37,426]\u001b[0m Trial 11 finished with value: 0.9688121034981343 and parameters: {'lr_type': 'constant', 'learning_rate': 0.01, 'alpha': 0.038195, 'activation': 'logistic', 'solver': 'adam', 'n_units_0': 140, 'n_units_1': 100}. Best is trial 8 with value: 0.9690159584048046.\u001b[0m\n",
            "\u001b[32m[I 2021-11-30 10:45:47,600]\u001b[0m Trial 12 finished with value: 0.9647969262913982 and parameters: {'lr_type': 'constant', 'learning_rate': 0.0034000000000000002, 'alpha': 0.030489, 'activation': 'logistic', 'solver': 'adam', 'n_units_0': 100, 'n_units_1': 100}. Best is trial 8 with value: 0.9690159584048046.\u001b[0m\n",
            "\u001b[32m[I 2021-11-30 10:45:55,928]\u001b[0m Trial 13 finished with value: 0.9639889423191518 and parameters: {'lr_type': 'constant', 'learning_rate': 0.009800000000000001, 'alpha': 0.048502, 'activation': 'logistic', 'solver': 'adam', 'n_units_0': 130, 'n_units_1': 140}. Best is trial 8 with value: 0.9690159584048046.\u001b[0m\n",
            "\u001b[32m[I 2021-11-30 10:46:06,601]\u001b[0m Trial 14 finished with value: 0.9655729811255297 and parameters: {'lr_type': 'constant', 'learning_rate': 0.0032, 'alpha': 0.021736, 'activation': 'logistic', 'solver': 'adam', 'n_units_0': 160, 'n_units_1': 130}. Best is trial 8 with value: 0.9690159584048046.\u001b[0m\n",
            "\u001b[32m[I 2021-11-30 10:46:22,798]\u001b[0m Trial 15 finished with value: 0.9709277889904138 and parameters: {'lr_type': 'constant', 'learning_rate': 0.0086, 'alpha': 0.051406, 'activation': 'logistic', 'solver': 'adam', 'n_units_0': 120, 'n_units_1': 200}. Best is trial 15 with value: 0.9709277889904138.\u001b[0m\n",
            "\u001b[32m[I 2021-11-30 10:46:33,624]\u001b[0m Trial 16 finished with value: 0.9608757019399818 and parameters: {'lr_type': 'adaptive', 'learning_rate': 0.0086, 'alpha': 0.057804, 'activation': 'logistic', 'solver': 'adam', 'n_units_0': 110, 'n_units_1': 200}. Best is trial 15 with value: 0.9709277889904138.\u001b[0m\n",
            "\u001b[32m[I 2021-11-30 10:46:46,266]\u001b[0m Trial 17 finished with value: 0.963439155178986 and parameters: {'lr_type': 'constant', 'learning_rate': 0.0063, 'alpha': 0.086963, 'activation': 'logistic', 'solver': 'adam', 'n_units_0': 120, 'n_units_1': 190}. Best is trial 15 with value: 0.9709277889904138.\u001b[0m\n",
            "\u001b[32m[I 2021-11-30 10:46:53,857]\u001b[0m Trial 18 finished with value: 0.9619382883409543 and parameters: {'lr_type': 'constant', 'learning_rate': 0.0039000000000000003, 'alpha': 0.052361, 'activation': 'relu', 'solver': 'adam', 'n_units_0': 150, 'n_units_1': 150}. Best is trial 15 with value: 0.9709277889904138.\u001b[0m\n",
            "\u001b[32m[I 2021-11-30 10:47:09,139]\u001b[0m Trial 19 finished with value: 0.9673299964743591 and parameters: {'lr_type': 'adaptive', 'learning_rate': 0.0016, 'alpha': 0.044268, 'activation': 'logistic', 'solver': 'adam', 'n_units_0': 180, 'n_units_1': 200}. Best is trial 15 with value: 0.9709277889904138.\u001b[0m\n",
            "\u001b[32m[I 2021-11-30 10:47:23,077]\u001b[0m Trial 20 finished with value: 0.9633696519175636 and parameters: {'lr_type': 'adaptive', 'learning_rate': 0.008700000000000001, 'alpha': 0.08194199999999999, 'activation': 'logistic', 'solver': 'adam', 'n_units_0': 110, 'n_units_1': 180}. Best is trial 15 with value: 0.9709277889904138.\u001b[0m\n",
            "\u001b[32m[I 2021-11-30 10:47:34,565]\u001b[0m Trial 21 finished with value: 0.953166236352077 and parameters: {'lr_type': 'constant', 'learning_rate': 0.0091, 'alpha': 0.031174999999999998, 'activation': 'logistic', 'solver': 'adam', 'n_units_0': 140, 'n_units_1': 120}. Best is trial 15 with value: 0.9709277889904138.\u001b[0m\n",
            "\u001b[32m[I 2021-11-30 10:47:44,497]\u001b[0m Trial 22 finished with value: 0.9588807920031086 and parameters: {'lr_type': 'constant', 'learning_rate': 0.0063999999999999994, 'alpha': 0.016864, 'activation': 'logistic', 'solver': 'adam', 'n_units_0': 120, 'n_units_1': 160}. Best is trial 15 with value: 0.9709277889904138.\u001b[0m\n",
            "\u001b[32m[I 2021-11-30 10:47:57,649]\u001b[0m Trial 23 finished with value: 0.960223696968378 and parameters: {'lr_type': 'constant', 'learning_rate': 0.004200000000000001, 'alpha': 0.002093, 'activation': 'logistic', 'solver': 'adam', 'n_units_0': 140, 'n_units_1': 210}. Best is trial 15 with value: 0.9709277889904138.\u001b[0m\n",
            "\u001b[32m[I 2021-11-30 10:48:06,523]\u001b[0m Trial 24 finished with value: 0.9576582148010719 and parameters: {'lr_type': 'constant', 'learning_rate': 0.009300000000000001, 'alpha': 0.032123, 'activation': 'logistic', 'solver': 'adam', 'n_units_0': 120, 'n_units_1': 190}. Best is trial 15 with value: 0.9709277889904138.\u001b[0m\n",
            "\u001b[32m[I 2021-11-30 10:48:17,452]\u001b[0m Trial 25 finished with value: 0.9611676132001653 and parameters: {'lr_type': 'constant', 'learning_rate': 0.0081, 'alpha': 0.055361, 'activation': 'logistic', 'solver': 'adam', 'n_units_0': 150, 'n_units_1': 120}. Best is trial 15 with value: 0.9709277889904138.\u001b[0m\n",
            "\u001b[32m[I 2021-11-30 10:48:29,664]\u001b[0m Trial 26 finished with value: 0.9624108801027784 and parameters: {'lr_type': 'constant', 'learning_rate': 0.0071, 'alpha': 0.041825, 'activation': 'relu', 'solver': 'lbfgs', 'n_units_0': 100, 'n_units_1': 170}. Best is trial 15 with value: 0.9709277889904138.\u001b[0m\n",
            "\u001b[32m[I 2021-11-30 10:48:44,554]\u001b[0m Trial 27 finished with value: 0.9604404325371236 and parameters: {'lr_type': 'constant', 'learning_rate': 0.0094, 'alpha': 0.025179999999999998, 'activation': 'logistic', 'solver': 'adam', 'n_units_0': 170, 'n_units_1': 220}. Best is trial 15 with value: 0.9709277889904138.\u001b[0m\n",
            "\u001b[32m[I 2021-11-30 10:48:53,736]\u001b[0m Trial 28 finished with value: 0.9581619567185224 and parameters: {'lr_type': 'adaptive', 'learning_rate': 0.0078, 'alpha': 0.010310999999999999, 'activation': 'logistic', 'solver': 'adam', 'n_units_0': 130, 'n_units_1': 190}. Best is trial 15 with value: 0.9709277889904138.\u001b[0m\n",
            "\u001b[32m[I 2021-11-30 10:49:04,107]\u001b[0m Trial 29 finished with value: 0.9444516205647236 and parameters: {'lr_type': 'adaptive', 'learning_rate': 0.0046, 'alpha': 0.060668, 'activation': 'logistic', 'solver': 'adam', 'n_units_0': 110, 'n_units_1': 150}. Best is trial 15 with value: 0.9709277889904138.\u001b[0m\n",
            "\u001b[32m[I 2021-11-30 10:49:18,645]\u001b[0m Trial 30 finished with value: 0.966254814238475 and parameters: {'lr_type': 'constant', 'learning_rate': 0.0055, 'alpha': 0.048076, 'activation': 'logistic', 'solver': 'adam', 'n_units_0': 150, 'n_units_1': 200}. Best is trial 15 with value: 0.9709277889904138.\u001b[0m\n",
            "\u001b[32m[I 2021-11-30 10:49:27,687]\u001b[0m Trial 31 finished with value: 0.9637998759386279 and parameters: {'lr_type': 'constant', 'learning_rate': 0.01, 'alpha': 0.036928, 'activation': 'logistic', 'solver': 'adam', 'n_units_0': 130, 'n_units_1': 100}. Best is trial 15 with value: 0.9709277889904138.\u001b[0m\n",
            "\u001b[32m[I 2021-11-30 10:49:36,043]\u001b[0m Trial 32 finished with value: 0.960111346697591 and parameters: {'lr_type': 'constant', 'learning_rate': 0.01, 'alpha': 0.034983, 'activation': 'logistic', 'solver': 'adam', 'n_units_0': 140, 'n_units_1': 110}. Best is trial 15 with value: 0.9709277889904138.\u001b[0m\n",
            "\u001b[32m[I 2021-11-30 10:49:45,494]\u001b[0m Trial 33 finished with value: 0.9655073882592194 and parameters: {'lr_type': 'constant', 'learning_rate': 0.008700000000000001, 'alpha': 0.025664999999999997, 'activation': 'logistic', 'solver': 'adam', 'n_units_0': 120, 'n_units_1': 110}. Best is trial 15 with value: 0.9709277889904138.\u001b[0m\n",
            "\u001b[32m[I 2021-11-30 10:49:59,731]\u001b[0m Trial 34 finished with value: 0.9625967341846106 and parameters: {'lr_type': 'constant', 'learning_rate': 0.009300000000000001, 'alpha': 0.042334000000000004, 'activation': 'logistic', 'solver': 'adam', 'n_units_0': 160, 'n_units_1': 130}. Best is trial 15 with value: 0.9709277889904138.\u001b[0m\n",
            "\u001b[32m[I 2021-11-30 10:50:09,413]\u001b[0m Trial 35 finished with value: 0.9627381466181639 and parameters: {'lr_type': 'constant', 'learning_rate': 0.0026000000000000003, 'alpha': 0.018140999999999997, 'activation': 'logistic', 'solver': 'adam', 'n_units_0': 100, 'n_units_1': 240}. Best is trial 15 with value: 0.9709277889904138.\u001b[0m\n",
            "\u001b[32m[I 2021-11-30 10:50:59,882]\u001b[0m Trial 36 finished with value: 0.9605835136803896 and parameters: {'lr_type': 'adaptive', 'learning_rate': 0.0083, 'alpha': 0.026397999999999998, 'activation': 'logistic', 'solver': 'lbfgs', 'n_units_0': 250, 'n_units_1': 110}. Best is trial 15 with value: 0.9709277889904138.\u001b[0m\n",
            "\u001b[32m[I 2021-11-30 10:51:10,914]\u001b[0m Trial 37 finished with value: 0.9645050577457962 and parameters: {'lr_type': 'constant', 'learning_rate': 0.005600000000000001, 'alpha': 0.007965, 'activation': 'logistic', 'solver': 'adam', 'n_units_0': 180, 'n_units_1': 100}. Best is trial 15 with value: 0.9709277889904138.\u001b[0m\n",
            "\u001b[32m[I 2021-11-30 10:51:27,594]\u001b[0m Trial 38 finished with value: 0.9636968302380045 and parameters: {'lr_type': 'adaptive', 'learning_rate': 0.0075, 'alpha': 0.06597499999999999, 'activation': 'relu', 'solver': 'lbfgs', 'n_units_0': 140, 'n_units_1': 230}. Best is trial 15 with value: 0.9709277889904138.\u001b[0m\n",
            "\u001b[32m[I 2021-11-30 10:51:36,582]\u001b[0m Trial 39 finished with value: 0.9606577666058431 and parameters: {'lr_type': 'constant', 'learning_rate': 0.009500000000000001, 'alpha': 0.038832, 'activation': 'logistic', 'solver': 'adam', 'n_units_0': 110, 'n_units_1': 210}. Best is trial 15 with value: 0.9709277889904138.\u001b[0m\n",
            "\u001b[32m[I 2021-11-30 10:51:50,387]\u001b[0m Trial 40 finished with value: 0.9618621338269064 and parameters: {'lr_type': 'adaptive', 'learning_rate': 0.006700000000000001, 'alpha': 0.046744, 'activation': 'relu', 'solver': 'lbfgs', 'n_units_0': 130, 'n_units_1': 180}. Best is trial 15 with value: 0.9709277889904138.\u001b[0m\n",
            "\u001b[32m[I 2021-11-30 10:52:21,231]\u001b[0m Trial 41 finished with value: 0.9635931453696083 and parameters: {'lr_type': 'adaptive', 'learning_rate': 0.0006000000000000001, 'alpha': 0.04466, 'activation': 'logistic', 'solver': 'adam', 'n_units_0': 190, 'n_units_1': 200}. Best is trial 15 with value: 0.9709277889904138.\u001b[0m\n",
            "\u001b[32m[I 2021-11-30 10:52:36,550]\u001b[0m Trial 42 finished with value: 0.9492817676571084 and parameters: {'lr_type': 'adaptive', 'learning_rate': 0.0014000000000000002, 'alpha': 0.052653, 'activation': 'logistic', 'solver': 'adam', 'n_units_0': 220, 'n_units_1': 220}. Best is trial 15 with value: 0.9709277889904138.\u001b[0m\n",
            "\u001b[32m[I 2021-11-30 10:52:49,411]\u001b[0m Trial 43 finished with value: 0.9571153714010858 and parameters: {'lr_type': 'adaptive', 'learning_rate': 0.0017000000000000001, 'alpha': 0.040572000000000004, 'activation': 'logistic', 'solver': 'adam', 'n_units_0': 180, 'n_units_1': 190}. Best is trial 15 with value: 0.9709277889904138.\u001b[0m\n",
            "\u001b[32m[I 2021-11-30 10:53:03,495]\u001b[0m Trial 44 finished with value: 0.9655729811255297 and parameters: {'lr_type': 'adaptive', 'learning_rate': 0.0024000000000000002, 'alpha': 0.033620000000000004, 'activation': 'logistic', 'solver': 'adam', 'n_units_0': 160, 'n_units_1': 200}. Best is trial 15 with value: 0.9709277889904138.\u001b[0m\n",
            "\u001b[32m[I 2021-11-30 10:53:19,645]\u001b[0m Trial 45 finished with value: 0.9649555064713671 and parameters: {'lr_type': 'adaptive', 'learning_rate': 0.003, 'alpha': 0.020758, 'activation': 'logistic', 'solver': 'adam', 'n_units_0': 190, 'n_units_1': 170}. Best is trial 15 with value: 0.9709277889904138.\u001b[0m\n",
            "\u001b[32m[I 2021-11-30 10:53:35,442]\u001b[0m Trial 46 finished with value: 0.9481134459488678 and parameters: {'lr_type': 'adaptive', 'learning_rate': 0.0018000000000000002, 'alpha': 0.070654, 'activation': 'logistic', 'solver': 'adam', 'n_units_0': 220, 'n_units_1': 230}. Best is trial 15 with value: 0.9709277889904138.\u001b[0m\n",
            "\u001b[32m[I 2021-11-30 10:53:51,147]\u001b[0m Trial 47 finished with value: 0.9642129105322763 and parameters: {'lr_type': 'constant', 'learning_rate': 0.009000000000000001, 'alpha': 0.028450999999999997, 'activation': 'logistic', 'solver': 'adam', 'n_units_0': 170, 'n_units_1': 160}. Best is trial 15 with value: 0.9709277889904138.\u001b[0m\n",
            "\u001b[32m[I 2021-11-30 10:54:03,414]\u001b[0m Trial 48 finished with value: 0.9676223453107018 and parameters: {'lr_type': 'adaptive', 'learning_rate': 0.0036000000000000003, 'alpha': 0.051545, 'activation': 'relu', 'solver': 'adam', 'n_units_0': 150, 'n_units_1': 210}. Best is trial 15 with value: 0.9709277889904138.\u001b[0m\n",
            "\u001b[32m[I 2021-11-30 10:54:16,082]\u001b[0m Trial 49 finished with value: 0.966287022886285 and parameters: {'lr_type': 'constant', 'learning_rate': 0.0037, 'alpha': 0.05885, 'activation': 'relu', 'solver': 'lbfgs', 'n_units_0': 150, 'n_units_1': 210}. Best is trial 15 with value: 0.9709277889904138.\u001b[0m\n",
            "\u001b[32m[I 2021-11-30 10:54:23,981]\u001b[0m Trial 50 finished with value: 0.9596029675165292 and parameters: {'lr_type': 'adaptive', 'learning_rate': 0.0043, 'alpha': 0.054494, 'activation': 'relu', 'solver': 'adam', 'n_units_0': 130, 'n_units_1': 250}. Best is trial 15 with value: 0.9709277889904138.\u001b[0m\n",
            "\u001b[32m[I 2021-11-30 10:54:35,544]\u001b[0m Trial 51 finished with value: 0.9657996214078141 and parameters: {'lr_type': 'adaptive', 'learning_rate': 0.004700000000000001, 'alpha': 0.045608, 'activation': 'relu', 'solver': 'adam', 'n_units_0': 160, 'n_units_1': 180}. Best is trial 15 with value: 0.9709277889904138.\u001b[0m\n",
            "\u001b[32m[I 2021-11-30 10:54:51,114]\u001b[0m Trial 52 finished with value: 0.9670373665922353 and parameters: {'lr_type': 'adaptive', 'learning_rate': 0.009600000000000001, 'alpha': 0.06521999999999999, 'activation': 'relu', 'solver': 'adam', 'n_units_0': 120, 'n_units_1': 200}. Best is trial 15 with value: 0.9709277889904138.\u001b[0m\n",
            "\u001b[32m[I 2021-11-30 10:55:03,081]\u001b[0m Trial 53 finished with value: 0.9666429315834628 and parameters: {'lr_type': 'adaptive', 'learning_rate': 0.003, 'alpha': 0.050862, 'activation': 'relu', 'solver': 'adam', 'n_units_0': 140, 'n_units_1': 220}. Best is trial 15 with value: 0.9709277889904138.\u001b[0m\n",
            "\u001b[32m[I 2021-11-30 10:55:18,939]\u001b[0m Trial 54 finished with value: 0.9653140517466678 and parameters: {'lr_type': 'adaptive', 'learning_rate': 0.001, 'alpha': 0.036025, 'activation': 'logistic', 'solver': 'adam', 'n_units_0': 110, 'n_units_1': 190}. Best is trial 15 with value: 0.9709277889904138.\u001b[0m\n",
            "\u001b[32m[I 2021-11-30 10:55:26,559]\u001b[0m Trial 55 finished with value: 0.962190178186078 and parameters: {'lr_type': 'constant', 'learning_rate': 0.0052, 'alpha': 0.050485, 'activation': 'relu', 'solver': 'adam', 'n_units_0': 150, 'n_units_1': 120}. Best is trial 15 with value: 0.9709277889904138.\u001b[0m\n",
            "\u001b[32m[I 2021-11-30 10:55:41,390]\u001b[0m Trial 56 finished with value: 0.96609157508071 and parameters: {'lr_type': 'adaptive', 'learning_rate': 0.0037, 'alpha': 0.042269, 'activation': 'logistic', 'solver': 'adam', 'n_units_0': 130, 'n_units_1': 210}. Best is trial 15 with value: 0.9709277889904138.\u001b[0m\n",
            "\u001b[32m[I 2021-11-30 10:55:53,207]\u001b[0m Trial 57 finished with value: 0.9604032009976264 and parameters: {'lr_type': 'constant', 'learning_rate': 0.008900000000000002, 'alpha': 0.09994399999999999, 'activation': 'logistic', 'solver': 'adam', 'n_units_0': 100, 'n_units_1': 180}. Best is trial 15 with value: 0.9709277889904138.\u001b[0m\n",
            "\u001b[32m[I 2021-11-30 10:56:04,577]\u001b[0m Trial 58 finished with value: 0.9627029024822226 and parameters: {'lr_type': 'adaptive', 'learning_rate': 0.005900000000000001, 'alpha': 0.013593999999999998, 'activation': 'logistic', 'solver': 'adam', 'n_units_0': 120, 'n_units_1': 230}. Best is trial 15 with value: 0.9709277889904138.\u001b[0m\n",
            "\u001b[32m[I 2021-11-30 10:56:20,284]\u001b[0m Trial 59 finished with value: 0.9652480023982626 and parameters: {'lr_type': 'constant', 'learning_rate': 0.0041, 'alpha': 0.061345000000000004, 'activation': 'relu', 'solver': 'adam', 'n_units_0': 190, 'n_units_1': 200}. Best is trial 15 with value: 0.9709277889904138.\u001b[0m\n",
            "\u001b[32m[I 2021-11-30 10:56:49,195]\u001b[0m Trial 60 finished with value: 0.9668713097155126 and parameters: {'lr_type': 'constant', 'learning_rate': 0.009800000000000001, 'alpha': 0.055062, 'activation': 'logistic', 'solver': 'lbfgs', 'n_units_0': 140, 'n_units_1': 140}. Best is trial 15 with value: 0.9709277889904138.\u001b[0m\n",
            "\u001b[32m[I 2021-11-30 10:56:55,719]\u001b[0m Trial 61 finished with value: 0.9653469743180951 and parameters: {'lr_type': 'adaptive', 'learning_rate': 0.009600000000000001, 'alpha': 0.082189, 'activation': 'relu', 'solver': 'adam', 'n_units_0': 120, 'n_units_1': 200}. Best is trial 15 with value: 0.9709277889904138.\u001b[0m\n",
            "\u001b[32m[I 2021-11-30 10:57:02,391]\u001b[0m Trial 62 finished with value: 0.9561116997668679 and parameters: {'lr_type': 'adaptive', 'learning_rate': 0.0085, 'alpha': 0.066074, 'activation': 'relu', 'solver': 'adam', 'n_units_0': 110, 'n_units_1': 190}. Best is trial 15 with value: 0.9709277889904138.\u001b[0m\n",
            "\u001b[32m[I 2021-11-30 10:57:08,375]\u001b[0m Trial 63 finished with value: 0.9635083726545222 and parameters: {'lr_type': 'adaptive', 'learning_rate': 0.0097, 'alpha': 0.07646199999999999, 'activation': 'relu', 'solver': 'adam', 'n_units_0': 120, 'n_units_1': 210}. Best is trial 15 with value: 0.9709277889904138.\u001b[0m\n",
            "\u001b[32m[I 2021-11-30 10:57:25,782]\u001b[0m Trial 64 finished with value: 0.9673612137716397 and parameters: {'lr_type': 'adaptive', 'learning_rate': 0.01, 'alpha': 0.0067139999999999995, 'activation': 'relu', 'solver': 'adam', 'n_units_0': 170, 'n_units_1': 200}. Best is trial 15 with value: 0.9709277889904138.\u001b[0m\n",
            "\u001b[32m[I 2021-11-30 10:57:34,139]\u001b[0m Trial 65 finished with value: 0.9621544157540198 and parameters: {'lr_type': 'adaptive', 'learning_rate': 0.01, 'alpha': 0.003692, 'activation': 'relu', 'solver': 'adam', 'n_units_0': 170, 'n_units_1': 190}. Best is trial 15 with value: 0.9709277889904138.\u001b[0m\n",
            "\u001b[32m[I 2021-11-30 10:57:45,960]\u001b[0m Trial 66 finished with value: 0.9566535306339436 and parameters: {'lr_type': 'adaptive', 'learning_rate': 0.0078, 'alpha': 0.013101, 'activation': 'logistic', 'solver': 'adam', 'n_units_0': 160, 'n_units_1': 110}. Best is trial 15 with value: 0.9709277889904138.\u001b[0m\n",
            "\u001b[32m[I 2021-11-30 10:58:01,046]\u001b[0m Trial 67 finished with value: 0.959678816104931 and parameters: {'lr_type': 'constant', 'learning_rate': 0.009200000000000002, 'alpha': 0.004358999999999999, 'activation': 'logistic', 'solver': 'adam', 'n_units_0': 180, 'n_units_1': 220}. Best is trial 15 with value: 0.9709277889904138.\u001b[0m\n",
            "\u001b[32m[I 2021-11-30 10:58:10,267]\u001b[0m Trial 68 finished with value: 0.960949363742487 and parameters: {'lr_type': 'constant', 'learning_rate': 0.0034000000000000002, 'alpha': 0.030594999999999997, 'activation': 'relu', 'solver': 'adam', 'n_units_0': 200, 'n_units_1': 100}. Best is trial 15 with value: 0.9709277889904138.\u001b[0m\n",
            "\u001b[32m[I 2021-11-30 10:58:25,284]\u001b[0m Trial 69 finished with value: 0.9637312495328831 and parameters: {'lr_type': 'adaptive', 'learning_rate': 0.008900000000000002, 'alpha': 0.021525, 'activation': 'logistic', 'solver': 'adam', 'n_units_0': 160, 'n_units_1': 210}. Best is trial 15 with value: 0.9709277889904138.\u001b[0m\n",
            "\u001b[32m[I 2021-11-30 10:58:40,992]\u001b[0m Trial 70 finished with value: 0.9596029675165292 and parameters: {'lr_type': 'constant', 'learning_rate': 0.0049, 'alpha': 0.009541, 'activation': 'logistic', 'solver': 'adam', 'n_units_0': 150, 'n_units_1': 130}. Best is trial 15 with value: 0.9709277889904138.\u001b[0m\n",
            "\u001b[32m[I 2021-11-30 10:58:47,694]\u001b[0m Trial 71 finished with value: 0.9659944590951 and parameters: {'lr_type': 'adaptive', 'learning_rate': 0.009600000000000001, 'alpha': 0.03782, 'activation': 'relu', 'solver': 'adam', 'n_units_0': 140, 'n_units_1': 200}. Best is trial 15 with value: 0.9709277889904138.\u001b[0m\n",
            "\u001b[32m[I 2021-11-30 10:58:53,609]\u001b[0m Trial 72 finished with value: 0.9525400674533622 and parameters: {'lr_type': 'adaptive', 'learning_rate': 0.0094, 'alpha': 0.048392, 'activation': 'relu', 'solver': 'adam', 'n_units_0': 130, 'n_units_1': 190}. Best is trial 15 with value: 0.9709277889904138.\u001b[0m\n",
            "\u001b[32m[I 2021-11-30 10:59:00,155]\u001b[0m Trial 73 finished with value: 0.9621185797559911 and parameters: {'lr_type': 'adaptive', 'learning_rate': 0.01, 'alpha': 0.094981, 'activation': 'relu', 'solver': 'adam', 'n_units_0': 120, 'n_units_1': 200}. Best is trial 15 with value: 0.9709277889904138.\u001b[0m\n",
            "\u001b[32m[I 2021-11-30 10:59:07,400]\u001b[0m Trial 74 finished with value: 0.9688421057903476 and parameters: {'lr_type': 'adaptive', 'learning_rate': 0.009200000000000002, 'alpha': 0.017426, 'activation': 'relu', 'solver': 'adam', 'n_units_0': 110, 'n_units_1': 180}. Best is trial 15 with value: 0.9709277889904138.\u001b[0m\n",
            "\u001b[32m[I 2021-11-30 10:59:14,999]\u001b[0m Trial 75 finished with value: 0.964572331875351 and parameters: {'lr_type': 'adaptive', 'learning_rate': 0.002, 'alpha': 0.017255, 'activation': 'relu', 'solver': 'adam', 'n_units_0': 110, 'n_units_1': 170}. Best is trial 15 with value: 0.9709277889904138.\u001b[0m\n",
            "\u001b[32m[I 2021-11-30 10:59:26,258]\u001b[0m Trial 76 finished with value: 0.9569445191611439 and parameters: {'lr_type': 'adaptive', 'learning_rate': 0.0083, 'alpha': 0.043521000000000004, 'activation': 'logistic', 'solver': 'adam', 'n_units_0': 100, 'n_units_1': 180}. Best is trial 15 with value: 0.9709277889904138.\u001b[0m\n",
            "\u001b[32m[I 2021-11-30 10:59:45,668]\u001b[0m Trial 77 finished with value: 0.9652148752012882 and parameters: {'lr_type': 'constant', 'learning_rate': 0.0091, 'alpha': 0.019469999999999998, 'activation': 'relu', 'solver': 'lbfgs', 'n_units_0': 170, 'n_units_1': 210}. Best is trial 15 with value: 0.9709277889904138.\u001b[0m\n",
            "\u001b[32m[I 2021-11-30 10:59:56,121]\u001b[0m Trial 78 finished with value: 0.9642129105322763 and parameters: {'lr_type': 'adaptive', 'learning_rate': 0.0044, 'alpha': 0.001363, 'activation': 'logistic', 'solver': 'adam', 'n_units_0': 100, 'n_units_1': 160}. Best is trial 15 with value: 0.9709277889904138.\u001b[0m\n",
            "\u001b[32m[I 2021-11-30 11:00:11,735]\u001b[0m Trial 79 finished with value: 0.9647634811394721 and parameters: {'lr_type': 'constant', 'learning_rate': 0.008700000000000001, 'alpha': 0.023867999999999997, 'activation': 'logistic', 'solver': 'adam', 'n_units_0': 180, 'n_units_1': 170}. Best is trial 15 with value: 0.9709277889904138.\u001b[0m\n",
            "\u001b[32m[I 2021-11-30 11:00:22,876]\u001b[0m Trial 80 finished with value: 0.9626675858464839 and parameters: {'lr_type': 'adaptive', 'learning_rate': 0.0074, 'alpha': 0.007303999999999999, 'activation': 'relu', 'solver': 'adam', 'n_units_0': 110, 'n_units_1': 180}. Best is trial 15 with value: 0.9709277889904138.\u001b[0m\n",
            "\u001b[32m[I 2021-11-30 11:00:33,247]\u001b[0m Trial 81 finished with value: 0.9613864673609419 and parameters: {'lr_type': 'adaptive', 'learning_rate': 0.0094, 'alpha': 0.028428, 'activation': 'relu', 'solver': 'adam', 'n_units_0': 130, 'n_units_1': 190}. Best is trial 15 with value: 0.9709277889904138.\u001b[0m\n",
            "\u001b[32m[I 2021-11-30 11:00:42,856]\u001b[0m Trial 82 finished with value: 0.9592104957188805 and parameters: {'lr_type': 'adaptive', 'learning_rate': 0.009800000000000001, 'alpha': 0.015293, 'activation': 'relu', 'solver': 'adam', 'n_units_0': 120, 'n_units_1': 200}. Best is trial 15 with value: 0.9709277889904138.\u001b[0m\n",
            "\u001b[32m[I 2021-11-30 11:00:50,888]\u001b[0m Trial 83 finished with value: 0.9635931453696083 and parameters: {'lr_type': 'adaptive', 'learning_rate': 0.001, 'alpha': 0.040092, 'activation': 'relu', 'solver': 'adam', 'n_units_0': 110, 'n_units_1': 220}. Best is trial 15 with value: 0.9709277889904138.\u001b[0m\n",
            "\u001b[32m[I 2021-11-30 11:01:04,700]\u001b[0m Trial 84 finished with value: 0.966059270047072 and parameters: {'lr_type': 'adaptive', 'learning_rate': 0.01, 'alpha': 0.033274000000000005, 'activation': 'relu', 'solver': 'adam', 'n_units_0': 150, 'n_units_1': 200}. Best is trial 15 with value: 0.9709277889904138.\u001b[0m\n",
            "\u001b[32m[I 2021-11-30 11:01:19,397]\u001b[0m Trial 85 finished with value: 0.9688720455473836 and parameters: {'lr_type': 'adaptive', 'learning_rate': 0.009600000000000001, 'alpha': 0.057721, 'activation': 'relu', 'solver': 'adam', 'n_units_0': 130, 'n_units_1': 210}. Best is trial 15 with value: 0.9709277889904138.\u001b[0m\n",
            "\u001b[32m[I 2021-11-30 11:01:37,307]\u001b[0m Trial 86 finished with value: 0.9614955264873473 and parameters: {'lr_type': 'adaptive', 'learning_rate': 0.009300000000000001, 'alpha': 0.058151, 'activation': 'logistic', 'solver': 'adam', 'n_units_0': 140, 'n_units_1': 210}. Best is trial 15 with value: 0.9709277889904138.\u001b[0m\n",
            "\u001b[32m[I 2021-11-30 11:01:52,295]\u001b[0m Trial 87 finished with value: 0.9659944590951 and parameters: {'lr_type': 'constant', 'learning_rate': 0.0027, 'alpha': 0.052689, 'activation': 'logistic', 'solver': 'adam', 'n_units_0': 130, 'n_units_1': 100}. Best is trial 15 with value: 0.9709277889904138.\u001b[0m\n",
            "\u001b[32m[I 2021-11-30 11:02:05,614]\u001b[0m Trial 88 finished with value: 0.9628541301990892 and parameters: {'lr_type': 'adaptive', 'learning_rate': 0.0069, 'alpha': 0.045474, 'activation': 'relu', 'solver': 'lbfgs', 'n_units_0': 140, 'n_units_1': 190}. Best is trial 15 with value: 0.9709277889904138.\u001b[0m\n",
            "\u001b[32m[I 2021-11-30 11:02:18,081]\u001b[0m Trial 89 finished with value: 0.9647634811394721 and parameters: {'lr_type': 'constant', 'learning_rate': 0.0085, 'alpha': 0.056443, 'activation': 'logistic', 'solver': 'adam', 'n_units_0': 150, 'n_units_1': 150}. Best is trial 15 with value: 0.9709277889904138.\u001b[0m\n",
            "\u001b[32m[I 2021-11-30 11:02:28,034]\u001b[0m Trial 90 finished with value: 0.9630644738594234 and parameters: {'lr_type': 'adaptive', 'learning_rate': 0.0091, 'alpha': 0.048606, 'activation': 'logistic', 'solver': 'adam', 'n_units_0': 130, 'n_units_1': 230}. Best is trial 15 with value: 0.9709277889904138.\u001b[0m\n",
            "\u001b[32m[I 2021-11-30 11:02:36,282]\u001b[0m Trial 91 finished with value: 0.9617506064223476 and parameters: {'lr_type': 'adaptive', 'learning_rate': 0.0097, 'alpha': 0.063189, 'activation': 'relu', 'solver': 'adam', 'n_units_0': 120, 'n_units_1': 210}. Best is trial 15 with value: 0.9709277889904138.\u001b[0m\n",
            "\u001b[32m[I 2021-11-30 11:02:48,305]\u001b[0m Trial 92 finished with value: 0.9622614832508649 and parameters: {'lr_type': 'adaptive', 'learning_rate': 0.008900000000000002, 'alpha': 0.052622, 'activation': 'relu', 'solver': 'adam', 'n_units_0': 120, 'n_units_1': 200}. Best is trial 15 with value: 0.9709277889904138.\u001b[0m\n",
            "\u001b[32m[I 2021-11-30 11:02:56,467]\u001b[0m Trial 93 finished with value: 0.9612406850496429 and parameters: {'lr_type': 'adaptive', 'learning_rate': 0.009500000000000001, 'alpha': 0.068823, 'activation': 'relu', 'solver': 'adam', 'n_units_0': 110, 'n_units_1': 220}. Best is trial 15 with value: 0.9709277889904138.\u001b[0m\n",
            "\u001b[32m[I 2021-11-30 11:03:07,185]\u001b[0m Trial 94 finished with value: 0.9621960975321047 and parameters: {'lr_type': 'adaptive', 'learning_rate': 0.009800000000000001, 'alpha': 0.059424, 'activation': 'relu', 'solver': 'adam', 'n_units_0': 130, 'n_units_1': 190}. Best is trial 15 with value: 0.9709277889904138.\u001b[0m\n",
            "\u001b[32m[I 2021-11-30 11:03:20,270]\u001b[0m Trial 95 finished with value: 0.9680842536669685 and parameters: {'lr_type': 'adaptive', 'learning_rate': 0.009500000000000001, 'alpha': 0.046994, 'activation': 'relu', 'solver': 'adam', 'n_units_0': 140, 'n_units_1': 200}. Best is trial 15 with value: 0.9709277889904138.\u001b[0m\n",
            "\u001b[32m[I 2021-11-30 11:03:30,139]\u001b[0m Trial 96 finished with value: 0.9627029024822226 and parameters: {'lr_type': 'adaptive', 'learning_rate': 0.0081, 'alpha': 0.047237, 'activation': 'relu', 'solver': 'adam', 'n_units_0': 140, 'n_units_1': 180}. Best is trial 15 with value: 0.9709277889904138.\u001b[0m\n",
            "\u001b[32m[I 2021-11-30 11:03:44,341]\u001b[0m Trial 97 finished with value: 0.9652480023982626 and parameters: {'lr_type': 'constant', 'learning_rate': 0.008700000000000001, 'alpha': 0.03977, 'activation': 'logistic', 'solver': 'adam', 'n_units_0': 140, 'n_units_1': 210}. Best is trial 15 with value: 0.9709277889904138.\u001b[0m\n",
            "\u001b[32m[I 2021-11-30 11:03:50,334]\u001b[0m Trial 98 finished with value: 0.962481886726589 and parameters: {'lr_type': 'adaptive', 'learning_rate': 0.006200000000000001, 'alpha': 0.035639000000000004, 'activation': 'relu', 'solver': 'adam', 'n_units_0': 150, 'n_units_1': 110}. Best is trial 15 with value: 0.9709277889904138.\u001b[0m\n",
            "\u001b[32m[I 2021-11-30 11:04:01,684]\u001b[0m Trial 99 finished with value: 0.95395240877805 and parameters: {'lr_type': 'adaptive', 'learning_rate': 0.0057, 'alpha': 0.050824, 'activation': 'logistic', 'solver': 'adam', 'n_units_0': 160, 'n_units_1': 190}. Best is trial 15 with value: 0.9709277889904138.\u001b[0m\n"
          ]
        }
      ]
    },
    {
      "cell_type": "code",
      "metadata": {
        "colab": {
          "base_uri": "https://localhost:8080/",
          "height": 542
        },
        "id": "IS91A_3zCElN",
        "outputId": "37658898-1655-4d4f-c9de-ab9f65ae5f2a"
      },
      "source": [
        "optuna.visualization.plot_optimization_history(mlp_study)"
      ],
      "execution_count": 104,
      "outputs": [
        {
          "output_type": "display_data",
          "data": {
            "text/html": [
              "<html>\n",
              "<head><meta charset=\"utf-8\" /></head>\n",
              "<body>\n",
              "    <div>\n",
              "            <script src=\"https://cdnjs.cloudflare.com/ajax/libs/mathjax/2.7.5/MathJax.js?config=TeX-AMS-MML_SVG\"></script><script type=\"text/javascript\">if (window.MathJax) {MathJax.Hub.Config({SVG: {font: \"STIX-Web\"}});}</script>\n",
              "                <script type=\"text/javascript\">window.PlotlyConfig = {MathJaxConfig: 'local'};</script>\n",
              "        <script src=\"https://cdn.plot.ly/plotly-latest.min.js\"></script>    \n",
              "            <div id=\"91fb7286-845d-4b0c-9fa4-8dd094d8f4b6\" class=\"plotly-graph-div\" style=\"height:525px; width:100%;\"></div>\n",
              "            <script type=\"text/javascript\">\n",
              "                \n",
              "                    window.PLOTLYENV=window.PLOTLYENV || {};\n",
              "                    \n",
              "                if (document.getElementById(\"91fb7286-845d-4b0c-9fa4-8dd094d8f4b6\")) {\n",
              "                    Plotly.newPlot(\n",
              "                        '91fb7286-845d-4b0c-9fa4-8dd094d8f4b6',\n",
              "                        [{\"mode\": \"markers\", \"name\": \"Objective Value\", \"type\": \"scatter\", \"x\": [0, 1, 2, 3, 4, 5, 6, 7, 8, 9, 10, 11, 12, 13, 14, 15, 16, 17, 18, 19, 20, 21, 22, 23, 24, 25, 26, 27, 28, 29, 30, 31, 32, 33, 34, 35, 36, 37, 38, 39, 40, 41, 42, 43, 44, 45, 46, 47, 48, 49, 50, 51, 52, 53, 54, 55, 56, 57, 58, 59, 60, 61, 62, 63, 64, 65, 66, 67, 68, 69, 70, 71, 72, 73, 74, 75, 76, 77, 78, 79, 80, 81, 82, 83, 84, 85, 86, 87, 88, 89, 90, 91, 92, 93, 94, 95, 96, 97, 98, 99], \"y\": [0.9574992926511435, 0.9655699861380181, 0.9603285089601215, 0.9653140517466678, 0.9643356522216902, 0.9443507037953185, 0.9655402185779574, 0.9635236641064724, 0.9690159584048046, 0.9663191648774379, 0.9689019229633711, 0.9688121034981343, 0.9647969262913982, 0.9639889423191518, 0.9655729811255297, 0.9709277889904138, 0.9608757019399818, 0.963439155178986, 0.9619382883409543, 0.9673299964743591, 0.9633696519175636, 0.953166236352077, 0.9588807920031086, 0.960223696968378, 0.9576582148010719, 0.9611676132001653, 0.9624108801027784, 0.9604404325371236, 0.9581619567185224, 0.9444516205647236, 0.966254814238475, 0.9637998759386279, 0.960111346697591, 0.9655073882592194, 0.9625967341846106, 0.9627381466181639, 0.9605835136803896, 0.9645050577457962, 0.9636968302380045, 0.9606577666058431, 0.9618621338269064, 0.9635931453696083, 0.9492817676571084, 0.9571153714010858, 0.9655729811255297, 0.9649555064713671, 0.9481134459488678, 0.9642129105322763, 0.9676223453107018, 0.966287022886285, 0.9596029675165292, 0.9657996214078141, 0.9670373665922353, 0.9666429315834628, 0.9653140517466678, 0.962190178186078, 0.96609157508071, 0.9604032009976264, 0.9627029024822226, 0.9652480023982626, 0.9668713097155126, 0.9653469743180951, 0.9561116997668679, 0.9635083726545222, 0.9673612137716397, 0.9621544157540198, 0.9566535306339436, 0.959678816104931, 0.960949363742487, 0.9637312495328831, 0.9596029675165292, 0.9659944590951, 0.9525400674533622, 0.9621185797559911, 0.9688421057903476, 0.964572331875351, 0.9569445191611439, 0.9652148752012882, 0.9642129105322763, 0.9647634811394721, 0.9626675858464839, 0.9613864673609419, 0.9592104957188805, 0.9635931453696083, 0.966059270047072, 0.9688720455473836, 0.9614955264873473, 0.9659944590951, 0.9628541301990892, 0.9647634811394721, 0.9630644738594234, 0.9617506064223476, 0.9622614832508649, 0.9612406850496429, 0.9621960975321047, 0.9680842536669685, 0.9627029024822226, 0.9652480023982626, 0.962481886726589, 0.95395240877805]}, {\"name\": \"Best Value\", \"type\": \"scatter\", \"x\": [0, 1, 2, 3, 4, 5, 6, 7, 8, 9, 10, 11, 12, 13, 14, 15, 16, 17, 18, 19, 20, 21, 22, 23, 24, 25, 26, 27, 28, 29, 30, 31, 32, 33, 34, 35, 36, 37, 38, 39, 40, 41, 42, 43, 44, 45, 46, 47, 48, 49, 50, 51, 52, 53, 54, 55, 56, 57, 58, 59, 60, 61, 62, 63, 64, 65, 66, 67, 68, 69, 70, 71, 72, 73, 74, 75, 76, 77, 78, 79, 80, 81, 82, 83, 84, 85, 86, 87, 88, 89, 90, 91, 92, 93, 94, 95, 96, 97, 98, 99], \"y\": [0.9574992926511435, 0.9655699861380181, 0.9655699861380181, 0.9655699861380181, 0.9655699861380181, 0.9655699861380181, 0.9655699861380181, 0.9655699861380181, 0.9690159584048046, 0.9690159584048046, 0.9690159584048046, 0.9690159584048046, 0.9690159584048046, 0.9690159584048046, 0.9690159584048046, 0.9709277889904138, 0.9709277889904138, 0.9709277889904138, 0.9709277889904138, 0.9709277889904138, 0.9709277889904138, 0.9709277889904138, 0.9709277889904138, 0.9709277889904138, 0.9709277889904138, 0.9709277889904138, 0.9709277889904138, 0.9709277889904138, 0.9709277889904138, 0.9709277889904138, 0.9709277889904138, 0.9709277889904138, 0.9709277889904138, 0.9709277889904138, 0.9709277889904138, 0.9709277889904138, 0.9709277889904138, 0.9709277889904138, 0.9709277889904138, 0.9709277889904138, 0.9709277889904138, 0.9709277889904138, 0.9709277889904138, 0.9709277889904138, 0.9709277889904138, 0.9709277889904138, 0.9709277889904138, 0.9709277889904138, 0.9709277889904138, 0.9709277889904138, 0.9709277889904138, 0.9709277889904138, 0.9709277889904138, 0.9709277889904138, 0.9709277889904138, 0.9709277889904138, 0.9709277889904138, 0.9709277889904138, 0.9709277889904138, 0.9709277889904138, 0.9709277889904138, 0.9709277889904138, 0.9709277889904138, 0.9709277889904138, 0.9709277889904138, 0.9709277889904138, 0.9709277889904138, 0.9709277889904138, 0.9709277889904138, 0.9709277889904138, 0.9709277889904138, 0.9709277889904138, 0.9709277889904138, 0.9709277889904138, 0.9709277889904138, 0.9709277889904138, 0.9709277889904138, 0.9709277889904138, 0.9709277889904138, 0.9709277889904138, 0.9709277889904138, 0.9709277889904138, 0.9709277889904138, 0.9709277889904138, 0.9709277889904138, 0.9709277889904138, 0.9709277889904138, 0.9709277889904138, 0.9709277889904138, 0.9709277889904138, 0.9709277889904138, 0.9709277889904138, 0.9709277889904138, 0.9709277889904138, 0.9709277889904138, 0.9709277889904138, 0.9709277889904138, 0.9709277889904138, 0.9709277889904138, 0.9709277889904138]}],\n",
              "                        {\"template\": {\"data\": {\"bar\": [{\"error_x\": {\"color\": \"#2a3f5f\"}, \"error_y\": {\"color\": \"#2a3f5f\"}, \"marker\": {\"line\": {\"color\": \"#E5ECF6\", \"width\": 0.5}}, \"type\": \"bar\"}], \"barpolar\": [{\"marker\": {\"line\": {\"color\": \"#E5ECF6\", \"width\": 0.5}}, \"type\": \"barpolar\"}], \"carpet\": [{\"aaxis\": {\"endlinecolor\": \"#2a3f5f\", \"gridcolor\": \"white\", \"linecolor\": \"white\", \"minorgridcolor\": \"white\", \"startlinecolor\": \"#2a3f5f\"}, \"baxis\": {\"endlinecolor\": \"#2a3f5f\", \"gridcolor\": \"white\", \"linecolor\": \"white\", \"minorgridcolor\": \"white\", \"startlinecolor\": \"#2a3f5f\"}, \"type\": \"carpet\"}], \"choropleth\": [{\"colorbar\": {\"outlinewidth\": 0, \"ticks\": \"\"}, \"type\": \"choropleth\"}], \"contour\": [{\"colorbar\": {\"outlinewidth\": 0, \"ticks\": \"\"}, \"colorscale\": [[0.0, \"#0d0887\"], [0.1111111111111111, \"#46039f\"], [0.2222222222222222, \"#7201a8\"], [0.3333333333333333, \"#9c179e\"], [0.4444444444444444, \"#bd3786\"], [0.5555555555555556, \"#d8576b\"], [0.6666666666666666, \"#ed7953\"], [0.7777777777777778, \"#fb9f3a\"], [0.8888888888888888, \"#fdca26\"], [1.0, \"#f0f921\"]], \"type\": \"contour\"}], \"contourcarpet\": [{\"colorbar\": {\"outlinewidth\": 0, \"ticks\": \"\"}, \"type\": \"contourcarpet\"}], \"heatmap\": [{\"colorbar\": {\"outlinewidth\": 0, \"ticks\": \"\"}, \"colorscale\": [[0.0, \"#0d0887\"], [0.1111111111111111, \"#46039f\"], [0.2222222222222222, \"#7201a8\"], [0.3333333333333333, \"#9c179e\"], [0.4444444444444444, \"#bd3786\"], [0.5555555555555556, \"#d8576b\"], [0.6666666666666666, \"#ed7953\"], [0.7777777777777778, \"#fb9f3a\"], [0.8888888888888888, \"#fdca26\"], [1.0, \"#f0f921\"]], \"type\": \"heatmap\"}], \"heatmapgl\": [{\"colorbar\": {\"outlinewidth\": 0, \"ticks\": \"\"}, \"colorscale\": [[0.0, \"#0d0887\"], [0.1111111111111111, \"#46039f\"], [0.2222222222222222, \"#7201a8\"], [0.3333333333333333, \"#9c179e\"], [0.4444444444444444, \"#bd3786\"], [0.5555555555555556, \"#d8576b\"], [0.6666666666666666, \"#ed7953\"], [0.7777777777777778, \"#fb9f3a\"], [0.8888888888888888, \"#fdca26\"], [1.0, \"#f0f921\"]], \"type\": \"heatmapgl\"}], \"histogram\": [{\"marker\": {\"colorbar\": {\"outlinewidth\": 0, \"ticks\": \"\"}}, \"type\": \"histogram\"}], \"histogram2d\": [{\"colorbar\": {\"outlinewidth\": 0, \"ticks\": \"\"}, \"colorscale\": [[0.0, \"#0d0887\"], [0.1111111111111111, \"#46039f\"], [0.2222222222222222, \"#7201a8\"], [0.3333333333333333, \"#9c179e\"], [0.4444444444444444, \"#bd3786\"], [0.5555555555555556, \"#d8576b\"], [0.6666666666666666, \"#ed7953\"], [0.7777777777777778, \"#fb9f3a\"], [0.8888888888888888, \"#fdca26\"], [1.0, \"#f0f921\"]], \"type\": \"histogram2d\"}], \"histogram2dcontour\": [{\"colorbar\": {\"outlinewidth\": 0, \"ticks\": \"\"}, \"colorscale\": [[0.0, \"#0d0887\"], [0.1111111111111111, \"#46039f\"], [0.2222222222222222, \"#7201a8\"], [0.3333333333333333, \"#9c179e\"], [0.4444444444444444, \"#bd3786\"], [0.5555555555555556, \"#d8576b\"], [0.6666666666666666, \"#ed7953\"], [0.7777777777777778, \"#fb9f3a\"], [0.8888888888888888, \"#fdca26\"], [1.0, \"#f0f921\"]], \"type\": \"histogram2dcontour\"}], \"mesh3d\": [{\"colorbar\": {\"outlinewidth\": 0, \"ticks\": \"\"}, \"type\": \"mesh3d\"}], \"parcoords\": [{\"line\": {\"colorbar\": {\"outlinewidth\": 0, \"ticks\": \"\"}}, \"type\": \"parcoords\"}], \"pie\": [{\"automargin\": true, \"type\": \"pie\"}], \"scatter\": [{\"marker\": {\"colorbar\": {\"outlinewidth\": 0, \"ticks\": \"\"}}, \"type\": \"scatter\"}], \"scatter3d\": [{\"line\": {\"colorbar\": {\"outlinewidth\": 0, \"ticks\": \"\"}}, \"marker\": {\"colorbar\": {\"outlinewidth\": 0, \"ticks\": \"\"}}, \"type\": \"scatter3d\"}], \"scattercarpet\": [{\"marker\": {\"colorbar\": {\"outlinewidth\": 0, \"ticks\": \"\"}}, \"type\": \"scattercarpet\"}], \"scattergeo\": [{\"marker\": {\"colorbar\": {\"outlinewidth\": 0, \"ticks\": \"\"}}, \"type\": \"scattergeo\"}], \"scattergl\": [{\"marker\": {\"colorbar\": {\"outlinewidth\": 0, \"ticks\": \"\"}}, \"type\": \"scattergl\"}], \"scattermapbox\": [{\"marker\": {\"colorbar\": {\"outlinewidth\": 0, \"ticks\": \"\"}}, \"type\": \"scattermapbox\"}], \"scatterpolar\": [{\"marker\": {\"colorbar\": {\"outlinewidth\": 0, \"ticks\": \"\"}}, \"type\": \"scatterpolar\"}], \"scatterpolargl\": [{\"marker\": {\"colorbar\": {\"outlinewidth\": 0, \"ticks\": \"\"}}, \"type\": \"scatterpolargl\"}], \"scatterternary\": [{\"marker\": {\"colorbar\": {\"outlinewidth\": 0, \"ticks\": \"\"}}, \"type\": \"scatterternary\"}], \"surface\": [{\"colorbar\": {\"outlinewidth\": 0, \"ticks\": \"\"}, \"colorscale\": [[0.0, \"#0d0887\"], [0.1111111111111111, \"#46039f\"], [0.2222222222222222, \"#7201a8\"], [0.3333333333333333, \"#9c179e\"], [0.4444444444444444, \"#bd3786\"], [0.5555555555555556, \"#d8576b\"], [0.6666666666666666, \"#ed7953\"], [0.7777777777777778, \"#fb9f3a\"], [0.8888888888888888, \"#fdca26\"], [1.0, \"#f0f921\"]], \"type\": \"surface\"}], \"table\": [{\"cells\": {\"fill\": {\"color\": \"#EBF0F8\"}, \"line\": {\"color\": \"white\"}}, \"header\": {\"fill\": {\"color\": \"#C8D4E3\"}, \"line\": {\"color\": \"white\"}}, \"type\": \"table\"}]}, \"layout\": {\"annotationdefaults\": {\"arrowcolor\": \"#2a3f5f\", \"arrowhead\": 0, \"arrowwidth\": 1}, \"coloraxis\": {\"colorbar\": {\"outlinewidth\": 0, \"ticks\": \"\"}}, \"colorscale\": {\"diverging\": [[0, \"#8e0152\"], [0.1, \"#c51b7d\"], [0.2, \"#de77ae\"], [0.3, \"#f1b6da\"], [0.4, \"#fde0ef\"], [0.5, \"#f7f7f7\"], [0.6, \"#e6f5d0\"], [0.7, \"#b8e186\"], [0.8, \"#7fbc41\"], [0.9, \"#4d9221\"], [1, \"#276419\"]], \"sequential\": [[0.0, \"#0d0887\"], [0.1111111111111111, \"#46039f\"], [0.2222222222222222, \"#7201a8\"], [0.3333333333333333, \"#9c179e\"], [0.4444444444444444, \"#bd3786\"], [0.5555555555555556, \"#d8576b\"], [0.6666666666666666, \"#ed7953\"], [0.7777777777777778, \"#fb9f3a\"], [0.8888888888888888, \"#fdca26\"], [1.0, \"#f0f921\"]], \"sequentialminus\": [[0.0, \"#0d0887\"], [0.1111111111111111, \"#46039f\"], [0.2222222222222222, \"#7201a8\"], [0.3333333333333333, \"#9c179e\"], [0.4444444444444444, \"#bd3786\"], [0.5555555555555556, \"#d8576b\"], [0.6666666666666666, \"#ed7953\"], [0.7777777777777778, \"#fb9f3a\"], [0.8888888888888888, \"#fdca26\"], [1.0, \"#f0f921\"]]}, \"colorway\": [\"#636efa\", \"#EF553B\", \"#00cc96\", \"#ab63fa\", \"#FFA15A\", \"#19d3f3\", \"#FF6692\", \"#B6E880\", \"#FF97FF\", \"#FECB52\"], \"font\": {\"color\": \"#2a3f5f\"}, \"geo\": {\"bgcolor\": \"white\", \"lakecolor\": \"white\", \"landcolor\": \"#E5ECF6\", \"showlakes\": true, \"showland\": true, \"subunitcolor\": \"white\"}, \"hoverlabel\": {\"align\": \"left\"}, \"hovermode\": \"closest\", \"mapbox\": {\"style\": \"light\"}, \"paper_bgcolor\": \"white\", \"plot_bgcolor\": \"#E5ECF6\", \"polar\": {\"angularaxis\": {\"gridcolor\": \"white\", \"linecolor\": \"white\", \"ticks\": \"\"}, \"bgcolor\": \"#E5ECF6\", \"radialaxis\": {\"gridcolor\": \"white\", \"linecolor\": \"white\", \"ticks\": \"\"}}, \"scene\": {\"xaxis\": {\"backgroundcolor\": \"#E5ECF6\", \"gridcolor\": \"white\", \"gridwidth\": 2, \"linecolor\": \"white\", \"showbackground\": true, \"ticks\": \"\", \"zerolinecolor\": \"white\"}, \"yaxis\": {\"backgroundcolor\": \"#E5ECF6\", \"gridcolor\": \"white\", \"gridwidth\": 2, \"linecolor\": \"white\", \"showbackground\": true, \"ticks\": \"\", \"zerolinecolor\": \"white\"}, \"zaxis\": {\"backgroundcolor\": \"#E5ECF6\", \"gridcolor\": \"white\", \"gridwidth\": 2, \"linecolor\": \"white\", \"showbackground\": true, \"ticks\": \"\", \"zerolinecolor\": \"white\"}}, \"shapedefaults\": {\"line\": {\"color\": \"#2a3f5f\"}}, \"ternary\": {\"aaxis\": {\"gridcolor\": \"white\", \"linecolor\": \"white\", \"ticks\": \"\"}, \"baxis\": {\"gridcolor\": \"white\", \"linecolor\": \"white\", \"ticks\": \"\"}, \"bgcolor\": \"#E5ECF6\", \"caxis\": {\"gridcolor\": \"white\", \"linecolor\": \"white\", \"ticks\": \"\"}}, \"title\": {\"x\": 0.05}, \"xaxis\": {\"automargin\": true, \"gridcolor\": \"white\", \"linecolor\": \"white\", \"ticks\": \"\", \"title\": {\"standoff\": 15}, \"zerolinecolor\": \"white\", \"zerolinewidth\": 2}, \"yaxis\": {\"automargin\": true, \"gridcolor\": \"white\", \"linecolor\": \"white\", \"ticks\": \"\", \"title\": {\"standoff\": 15}, \"zerolinecolor\": \"white\", \"zerolinewidth\": 2}}}, \"title\": {\"text\": \"Optimization History Plot\"}, \"xaxis\": {\"title\": {\"text\": \"#Trials\"}}, \"yaxis\": {\"title\": {\"text\": \"Objective Value\"}}},\n",
              "                        {\"responsive\": true}\n",
              "                    ).then(function(){\n",
              "                            \n",
              "var gd = document.getElementById('91fb7286-845d-4b0c-9fa4-8dd094d8f4b6');\n",
              "var x = new MutationObserver(function (mutations, observer) {{\n",
              "        var display = window.getComputedStyle(gd).display;\n",
              "        if (!display || display === 'none') {{\n",
              "            console.log([gd, 'removed!']);\n",
              "            Plotly.purge(gd);\n",
              "            observer.disconnect();\n",
              "        }}\n",
              "}});\n",
              "\n",
              "// Listen for the removal of the full notebook cells\n",
              "var notebookContainer = gd.closest('#notebook-container');\n",
              "if (notebookContainer) {{\n",
              "    x.observe(notebookContainer, {childList: true});\n",
              "}}\n",
              "\n",
              "// Listen for the clearing of the current output cell\n",
              "var outputEl = gd.closest('.output');\n",
              "if (outputEl) {{\n",
              "    x.observe(outputEl, {childList: true});\n",
              "}}\n",
              "\n",
              "                        })\n",
              "                };\n",
              "                \n",
              "            </script>\n",
              "        </div>\n",
              "</body>\n",
              "</html>"
            ]
          },
          "metadata": {}
        }
      ]
    },
    {
      "cell_type": "markdown",
      "metadata": {
        "id": "QtNPTcmROsZP"
      },
      "source": [
        "Πραγματοποιούμε ένα πολύ μικρό gridsearch και 10-fold cross-validation για με παραμέτρους των τριών καλύτερων trial (27, 33, 97) της optuna. Για να πραγματοποιηθεί γρηγορότερα το Gridsearch, από τις παραμέτρους που είναι πάρα πολύ κοντινές οι τιμές του παίρνουμε μία τιμή."
      ]
    },
    {
      "cell_type": "code",
      "metadata": {
        "colab": {
          "base_uri": "https://localhost:8080/"
        },
        "id": "vckIQhG5DhYh",
        "outputId": "19728cde-a738-422c-b867-543aab47c480"
      },
      "source": [
        "mlp_study.best_trial.params"
      ],
      "execution_count": 150,
      "outputs": [
        {
          "output_type": "execute_result",
          "data": {
            "text/plain": [
              "{'activation': 'logistic',\n",
              " 'alpha': 0.051406,\n",
              " 'learning_rate': 0.0086,\n",
              " 'lr_type': 'constant',\n",
              " 'n_units_0': 120,\n",
              " 'n_units_1': 200,\n",
              " 'solver': 'adam'}"
            ]
          },
          "metadata": {},
          "execution_count": 150
        }
      ]
    },
    {
      "cell_type": "code",
      "metadata": {
        "colab": {
          "base_uri": "https://localhost:8080/"
        },
        "id": "u5IyX-noDCIH",
        "outputId": "a012af71-f060-4fa3-9aaf-a769ffad1b03"
      },
      "source": [
        "optuna.trial.Trial(mlp_study, 8).params"
      ],
      "execution_count": 151,
      "outputs": [
        {
          "output_type": "execute_result",
          "data": {
            "text/plain": [
              "{'activation': 'logistic',\n",
              " 'alpha': 0.018556999999999997,\n",
              " 'learning_rate': 0.0045000000000000005,\n",
              " 'lr_type': 'adaptive',\n",
              " 'n_units_0': 110,\n",
              " 'n_units_1': 190,\n",
              " 'solver': 'adam'}"
            ]
          },
          "metadata": {},
          "execution_count": 151
        }
      ]
    },
    {
      "cell_type": "code",
      "metadata": {
        "colab": {
          "base_uri": "https://localhost:8080/"
        },
        "id": "l2BTxVGtDae4",
        "outputId": "8259bec8-f3b4-4ce8-a36e-615be6aad52e"
      },
      "source": [
        "optuna.trial.Trial(mlp_study, 10).params"
      ],
      "execution_count": 152,
      "outputs": [
        {
          "output_type": "execute_result",
          "data": {
            "text/plain": [
              "{'activation': 'logistic',\n",
              " 'alpha': 0.034504,\n",
              " 'learning_rate': 0.01,\n",
              " 'lr_type': 'constant',\n",
              " 'n_units_0': 140,\n",
              " 'n_units_1': 110,\n",
              " 'solver': 'adam'}"
            ]
          },
          "metadata": {},
          "execution_count": 152
        }
      ]
    },
    {
      "cell_type": "markdown",
      "metadata": {
        "id": "FALBdFzcoaA4"
      },
      "source": [
        "Διαλέγουμε 3 από τα καλύτερα trial και κάνμουμε grid search στις παραμέτρους τους"
      ]
    },
    {
      "cell_type": "code",
      "metadata": {
        "id": "_-NMlZwnPB-w",
        "colab": {
          "base_uri": "https://localhost:8080/"
        },
        "outputId": "35ac481f-54d3-47e2-fcc9-3db76a975c66"
      },
      "source": [
        "scaler = StandardScaler()\n",
        "rus = RandomUnderSampler()\n",
        "\n",
        "clf = MLPClassifier(activation = 'logistic',  max_iter = 300, learning_rate = 'constant', early_stopping = True, solver='adam')\n",
        "    \n",
        "pipe = Pipeline(steps=[('scaler', scaler), ('sampler', rus), ('mlp', clf)])\n",
        "\n",
        "lrs = [0.005, 0.01]\n",
        "alphas = [0.03, 0.06]\n",
        "layer_sizes = [(200,120), (140, 110)]\n",
        "\n",
        "params_grid = {'mlp__learning_rate_init': lrs,\n",
        "               'mlp__alpha': alphas,\n",
        "               'mlp__hidden_layer_sizes': layer_sizes,\n",
        "               }\n",
        "\n",
        "estimator = GridSearchCV(pipe, params_grid, cv=5, scoring='f1_macro')\n",
        "estimator.fit(x_train, y_train)"
      ],
      "execution_count": 56,
      "outputs": [
        {
          "output_type": "execute_result",
          "data": {
            "text/plain": [
              "GridSearchCV(cv=5,\n",
              "             estimator=Pipeline(steps=[('scaler', StandardScaler()),\n",
              "                                       ('sampler', RandomUnderSampler()),\n",
              "                                       ('mlp',\n",
              "                                        MLPClassifier(activation='logistic',\n",
              "                                                      early_stopping=True,\n",
              "                                                      max_iter=300))]),\n",
              "             param_grid={'mlp__alpha': [0.03, 0.06],\n",
              "                         'mlp__hidden_layer_sizes': [(200, 120), (140, 110)],\n",
              "                         'mlp__learning_rate_init': [0.005, 0.01]},\n",
              "             scoring='f1_macro')"
            ]
          },
          "metadata": {},
          "execution_count": 56
        }
      ]
    },
    {
      "cell_type": "code",
      "metadata": {
        "colab": {
          "base_uri": "https://localhost:8080/"
        },
        "id": "zkpKb4dWhUoV",
        "outputId": "c3089abd-17d6-4094-f7b5-27441bfae830"
      },
      "source": [
        "preds = estimator.predict(x_test)\n",
        "final_preds_helper['mlp_improved'] = preds\n",
        "final_preds['mlp_improved'] =[f1_score(y_test, preds, average='macro'),accuracy_score(preds, y_test)]\n",
        "print(f'Best parameters: {estimator.best_params_}')\n",
        "print()\n",
        "print('F1 score (macro) ' + str(f1_score(y_test, preds, average='macro')))\n",
        "print(f'Accuracy: {accuracy_score(preds, y_test)}')"
      ],
      "execution_count": 67,
      "outputs": [
        {
          "output_type": "stream",
          "name": "stdout",
          "text": [
            "Best parameters: {'mlp__alpha': 0.03, 'mlp__hidden_layer_sizes': (140, 110), 'mlp__learning_rate_init': 0.01}\n",
            "\n",
            "F1 score (macro) 0.9659215996960782\n",
            "Accuracy: 0.990857946554149\n"
          ]
        }
      ]
    },
    {
      "cell_type": "markdown",
      "metadata": {
        "id": "E9vFAoHCae-W"
      },
      "source": [
        "#### Support Vector Machines"
      ]
    },
    {
      "cell_type": "markdown",
      "metadata": {
        "id": "ffxtQLslEnrW"
      },
      "source": [
        "Για τα SVMs χρειάζεται να μειωθεί το μέγεθος του dataset ακόμα περισσότερο καθώς τώρα με το optuna θα πραγματοποιήσουμε 300 trials. Ετσι κάνουμε resample στο 10% του αρχικού dataset για την μελέτη του χώρου υπερπαραμέτρων κρατώντας όμως σταθερή την αναλογία των κλάσεων."
      ]
    },
    {
      "cell_type": "code",
      "metadata": {
        "colab": {
          "base_uri": "https://localhost:8080/"
        },
        "id": "3aES00lUIdk3",
        "outputId": "4472f37c-ac78-4df0-cf0e-9e7fd195c4cb"
      },
      "source": [
        "sampled_df_10 = kaggle_df_improved.groupby('RainTomorrow', group_keys=False).apply(lambda x: x.sample(frac=0.1))\n",
        "rain_percentage = round((len(sampled_df_10[sampled_df_10.RainTomorrow == 1]) / sampled_df_10.shape[0]) * 100, 2)\n",
        "\n",
        "print('Number of sampled data = ' + str(sampled_df_10.shape[0]))\n",
        "print('Percentage of rain examples in sampled data = ' + str(rain_percentage) + ' %')\n",
        "print('Percentage of no rain examples in sampled dat = ' + str(100 - rain_percentage) + ' %')"
      ],
      "execution_count": 88,
      "outputs": [
        {
          "output_type": "stream",
          "name": "stdout",
          "text": [
            "Number of sampled data = 14220\n",
            "Percentage of rain examples in sampled data = 22.42 %\n",
            "Percentage of no rain examples in sampled dat = 77.58 %\n"
          ]
        }
      ]
    },
    {
      "cell_type": "markdown",
      "metadata": {
        "id": "4sJn4yVNJ0ut"
      },
      "source": [
        "Επιλέγουμε train/test split = 80/20 μιας για την μελέτη των υπερπαραμέτρων μιας και μειώθηκε το dataset."
      ]
    },
    {
      "cell_type": "code",
      "metadata": {
        "colab": {
          "base_uri": "https://localhost:8080/"
        },
        "id": "05mp3t5ZJ0N7",
        "outputId": "20075dbc-0f2d-4b6b-9672-09205de5350d"
      },
      "source": [
        "data_sampled_10 = sampled_df_10.values\n",
        "features_sampled_10 = data_sampled_10[:,:-1]\n",
        "labels_samlped_10 = data_sampled_10[:,-1]\n",
        "x_train_sampled_10, x_test_sampled_10, y_train_sampled_10, y_test_sampled_10 = train_test_split(features_sampled_10, labels_samlped_10, test_size=0.2, shuffle=True)\n",
        "\n",
        "print(f'Train data shape: {x_train_sampled_10.shape}')\n",
        "print(f'Train labels shape: {y_train_sampled_10.shape}')\n",
        "print(f'Test data shape: {x_test_sampled_10.shape}')\n",
        "print(f'Test labels shape: {y_test_sampled_10.shape}')"
      ],
      "execution_count": 89,
      "outputs": [
        {
          "output_type": "stream",
          "name": "stdout",
          "text": [
            "Train data shape: (11376, 117)\n",
            "Train labels shape: (11376,)\n",
            "Test data shape: (2844, 117)\n",
            "Test labels shape: (2844,)\n"
          ]
        }
      ]
    },
    {
      "cell_type": "code",
      "metadata": {
        "id": "7-UM0wMj5Q4g"
      },
      "source": [
        "def svc_objective(trial):\n",
        "\n",
        "    scaler = StandardScaler()\n",
        "    rus = RandomUnderSampler()\n",
        "\n",
        "    components = trial.suggest_int('pca_components', 114, 117)\n",
        "\n",
        "    pca = PCA(n_components= components)\n",
        "\n",
        "    params = {\n",
        "        'C': trial.suggest_loguniform('C',1e-4, 100),\n",
        "        'gamma': trial.suggest_loguniform('gamma', 1e-3, 1e4),\n",
        "        'kernel': trial.suggest_categorical(\"kernel\", [\"rbf\",\"linear\"])\n",
        "    }\n",
        "\n",
        "    clf = SVC(**params)\n",
        "    \n",
        "    pipe = Pipeline(steps=[ ('scaler', scaler),  ('sampler', rus), ('pca', pca),('svc', clf)])\n",
        "    \n",
        "    pipe.fit(x_train_sampled_10, y_train_sampled_10)\n",
        "    preds = pipe.predict(x_test_sampled_10)\n",
        "    goal = f1_score(y_test_sampled_10,preds, average= 'macro')\n",
        "\n",
        "    return goal"
      ],
      "execution_count": 90,
      "outputs": []
    },
    {
      "cell_type": "code",
      "metadata": {
        "colab": {
          "base_uri": "https://localhost:8080/"
        },
        "id": "y5S5blb9hsih",
        "outputId": "180e06e2-d5d3-4af8-dcec-6e79f99cd80d"
      },
      "source": [
        "svc_study = optuna.create_study(direction='maximize')\n",
        "svc_study.optimize(svc_objective, n_trials=300)"
      ],
      "execution_count": 91,
      "outputs": [
        {
          "output_type": "stream",
          "name": "stderr",
          "text": [
            "\u001b[32m[I 2021-11-30 12:42:08,645]\u001b[0m A new study created in memory with name: no-name-39562384-6794-4ae7-8118-1bd40f672c23\u001b[0m\n",
            "\u001b[32m[I 2021-11-30 12:42:09,233]\u001b[0m Trial 0 finished with value: 0.9371986721331989 and parameters: {'pca_components': 115, 'C': 0.10634642642188537, 'gamma': 486.3733331619925, 'kernel': 'linear'}. Best is trial 0 with value: 0.9371986721331989.\u001b[0m\n",
            "\u001b[32m[I 2021-11-30 12:42:10,163]\u001b[0m Trial 1 finished with value: 0.06124690043851618 and parameters: {'pca_components': 114, 'C': 0.5848316765191913, 'gamma': 437.5764585484626, 'kernel': 'rbf'}. Best is trial 0 with value: 0.9371986721331989.\u001b[0m\n",
            "\u001b[32m[I 2021-11-30 12:42:11,119]\u001b[0m Trial 2 finished with value: 0.4446457999134963 and parameters: {'pca_components': 115, 'C': 0.2444467976180649, 'gamma': 0.050617813592433815, 'kernel': 'rbf'}. Best is trial 0 with value: 0.9371986721331989.\u001b[0m\n",
            "\u001b[32m[I 2021-11-30 12:42:11,337]\u001b[0m Trial 3 finished with value: 0.9319652281442987 and parameters: {'pca_components': 115, 'C': 0.6978309361114212, 'gamma': 0.33930156940771006, 'kernel': 'linear'}. Best is trial 0 with value: 0.9371986721331989.\u001b[0m\n",
            "\u001b[32m[I 2021-11-30 12:42:12,265]\u001b[0m Trial 4 finished with value: 0.06085153314400664 and parameters: {'pca_components': 117, 'C': 0.23152409376262512, 'gamma': 10.756228000105603, 'kernel': 'rbf'}. Best is trial 0 with value: 0.9371986721331989.\u001b[0m\n",
            "\u001b[32m[I 2021-11-30 12:42:12,479]\u001b[0m Trial 5 finished with value: 0.9089368798781641 and parameters: {'pca_components': 117, 'C': 28.110451935764377, 'gamma': 2.1958036691094236, 'kernel': 'linear'}. Best is trial 0 with value: 0.9371986721331989.\u001b[0m\n",
            "\u001b[32m[I 2021-11-30 12:42:12,738]\u001b[0m Trial 6 finished with value: 0.9396345527329775 and parameters: {'pca_components': 116, 'C': 2.2007025856921554, 'gamma': 259.09706033316456, 'kernel': 'linear'}. Best is trial 6 with value: 0.9396345527329775.\u001b[0m\n",
            "\u001b[32m[I 2021-11-30 12:42:13,690]\u001b[0m Trial 7 finished with value: 0.06440019721019304 and parameters: {'pca_components': 114, 'C': 0.0016165190295917061, 'gamma': 0.8091986628293327, 'kernel': 'rbf'}. Best is trial 6 with value: 0.9396345527329775.\u001b[0m\n",
            "\u001b[32m[I 2021-11-30 12:42:14,211]\u001b[0m Trial 8 finished with value: 0.6652599776447131 and parameters: {'pca_components': 115, 'C': 0.00010205411899463974, 'gamma': 0.037289040639658516, 'kernel': 'linear'}. Best is trial 6 with value: 0.9396345527329775.\u001b[0m\n",
            "\u001b[32m[I 2021-11-30 12:42:14,896]\u001b[0m Trial 9 finished with value: 0.9371986721331989 and parameters: {'pca_components': 114, 'C': 0.04375036894504869, 'gamma': 1286.7587173334955, 'kernel': 'linear'}. Best is trial 6 with value: 0.9396345527329775.\u001b[0m\n",
            "\u001b[32m[I 2021-11-30 12:42:15,152]\u001b[0m Trial 10 finished with value: 0.8832001700335368 and parameters: {'pca_components': 116, 'C': 93.92805137161508, 'gamma': 30.04259102470367, 'kernel': 'linear'}. Best is trial 6 with value: 0.9396345527329775.\u001b[0m\n",
            "\u001b[32m[I 2021-11-30 12:42:15,446]\u001b[0m Trial 11 finished with value: 0.9144135928563091 and parameters: {'pca_components': 116, 'C': 8.22149849589005, 'gamma': 8882.962593725528, 'kernel': 'linear'}. Best is trial 6 with value: 0.9396345527329775.\u001b[0m\n",
            "\u001b[32m[I 2021-11-30 12:42:15,820]\u001b[0m Trial 12 finished with value: 0.9371986721331989 and parameters: {'pca_components': 116, 'C': 0.009993668548560874, 'gamma': 132.2601655659835, 'kernel': 'linear'}. Best is trial 6 with value: 0.9396345527329775.\u001b[0m\n",
            "\u001b[32m[I 2021-11-30 12:42:16,050]\u001b[0m Trial 13 finished with value: 0.8890745713385638 and parameters: {'pca_components': 116, 'C': 5.262185116009789, 'gamma': 7807.487967239192, 'kernel': 'linear'}. Best is trial 6 with value: 0.9396345527329775.\u001b[0m\n",
            "\u001b[32m[I 2021-11-30 12:42:16,310]\u001b[0m Trial 14 finished with value: 0.8966974536717934 and parameters: {'pca_components': 115, 'C': 2.5638918776087105, 'gamma': 0.0017187098211196696, 'kernel': 'linear'}. Best is trial 6 with value: 0.9396345527329775.\u001b[0m\n",
            "\u001b[32m[I 2021-11-30 12:42:16,641]\u001b[0m Trial 15 finished with value: 0.9371986721331989 and parameters: {'pca_components': 117, 'C': 0.022197269842901608, 'gamma': 63.36039890783051, 'kernel': 'linear'}. Best is trial 6 with value: 0.9396345527329775.\u001b[0m\n",
            "\u001b[32m[I 2021-11-30 12:42:16,997]\u001b[0m Trial 16 finished with value: 0.9371986721331989 and parameters: {'pca_components': 115, 'C': 0.003989126979924491, 'gamma': 1021.2044481862963, 'kernel': 'linear'}. Best is trial 6 with value: 0.9396345527329775.\u001b[0m\n",
            "\u001b[32m[I 2021-11-30 12:42:17,193]\u001b[0m Trial 17 finished with value: 0.9267317841553987 and parameters: {'pca_components': 116, 'C': 1.539628865985304, 'gamma': 8.763081972249497, 'kernel': 'linear'}. Best is trial 6 with value: 0.9396345527329775.\u001b[0m\n",
            "\u001b[32m[I 2021-11-30 12:42:18,081]\u001b[0m Trial 18 finished with value: 0.06085153314400664 and parameters: {'pca_components': 115, 'C': 0.08560272411346523, 'gamma': 328.39086537086916, 'kernel': 'rbf'}. Best is trial 6 with value: 0.9396345527329775.\u001b[0m\n",
            "\u001b[32m[I 2021-11-30 12:42:18,539]\u001b[0m Trial 19 finished with value: 0.6419484684260407 and parameters: {'pca_components': 116, 'C': 0.0004711163448245098, 'gamma': 2328.8590193439177, 'kernel': 'linear'}. Best is trial 6 with value: 0.9396345527329775.\u001b[0m\n",
            "\u001b[32m[I 2021-11-30 12:42:18,820]\u001b[0m Trial 20 finished with value: 0.8925103593295812 and parameters: {'pca_components': 117, 'C': 15.496195542148774, 'gamma': 133.39693506343627, 'kernel': 'linear'}. Best is trial 6 with value: 0.9396345527329775.\u001b[0m\n",
            "\u001b[32m[I 2021-11-30 12:42:19,207]\u001b[0m Trial 21 finished with value: 0.9371986721331989 and parameters: {'pca_components': 115, 'C': 0.005668772454509289, 'gamma': 1142.3127139912883, 'kernel': 'linear'}. Best is trial 6 with value: 0.9396345527329775.\u001b[0m\n",
            "\u001b[32m[I 2021-11-30 12:42:19,595]\u001b[0m Trial 22 finished with value: 0.9055453417573283 and parameters: {'pca_components': 115, 'C': 0.0028550866057290474, 'gamma': 394.3261684000904, 'kernel': 'linear'}. Best is trial 6 with value: 0.9396345527329775.\u001b[0m\n",
            "\u001b[32m[I 2021-11-30 12:42:20,035]\u001b[0m Trial 23 finished with value: 0.6637387791861777 and parameters: {'pca_components': 114, 'C': 0.0007592942643766155, 'gamma': 2827.5135668793623, 'kernel': 'linear'}. Best is trial 6 with value: 0.9396345527329775.\u001b[0m\n",
            "\u001b[32m[I 2021-11-30 12:42:21,327]\u001b[0m Trial 24 finished with value: 0.9371986721331989 and parameters: {'pca_components': 115, 'C': 0.01826735003910562, 'gamma': 32.27207870101274, 'kernel': 'linear'}. Best is trial 6 with value: 0.9396345527329775.\u001b[0m\n",
            "\u001b[32m[I 2021-11-30 12:42:21,576]\u001b[0m Trial 25 finished with value: 0.9371986721331989 and parameters: {'pca_components': 116, 'C': 0.20503739306982474, 'gamma': 182.37127966114755, 'kernel': 'linear'}. Best is trial 6 with value: 0.9396345527329775.\u001b[0m\n",
            "\u001b[32m[I 2021-11-30 12:42:22,504]\u001b[0m Trial 26 finished with value: 0.060455896927651145 and parameters: {'pca_components': 115, 'C': 0.008296793981485907, 'gamma': 814.2330790193398, 'kernel': 'rbf'}. Best is trial 6 with value: 0.9396345527329775.\u001b[0m\n",
            "\u001b[32m[I 2021-11-30 12:42:22,934]\u001b[0m Trial 27 finished with value: 0.9371986721331989 and parameters: {'pca_components': 114, 'C': 0.06587304594347068, 'gamma': 28.141327587631128, 'kernel': 'linear'}. Best is trial 6 with value: 0.9396345527329775.\u001b[0m\n",
            "\u001b[32m[I 2021-11-30 12:42:23,142]\u001b[0m Trial 28 finished with value: 0.9375270784697247 and parameters: {'pca_components': 116, 'C': 0.49916315482009277, 'gamma': 113.14063913962853, 'kernel': 'linear'}. Best is trial 6 with value: 0.9396345527329775.\u001b[0m\n",
            "\u001b[32m[I 2021-11-30 12:42:23,417]\u001b[0m Trial 29 finished with value: 0.9371986721331989 and parameters: {'pca_components': 116, 'C': 0.20409328322831247, 'gamma': 6.327613575311676, 'kernel': 'linear'}. Best is trial 6 with value: 0.9396345527329775.\u001b[0m\n",
            "\u001b[32m[I 2021-11-30 12:42:24,361]\u001b[0m Trial 30 finished with value: 0.0722093330788983 and parameters: {'pca_components': 116, 'C': 0.8309482393923162, 'gamma': 69.75991734243097, 'kernel': 'rbf'}. Best is trial 6 with value: 0.9396345527329775.\u001b[0m\n",
            "\u001b[32m[I 2021-11-30 12:42:25,221]\u001b[0m Trial 31 finished with value: 0.9371986721331989 and parameters: {'pca_components': 114, 'C': 0.06700816900786276, 'gamma': 25.127494923394632, 'kernel': 'linear'}. Best is trial 6 with value: 0.9396345527329775.\u001b[0m\n",
            "\u001b[32m[I 2021-11-30 12:42:25,468]\u001b[0m Trial 32 finished with value: 0.9383690965752771 and parameters: {'pca_components': 116, 'C': 0.39144979608355207, 'gamma': 2.3628863708421384, 'kernel': 'linear'}. Best is trial 6 with value: 0.9396345527329775.\u001b[0m\n",
            "\u001b[32m[I 2021-11-30 12:42:25,713]\u001b[0m Trial 33 finished with value: 0.9371986721331989 and parameters: {'pca_components': 116, 'C': 0.4244241797666, 'gamma': 6.798252914153562, 'kernel': 'linear'}. Best is trial 6 with value: 0.9396345527329775.\u001b[0m\n",
            "\u001b[32m[I 2021-11-30 12:42:26,774]\u001b[0m Trial 34 finished with value: 0.6622477466698572 and parameters: {'pca_components': 117, 'C': 1.5342909023419922, 'gamma': 0.13969020034150442, 'kernel': 'rbf'}. Best is trial 6 with value: 0.9396345527329775.\u001b[0m\n",
            "\u001b[32m[I 2021-11-30 12:42:26,985]\u001b[0m Trial 35 finished with value: 0.9425820067563285 and parameters: {'pca_components': 116, 'C': 0.4402095125560204, 'gamma': 1.7044445209817138, 'kernel': 'linear'}. Best is trial 35 with value: 0.9425820067563285.\u001b[0m\n",
            "\u001b[32m[I 2021-11-30 12:42:27,288]\u001b[0m Trial 36 finished with value: 0.9046394921259402 and parameters: {'pca_components': 116, 'C': 3.189898616518206, 'gamma': 1.7518804852726715, 'kernel': 'linear'}. Best is trial 35 with value: 0.9425820067563285.\u001b[0m\n",
            "\u001b[32m[I 2021-11-30 12:42:27,531]\u001b[0m Trial 37 finished with value: 0.9505938197670734 and parameters: {'pca_components': 117, 'C': 0.45517245251456495, 'gamma': 0.7176794884140573, 'kernel': 'linear'}. Best is trial 37 with value: 0.9505938197670734.\u001b[0m\n",
            "\u001b[32m[I 2021-11-30 12:42:27,922]\u001b[0m Trial 38 finished with value: 0.8956727712291341 and parameters: {'pca_components': 117, 'C': 1.1174515417294943, 'gamma': 0.8381099668687987, 'kernel': 'linear'}. Best is trial 37 with value: 0.9505938197670734.\u001b[0m\n",
            "\u001b[32m[I 2021-11-30 12:42:29,021]\u001b[0m Trial 39 finished with value: 0.5884339209173477 and parameters: {'pca_components': 117, 'C': 0.31868466221759706, 'gamma': 0.19584735690756375, 'kernel': 'rbf'}. Best is trial 37 with value: 0.9505938197670734.\u001b[0m\n",
            "\u001b[32m[I 2021-11-30 12:42:29,345]\u001b[0m Trial 40 finished with value: 0.9371986721331989 and parameters: {'pca_components': 117, 'C': 0.14492542574596334, 'gamma': 0.023795874157633526, 'kernel': 'linear'}. Best is trial 37 with value: 0.9505938197670734.\u001b[0m\n",
            "\u001b[32m[I 2021-11-30 12:42:29,617]\u001b[0m Trial 41 finished with value: 0.9210721348931099 and parameters: {'pca_components': 116, 'C': 0.532090762855898, 'gamma': 0.7924834324281902, 'kernel': 'linear'}. Best is trial 37 with value: 0.9505938197670734.\u001b[0m\n",
            "\u001b[32m[I 2021-11-30 12:42:29,840]\u001b[0m Trial 42 finished with value: 0.9035303326810176 and parameters: {'pca_components': 116, 'C': 2.7558955731719172, 'gamma': 4.25376496295238, 'kernel': 'linear'}. Best is trial 37 with value: 0.9505938197670734.\u001b[0m\n",
            "\u001b[32m[I 2021-11-30 12:42:30,081]\u001b[0m Trial 43 finished with value: 0.9431032485378252 and parameters: {'pca_components': 116, 'C': 0.6532042836198076, 'gamma': 2.2214933628751723, 'kernel': 'linear'}. Best is trial 37 with value: 0.9505938197670734.\u001b[0m\n",
            "\u001b[32m[I 2021-11-30 12:42:30,374]\u001b[0m Trial 44 finished with value: 0.8832660198511144 and parameters: {'pca_components': 117, 'C': 6.838384158555225, 'gamma': 2.0212682901433308, 'kernel': 'linear'}. Best is trial 37 with value: 0.9505938197670734.\u001b[0m\n",
            "\u001b[32m[I 2021-11-30 12:42:30,624]\u001b[0m Trial 45 finished with value: 0.9481607672408354 and parameters: {'pca_components': 116, 'C': 0.7047935919908435, 'gamma': 0.5011243923205938, 'kernel': 'linear'}. Best is trial 37 with value: 0.9505938197670734.\u001b[0m\n",
            "\u001b[32m[I 2021-11-30 12:42:30,890]\u001b[0m Trial 46 finished with value: 0.8867405817365447 and parameters: {'pca_components': 116, 'C': 35.787507867871746, 'gamma': 0.07068921251052777, 'kernel': 'linear'}. Best is trial 37 with value: 0.9505938197670734.\u001b[0m\n",
            "\u001b[32m[I 2021-11-30 12:42:31,153]\u001b[0m Trial 47 finished with value: 0.9417803246518612 and parameters: {'pca_components': 117, 'C': 0.9705089157319008, 'gamma': 0.5072922216329667, 'kernel': 'linear'}. Best is trial 37 with value: 0.9505938197670734.\u001b[0m\n",
            "\u001b[32m[I 2021-11-30 12:42:31,452]\u001b[0m Trial 48 finished with value: 0.9375270784697247 and parameters: {'pca_components': 117, 'C': 0.930052219185159, 'gamma': 0.42306214523126406, 'kernel': 'linear'}. Best is trial 37 with value: 0.9505938197670734.\u001b[0m\n",
            "\u001b[32m[I 2021-11-30 12:42:31,762]\u001b[0m Trial 49 finished with value: 0.9342877475762252 and parameters: {'pca_components': 117, 'C': 0.03578213838323749, 'gamma': 0.008629750048169378, 'kernel': 'linear'}. Best is trial 37 with value: 0.9505938197670734.\u001b[0m\n",
            "\u001b[32m[I 2021-11-30 12:42:32,829]\u001b[0m Trial 50 finished with value: 0.06282568700759475 and parameters: {'pca_components': 117, 'C': 0.12817667258278745, 'gamma': 0.4130723820350101, 'kernel': 'rbf'}. Best is trial 37 with value: 0.9505938197670734.\u001b[0m\n",
            "\u001b[32m[I 2021-11-30 12:42:33,078]\u001b[0m Trial 51 finished with value: 0.9428439228552801 and parameters: {'pca_components': 116, 'C': 1.7230450710416203, 'gamma': 1.0679790381769607, 'kernel': 'linear'}. Best is trial 37 with value: 0.9505938197670734.\u001b[0m\n",
            "\u001b[32m[I 2021-11-30 12:42:33,360]\u001b[0m Trial 52 finished with value: 0.9000291193332843 and parameters: {'pca_components': 117, 'C': 3.883842619310661, 'gamma': 1.038552492635058, 'kernel': 'linear'}. Best is trial 37 with value: 0.9505938197670734.\u001b[0m\n",
            "\u001b[32m[I 2021-11-30 12:42:33,609]\u001b[0m Trial 53 finished with value: 0.9173542265091482 and parameters: {'pca_components': 116, 'C': 12.108773382195121, 'gamma': 0.231568844849394, 'kernel': 'linear'}. Best is trial 37 with value: 0.9505938197670734.\u001b[0m\n",
            "\u001b[32m[I 2021-11-30 12:42:33,874]\u001b[0m Trial 54 finished with value: 0.9345701937455836 and parameters: {'pca_components': 116, 'C': 0.6627840281686236, 'gamma': 0.0865089369812047, 'kernel': 'linear'}. Best is trial 37 with value: 0.9505938197670734.\u001b[0m\n",
            "\u001b[32m[I 2021-11-30 12:42:34,092]\u001b[0m Trial 55 finished with value: 0.9351641669384522 and parameters: {'pca_components': 116, 'C': 1.579843455726044, 'gamma': 12.841805603339338, 'kernel': 'linear'}. Best is trial 37 with value: 0.9505938197670734.\u001b[0m\n",
            "\u001b[32m[I 2021-11-30 12:42:34,368]\u001b[0m Trial 56 finished with value: 0.9342877475762252 and parameters: {'pca_components': 117, 'C': 0.23877842275155167, 'gamma': 1.2844015028673308, 'kernel': 'linear'}. Best is trial 37 with value: 0.9505938197670734.\u001b[0m\n",
            "\u001b[32m[I 2021-11-30 12:42:34,626]\u001b[0m Trial 57 finished with value: 0.9386442973044307 and parameters: {'pca_components': 116, 'C': 1.1651331143103676, 'gamma': 3.6405271141704625, 'kernel': 'linear'}. Best is trial 37 with value: 0.9505938197670734.\u001b[0m\n",
            "\u001b[32m[I 2021-11-30 12:42:34,888]\u001b[0m Trial 58 finished with value: 0.9155413895858847 and parameters: {'pca_components': 117, 'C': 4.73234399529528, 'gamma': 0.6619173991595714, 'kernel': 'linear'}. Best is trial 37 with value: 0.9505938197670734.\u001b[0m\n",
            "\u001b[32m[I 2021-11-30 12:42:35,148]\u001b[0m Trial 59 finished with value: 0.9464465481836701 and parameters: {'pca_components': 116, 'C': 2.1664349230245232, 'gamma': 0.02406999356028705, 'kernel': 'linear'}. Best is trial 37 with value: 0.9505938197670734.\u001b[0m\n",
            "\u001b[32m[I 2021-11-30 12:42:35,406]\u001b[0m Trial 60 finished with value: 0.9203058900097625 and parameters: {'pca_components': 116, 'C': 2.0498956159675306, 'gamma': 0.011878775363470337, 'kernel': 'linear'}. Best is trial 37 with value: 0.9505938197670734.\u001b[0m\n",
            "\u001b[32m[I 2021-11-30 12:42:35,700]\u001b[0m Trial 61 finished with value: 0.9308116544071239 and parameters: {'pca_components': 116, 'C': 0.8544086125649974, 'gamma': 0.004401947256431485, 'kernel': 'linear'}. Best is trial 37 with value: 0.9505938197670734.\u001b[0m\n",
            "\u001b[32m[I 2021-11-30 12:42:35,967]\u001b[0m Trial 62 finished with value: 0.9351641669384522 and parameters: {'pca_components': 116, 'C': 2.0805873090652764, 'gamma': 0.031490413962690436, 'kernel': 'linear'}. Best is trial 37 with value: 0.9505938197670734.\u001b[0m\n",
            "\u001b[32m[I 2021-11-30 12:42:36,233]\u001b[0m Trial 63 finished with value: 0.9395447277701272 and parameters: {'pca_components': 116, 'C': 0.2997979581578827, 'gamma': 0.4953583105089065, 'kernel': 'linear'}. Best is trial 37 with value: 0.9505938197670734.\u001b[0m\n",
            "\u001b[32m[I 2021-11-30 12:42:36,541]\u001b[0m Trial 64 finished with value: 0.8907048079543312 and parameters: {'pca_components': 115, 'C': 7.2858751352182844, 'gamma': 0.1224387088729097, 'kernel': 'linear'}. Best is trial 37 with value: 0.9505938197670734.\u001b[0m\n",
            "\u001b[32m[I 2021-11-30 12:42:36,806]\u001b[0m Trial 65 finished with value: 0.9464651769529198 and parameters: {'pca_components': 117, 'C': 0.5821914532540947, 'gamma': 0.2623431864347238, 'kernel': 'linear'}. Best is trial 37 with value: 0.9505938197670734.\u001b[0m\n",
            "\u001b[32m[I 2021-11-30 12:42:37,035]\u001b[0m Trial 66 finished with value: 0.9270580864289129 and parameters: {'pca_components': 116, 'C': 0.5971345764328004, 'gamma': 0.251169122507319, 'kernel': 'linear'}. Best is trial 37 with value: 0.9505938197670734.\u001b[0m\n",
            "\u001b[32m[I 2021-11-30 12:42:37,374]\u001b[0m Trial 67 finished with value: 0.9342877475762252 and parameters: {'pca_components': 116, 'C': 0.14464571369548826, 'gamma': 1.475348080350822, 'kernel': 'linear'}. Best is trial 37 with value: 0.9505938197670734.\u001b[0m\n",
            "\u001b[32m[I 2021-11-30 12:42:38,353]\u001b[0m Trial 68 finished with value: 0.06164199914199914 and parameters: {'pca_components': 115, 'C': 17.68540407797191, 'gamma': 4.309938177778378, 'kernel': 'rbf'}. Best is trial 37 with value: 0.9505938197670734.\u001b[0m\n",
            "\u001b[32m[I 2021-11-30 12:42:38,547]\u001b[0m Trial 69 finished with value: 0.9476832790352472 and parameters: {'pca_components': 116, 'C': 1.4225879928252547, 'gamma': 3.055938908760905, 'kernel': 'linear'}. Best is trial 37 with value: 0.9505938197670734.\u001b[0m\n",
            "\u001b[32m[I 2021-11-30 12:42:38,828]\u001b[0m Trial 70 finished with value: 0.9278787300348987 and parameters: {'pca_components': 116, 'C': 1.7070594823883634, 'gamma': 0.05052941361470834, 'kernel': 'linear'}. Best is trial 37 with value: 0.9505938197670734.\u001b[0m\n",
            "\u001b[32m[I 2021-11-30 12:42:39,065]\u001b[0m Trial 71 finished with value: 0.9411116946482118 and parameters: {'pca_components': 116, 'C': 0.39864599683059043, 'gamma': 2.1034871089530105, 'kernel': 'linear'}. Best is trial 37 with value: 0.9505938197670734.\u001b[0m\n",
            "\u001b[32m[I 2021-11-30 12:42:39,268]\u001b[0m Trial 72 finished with value: 0.9251191632695677 and parameters: {'pca_components': 116, 'C': 3.190706608045079, 'gamma': 16.112479353451373, 'kernel': 'linear'}. Best is trial 37 with value: 0.9505938197670734.\u001b[0m\n",
            "\u001b[32m[I 2021-11-30 12:42:39,477]\u001b[0m Trial 73 finished with value: 0.9192428814034392 and parameters: {'pca_components': 116, 'C': 1.2342215898994158, 'gamma': 0.3256584644187063, 'kernel': 'linear'}. Best is trial 37 with value: 0.9505938197670734.\u001b[0m\n",
            "\u001b[32m[I 2021-11-30 12:42:39,711]\u001b[0m Trial 74 finished with value: 0.9440455400574123 and parameters: {'pca_components': 116, 'C': 0.6364818056075775, 'gamma': 2.9655040819576888, 'kernel': 'linear'}. Best is trial 37 with value: 0.9505938197670734.\u001b[0m\n",
            "\u001b[32m[I 2021-11-30 12:42:39,959]\u001b[0m Trial 75 finished with value: 0.9366310160427808 and parameters: {'pca_components': 116, 'C': 0.6285106670517324, 'gamma': 2.8576012376153934, 'kernel': 'linear'}. Best is trial 37 with value: 0.9505938197670734.\u001b[0m\n",
            "\u001b[32m[I 2021-11-30 12:42:40,243]\u001b[0m Trial 76 finished with value: 0.9371986721331989 and parameters: {'pca_components': 116, 'C': 0.19734177254824603, 'gamma': 9.171601304700536, 'kernel': 'linear'}. Best is trial 37 with value: 0.9505938197670734.\u001b[0m\n",
            "\u001b[32m[I 2021-11-30 12:42:40,596]\u001b[0m Trial 77 finished with value: 0.9371986721331989 and parameters: {'pca_components': 117, 'C': 0.08805242008871576, 'gamma': 0.0011843989327407348, 'kernel': 'linear'}. Best is trial 37 with value: 0.9505938197670734.\u001b[0m\n",
            "\u001b[32m[I 2021-11-30 12:42:40,807]\u001b[0m Trial 78 finished with value: 0.9118870097593501 and parameters: {'pca_components': 115, 'C': 2.3021506308599573, 'gamma': 0.13629994939631979, 'kernel': 'linear'}. Best is trial 37 with value: 0.9505938197670734.\u001b[0m\n",
            "\u001b[32m[I 2021-11-30 12:42:41,798]\u001b[0m Trial 79 finished with value: 0.06164199914199914 and parameters: {'pca_components': 117, 'C': 5.232592183453111, 'gamma': 6.938061365987353, 'kernel': 'rbf'}. Best is trial 37 with value: 0.9505938197670734.\u001b[0m\n",
            "\u001b[32m[I 2021-11-30 12:42:42,019]\u001b[0m Trial 80 finished with value: 0.9371986721331989 and parameters: {'pca_components': 116, 'C': 0.3187671914841243, 'gamma': 5.0988552148890225, 'kernel': 'linear'}. Best is trial 37 with value: 0.9505938197670734.\u001b[0m\n",
            "\u001b[32m[I 2021-11-30 12:42:42,258]\u001b[0m Trial 81 finished with value: 0.9221941753239173 and parameters: {'pca_components': 116, 'C': 0.6483326550022254, 'gamma': 1.0163305917703138, 'kernel': 'linear'}. Best is trial 37 with value: 0.9505938197670734.\u001b[0m\n",
            "\u001b[32m[I 2021-11-30 12:42:42,523]\u001b[0m Trial 82 finished with value: 0.931038213245841 and parameters: {'pca_components': 116, 'C': 0.43634477356496837, 'gamma': 2.78040133580811, 'kernel': 'linear'}. Best is trial 37 with value: 0.9505938197670734.\u001b[0m\n",
            "\u001b[32m[I 2021-11-30 12:42:42,760]\u001b[0m Trial 83 finished with value: 0.919549008910711 and parameters: {'pca_components': 116, 'C': 1.5363710069148613, 'gamma': 0.6626220395239224, 'kernel': 'linear'}. Best is trial 37 with value: 0.9505938197670734.\u001b[0m\n",
            "\u001b[32m[I 2021-11-30 12:42:43,310]\u001b[0m Trial 84 finished with value: 0.6549167005282406 and parameters: {'pca_components': 116, 'C': 0.00012200763519658862, 'gamma': 1.3899283522770447, 'kernel': 'linear'}. Best is trial 37 with value: 0.9505938197670734.\u001b[0m\n",
            "\u001b[32m[I 2021-11-30 12:42:43,541]\u001b[0m Trial 85 finished with value: 0.9551105233327035 and parameters: {'pca_components': 116, 'C': 0.8668551398579317, 'gamma': 1.8697580958580036, 'kernel': 'linear'}. Best is trial 85 with value: 0.9551105233327035.\u001b[0m\n",
            "\u001b[32m[I 2021-11-30 12:42:43,848]\u001b[0m Trial 86 finished with value: 0.9511440940012368 and parameters: {'pca_components': 116, 'C': 1.1124349791603974, 'gamma': 0.1937386690307288, 'kernel': 'linear'}. Best is trial 85 with value: 0.9551105233327035.\u001b[0m\n",
            "\u001b[32m[I 2021-11-30 12:42:44,093]\u001b[0m Trial 87 finished with value: 0.9553197840351493 and parameters: {'pca_components': 117, 'C': 0.9932872716824669, 'gamma': 0.19396090525802226, 'kernel': 'linear'}. Best is trial 87 with value: 0.9553197840351493.\u001b[0m\n",
            "\u001b[32m[I 2021-11-30 12:42:44,372]\u001b[0m Trial 88 finished with value: 0.9428439228552801 and parameters: {'pca_components': 117, 'C': 1.0900974730456454, 'gamma': 0.08931071434547284, 'kernel': 'linear'}. Best is trial 87 with value: 0.9553197840351493.\u001b[0m\n",
            "\u001b[32m[I 2021-11-30 12:42:44,612]\u001b[0m Trial 89 finished with value: 0.9092265378779036 and parameters: {'pca_components': 117, 'C': 3.056154761469515, 'gamma': 0.01586129470013102, 'kernel': 'linear'}. Best is trial 87 with value: 0.9553197840351493.\u001b[0m\n",
            "\u001b[32m[I 2021-11-30 12:42:44,868]\u001b[0m Trial 90 finished with value: 0.9211452970914703 and parameters: {'pca_components': 117, 'C': 0.8378288017692557, 'gamma': 0.050419786840259294, 'kernel': 'linear'}. Best is trial 87 with value: 0.9553197840351493.\u001b[0m\n",
            "\u001b[32m[I 2021-11-30 12:42:45,127]\u001b[0m Trial 91 finished with value: 0.9513712228438982 and parameters: {'pca_components': 117, 'C': 0.27496295527789955, 'gamma': 0.29670806583044174, 'kernel': 'linear'}. Best is trial 87 with value: 0.9553197840351493.\u001b[0m\n",
            "\u001b[32m[I 2021-11-30 12:42:45,406]\u001b[0m Trial 92 finished with value: 0.9371986721331989 and parameters: {'pca_components': 117, 'C': 0.18767956559415538, 'gamma': 0.3293910153225364, 'kernel': 'linear'}. Best is trial 87 with value: 0.9553197840351493.\u001b[0m\n",
            "\u001b[32m[I 2021-11-30 12:42:45,635]\u001b[0m Trial 93 finished with value: 0.9268929880712021 and parameters: {'pca_components': 117, 'C': 1.2120010494981988, 'gamma': 0.18087278028713497, 'kernel': 'linear'}. Best is trial 87 with value: 0.9553197840351493.\u001b[0m\n",
            "\u001b[32m[I 2021-11-30 12:42:45,893]\u001b[0m Trial 94 finished with value: 0.9440455400574123 and parameters: {'pca_components': 117, 'C': 0.5363696794569598, 'gamma': 0.2758333346684262, 'kernel': 'linear'}. Best is trial 87 with value: 0.9553197840351493.\u001b[0m\n",
            "\u001b[32m[I 2021-11-30 12:42:46,153]\u001b[0m Trial 95 finished with value: 0.9392713903743315 and parameters: {'pca_components': 117, 'C': 0.28345408419585705, 'gamma': 0.5723219529053964, 'kernel': 'linear'}. Best is trial 87 with value: 0.9553197840351493.\u001b[0m\n",
            "\u001b[32m[I 2021-11-30 12:42:47,175]\u001b[0m Trial 96 finished with value: 0.07645994656534341 and parameters: {'pca_components': 117, 'C': 0.10611825765808618, 'gamma': 0.16978057650500744, 'kernel': 'rbf'}. Best is trial 87 with value: 0.9553197840351493.\u001b[0m\n",
            "\u001b[32m[I 2021-11-30 12:42:47,396]\u001b[0m Trial 97 finished with value: 0.9217626714446198 and parameters: {'pca_components': 117, 'C': 0.7664197126784363, 'gamma': 0.10533628316304455, 'kernel': 'linear'}. Best is trial 87 with value: 0.9553197840351493.\u001b[0m\n",
            "\u001b[32m[I 2021-11-30 12:42:47,640]\u001b[0m Trial 98 finished with value: 0.9371986721331989 and parameters: {'pca_components': 117, 'C': 0.3736759972856694, 'gamma': 0.27041368452226094, 'kernel': 'linear'}. Best is trial 87 with value: 0.9553197840351493.\u001b[0m\n",
            "\u001b[32m[I 2021-11-30 12:42:47,927]\u001b[0m Trial 99 finished with value: 0.9513712228438982 and parameters: {'pca_components': 117, 'C': 0.5284785234603124, 'gamma': 0.06469755940385107, 'kernel': 'linear'}. Best is trial 87 with value: 0.9553197840351493.\u001b[0m\n",
            "\u001b[32m[I 2021-11-30 12:42:48,252]\u001b[0m Trial 100 finished with value: 0.9371986721331989 and parameters: {'pca_components': 117, 'C': 0.055150002576005795, 'gamma': 0.05902151460201286, 'kernel': 'linear'}. Best is trial 87 with value: 0.9553197840351493.\u001b[0m\n",
            "\u001b[32m[I 2021-11-30 12:42:48,502]\u001b[0m Trial 101 finished with value: 0.9452526110932435 and parameters: {'pca_components': 117, 'C': 1.3161306380938929, 'gamma': 0.035550268233526104, 'kernel': 'linear'}. Best is trial 87 with value: 0.9553197840351493.\u001b[0m\n",
            "\u001b[32m[I 2021-11-30 12:42:48,729]\u001b[0m Trial 102 finished with value: 0.919549008910711 and parameters: {'pca_components': 117, 'C': 1.3361269435009355, 'gamma': 0.03946473722381208, 'kernel': 'linear'}. Best is trial 87 with value: 0.9553197840351493.\u001b[0m\n",
            "\u001b[32m[I 2021-11-30 12:42:48,966]\u001b[0m Trial 103 finished with value: 0.9291483350855253 and parameters: {'pca_components': 117, 'C': 2.4221346972823596, 'gamma': 0.01947192489433887, 'kernel': 'linear'}. Best is trial 87 with value: 0.9553197840351493.\u001b[0m\n",
            "\u001b[32m[I 2021-11-30 12:42:49,191]\u001b[0m Trial 104 finished with value: 0.9389953424867055 and parameters: {'pca_components': 117, 'C': 0.9471661303007862, 'gamma': 0.034328093586155906, 'kernel': 'linear'}. Best is trial 87 with value: 0.9553197840351493.\u001b[0m\n",
            "\u001b[32m[I 2021-11-30 12:42:49,450]\u001b[0m Trial 105 finished with value: 0.9371986721331989 and parameters: {'pca_components': 117, 'C': 0.2587514190223954, 'gamma': 0.0037040147364361033, 'kernel': 'linear'}. Best is trial 87 with value: 0.9553197840351493.\u001b[0m\n",
            "\u001b[32m[I 2021-11-30 12:42:49,698]\u001b[0m Trial 106 finished with value: 0.9233211244370617 and parameters: {'pca_components': 117, 'C': 3.567364464691152, 'gamma': 0.08157334688007904, 'kernel': 'linear'}. Best is trial 87 with value: 0.9553197840351493.\u001b[0m\n",
            "\u001b[32m[I 2021-11-30 12:42:49,997]\u001b[0m Trial 107 finished with value: 0.952389948989231 and parameters: {'pca_components': 117, 'C': 0.4906762056401861, 'gamma': 0.007558227987931685, 'kernel': 'linear'}. Best is trial 87 with value: 0.9553197840351493.\u001b[0m\n",
            "\u001b[32m[I 2021-11-30 12:42:50,234]\u001b[0m Trial 108 finished with value: 0.9401855006625024 and parameters: {'pca_components': 117, 'C': 0.5102444555108382, 'gamma': 0.005660258043051154, 'kernel': 'linear'}. Best is trial 87 with value: 0.9553197840351493.\u001b[0m\n",
            "\u001b[32m[I 2021-11-30 12:42:50,502]\u001b[0m Trial 109 finished with value: 0.9342877475762252 and parameters: {'pca_components': 117, 'C': 0.14262070789004286, 'gamma': 0.3842592162017454, 'kernel': 'linear'}. Best is trial 87 with value: 0.9553197840351493.\u001b[0m\n",
            "\u001b[32m[I 2021-11-30 12:42:50,765]\u001b[0m Trial 110 finished with value: 0.9371986721331989 and parameters: {'pca_components': 117, 'C': 0.1931810737960886, 'gamma': 0.19104714983984664, 'kernel': 'linear'}. Best is trial 87 with value: 0.9553197840351493.\u001b[0m\n",
            "\u001b[32m[I 2021-11-30 12:42:51,049]\u001b[0m Trial 111 finished with value: 0.9369516439655543 and parameters: {'pca_components': 117, 'C': 0.8068790706470943, 'gamma': 0.7216807224368473, 'kernel': 'linear'}. Best is trial 87 with value: 0.9553197840351493.\u001b[0m\n",
            "\u001b[32m[I 2021-11-30 12:42:51,314]\u001b[0m Trial 112 finished with value: 0.9342877475762252 and parameters: {'pca_components': 117, 'C': 1.7714982766156167, 'gamma': 0.00959401528084054, 'kernel': 'linear'}. Best is trial 87 with value: 0.9553197840351493.\u001b[0m\n",
            "\u001b[32m[I 2021-11-30 12:42:51,585]\u001b[0m Trial 113 finished with value: 0.9493745362424206 and parameters: {'pca_components': 117, 'C': 0.43988740860029085, 'gamma': 0.019031953444098585, 'kernel': 'linear'}. Best is trial 87 with value: 0.9553197840351493.\u001b[0m\n",
            "\u001b[32m[I 2021-11-30 12:42:51,841]\u001b[0m Trial 114 finished with value: 0.9389953424867055 and parameters: {'pca_components': 117, 'C': 0.34651363477144553, 'gamma': 0.026233191103479114, 'kernel': 'linear'}. Best is trial 87 with value: 0.9553197840351493.\u001b[0m\n",
            "\u001b[32m[I 2021-11-30 12:42:52,139]\u001b[0m Trial 115 finished with value: 0.9548991198667907 and parameters: {'pca_components': 117, 'C': 0.45897365700007536, 'gamma': 0.016507557885221884, 'kernel': 'linear'}. Best is trial 87 with value: 0.9553197840351493.\u001b[0m\n",
            "\u001b[32m[I 2021-11-30 12:42:53,137]\u001b[0m Trial 116 finished with value: 0.740613504393032 and parameters: {'pca_components': 117, 'C': 0.24635610971352515, 'gamma': 0.01611132488470486, 'kernel': 'rbf'}. Best is trial 87 with value: 0.9553197840351493.\u001b[0m\n",
            "\u001b[32m[I 2021-11-30 12:42:53,342]\u001b[0m Trial 117 finished with value: 0.9407256041954305 and parameters: {'pca_components': 117, 'C': 0.46613148980197877, 'gamma': 0.0058500789971805325, 'kernel': 'linear'}. Best is trial 87 with value: 0.9553197840351493.\u001b[0m\n",
            "\u001b[32m[I 2021-11-30 12:42:53,591]\u001b[0m Trial 118 finished with value: 0.9471961084051764 and parameters: {'pca_components': 117, 'C': 0.37626163545801505, 'gamma': 0.47712202500746687, 'kernel': 'linear'}. Best is trial 87 with value: 0.9553197840351493.\u001b[0m\n",
            "\u001b[32m[I 2021-11-30 12:42:53,858]\u001b[0m Trial 119 finished with value: 0.9383690965752771 and parameters: {'pca_components': 117, 'C': 0.17189167702293767, 'gamma': 0.8938546814513024, 'kernel': 'linear'}. Best is trial 87 with value: 0.9553197840351493.\u001b[0m\n",
            "\u001b[32m[I 2021-11-30 12:42:54,117]\u001b[0m Trial 120 finished with value: 0.941381041964908 and parameters: {'pca_components': 117, 'C': 0.37036428708364477, 'gamma': 0.010696684389869938, 'kernel': 'linear'}. Best is trial 87 with value: 0.9553197840351493.\u001b[0m\n",
            "\u001b[32m[I 2021-11-30 12:42:54,390]\u001b[0m Trial 121 finished with value: 0.9501362595371015 and parameters: {'pca_components': 117, 'C': 0.5037195817836359, 'gamma': 0.23133568168222787, 'kernel': 'linear'}. Best is trial 87 with value: 0.9553197840351493.\u001b[0m\n",
            "\u001b[32m[I 2021-11-30 12:42:54,655]\u001b[0m Trial 122 finished with value: 0.9301879338301736 and parameters: {'pca_components': 117, 'C': 0.7729470279268734, 'gamma': 0.4727042108255031, 'kernel': 'linear'}. Best is trial 87 with value: 0.9553197840351493.\u001b[0m\n",
            "\u001b[32m[I 2021-11-30 12:42:54,897]\u001b[0m Trial 123 finished with value: 0.9357582123435038 and parameters: {'pca_components': 117, 'C': 0.47532656291095654, 'gamma': 0.0022892498525199072, 'kernel': 'linear'}. Best is trial 87 with value: 0.9553197840351493.\u001b[0m\n",
            "\u001b[32m[I 2021-11-30 12:42:55,165]\u001b[0m Trial 124 finished with value: 0.935456769012802 and parameters: {'pca_components': 117, 'C': 0.2793578050944598, 'gamma': 0.152805191212234, 'kernel': 'linear'}. Best is trial 87 with value: 0.9553197840351493.\u001b[0m\n",
            "\u001b[32m[I 2021-11-30 12:42:55,407]\u001b[0m Trial 125 finished with value: 0.935456769012802 and parameters: {'pca_components': 117, 'C': 1.0696210256360479, 'gamma': 0.006975871839759169, 'kernel': 'linear'}. Best is trial 87 with value: 0.9553197840351493.\u001b[0m\n",
            "\u001b[32m[I 2021-11-30 12:42:55,651]\u001b[0m Trial 126 finished with value: 0.941647718900327 and parameters: {'pca_components': 114, 'C': 0.3789463483309354, 'gamma': 0.11598474981436749, 'kernel': 'linear'}. Best is trial 87 with value: 0.9553197840351493.\u001b[0m\n",
            "\u001b[32m[I 2021-11-30 12:42:55,911]\u001b[0m Trial 127 finished with value: 0.9342877475762252 and parameters: {'pca_components': 117, 'C': 0.6478820189436979, 'gamma': 0.06472549651008004, 'kernel': 'linear'}. Best is trial 87 with value: 0.9553197840351493.\u001b[0m\n",
            "\u001b[32m[I 2021-11-30 12:42:56,172]\u001b[0m Trial 128 finished with value: 0.9207218405196741 and parameters: {'pca_components': 117, 'C': 0.9948758865550191, 'gamma': 1.3143959747424863, 'kernel': 'linear'}. Best is trial 87 with value: 0.9553197840351493.\u001b[0m\n",
            "\u001b[32m[I 2021-11-30 12:42:56,438]\u001b[0m Trial 129 finished with value: 0.9419117647058823 and parameters: {'pca_components': 117, 'C': 0.23063256802533452, 'gamma': 0.31333834357864826, 'kernel': 'linear'}. Best is trial 87 with value: 0.9553197840351493.\u001b[0m\n",
            "\u001b[32m[I 2021-11-30 12:42:56,748]\u001b[0m Trial 130 finished with value: 0.9371986721331989 and parameters: {'pca_components': 117, 'C': 0.12473769342113432, 'gamma': 0.5426174860545465, 'kernel': 'linear'}. Best is trial 87 with value: 0.9553197840351493.\u001b[0m\n",
            "\u001b[32m[I 2021-11-30 12:42:56,995]\u001b[0m Trial 131 finished with value: 0.9499040002818341 and parameters: {'pca_components': 117, 'C': 0.47380523325348284, 'gamma': 0.22820374355355985, 'kernel': 'linear'}. Best is trial 87 with value: 0.9553197840351493.\u001b[0m\n",
            "\u001b[32m[I 2021-11-30 12:42:57,260]\u001b[0m Trial 132 finished with value: 0.9467100381499165 and parameters: {'pca_components': 117, 'C': 0.4362625912758557, 'gamma': 0.2154761598873596, 'kernel': 'linear'}. Best is trial 87 with value: 0.9553197840351493.\u001b[0m\n",
            "\u001b[32m[I 2021-11-30 12:42:57,506]\u001b[0m Trial 133 finished with value: 0.9476832790352472 and parameters: {'pca_components': 117, 'C': 0.5886971248995586, 'gamma': 0.4518569122297044, 'kernel': 'linear'}. Best is trial 87 with value: 0.9553197840351493.\u001b[0m\n",
            "\u001b[32m[I 2021-11-30 12:42:57,759]\u001b[0m Trial 134 finished with value: 0.934868656276947 and parameters: {'pca_components': 117, 'C': 0.5608011754907058, 'gamma': 0.11955402029871076, 'kernel': 'linear'}. Best is trial 87 with value: 0.9553197840351493.\u001b[0m\n",
            "\u001b[32m[I 2021-11-30 12:42:57,998]\u001b[0m Trial 135 finished with value: 0.9351641669384522 and parameters: {'pca_components': 117, 'C': 0.7550709050479399, 'gamma': 0.014326224445867822, 'kernel': 'linear'}. Best is trial 87 with value: 0.9553197840351493.\u001b[0m\n",
            "\u001b[32m[I 2021-11-30 12:42:58,243]\u001b[0m Trial 136 finished with value: 0.9085369416558599 and parameters: {'pca_components': 117, 'C': 1.6105214908876002, 'gamma': 0.8558555690860588, 'kernel': 'linear'}. Best is trial 87 with value: 0.9553197840351493.\u001b[0m\n",
            "\u001b[32m[I 2021-11-30 12:42:58,955]\u001b[0m Trial 137 finished with value: 0.9328223514214878 and parameters: {'pca_components': 117, 'C': 1.1812914767358351, 'gamma': 0.003354648903580866, 'kernel': 'rbf'}. Best is trial 87 with value: 0.9553197840351493.\u001b[0m\n",
            "\u001b[32m[I 2021-11-30 12:42:59,174]\u001b[0m Trial 138 finished with value: 0.9371986721331989 and parameters: {'pca_components': 117, 'C': 0.2972230263101506, 'gamma': 0.39609475646110376, 'kernel': 'linear'}. Best is trial 87 with value: 0.9553197840351493.\u001b[0m\n",
            "\u001b[32m[I 2021-11-30 12:42:59,419]\u001b[0m Trial 139 finished with value: 0.9496693746457585 and parameters: {'pca_components': 117, 'C': 0.7950502143480688, 'gamma': 0.04792512457039225, 'kernel': 'linear'}. Best is trial 87 with value: 0.9553197840351493.\u001b[0m\n",
            "\u001b[32m[I 2021-11-30 12:42:59,672]\u001b[0m Trial 140 finished with value: 0.9404568880047008 and parameters: {'pca_components': 117, 'C': 0.8656101091019035, 'gamma': 0.04940571321625049, 'kernel': 'linear'}. Best is trial 87 with value: 0.9553197840351493.\u001b[0m\n",
            "\u001b[32m[I 2021-11-30 12:42:59,917]\u001b[0m Trial 141 finished with value: 0.9374783597962111 and parameters: {'pca_components': 117, 'C': 0.5480950204396011, 'gamma': 0.08964949622339395, 'kernel': 'linear'}. Best is trial 87 with value: 0.9553197840351493.\u001b[0m\n",
            "\u001b[32m[I 2021-11-30 12:43:00,148]\u001b[0m Trial 142 finished with value: 0.9501362595371015 and parameters: {'pca_components': 117, 'C': 0.7973233429073598, 'gamma': 0.21458168992517446, 'kernel': 'linear'}. Best is trial 87 with value: 0.9553197840351493.\u001b[0m\n",
            "\u001b[32m[I 2021-11-30 12:43:00,394]\u001b[0m Trial 143 finished with value: 0.9389953424867055 and parameters: {'pca_components': 117, 'C': 0.9748699365736907, 'gamma': 0.0229126576227936, 'kernel': 'linear'}. Best is trial 87 with value: 0.9553197840351493.\u001b[0m\n",
            "\u001b[32m[I 2021-11-30 12:43:00,648]\u001b[0m Trial 144 finished with value: 0.9603658932162706 and parameters: {'pca_components': 117, 'C': 0.5897017446645638, 'gamma': 0.2111157997898418, 'kernel': 'linear'}. Best is trial 144 with value: 0.9603658932162706.\u001b[0m\n",
            "\u001b[32m[I 2021-11-30 12:43:00,917]\u001b[0m Trial 145 finished with value: 0.9381505295007564 and parameters: {'pca_components': 117, 'C': 0.7275374782800527, 'gamma': 0.20846884028298973, 'kernel': 'linear'}. Best is trial 144 with value: 0.9603658932162706.\u001b[0m\n",
            "\u001b[32m[I 2021-11-30 12:43:01,175]\u001b[0m Trial 146 finished with value: 0.9404568880047008 and parameters: {'pca_components': 117, 'C': 0.44017745752406195, 'gamma': 0.15297738170130695, 'kernel': 'linear'}. Best is trial 144 with value: 0.9603658932162706.\u001b[0m\n",
            "\u001b[32m[I 2021-11-30 12:43:01,393]\u001b[0m Trial 147 finished with value: 0.9383690965752771 and parameters: {'pca_components': 117, 'C': 0.2948465451986748, 'gamma': 0.06860582446473786, 'kernel': 'linear'}. Best is trial 144 with value: 0.9603658932162706.\u001b[0m\n",
            "\u001b[32m[I 2021-11-30 12:43:01,664]\u001b[0m Trial 148 finished with value: 0.9392713903743315 and parameters: {'pca_components': 117, 'C': 0.2253465364098869, 'gamma': 0.2670417324439242, 'kernel': 'linear'}. Best is trial 144 with value: 0.9603658932162706.\u001b[0m\n",
            "\u001b[32m[I 2021-11-30 12:43:01,924]\u001b[0m Trial 149 finished with value: 0.9277012610878586 and parameters: {'pca_components': 117, 'C': 0.7118876246369777, 'gamma': 0.1382160359042393, 'kernel': 'linear'}. Best is trial 144 with value: 0.9603658932162706.\u001b[0m\n",
            "\u001b[32m[I 2021-11-30 12:43:02,176]\u001b[0m Trial 150 finished with value: 0.9479232154301585 and parameters: {'pca_components': 117, 'C': 0.4882438493298373, 'gamma': 0.04194556952729205, 'kernel': 'linear'}. Best is trial 144 with value: 0.9603658932162706.\u001b[0m\n",
            "\u001b[32m[I 2021-11-30 12:43:02,434]\u001b[0m Trial 151 finished with value: 0.9476832790352472 and parameters: {'pca_components': 117, 'C': 0.5271931133116161, 'gamma': 0.03605371419792149, 'kernel': 'linear'}. Best is trial 144 with value: 0.9603658932162706.\u001b[0m\n",
            "\u001b[32m[I 2021-11-30 12:43:02,728]\u001b[0m Trial 152 finished with value: 0.9405648279203199 and parameters: {'pca_components': 117, 'C': 1.0727085630087385, 'gamma': 0.043129772356204715, 'kernel': 'linear'}. Best is trial 144 with value: 0.9603658932162706.\u001b[0m\n",
            "\u001b[32m[I 2021-11-30 12:43:02,949]\u001b[0m Trial 153 finished with value: 0.9371986721331989 and parameters: {'pca_components': 117, 'C': 0.3539479824343621, 'gamma': 0.08055556949298633, 'kernel': 'linear'}. Best is trial 144 with value: 0.9603658932162706.\u001b[0m\n",
            "\u001b[32m[I 2021-11-30 12:43:03,230]\u001b[0m Trial 154 finished with value: 0.941381041964908 and parameters: {'pca_components': 117, 'C': 0.4361724839625293, 'gamma': 0.026264026014520936, 'kernel': 'linear'}. Best is trial 144 with value: 0.9603658932162706.\u001b[0m\n",
            "\u001b[32m[I 2021-11-30 12:43:03,464]\u001b[0m Trial 155 finished with value: 0.9392713903743315 and parameters: {'pca_components': 117, 'C': 0.8107906317208271, 'gamma': 0.18696433183311434, 'kernel': 'linear'}. Best is trial 144 with value: 0.9603658932162706.\u001b[0m\n",
            "\u001b[32m[I 2021-11-30 12:43:03,708]\u001b[0m Trial 156 finished with value: 0.9283858368322193 and parameters: {'pca_components': 117, 'C': 1.9157758092636359, 'gamma': 0.013264465934533084, 'kernel': 'linear'}. Best is trial 144 with value: 0.9603658932162706.\u001b[0m\n",
            "\u001b[32m[I 2021-11-30 12:43:04,043]\u001b[0m Trial 157 finished with value: 0.9371986721331989 and parameters: {'pca_components': 117, 'C': 0.1700745413466125, 'gamma': 0.3156334098379021, 'kernel': 'linear'}. Best is trial 144 with value: 0.9603658932162706.\u001b[0m\n",
            "\u001b[32m[I 2021-11-30 12:43:04,307]\u001b[0m Trial 158 finished with value: 0.9369162376731763 and parameters: {'pca_components': 117, 'C': 0.6220725411201825, 'gamma': 0.10500059672197277, 'kernel': 'linear'}. Best is trial 144 with value: 0.9603658932162706.\u001b[0m\n",
            "\u001b[32m[I 2021-11-30 12:43:05,340]\u001b[0m Trial 159 finished with value: 0.06557828612324734 and parameters: {'pca_components': 115, 'C': 0.30529480254810554, 'gamma': 0.6598208378935997, 'kernel': 'rbf'}. Best is trial 144 with value: 0.9603658932162706.\u001b[0m\n",
            "\u001b[32m[I 2021-11-30 12:43:05,583]\u001b[0m Trial 160 finished with value: 0.9236599337490736 and parameters: {'pca_components': 117, 'C': 1.2645178545383615, 'gamma': 0.22895129211341153, 'kernel': 'linear'}. Best is trial 144 with value: 0.9603658932162706.\u001b[0m\n",
            "\u001b[32m[I 2021-11-30 12:43:05,844]\u001b[0m Trial 161 finished with value: 0.9563685735599539 and parameters: {'pca_components': 117, 'C': 1.3900801466493655, 'gamma': 1.6943373508629689, 'kernel': 'linear'}. Best is trial 144 with value: 0.9603658932162706.\u001b[0m\n",
            "\u001b[32m[I 2021-11-30 12:43:06,091]\u001b[0m Trial 162 finished with value: 0.9435287443267775 and parameters: {'pca_components': 117, 'C': 0.9897825418727032, 'gamma': 0.018498248021626886, 'kernel': 'linear'}. Best is trial 144 with value: 0.9603658932162706.\u001b[0m\n",
            "\u001b[32m[I 2021-11-30 12:43:06,384]\u001b[0m Trial 163 finished with value: 0.9308116544071239 and parameters: {'pca_components': 117, 'C': 1.525251262379402, 'gamma': 1.544242313488409, 'kernel': 'linear'}. Best is trial 144 with value: 0.9603658932162706.\u001b[0m\n",
            "\u001b[32m[I 2021-11-30 12:43:06,641]\u001b[0m Trial 164 finished with value: 0.9419117647058823 and parameters: {'pca_components': 117, 'C': 0.4789369868544433, 'gamma': 0.05848361728320488, 'kernel': 'linear'}. Best is trial 144 with value: 0.9603658932162706.\u001b[0m\n",
            "\u001b[32m[I 2021-11-30 12:43:06,928]\u001b[0m Trial 165 finished with value: 0.9331239133050879 and parameters: {'pca_components': 117, 'C': 0.7720527158809181, 'gamma': 1.1492372108612487, 'kernel': 'linear'}. Best is trial 144 with value: 0.9603658932162706.\u001b[0m\n",
            "\u001b[32m[I 2021-11-30 12:43:07,249]\u001b[0m Trial 166 finished with value: 0.9293485061498487 and parameters: {'pca_components': 117, 'C': 2.621400521603683, 'gamma': 0.008177078588302506, 'kernel': 'linear'}. Best is trial 144 with value: 0.9603658932162706.\u001b[0m\n",
            "\u001b[32m[I 2021-11-30 12:43:07,498]\u001b[0m Trial 167 finished with value: 0.9452526110932435 and parameters: {'pca_components': 117, 'C': 0.5808159113052341, 'gamma': 0.3695913455185694, 'kernel': 'linear'}. Best is trial 144 with value: 0.9603658932162706.\u001b[0m\n",
            "\u001b[32m[I 2021-11-30 12:43:07,750]\u001b[0m Trial 168 finished with value: 0.9469488003022859 and parameters: {'pca_components': 117, 'C': 0.3702399347309811, 'gamma': 0.15322271570843218, 'kernel': 'linear'}. Best is trial 144 with value: 0.9603658932162706.\u001b[0m\n",
            "\u001b[32m[I 2021-11-30 12:43:07,993]\u001b[0m Trial 169 finished with value: 0.9369162376731763 and parameters: {'pca_components': 117, 'C': 0.9770771164846509, 'gamma': 1.819291607522253, 'kernel': 'linear'}. Best is trial 144 with value: 0.9603658932162706.\u001b[0m\n",
            "\u001b[32m[I 2021-11-30 12:43:08,251]\u001b[0m Trial 170 finished with value: 0.9513712228438982 and parameters: {'pca_components': 117, 'C': 0.6803848012222027, 'gamma': 0.5579435222075514, 'kernel': 'linear'}. Best is trial 144 with value: 0.9603658932162706.\u001b[0m\n",
            "\u001b[32m[I 2021-11-30 12:43:08,514]\u001b[0m Trial 171 finished with value: 0.9375270784697247 and parameters: {'pca_components': 117, 'C': 0.6487501890048992, 'gamma': 0.6641716207496857, 'kernel': 'linear'}. Best is trial 144 with value: 0.9603658932162706.\u001b[0m\n",
            "\u001b[32m[I 2021-11-30 12:43:08,757]\u001b[0m Trial 172 finished with value: 0.941381041964908 and parameters: {'pca_components': 117, 'C': 0.5287220863800071, 'gamma': 0.3208354412514521, 'kernel': 'linear'}. Best is trial 144 with value: 0.9603658932162706.\u001b[0m\n",
            "\u001b[32m[I 2021-11-30 12:43:08,984]\u001b[0m Trial 173 finished with value: 0.9299747577915257 and parameters: {'pca_components': 117, 'C': 1.355457767912294, 'gamma': 0.8509855504187385, 'kernel': 'linear'}. Best is trial 144 with value: 0.9603658932162706.\u001b[0m\n",
            "\u001b[32m[I 2021-11-30 12:43:09,226]\u001b[0m Trial 174 finished with value: 0.9392713903743315 and parameters: {'pca_components': 117, 'C': 0.754366645264052, 'gamma': 0.5294885951269938, 'kernel': 'linear'}. Best is trial 144 with value: 0.9603658932162706.\u001b[0m\n",
            "\u001b[32m[I 2021-11-30 12:43:09,484]\u001b[0m Trial 175 finished with value: 0.9399114024194135 and parameters: {'pca_components': 117, 'C': 0.4591300330751999, 'gamma': 0.2614897184700279, 'kernel': 'linear'}. Best is trial 144 with value: 0.9603658932162706.\u001b[0m\n",
            "\u001b[32m[I 2021-11-30 12:43:09,795]\u001b[0m Trial 176 finished with value: 0.9371986721331989 and parameters: {'pca_components': 117, 'C': 0.2393242610950031, 'gamma': 0.10521726766291832, 'kernel': 'linear'}. Best is trial 144 with value: 0.9603658932162706.\u001b[0m\n",
            "\u001b[32m[I 2021-11-30 12:43:10,034]\u001b[0m Trial 177 finished with value: 0.941647718900327 and parameters: {'pca_components': 117, 'C': 0.8960242127274793, 'gamma': 0.19544307690903365, 'kernel': 'linear'}. Best is trial 144 with value: 0.9603658932162706.\u001b[0m\n",
            "\u001b[32m[I 2021-11-30 12:43:10,270]\u001b[0m Trial 178 finished with value: 0.9450003702678239 and parameters: {'pca_components': 117, 'C': 0.34082124025123467, 'gamma': 0.39942100563774, 'kernel': 'linear'}. Best is trial 144 with value: 0.9603658932162706.\u001b[0m\n",
            "\u001b[32m[I 2021-11-30 12:43:10,550]\u001b[0m Trial 179 finished with value: 0.93399064171123 and parameters: {'pca_components': 117, 'C': 71.01109562336231, 'gamma': 0.02508575328027875, 'kernel': 'linear'}. Best is trial 144 with value: 0.9603658932162706.\u001b[0m\n",
            "\u001b[32m[I 2021-11-30 12:43:10,795]\u001b[0m Trial 180 finished with value: 0.9342877475762252 and parameters: {'pca_components': 117, 'C': 1.1798797440651967, 'gamma': 0.01105659319575054, 'kernel': 'linear'}. Best is trial 144 with value: 0.9603658932162706.\u001b[0m\n",
            "\u001b[32m[I 2021-11-30 12:43:11,056]\u001b[0m Trial 181 finished with value: 0.9435287443267775 and parameters: {'pca_components': 117, 'C': 0.5468194360509078, 'gamma': 0.04770910989677742, 'kernel': 'linear'}. Best is trial 144 with value: 0.9603658932162706.\u001b[0m\n",
            "\u001b[32m[I 2021-11-30 12:43:11,347]\u001b[0m Trial 182 finished with value: 0.9396345527329775 and parameters: {'pca_components': 116, 'C': 1.7323130275709921, 'gamma': 3.714679230972689, 'kernel': 'linear'}. Best is trial 144 with value: 0.9603658932162706.\u001b[0m\n",
            "\u001b[32m[I 2021-11-30 12:43:11,620]\u001b[0m Trial 183 finished with value: 0.9384349534958578 and parameters: {'pca_components': 117, 'C': 0.42098429573119084, 'gamma': 0.03968820048593079, 'kernel': 'linear'}. Best is trial 144 with value: 0.9603658932162706.\u001b[0m\n",
            "\u001b[32m[I 2021-11-30 12:43:11,834]\u001b[0m Trial 184 finished with value: 0.9247877028131201 and parameters: {'pca_components': 116, 'C': 1.3653457259928246, 'gamma': 1.1354113507058614, 'kernel': 'linear'}. Best is trial 144 with value: 0.9603658932162706.\u001b[0m\n",
            "\u001b[32m[I 2021-11-30 12:43:12,049]\u001b[0m Trial 185 finished with value: 0.9443000953139484 and parameters: {'pca_components': 116, 'C': 0.7107802610802716, 'gamma': 5.448786802072958, 'kernel': 'linear'}. Best is trial 144 with value: 0.9603658932162706.\u001b[0m\n",
            "\u001b[32m[I 2021-11-30 12:43:12,301]\u001b[0m Trial 186 finished with value: 0.9151643345265212 and parameters: {'pca_components': 117, 'C': 2.3706994216387973, 'gamma': 3.1856193983407097, 'kernel': 'linear'}. Best is trial 144 with value: 0.9603658932162706.\u001b[0m\n",
            "\u001b[32m[I 2021-11-30 12:43:12,555]\u001b[0m Trial 187 finished with value: 0.9404568880047008 and parameters: {'pca_components': 117, 'C': 0.6354316643604453, 'gamma': 0.6315554489503775, 'kernel': 'linear'}. Best is trial 144 with value: 0.9603658932162706.\u001b[0m\n",
            "\u001b[32m[I 2021-11-30 12:43:12,798]\u001b[0m Trial 188 finished with value: 0.9252561383998041 and parameters: {'pca_components': 116, 'C': 0.8950344539654236, 'gamma': 0.23697789701491898, 'kernel': 'linear'}. Best is trial 144 with value: 0.9603658932162706.\u001b[0m\n",
            "\u001b[32m[I 2021-11-30 12:43:13,848]\u001b[0m Trial 189 finished with value: 0.5153912427485593 and parameters: {'pca_components': 117, 'C': 1.9521851685411864, 'gamma': 2.166155865180253, 'kernel': 'rbf'}. Best is trial 144 with value: 0.9603658932162706.\u001b[0m\n",
            "\u001b[32m[I 2021-11-30 12:43:14,083]\u001b[0m Trial 190 finished with value: 0.952389948989231 and parameters: {'pca_components': 117, 'C': 0.5054937958784703, 'gamma': 0.06836085561613914, 'kernel': 'linear'}. Best is trial 144 with value: 0.9603658932162706.\u001b[0m\n",
            "\u001b[32m[I 2021-11-30 12:43:14,367]\u001b[0m Trial 191 finished with value: 0.9360334163386617 and parameters: {'pca_components': 117, 'C': 0.5749933815273681, 'gamma': 0.4158547685526701, 'kernel': 'linear'}. Best is trial 144 with value: 0.9603658932162706.\u001b[0m\n",
            "\u001b[32m[I 2021-11-30 12:43:14,615]\u001b[0m Trial 192 finished with value: 0.9474409222147826 and parameters: {'pca_components': 117, 'C': 0.35005195679876655, 'gamma': 0.07451515699548548, 'kernel': 'linear'}. Best is trial 144 with value: 0.9603658932162706.\u001b[0m\n",
            "\u001b[32m[I 2021-11-30 12:43:14,847]\u001b[0m Trial 193 finished with value: 0.9515960665658094 and parameters: {'pca_components': 117, 'C': 0.45298051558113733, 'gamma': 0.13038920163990758, 'kernel': 'linear'}. Best is trial 144 with value: 0.9603658932162706.\u001b[0m\n",
            "\u001b[32m[I 2021-11-30 12:43:15,116]\u001b[0m Trial 194 finished with value: 0.9443000953139484 and parameters: {'pca_components': 117, 'C': 0.45347808566980763, 'gamma': 0.12079253927767664, 'kernel': 'linear'}. Best is trial 144 with value: 0.9603658932162706.\u001b[0m\n",
            "\u001b[32m[I 2021-11-30 12:43:15,372]\u001b[0m Trial 195 finished with value: 0.9501362595371015 and parameters: {'pca_components': 117, 'C': 0.28551483854061044, 'gamma': 0.15361469600586655, 'kernel': 'linear'}. Best is trial 144 with value: 0.9603658932162706.\u001b[0m\n",
            "\u001b[32m[I 2021-11-30 12:43:15,652]\u001b[0m Trial 196 finished with value: 0.9357465049401825 and parameters: {'pca_components': 117, 'C': 0.23879138305305628, 'gamma': 0.17005586223684752, 'kernel': 'linear'}. Best is trial 144 with value: 0.9603658932162706.\u001b[0m\n",
            "\u001b[32m[I 2021-11-30 12:43:15,899]\u001b[0m Trial 197 finished with value: 0.9479232154301585 and parameters: {'pca_components': 117, 'C': 0.28853816482101274, 'gamma': 0.1398128208238844, 'kernel': 'linear'}. Best is trial 144 with value: 0.9603658932162706.\u001b[0m\n",
            "\u001b[32m[I 2021-11-30 12:43:16,171]\u001b[0m Trial 198 finished with value: 0.9499040002818341 and parameters: {'pca_components': 117, 'C': 0.8018305314846578, 'gamma': 0.08935150244531008, 'kernel': 'linear'}. Best is trial 144 with value: 0.9603658932162706.\u001b[0m\n",
            "\u001b[32m[I 2021-11-30 12:43:16,478]\u001b[0m Trial 199 finished with value: 0.9404568880047008 and parameters: {'pca_components': 117, 'C': 0.9651519543577213, 'gamma': 0.09036787670348286, 'kernel': 'linear'}. Best is trial 144 with value: 0.9603658932162706.\u001b[0m\n",
            "\u001b[32m[I 2021-11-30 12:43:16,759]\u001b[0m Trial 200 finished with value: 0.9371986721331989 and parameters: {'pca_components': 117, 'C': 0.18373073381181143, 'gamma': 0.07752801893842813, 'kernel': 'linear'}. Best is trial 144 with value: 0.9603658932162706.\u001b[0m\n",
            "\u001b[32m[I 2021-11-30 12:43:17,018]\u001b[0m Trial 201 finished with value: 0.9395447277701272 and parameters: {'pca_components': 117, 'C': 0.7176052615700925, 'gamma': 0.20847638176989514, 'kernel': 'linear'}. Best is trial 144 with value: 0.9603658932162706.\u001b[0m\n",
            "\u001b[32m[I 2021-11-30 12:43:17,295]\u001b[0m Trial 202 finished with value: 0.9479232154301585 and parameters: {'pca_components': 117, 'C': 0.3620285566481855, 'gamma': 0.14283764636214694, 'kernel': 'linear'}. Best is trial 144 with value: 0.9603658932162706.\u001b[0m\n",
            "\u001b[32m[I 2021-11-30 12:43:17,542]\u001b[0m Trial 203 finished with value: 0.9407256041954305 and parameters: {'pca_components': 117, 'C': 0.7322928730884464, 'gamma': 0.11077677468840105, 'kernel': 'linear'}. Best is trial 144 with value: 0.9603658932162706.\u001b[0m\n",
            "\u001b[32m[I 2021-11-30 12:43:17,816]\u001b[0m Trial 204 finished with value: 0.9319652281442987 and parameters: {'pca_components': 117, 'C': 1.1019361601735587, 'gamma': 6078.413231389466, 'kernel': 'linear'}. Best is trial 144 with value: 0.9603658932162706.\u001b[0m\n",
            "\u001b[32m[I 2021-11-30 12:43:18,044]\u001b[0m Trial 205 finished with value: 0.9318995894086687 and parameters: {'pca_components': 117, 'C': 0.47383012943026187, 'gamma': 0.27603835536928606, 'kernel': 'linear'}. Best is trial 144 with value: 0.9603658932162706.\u001b[0m\n",
            "\u001b[32m[I 2021-11-30 12:43:18,311]\u001b[0m Trial 206 finished with value: 0.9351641669384522 and parameters: {'pca_components': 117, 'C': 0.2958289640117774, 'gamma': 0.06958106344872592, 'kernel': 'linear'}. Best is trial 144 with value: 0.9603658932162706.\u001b[0m\n",
            "\u001b[32m[I 2021-11-30 12:43:18,585]\u001b[0m Trial 207 finished with value: 0.9411116946482118 and parameters: {'pca_components': 117, 'C': 0.8373652606957664, 'gamma': 0.20270527018752954, 'kernel': 'linear'}. Best is trial 144 with value: 0.9603658932162706.\u001b[0m\n",
            "\u001b[32m[I 2021-11-30 12:43:18,824]\u001b[0m Trial 208 finished with value: 0.9489069591527988 and parameters: {'pca_components': 117, 'C': 0.432653513169439, 'gamma': 0.3332503505122317, 'kernel': 'linear'}. Best is trial 144 with value: 0.9603658932162706.\u001b[0m\n",
            "\u001b[32m[I 2021-11-30 12:43:19,106]\u001b[0m Trial 209 finished with value: 0.9443000953139484 and parameters: {'pca_components': 117, 'C': 0.4351455958063917, 'gamma': 0.16122088813269772, 'kernel': 'linear'}. Best is trial 144 with value: 0.9603658932162706.\u001b[0m\n",
            "\u001b[32m[I 2021-11-30 12:43:19,375]\u001b[0m Trial 210 finished with value: 0.9509146452549481 and parameters: {'pca_components': 117, 'C': 0.5793161828343194, 'gamma': 0.36109685216929555, 'kernel': 'linear'}. Best is trial 144 with value: 0.9603658932162706.\u001b[0m\n",
            "\u001b[32m[I 2021-11-30 12:43:19,637]\u001b[0m Trial 211 finished with value: 0.9411116946482118 and parameters: {'pca_components': 117, 'C': 0.5965535441712853, 'gamma': 0.31589592597022553, 'kernel': 'linear'}. Best is trial 144 with value: 0.9603658932162706.\u001b[0m\n",
            "\u001b[32m[I 2021-11-30 12:43:19,893]\u001b[0m Trial 212 finished with value: 0.9383690965752771 and parameters: {'pca_components': 117, 'C': 0.3663594053192905, 'gamma': 0.26704952087546296, 'kernel': 'linear'}. Best is trial 144 with value: 0.9603658932162706.\u001b[0m\n",
            "\u001b[32m[I 2021-11-30 12:43:20,148]\u001b[0m Trial 213 finished with value: 0.941381041964908 and parameters: {'pca_components': 117, 'C': 0.6058526197007846, 'gamma': 0.1005344386108712, 'kernel': 'linear'}. Best is trial 144 with value: 0.9603658932162706.\u001b[0m\n",
            "\u001b[32m[I 2021-11-30 12:43:20,397]\u001b[0m Trial 214 finished with value: 0.9395447277701272 and parameters: {'pca_components': 117, 'C': 0.26668178771896206, 'gamma': 0.35157968479117674, 'kernel': 'linear'}. Best is trial 144 with value: 0.9603658932162706.\u001b[0m\n",
            "\u001b[32m[I 2021-11-30 12:43:20,656]\u001b[0m Trial 215 finished with value: 0.9457496090709497 and parameters: {'pca_components': 117, 'C': 0.4973456057858154, 'gamma': 0.18656240009479186, 'kernel': 'linear'}. Best is trial 144 with value: 0.9603658932162706.\u001b[0m\n",
            "\u001b[32m[I 2021-11-30 12:43:20,920]\u001b[0m Trial 216 finished with value: 0.9351641669384522 and parameters: {'pca_components': 117, 'C': 0.8833544568009605, 'gamma': 0.13851373728542982, 'kernel': 'linear'}. Best is trial 144 with value: 0.9603658932162706.\u001b[0m\n",
            "\u001b[32m[I 2021-11-30 12:43:21,372]\u001b[0m Trial 217 finished with value: 0.7478017033817855 and parameters: {'pca_components': 117, 'C': 0.0016959987840217726, 'gamma': 0.45436106722458397, 'kernel': 'linear'}. Best is trial 144 with value: 0.9603658932162706.\u001b[0m\n",
            "\u001b[32m[I 2021-11-30 12:43:21,615]\u001b[0m Trial 218 finished with value: 0.9528315968594203 and parameters: {'pca_components': 117, 'C': 0.35116612427023497, 'gamma': 0.23883269424227632, 'kernel': 'linear'}. Best is trial 144 with value: 0.9603658932162706.\u001b[0m\n",
            "\u001b[32m[I 2021-11-30 12:43:21,864]\u001b[0m Trial 219 finished with value: 0.9342877475762252 and parameters: {'pca_components': 117, 'C': 0.20678139596836903, 'gamma': 0.21338057695155982, 'kernel': 'linear'}. Best is trial 144 with value: 0.9603658932162706.\u001b[0m\n",
            "\u001b[32m[I 2021-11-30 12:43:22,090]\u001b[0m Trial 220 finished with value: 0.9467100381499165 and parameters: {'pca_components': 117, 'C': 0.34694149382007217, 'gamma': 0.06299853467226632, 'kernel': 'linear'}. Best is trial 144 with value: 0.9603658932162706.\u001b[0m\n",
            "\u001b[32m[I 2021-11-30 12:43:22,347]\u001b[0m Trial 221 finished with value: 0.952389948989231 and parameters: {'pca_components': 117, 'C': 0.41061262246765273, 'gamma': 0.2495429900613015, 'kernel': 'linear'}. Best is trial 144 with value: 0.9603658932162706.\u001b[0m\n",
            "\u001b[32m[I 2021-11-30 12:43:22,639]\u001b[0m Trial 222 finished with value: 0.9513712228438982 and parameters: {'pca_components': 117, 'C': 0.6233443222238636, 'gamma': 0.2632501539227172, 'kernel': 'linear'}. Best is trial 144 with value: 0.9603658932162706.\u001b[0m\n",
            "\u001b[32m[I 2021-11-30 12:43:22,924]\u001b[0m Trial 223 finished with value: 0.9229790115098171 and parameters: {'pca_components': 117, 'C': 0.6576715072339645, 'gamma': 0.24932351472204006, 'kernel': 'linear'}. Best is trial 144 with value: 0.9603658932162706.\u001b[0m\n",
            "\u001b[32m[I 2021-11-30 12:43:23,223]\u001b[0m Trial 224 finished with value: 0.9301879338301736 and parameters: {'pca_components': 117, 'C': 1.0040545903652487, 'gamma': 0.159050555306717, 'kernel': 'linear'}. Best is trial 144 with value: 0.9603658932162706.\u001b[0m\n",
            "\u001b[32m[I 2021-11-30 12:43:23,470]\u001b[0m Trial 225 finished with value: 0.9392713903743315 and parameters: {'pca_components': 117, 'C': 0.5582850681383185, 'gamma': 0.10459803043966501, 'kernel': 'linear'}. Best is trial 144 with value: 0.9603658932162706.\u001b[0m\n",
            "\u001b[32m[I 2021-11-30 12:43:23,733]\u001b[0m Trial 226 finished with value: 0.9345701937455836 and parameters: {'pca_components': 117, 'C': 1.2701460683441654, 'gamma': 0.2757084453897519, 'kernel': 'linear'}. Best is trial 144 with value: 0.9603658932162706.\u001b[0m\n",
            "\u001b[32m[I 2021-11-30 12:43:24,752]\u001b[0m Trial 227 finished with value: 0.4997713441446512 and parameters: {'pca_components': 115, 'C': 0.7143691837395684, 'gamma': 0.5202458353260928, 'kernel': 'rbf'}. Best is trial 144 with value: 0.9603658932162706.\u001b[0m\n",
            "\u001b[32m[I 2021-11-30 12:43:25,003]\u001b[0m Trial 228 finished with value: 0.9407256041954305 and parameters: {'pca_components': 117, 'C': 0.3367539310473047, 'gamma': 0.1753218924024574, 'kernel': 'linear'}. Best is trial 144 with value: 0.9603658932162706.\u001b[0m\n",
            "\u001b[32m[I 2021-11-30 12:43:25,253]\u001b[0m Trial 229 finished with value: 0.9396345527329775 and parameters: {'pca_components': 117, 'C': 0.8230438036037778, 'gamma': 0.12473093449639806, 'kernel': 'linear'}. Best is trial 144 with value: 0.9603658932162706.\u001b[0m\n",
            "\u001b[32m[I 2021-11-30 12:43:25,504]\u001b[0m Trial 230 finished with value: 0.941647718900327 and parameters: {'pca_components': 117, 'C': 0.5172919505882504, 'gamma': 0.22553071152274765, 'kernel': 'linear'}. Best is trial 144 with value: 0.9603658932162706.\u001b[0m\n",
            "\u001b[32m[I 2021-11-30 12:43:25,801]\u001b[0m Trial 231 finished with value: 0.9401855006625024 and parameters: {'pca_components': 117, 'C': 0.40330381963327866, 'gamma': 0.334154296745503, 'kernel': 'linear'}. Best is trial 144 with value: 0.9603658932162706.\u001b[0m\n",
            "\u001b[32m[I 2021-11-30 12:43:26,087]\u001b[0m Trial 232 finished with value: 0.9366310160427808 and parameters: {'pca_components': 117, 'C': 0.2842783471397933, 'gamma': 0.005311263853115658, 'kernel': 'linear'}. Best is trial 144 with value: 0.9603658932162706.\u001b[0m\n",
            "\u001b[32m[I 2021-11-30 12:43:26,447]\u001b[0m Trial 233 finished with value: 0.9389953424867055 and parameters: {'pca_components': 117, 'C': 0.51470524346252, 'gamma': 0.3685482690085371, 'kernel': 'linear'}. Best is trial 144 with value: 0.9603658932162706.\u001b[0m\n",
            "\u001b[32m[I 2021-11-30 12:43:26,712]\u001b[0m Trial 234 finished with value: 0.9590955377124568 and parameters: {'pca_components': 117, 'C': 0.6773028185586154, 'gamma': 0.20301892479611974, 'kernel': 'linear'}. Best is trial 144 with value: 0.9603658932162706.\u001b[0m\n",
            "\u001b[32m[I 2021-11-30 12:43:26,951]\u001b[0m Trial 235 finished with value: 0.9264022772853723 and parameters: {'pca_components': 117, 'C': 0.681916690520127, 'gamma': 0.16787159821114497, 'kernel': 'linear'}. Best is trial 144 with value: 0.9603658932162706.\u001b[0m\n",
            "\u001b[32m[I 2021-11-30 12:43:27,269]\u001b[0m Trial 236 finished with value: 0.9425820067563285 and parameters: {'pca_components': 117, 'C': 1.169460528315362, 'gamma': 0.23178469945659483, 'kernel': 'linear'}. Best is trial 144 with value: 0.9603658932162706.\u001b[0m\n",
            "\u001b[32m[I 2021-11-30 12:43:27,526]\u001b[0m Trial 237 finished with value: 0.9420502475701449 and parameters: {'pca_components': 117, 'C': 0.8781002378108116, 'gamma': 0.09471476840102207, 'kernel': 'linear'}. Best is trial 144 with value: 0.9603658932162706.\u001b[0m\n",
            "\u001b[32m[I 2021-11-30 12:43:27,829]\u001b[0m Trial 238 finished with value: 0.9308116544071239 and parameters: {'pca_components': 114, 'C': 0.6044941038401647, 'gamma': 0.1323388852574741, 'kernel': 'linear'}. Best is trial 144 with value: 0.9603658932162706.\u001b[0m\n",
            "\u001b[32m[I 2021-11-30 12:43:28,076]\u001b[0m Trial 239 finished with value: 0.9474409222147826 and parameters: {'pca_components': 117, 'C': 0.3926863978511953, 'gamma': 0.651821518866661, 'kernel': 'linear'}. Best is trial 144 with value: 0.9603658932162706.\u001b[0m\n",
            "\u001b[32m[I 2021-11-30 12:43:28,360]\u001b[0m Trial 240 finished with value: 0.9369516439655543 and parameters: {'pca_components': 117, 'C': 1.525204088415444, 'gamma': 0.2601518863561479, 'kernel': 'linear'}. Best is trial 144 with value: 0.9603658932162706.\u001b[0m\n",
            "\u001b[32m[I 2021-11-30 12:43:28,635]\u001b[0m Trial 241 finished with value: 0.9491419181052738 and parameters: {'pca_components': 117, 'C': 0.4740139826675018, 'gamma': 0.19554460843642496, 'kernel': 'linear'}. Best is trial 144 with value: 0.9603658932162706.\u001b[0m\n",
            "\u001b[32m[I 2021-11-30 12:43:28,903]\u001b[0m Trial 242 finished with value: 0.9526118921584916 and parameters: {'pca_components': 117, 'C': 0.7279409032159436, 'gamma': 0.053073442474691715, 'kernel': 'linear'}. Best is trial 144 with value: 0.9603658932162706.\u001b[0m\n",
            "\u001b[32m[I 2021-11-30 12:43:29,152]\u001b[0m Trial 243 finished with value: 0.9345819501387487 and parameters: {'pca_components': 117, 'C': 0.7605561789992548, 'gamma': 0.072654985808421, 'kernel': 'linear'}. Best is trial 144 with value: 0.9603658932162706.\u001b[0m\n",
            "\u001b[32m[I 2021-11-30 12:43:29,444]\u001b[0m Trial 244 finished with value: 0.9313502673796792 and parameters: {'pca_components': 117, 'C': 1.0183386236063185, 'gamma': 0.12185664472049203, 'kernel': 'linear'}. Best is trial 144 with value: 0.9603658932162706.\u001b[0m\n",
            "\u001b[32m[I 2021-11-30 12:43:29,750]\u001b[0m Trial 245 finished with value: 0.9411116946482118 and parameters: {'pca_components': 117, 'C': 0.6130038849209578, 'gamma': 0.4182444508470724, 'kernel': 'linear'}. Best is trial 144 with value: 0.9603658932162706.\u001b[0m\n",
            "\u001b[32m[I 2021-11-30 12:43:29,989]\u001b[0m Trial 246 finished with value: 0.9316592574792744 and parameters: {'pca_components': 117, 'C': 0.7816183672781623, 'gamma': 0.05695071985228823, 'kernel': 'linear'}. Best is trial 144 with value: 0.9603658932162706.\u001b[0m\n",
            "\u001b[32m[I 2021-11-30 12:43:30,248]\u001b[0m Trial 247 finished with value: 0.9348732914543867 and parameters: {'pca_components': 117, 'C': 0.49488971091819894, 'gamma': 0.3029195448344786, 'kernel': 'linear'}. Best is trial 144 with value: 0.9603658932162706.\u001b[0m\n",
            "\u001b[32m[I 2021-11-30 12:43:30,509]\u001b[0m Trial 248 finished with value: 0.9037590944948504 and parameters: {'pca_components': 117, 'C': 1.1038795085146376, 'gamma': 0.17493398570979488, 'kernel': 'linear'}. Best is trial 144 with value: 0.9603658932162706.\u001b[0m\n",
            "\u001b[32m[I 2021-11-30 12:43:30,863]\u001b[0m Trial 249 finished with value: 0.9371986721331989 and parameters: {'pca_components': 117, 'C': 0.01924079658831275, 'gamma': 0.10401519137027171, 'kernel': 'linear'}. Best is trial 144 with value: 0.9603658932162706.\u001b[0m\n",
            "\u001b[32m[I 2021-11-30 12:43:31,108]\u001b[0m Trial 250 finished with value: 0.9513712228438982 and parameters: {'pca_components': 117, 'C': 0.6428390164334759, 'gamma': 0.23687318276524819, 'kernel': 'linear'}. Best is trial 144 with value: 0.9603658932162706.\u001b[0m\n",
            "\u001b[32m[I 2021-11-30 12:43:31,360]\u001b[0m Trial 251 finished with value: 0.9428439228552801 and parameters: {'pca_components': 117, 'C': 0.28256917251131686, 'gamma': 0.24115718626357, 'kernel': 'linear'}. Best is trial 144 with value: 0.9603658932162706.\u001b[0m\n",
            "\u001b[32m[I 2021-11-30 12:43:31,623]\u001b[0m Trial 252 finished with value: 0.9419117647058823 and parameters: {'pca_components': 117, 'C': 0.3854045835850863, 'gamma': 0.5002186247269083, 'kernel': 'linear'}. Best is trial 144 with value: 0.9603658932162706.\u001b[0m\n",
            "\u001b[32m[I 2021-11-30 12:43:31,914]\u001b[0m Trial 253 finished with value: 0.934868656276947 and parameters: {'pca_components': 117, 'C': 0.6448629198034275, 'gamma': 0.3762067419236826, 'kernel': 'linear'}. Best is trial 144 with value: 0.9603658932162706.\u001b[0m\n",
            "\u001b[32m[I 2021-11-30 12:43:32,470]\u001b[0m Trial 254 finished with value: 0.6493275316455696 and parameters: {'pca_components': 117, 'C': 0.000322875589475171, 'gamma': 0.1928933255176194, 'kernel': 'linear'}. Best is trial 144 with value: 0.9603658932162706.\u001b[0m\n",
            "\u001b[32m[I 2021-11-30 12:43:32,698]\u001b[0m Trial 255 finished with value: 0.9378105274715764 and parameters: {'pca_components': 117, 'C': 0.48528912647452227, 'gamma': 0.002303774018938705, 'kernel': 'linear'}. Best is trial 144 with value: 0.9603658932162706.\u001b[0m\n",
            "\u001b[32m[I 2021-11-30 12:43:32,951]\u001b[0m Trial 256 finished with value: 0.9455023450480577 and parameters: {'pca_components': 117, 'C': 0.3310020198562114, 'gamma': 0.8501333589853874, 'kernel': 'linear'}. Best is trial 144 with value: 0.9603658932162706.\u001b[0m\n",
            "\u001b[32m[I 2021-11-30 12:43:33,348]\u001b[0m Trial 257 finished with value: 0.9371986721331989 and parameters: {'pca_components': 117, 'C': 0.011891406246137127, 'gamma': 617.9905136257427, 'kernel': 'linear'}. Best is trial 144 with value: 0.9603658932162706.\u001b[0m\n",
            "\u001b[32m[I 2021-11-30 12:43:34,429]\u001b[0m Trial 258 finished with value: 0.06909827886557564 and parameters: {'pca_components': 117, 'C': 0.592252213991472, 'gamma': 0.1523249169260353, 'kernel': 'rbf'}. Best is trial 144 with value: 0.9603658932162706.\u001b[0m\n",
            "\u001b[32m[I 2021-11-30 12:43:34,675]\u001b[0m Trial 259 finished with value: 0.9479232154301585 and parameters: {'pca_components': 117, 'C': 0.9730568711967538, 'gamma': 0.27673249760548824, 'kernel': 'linear'}. Best is trial 144 with value: 0.9603658932162706.\u001b[0m\n",
            "\u001b[32m[I 2021-11-30 12:43:34,950]\u001b[0m Trial 260 finished with value: 0.9467100381499165 and parameters: {'pca_components': 117, 'C': 0.22869183467742205, 'gamma': 0.34094229971949014, 'kernel': 'linear'}. Best is trial 144 with value: 0.9603658932162706.\u001b[0m\n",
            "\u001b[32m[I 2021-11-30 12:43:35,328]\u001b[0m Trial 261 finished with value: 0.9342877475762252 and parameters: {'pca_components': 117, 'C': 0.03428127711432774, 'gamma': 0.21413145439390596, 'kernel': 'linear'}. Best is trial 144 with value: 0.9603658932162706.\u001b[0m\n",
            "\u001b[32m[I 2021-11-30 12:43:35,542]\u001b[0m Trial 262 finished with value: 0.9247877028131201 and parameters: {'pca_components': 117, 'C': 1.4264089145526941, 'gamma': 0.1371478350316392, 'kernel': 'linear'}. Best is trial 144 with value: 0.9603658932162706.\u001b[0m\n",
            "\u001b[32m[I 2021-11-30 12:43:35,759]\u001b[0m Trial 263 finished with value: 0.9409916882103717 and parameters: {'pca_components': 117, 'C': 0.4130147522164941, 'gamma': 0.5350524918130022, 'kernel': 'linear'}. Best is trial 144 with value: 0.9603658932162706.\u001b[0m\n",
            "\u001b[32m[I 2021-11-30 12:43:36,005]\u001b[0m Trial 264 finished with value: 0.9401855006625024 and parameters: {'pca_components': 115, 'C': 0.791294790089666, 'gamma': 0.27015067047117053, 'kernel': 'linear'}. Best is trial 144 with value: 0.9603658932162706.\u001b[0m\n",
            "\u001b[32m[I 2021-11-30 12:43:36,276]\u001b[0m Trial 265 finished with value: 0.9450003702678239 and parameters: {'pca_components': 117, 'C': 0.5640819807115428, 'gamma': 0.08571650240826552, 'kernel': 'linear'}. Best is trial 144 with value: 0.9603658932162706.\u001b[0m\n",
            "\u001b[32m[I 2021-11-30 12:43:36,546]\u001b[0m Trial 266 finished with value: 0.9342877475762252 and parameters: {'pca_components': 117, 'C': 0.32302471665999155, 'gamma': 1.3898364947686328, 'kernel': 'linear'}. Best is trial 144 with value: 0.9603658932162706.\u001b[0m\n",
            "\u001b[32m[I 2021-11-30 12:43:36,797]\u001b[0m Trial 267 finished with value: 0.9389953424867055 and parameters: {'pca_components': 117, 'C': 0.6855817521017934, 'gamma': 0.17239130387847407, 'kernel': 'linear'}. Best is trial 144 with value: 0.9603658932162706.\u001b[0m\n",
            "\u001b[32m[I 2021-11-30 12:43:37,188]\u001b[0m Trial 268 finished with value: 0.9342877475762252 and parameters: {'pca_components': 117, 'C': 0.1500727443472141, 'gamma': 0.3744703184322546, 'kernel': 'linear'}. Best is trial 144 with value: 0.9603658932162706.\u001b[0m\n",
            "\u001b[32m[I 2021-11-30 12:43:37,428]\u001b[0m Trial 269 finished with value: 0.9407256041954305 and parameters: {'pca_components': 117, 'C': 0.44582497402131305, 'gamma': 0.11984867876173214, 'kernel': 'linear'}. Best is trial 144 with value: 0.9603658932162706.\u001b[0m\n",
            "\u001b[32m[I 2021-11-30 12:43:37,720]\u001b[0m Trial 270 finished with value: 0.9247877028131201 and parameters: {'pca_components': 117, 'C': 1.1221669949122584, 'gamma': 0.2229337561132605, 'kernel': 'linear'}. Best is trial 144 with value: 0.9603658932162706.\u001b[0m\n",
            "\u001b[32m[I 2021-11-30 12:43:37,993]\u001b[0m Trial 271 finished with value: 0.9450003702678239 and parameters: {'pca_components': 117, 'C': 0.8804954931421335, 'gamma': 0.932903777029462, 'kernel': 'linear'}. Best is trial 144 with value: 0.9603658932162706.\u001b[0m\n",
            "\u001b[32m[I 2021-11-30 12:43:38,322]\u001b[0m Trial 272 finished with value: 0.9383690965752771 and parameters: {'pca_components': 117, 'C': 0.5479832666717536, 'gamma': 0.15134055888175718, 'kernel': 'linear'}. Best is trial 144 with value: 0.9603658932162706.\u001b[0m\n",
            "\u001b[32m[I 2021-11-30 12:43:38,657]\u001b[0m Trial 273 finished with value: 0.9371986721331989 and parameters: {'pca_components': 117, 'C': 0.26114192417255105, 'gamma': 2.148967971329584, 'kernel': 'linear'}. Best is trial 144 with value: 0.9603658932162706.\u001b[0m\n",
            "\u001b[32m[I 2021-11-30 12:43:38,919]\u001b[0m Trial 274 finished with value: 0.9378105274715764 and parameters: {'pca_components': 117, 'C': 0.41776581684747927, 'gamma': 0.0878533532885172, 'kernel': 'linear'}. Best is trial 144 with value: 0.9603658932162706.\u001b[0m\n",
            "\u001b[32m[I 2021-11-30 12:43:39,218]\u001b[0m Trial 275 finished with value: 0.9334225353728929 and parameters: {'pca_components': 117, 'C': 0.7084051048667392, 'gamma': 0.45326298538949544, 'kernel': 'linear'}. Best is trial 144 with value: 0.9603658932162706.\u001b[0m\n",
            "\u001b[32m[I 2021-11-30 12:43:40,275]\u001b[0m Trial 276 finished with value: 0.6149487771755853 and parameters: {'pca_components': 117, 'C': 1.1787225184805665, 'gamma': 0.3232341262932105, 'kernel': 'rbf'}. Best is trial 144 with value: 0.9603658932162706.\u001b[0m\n",
            "\u001b[32m[I 2021-11-30 12:43:40,502]\u001b[0m Trial 277 finished with value: 0.9452526110932435 and parameters: {'pca_components': 117, 'C': 0.543130815786886, 'gamma': 0.627208382064973, 'kernel': 'linear'}. Best is trial 144 with value: 0.9603658932162706.\u001b[0m\n",
            "\u001b[32m[I 2021-11-30 12:43:40,752]\u001b[0m Trial 278 finished with value: 0.9501362595371015 and parameters: {'pca_components': 117, 'C': 0.3584552771484873, 'gamma': 0.03123799196493503, 'kernel': 'linear'}. Best is trial 144 with value: 0.9603658932162706.\u001b[0m\n",
            "\u001b[32m[I 2021-11-30 12:43:41,029]\u001b[0m Trial 279 finished with value: 0.9518186592576279 and parameters: {'pca_components': 117, 'C': 0.30435763485437606, 'gamma': 0.038930189686416816, 'kernel': 'linear'}. Best is trial 144 with value: 0.9603658932162706.\u001b[0m\n",
            "\u001b[32m[I 2021-11-30 12:43:41,309]\u001b[0m Trial 280 finished with value: 0.9383690965752771 and parameters: {'pca_components': 117, 'C': 0.228488087952534, 'gamma': 0.03219903332370855, 'kernel': 'linear'}. Best is trial 144 with value: 0.9603658932162706.\u001b[0m\n",
            "\u001b[32m[I 2021-11-30 12:43:41,631]\u001b[0m Trial 281 finished with value: 0.9371986721331989 and parameters: {'pca_components': 117, 'C': 0.11510400749302807, 'gamma': 0.008461979911902891, 'kernel': 'linear'}. Best is trial 144 with value: 0.9603658932162706.\u001b[0m\n",
            "\u001b[32m[I 2021-11-30 12:43:41,947]\u001b[0m Trial 282 finished with value: 0.9342877475762252 and parameters: {'pca_components': 117, 'C': 0.17795211588013418, 'gamma': 0.024039584180518842, 'kernel': 'linear'}. Best is trial 144 with value: 0.9603658932162706.\u001b[0m\n",
            "\u001b[32m[I 2021-11-30 12:43:42,198]\u001b[0m Trial 283 finished with value: 0.9440455400574123 and parameters: {'pca_components': 117, 'C': 0.31756126505099036, 'gamma': 0.03998859606796432, 'kernel': 'linear'}. Best is trial 144 with value: 0.9603658932162706.\u001b[0m\n",
            "\u001b[32m[I 2021-11-30 12:43:42,446]\u001b[0m Trial 284 finished with value: 0.956162525433134 and parameters: {'pca_components': 117, 'C': 0.35927403231978333, 'gamma': 0.04766569260478588, 'kernel': 'linear'}. Best is trial 144 with value: 0.9603658932162706.\u001b[0m\n",
            "\u001b[32m[I 2021-11-30 12:43:42,757]\u001b[0m Trial 285 finished with value: 0.9369162376731763 and parameters: {'pca_components': 117, 'C': 0.24713263446424757, 'gamma': 0.05127704535222601, 'kernel': 'linear'}. Best is trial 144 with value: 0.9603658932162706.\u001b[0m\n",
            "\u001b[32m[I 2021-11-30 12:43:43,080]\u001b[0m Trial 286 finished with value: 0.9407256041954305 and parameters: {'pca_components': 117, 'C': 0.3272181813215309, 'gamma': 0.0369927308945488, 'kernel': 'linear'}. Best is trial 144 with value: 0.9603658932162706.\u001b[0m\n",
            "\u001b[32m[I 2021-11-30 12:43:43,341]\u001b[0m Trial 287 finished with value: 0.9395447277701272 and parameters: {'pca_components': 117, 'C': 0.40179575904656023, 'gamma': 0.06135621960055604, 'kernel': 'linear'}. Best is trial 144 with value: 0.9603658932162706.\u001b[0m\n",
            "\u001b[32m[I 2021-11-30 12:43:43,632]\u001b[0m Trial 288 finished with value: 0.9371986721331989 and parameters: {'pca_components': 117, 'C': 0.20253561962569785, 'gamma': 0.016129874903931186, 'kernel': 'linear'}. Best is trial 144 with value: 0.9603658932162706.\u001b[0m\n",
            "\u001b[32m[I 2021-11-30 12:43:43,877]\u001b[0m Trial 289 finished with value: 0.9464651769529198 and parameters: {'pca_components': 117, 'C': 0.29159775846881486, 'gamma': 0.03605421142616007, 'kernel': 'linear'}. Best is trial 144 with value: 0.9603658932162706.\u001b[0m\n",
            "\u001b[32m[I 2021-11-30 12:43:44,165]\u001b[0m Trial 290 finished with value: 0.9467100381499165 and parameters: {'pca_components': 117, 'C': 0.40166831114149, 'gamma': 0.02800863457889547, 'kernel': 'linear'}. Best is trial 144 with value: 0.9603658932162706.\u001b[0m\n",
            "\u001b[32m[I 2021-11-30 12:43:44,410]\u001b[0m Trial 291 finished with value: 0.9299747577915257 and parameters: {'pca_components': 117, 'C': 1.8122137606033801, 'gamma': 0.021858947014539814, 'kernel': 'linear'}. Best is trial 144 with value: 0.9603658932162706.\u001b[0m\n",
            "\u001b[32m[I 2021-11-30 12:43:44,674]\u001b[0m Trial 292 finished with value: 0.9331239133050879 and parameters: {'pca_components': 117, 'C': 0.5857851319652303, 'gamma': 0.04472870338040244, 'kernel': 'linear'}. Best is trial 144 with value: 0.9603658932162706.\u001b[0m\n",
            "\u001b[32m[I 2021-11-30 12:43:45,012]\u001b[0m Trial 293 finished with value: 0.9342877475762252 and parameters: {'pca_components': 117, 'C': 0.07496433175967335, 'gamma': 0.061542440110110966, 'kernel': 'linear'}. Best is trial 144 with value: 0.9603658932162706.\u001b[0m\n",
            "\u001b[32m[I 2021-11-30 12:43:45,284]\u001b[0m Trial 294 finished with value: 0.9316592574792744 and parameters: {'pca_components': 117, 'C': 0.9065310359620565, 'gamma': 0.2610586373834314, 'kernel': 'linear'}. Best is trial 144 with value: 0.9603658932162706.\u001b[0m\n",
            "\u001b[32m[I 2021-11-30 12:43:46,352]\u001b[0m Trial 295 finished with value: 0.624283352274359 and parameters: {'pca_components': 117, 'C': 0.5355461577061823, 'gamma': 0.18631263695956263, 'kernel': 'rbf'}. Best is trial 144 with value: 0.9603658932162706.\u001b[0m\n",
            "\u001b[32m[I 2021-11-30 12:43:46,621]\u001b[0m Trial 296 finished with value: 0.9348732914543867 and parameters: {'pca_components': 117, 'C': 0.7139669023292222, 'gamma': 1.6011735517752352, 'kernel': 'linear'}. Best is trial 144 with value: 0.9603658932162706.\u001b[0m\n",
            "\u001b[32m[I 2021-11-30 12:43:46,868]\u001b[0m Trial 297 finished with value: 0.9471961084051764 and parameters: {'pca_components': 117, 'C': 0.4427101085225821, 'gamma': 0.12095621303963788, 'kernel': 'linear'}. Best is trial 144 with value: 0.9603658932162706.\u001b[0m\n",
            "\u001b[32m[I 2021-11-30 12:43:47,142]\u001b[0m Trial 298 finished with value: 0.93399064171123 and parameters: {'pca_components': 117, 'C': 1.5569058019065973, 'gamma': 0.4747608037478334, 'kernel': 'linear'}. Best is trial 144 with value: 0.9603658932162706.\u001b[0m\n",
            "\u001b[32m[I 2021-11-30 12:43:47,368]\u001b[0m Trial 299 finished with value: 0.9407256041954305 and parameters: {'pca_components': 117, 'C': 0.3199572381714174, 'gamma': 0.028373655017420965, 'kernel': 'linear'}. Best is trial 144 with value: 0.9603658932162706.\u001b[0m\n"
          ]
        }
      ]
    },
    {
      "cell_type": "code",
      "metadata": {
        "colab": {
          "base_uri": "https://localhost:8080/",
          "height": 542
        },
        "id": "R2lxBGYBCJ-P",
        "outputId": "9d548e85-dfc0-4b7e-8679-e089d046ffa0"
      },
      "source": [
        "optuna.visualization.plot_optimization_history(svc_study)"
      ],
      "execution_count": 92,
      "outputs": [
        {
          "output_type": "display_data",
          "data": {
            "text/html": [
              "<html>\n",
              "<head><meta charset=\"utf-8\" /></head>\n",
              "<body>\n",
              "    <div>\n",
              "            <script src=\"https://cdnjs.cloudflare.com/ajax/libs/mathjax/2.7.5/MathJax.js?config=TeX-AMS-MML_SVG\"></script><script type=\"text/javascript\">if (window.MathJax) {MathJax.Hub.Config({SVG: {font: \"STIX-Web\"}});}</script>\n",
              "                <script type=\"text/javascript\">window.PlotlyConfig = {MathJaxConfig: 'local'};</script>\n",
              "        <script src=\"https://cdn.plot.ly/plotly-latest.min.js\"></script>    \n",
              "            <div id=\"db337a18-cb07-4cf5-a7a4-a20d5466d870\" class=\"plotly-graph-div\" style=\"height:525px; width:100%;\"></div>\n",
              "            <script type=\"text/javascript\">\n",
              "                \n",
              "                    window.PLOTLYENV=window.PLOTLYENV || {};\n",
              "                    \n",
              "                if (document.getElementById(\"db337a18-cb07-4cf5-a7a4-a20d5466d870\")) {\n",
              "                    Plotly.newPlot(\n",
              "                        'db337a18-cb07-4cf5-a7a4-a20d5466d870',\n",
              "                        [{\"mode\": \"markers\", \"name\": \"Objective Value\", \"type\": \"scatter\", \"x\": [0, 1, 2, 3, 4, 5, 6, 7, 8, 9, 10, 11, 12, 13, 14, 15, 16, 17, 18, 19, 20, 21, 22, 23, 24, 25, 26, 27, 28, 29, 30, 31, 32, 33, 34, 35, 36, 37, 38, 39, 40, 41, 42, 43, 44, 45, 46, 47, 48, 49, 50, 51, 52, 53, 54, 55, 56, 57, 58, 59, 60, 61, 62, 63, 64, 65, 66, 67, 68, 69, 70, 71, 72, 73, 74, 75, 76, 77, 78, 79, 80, 81, 82, 83, 84, 85, 86, 87, 88, 89, 90, 91, 92, 93, 94, 95, 96, 97, 98, 99, 100, 101, 102, 103, 104, 105, 106, 107, 108, 109, 110, 111, 112, 113, 114, 115, 116, 117, 118, 119, 120, 121, 122, 123, 124, 125, 126, 127, 128, 129, 130, 131, 132, 133, 134, 135, 136, 137, 138, 139, 140, 141, 142, 143, 144, 145, 146, 147, 148, 149, 150, 151, 152, 153, 154, 155, 156, 157, 158, 159, 160, 161, 162, 163, 164, 165, 166, 167, 168, 169, 170, 171, 172, 173, 174, 175, 176, 177, 178, 179, 180, 181, 182, 183, 184, 185, 186, 187, 188, 189, 190, 191, 192, 193, 194, 195, 196, 197, 198, 199, 200, 201, 202, 203, 204, 205, 206, 207, 208, 209, 210, 211, 212, 213, 214, 215, 216, 217, 218, 219, 220, 221, 222, 223, 224, 225, 226, 227, 228, 229, 230, 231, 232, 233, 234, 235, 236, 237, 238, 239, 240, 241, 242, 243, 244, 245, 246, 247, 248, 249, 250, 251, 252, 253, 254, 255, 256, 257, 258, 259, 260, 261, 262, 263, 264, 265, 266, 267, 268, 269, 270, 271, 272, 273, 274, 275, 276, 277, 278, 279, 280, 281, 282, 283, 284, 285, 286, 287, 288, 289, 290, 291, 292, 293, 294, 295, 296, 297, 298, 299], \"y\": [0.9371986721331989, 0.06124690043851618, 0.4446457999134963, 0.9319652281442987, 0.06085153314400664, 0.9089368798781641, 0.9396345527329775, 0.06440019721019304, 0.6652599776447131, 0.9371986721331989, 0.8832001700335368, 0.9144135928563091, 0.9371986721331989, 0.8890745713385638, 0.8966974536717934, 0.9371986721331989, 0.9371986721331989, 0.9267317841553987, 0.06085153314400664, 0.6419484684260407, 0.8925103593295812, 0.9371986721331989, 0.9055453417573283, 0.6637387791861777, 0.9371986721331989, 0.9371986721331989, 0.060455896927651145, 0.9371986721331989, 0.9375270784697247, 0.9371986721331989, 0.0722093330788983, 0.9371986721331989, 0.9383690965752771, 0.9371986721331989, 0.6622477466698572, 0.9425820067563285, 0.9046394921259402, 0.9505938197670734, 0.8956727712291341, 0.5884339209173477, 0.9371986721331989, 0.9210721348931099, 0.9035303326810176, 0.9431032485378252, 0.8832660198511144, 0.9481607672408354, 0.8867405817365447, 0.9417803246518612, 0.9375270784697247, 0.9342877475762252, 0.06282568700759475, 0.9428439228552801, 0.9000291193332843, 0.9173542265091482, 0.9345701937455836, 0.9351641669384522, 0.9342877475762252, 0.9386442973044307, 0.9155413895858847, 0.9464465481836701, 0.9203058900097625, 0.9308116544071239, 0.9351641669384522, 0.9395447277701272, 0.8907048079543312, 0.9464651769529198, 0.9270580864289129, 0.9342877475762252, 0.06164199914199914, 0.9476832790352472, 0.9278787300348987, 0.9411116946482118, 0.9251191632695677, 0.9192428814034392, 0.9440455400574123, 0.9366310160427808, 0.9371986721331989, 0.9371986721331989, 0.9118870097593501, 0.06164199914199914, 0.9371986721331989, 0.9221941753239173, 0.931038213245841, 0.919549008910711, 0.6549167005282406, 0.9551105233327035, 0.9511440940012368, 0.9553197840351493, 0.9428439228552801, 0.9092265378779036, 0.9211452970914703, 0.9513712228438982, 0.9371986721331989, 0.9268929880712021, 0.9440455400574123, 0.9392713903743315, 0.07645994656534341, 0.9217626714446198, 0.9371986721331989, 0.9513712228438982, 0.9371986721331989, 0.9452526110932435, 0.919549008910711, 0.9291483350855253, 0.9389953424867055, 0.9371986721331989, 0.9233211244370617, 0.952389948989231, 0.9401855006625024, 0.9342877475762252, 0.9371986721331989, 0.9369516439655543, 0.9342877475762252, 0.9493745362424206, 0.9389953424867055, 0.9548991198667907, 0.740613504393032, 0.9407256041954305, 0.9471961084051764, 0.9383690965752771, 0.941381041964908, 0.9501362595371015, 0.9301879338301736, 0.9357582123435038, 0.935456769012802, 0.935456769012802, 0.941647718900327, 0.9342877475762252, 0.9207218405196741, 0.9419117647058823, 0.9371986721331989, 0.9499040002818341, 0.9467100381499165, 0.9476832790352472, 0.934868656276947, 0.9351641669384522, 0.9085369416558599, 0.9328223514214878, 0.9371986721331989, 0.9496693746457585, 0.9404568880047008, 0.9374783597962111, 0.9501362595371015, 0.9389953424867055, 0.9603658932162706, 0.9381505295007564, 0.9404568880047008, 0.9383690965752771, 0.9392713903743315, 0.9277012610878586, 0.9479232154301585, 0.9476832790352472, 0.9405648279203199, 0.9371986721331989, 0.941381041964908, 0.9392713903743315, 0.9283858368322193, 0.9371986721331989, 0.9369162376731763, 0.06557828612324734, 0.9236599337490736, 0.9563685735599539, 0.9435287443267775, 0.9308116544071239, 0.9419117647058823, 0.9331239133050879, 0.9293485061498487, 0.9452526110932435, 0.9469488003022859, 0.9369162376731763, 0.9513712228438982, 0.9375270784697247, 0.941381041964908, 0.9299747577915257, 0.9392713903743315, 0.9399114024194135, 0.9371986721331989, 0.941647718900327, 0.9450003702678239, 0.93399064171123, 0.9342877475762252, 0.9435287443267775, 0.9396345527329775, 0.9384349534958578, 0.9247877028131201, 0.9443000953139484, 0.9151643345265212, 0.9404568880047008, 0.9252561383998041, 0.5153912427485593, 0.952389948989231, 0.9360334163386617, 0.9474409222147826, 0.9515960665658094, 0.9443000953139484, 0.9501362595371015, 0.9357465049401825, 0.9479232154301585, 0.9499040002818341, 0.9404568880047008, 0.9371986721331989, 0.9395447277701272, 0.9479232154301585, 0.9407256041954305, 0.9319652281442987, 0.9318995894086687, 0.9351641669384522, 0.9411116946482118, 0.9489069591527988, 0.9443000953139484, 0.9509146452549481, 0.9411116946482118, 0.9383690965752771, 0.941381041964908, 0.9395447277701272, 0.9457496090709497, 0.9351641669384522, 0.7478017033817855, 0.9528315968594203, 0.9342877475762252, 0.9467100381499165, 0.952389948989231, 0.9513712228438982, 0.9229790115098171, 0.9301879338301736, 0.9392713903743315, 0.9345701937455836, 0.4997713441446512, 0.9407256041954305, 0.9396345527329775, 0.941647718900327, 0.9401855006625024, 0.9366310160427808, 0.9389953424867055, 0.9590955377124568, 0.9264022772853723, 0.9425820067563285, 0.9420502475701449, 0.9308116544071239, 0.9474409222147826, 0.9369516439655543, 0.9491419181052738, 0.9526118921584916, 0.9345819501387487, 0.9313502673796792, 0.9411116946482118, 0.9316592574792744, 0.9348732914543867, 0.9037590944948504, 0.9371986721331989, 0.9513712228438982, 0.9428439228552801, 0.9419117647058823, 0.934868656276947, 0.6493275316455696, 0.9378105274715764, 0.9455023450480577, 0.9371986721331989, 0.06909827886557564, 0.9479232154301585, 0.9467100381499165, 0.9342877475762252, 0.9247877028131201, 0.9409916882103717, 0.9401855006625024, 0.9450003702678239, 0.9342877475762252, 0.9389953424867055, 0.9342877475762252, 0.9407256041954305, 0.9247877028131201, 0.9450003702678239, 0.9383690965752771, 0.9371986721331989, 0.9378105274715764, 0.9334225353728929, 0.6149487771755853, 0.9452526110932435, 0.9501362595371015, 0.9518186592576279, 0.9383690965752771, 0.9371986721331989, 0.9342877475762252, 0.9440455400574123, 0.956162525433134, 0.9369162376731763, 0.9407256041954305, 0.9395447277701272, 0.9371986721331989, 0.9464651769529198, 0.9467100381499165, 0.9299747577915257, 0.9331239133050879, 0.9342877475762252, 0.9316592574792744, 0.624283352274359, 0.9348732914543867, 0.9471961084051764, 0.93399064171123, 0.9407256041954305]}, {\"name\": \"Best Value\", \"type\": \"scatter\", \"x\": [0, 1, 2, 3, 4, 5, 6, 7, 8, 9, 10, 11, 12, 13, 14, 15, 16, 17, 18, 19, 20, 21, 22, 23, 24, 25, 26, 27, 28, 29, 30, 31, 32, 33, 34, 35, 36, 37, 38, 39, 40, 41, 42, 43, 44, 45, 46, 47, 48, 49, 50, 51, 52, 53, 54, 55, 56, 57, 58, 59, 60, 61, 62, 63, 64, 65, 66, 67, 68, 69, 70, 71, 72, 73, 74, 75, 76, 77, 78, 79, 80, 81, 82, 83, 84, 85, 86, 87, 88, 89, 90, 91, 92, 93, 94, 95, 96, 97, 98, 99, 100, 101, 102, 103, 104, 105, 106, 107, 108, 109, 110, 111, 112, 113, 114, 115, 116, 117, 118, 119, 120, 121, 122, 123, 124, 125, 126, 127, 128, 129, 130, 131, 132, 133, 134, 135, 136, 137, 138, 139, 140, 141, 142, 143, 144, 145, 146, 147, 148, 149, 150, 151, 152, 153, 154, 155, 156, 157, 158, 159, 160, 161, 162, 163, 164, 165, 166, 167, 168, 169, 170, 171, 172, 173, 174, 175, 176, 177, 178, 179, 180, 181, 182, 183, 184, 185, 186, 187, 188, 189, 190, 191, 192, 193, 194, 195, 196, 197, 198, 199, 200, 201, 202, 203, 204, 205, 206, 207, 208, 209, 210, 211, 212, 213, 214, 215, 216, 217, 218, 219, 220, 221, 222, 223, 224, 225, 226, 227, 228, 229, 230, 231, 232, 233, 234, 235, 236, 237, 238, 239, 240, 241, 242, 243, 244, 245, 246, 247, 248, 249, 250, 251, 252, 253, 254, 255, 256, 257, 258, 259, 260, 261, 262, 263, 264, 265, 266, 267, 268, 269, 270, 271, 272, 273, 274, 275, 276, 277, 278, 279, 280, 281, 282, 283, 284, 285, 286, 287, 288, 289, 290, 291, 292, 293, 294, 295, 296, 297, 298, 299], \"y\": [0.9371986721331989, 0.9371986721331989, 0.9371986721331989, 0.9371986721331989, 0.9371986721331989, 0.9371986721331989, 0.9396345527329775, 0.9396345527329775, 0.9396345527329775, 0.9396345527329775, 0.9396345527329775, 0.9396345527329775, 0.9396345527329775, 0.9396345527329775, 0.9396345527329775, 0.9396345527329775, 0.9396345527329775, 0.9396345527329775, 0.9396345527329775, 0.9396345527329775, 0.9396345527329775, 0.9396345527329775, 0.9396345527329775, 0.9396345527329775, 0.9396345527329775, 0.9396345527329775, 0.9396345527329775, 0.9396345527329775, 0.9396345527329775, 0.9396345527329775, 0.9396345527329775, 0.9396345527329775, 0.9396345527329775, 0.9396345527329775, 0.9396345527329775, 0.9425820067563285, 0.9425820067563285, 0.9505938197670734, 0.9505938197670734, 0.9505938197670734, 0.9505938197670734, 0.9505938197670734, 0.9505938197670734, 0.9505938197670734, 0.9505938197670734, 0.9505938197670734, 0.9505938197670734, 0.9505938197670734, 0.9505938197670734, 0.9505938197670734, 0.9505938197670734, 0.9505938197670734, 0.9505938197670734, 0.9505938197670734, 0.9505938197670734, 0.9505938197670734, 0.9505938197670734, 0.9505938197670734, 0.9505938197670734, 0.9505938197670734, 0.9505938197670734, 0.9505938197670734, 0.9505938197670734, 0.9505938197670734, 0.9505938197670734, 0.9505938197670734, 0.9505938197670734, 0.9505938197670734, 0.9505938197670734, 0.9505938197670734, 0.9505938197670734, 0.9505938197670734, 0.9505938197670734, 0.9505938197670734, 0.9505938197670734, 0.9505938197670734, 0.9505938197670734, 0.9505938197670734, 0.9505938197670734, 0.9505938197670734, 0.9505938197670734, 0.9505938197670734, 0.9505938197670734, 0.9505938197670734, 0.9505938197670734, 0.9551105233327035, 0.9551105233327035, 0.9553197840351493, 0.9553197840351493, 0.9553197840351493, 0.9553197840351493, 0.9553197840351493, 0.9553197840351493, 0.9553197840351493, 0.9553197840351493, 0.9553197840351493, 0.9553197840351493, 0.9553197840351493, 0.9553197840351493, 0.9553197840351493, 0.9553197840351493, 0.9553197840351493, 0.9553197840351493, 0.9553197840351493, 0.9553197840351493, 0.9553197840351493, 0.9553197840351493, 0.9553197840351493, 0.9553197840351493, 0.9553197840351493, 0.9553197840351493, 0.9553197840351493, 0.9553197840351493, 0.9553197840351493, 0.9553197840351493, 0.9553197840351493, 0.9553197840351493, 0.9553197840351493, 0.9553197840351493, 0.9553197840351493, 0.9553197840351493, 0.9553197840351493, 0.9553197840351493, 0.9553197840351493, 0.9553197840351493, 0.9553197840351493, 0.9553197840351493, 0.9553197840351493, 0.9553197840351493, 0.9553197840351493, 0.9553197840351493, 0.9553197840351493, 0.9553197840351493, 0.9553197840351493, 0.9553197840351493, 0.9553197840351493, 0.9553197840351493, 0.9553197840351493, 0.9553197840351493, 0.9553197840351493, 0.9553197840351493, 0.9553197840351493, 0.9553197840351493, 0.9553197840351493, 0.9603658932162706, 0.9603658932162706, 0.9603658932162706, 0.9603658932162706, 0.9603658932162706, 0.9603658932162706, 0.9603658932162706, 0.9603658932162706, 0.9603658932162706, 0.9603658932162706, 0.9603658932162706, 0.9603658932162706, 0.9603658932162706, 0.9603658932162706, 0.9603658932162706, 0.9603658932162706, 0.9603658932162706, 0.9603658932162706, 0.9603658932162706, 0.9603658932162706, 0.9603658932162706, 0.9603658932162706, 0.9603658932162706, 0.9603658932162706, 0.9603658932162706, 0.9603658932162706, 0.9603658932162706, 0.9603658932162706, 0.9603658932162706, 0.9603658932162706, 0.9603658932162706, 0.9603658932162706, 0.9603658932162706, 0.9603658932162706, 0.9603658932162706, 0.9603658932162706, 0.9603658932162706, 0.9603658932162706, 0.9603658932162706, 0.9603658932162706, 0.9603658932162706, 0.9603658932162706, 0.9603658932162706, 0.9603658932162706, 0.9603658932162706, 0.9603658932162706, 0.9603658932162706, 0.9603658932162706, 0.9603658932162706, 0.9603658932162706, 0.9603658932162706, 0.9603658932162706, 0.9603658932162706, 0.9603658932162706, 0.9603658932162706, 0.9603658932162706, 0.9603658932162706, 0.9603658932162706, 0.9603658932162706, 0.9603658932162706, 0.9603658932162706, 0.9603658932162706, 0.9603658932162706, 0.9603658932162706, 0.9603658932162706, 0.9603658932162706, 0.9603658932162706, 0.9603658932162706, 0.9603658932162706, 0.9603658932162706, 0.9603658932162706, 0.9603658932162706, 0.9603658932162706, 0.9603658932162706, 0.9603658932162706, 0.9603658932162706, 0.9603658932162706, 0.9603658932162706, 0.9603658932162706, 0.9603658932162706, 0.9603658932162706, 0.9603658932162706, 0.9603658932162706, 0.9603658932162706, 0.9603658932162706, 0.9603658932162706, 0.9603658932162706, 0.9603658932162706, 0.9603658932162706, 0.9603658932162706, 0.9603658932162706, 0.9603658932162706, 0.9603658932162706, 0.9603658932162706, 0.9603658932162706, 0.9603658932162706, 0.9603658932162706, 0.9603658932162706, 0.9603658932162706, 0.9603658932162706, 0.9603658932162706, 0.9603658932162706, 0.9603658932162706, 0.9603658932162706, 0.9603658932162706, 0.9603658932162706, 0.9603658932162706, 0.9603658932162706, 0.9603658932162706, 0.9603658932162706, 0.9603658932162706, 0.9603658932162706, 0.9603658932162706, 0.9603658932162706, 0.9603658932162706, 0.9603658932162706, 0.9603658932162706, 0.9603658932162706, 0.9603658932162706, 0.9603658932162706, 0.9603658932162706, 0.9603658932162706, 0.9603658932162706, 0.9603658932162706, 0.9603658932162706, 0.9603658932162706, 0.9603658932162706, 0.9603658932162706, 0.9603658932162706, 0.9603658932162706, 0.9603658932162706, 0.9603658932162706, 0.9603658932162706, 0.9603658932162706, 0.9603658932162706, 0.9603658932162706, 0.9603658932162706, 0.9603658932162706, 0.9603658932162706, 0.9603658932162706, 0.9603658932162706, 0.9603658932162706, 0.9603658932162706, 0.9603658932162706, 0.9603658932162706, 0.9603658932162706, 0.9603658932162706, 0.9603658932162706, 0.9603658932162706, 0.9603658932162706, 0.9603658932162706, 0.9603658932162706, 0.9603658932162706, 0.9603658932162706, 0.9603658932162706, 0.9603658932162706]}],\n",
              "                        {\"template\": {\"data\": {\"bar\": [{\"error_x\": {\"color\": \"#2a3f5f\"}, \"error_y\": {\"color\": \"#2a3f5f\"}, \"marker\": {\"line\": {\"color\": \"#E5ECF6\", \"width\": 0.5}}, \"type\": \"bar\"}], \"barpolar\": [{\"marker\": {\"line\": {\"color\": \"#E5ECF6\", \"width\": 0.5}}, \"type\": \"barpolar\"}], \"carpet\": [{\"aaxis\": {\"endlinecolor\": \"#2a3f5f\", \"gridcolor\": \"white\", \"linecolor\": \"white\", \"minorgridcolor\": \"white\", \"startlinecolor\": \"#2a3f5f\"}, \"baxis\": {\"endlinecolor\": \"#2a3f5f\", \"gridcolor\": \"white\", \"linecolor\": \"white\", \"minorgridcolor\": \"white\", \"startlinecolor\": \"#2a3f5f\"}, \"type\": \"carpet\"}], \"choropleth\": [{\"colorbar\": {\"outlinewidth\": 0, \"ticks\": \"\"}, \"type\": \"choropleth\"}], \"contour\": [{\"colorbar\": {\"outlinewidth\": 0, \"ticks\": \"\"}, \"colorscale\": [[0.0, \"#0d0887\"], [0.1111111111111111, \"#46039f\"], [0.2222222222222222, \"#7201a8\"], [0.3333333333333333, \"#9c179e\"], [0.4444444444444444, \"#bd3786\"], [0.5555555555555556, \"#d8576b\"], [0.6666666666666666, \"#ed7953\"], [0.7777777777777778, \"#fb9f3a\"], [0.8888888888888888, \"#fdca26\"], [1.0, \"#f0f921\"]], \"type\": \"contour\"}], \"contourcarpet\": [{\"colorbar\": {\"outlinewidth\": 0, \"ticks\": \"\"}, \"type\": \"contourcarpet\"}], \"heatmap\": [{\"colorbar\": {\"outlinewidth\": 0, \"ticks\": \"\"}, \"colorscale\": [[0.0, \"#0d0887\"], [0.1111111111111111, \"#46039f\"], [0.2222222222222222, \"#7201a8\"], [0.3333333333333333, \"#9c179e\"], [0.4444444444444444, \"#bd3786\"], [0.5555555555555556, \"#d8576b\"], [0.6666666666666666, \"#ed7953\"], [0.7777777777777778, \"#fb9f3a\"], [0.8888888888888888, \"#fdca26\"], [1.0, \"#f0f921\"]], \"type\": \"heatmap\"}], \"heatmapgl\": [{\"colorbar\": {\"outlinewidth\": 0, \"ticks\": \"\"}, \"colorscale\": [[0.0, \"#0d0887\"], [0.1111111111111111, \"#46039f\"], [0.2222222222222222, \"#7201a8\"], [0.3333333333333333, \"#9c179e\"], [0.4444444444444444, \"#bd3786\"], [0.5555555555555556, \"#d8576b\"], [0.6666666666666666, \"#ed7953\"], [0.7777777777777778, \"#fb9f3a\"], [0.8888888888888888, \"#fdca26\"], [1.0, \"#f0f921\"]], \"type\": \"heatmapgl\"}], \"histogram\": [{\"marker\": {\"colorbar\": {\"outlinewidth\": 0, \"ticks\": \"\"}}, \"type\": \"histogram\"}], \"histogram2d\": [{\"colorbar\": {\"outlinewidth\": 0, \"ticks\": \"\"}, \"colorscale\": [[0.0, \"#0d0887\"], [0.1111111111111111, \"#46039f\"], [0.2222222222222222, \"#7201a8\"], [0.3333333333333333, \"#9c179e\"], [0.4444444444444444, \"#bd3786\"], [0.5555555555555556, \"#d8576b\"], [0.6666666666666666, \"#ed7953\"], [0.7777777777777778, \"#fb9f3a\"], [0.8888888888888888, \"#fdca26\"], [1.0, \"#f0f921\"]], \"type\": \"histogram2d\"}], \"histogram2dcontour\": [{\"colorbar\": {\"outlinewidth\": 0, \"ticks\": \"\"}, \"colorscale\": [[0.0, \"#0d0887\"], [0.1111111111111111, \"#46039f\"], [0.2222222222222222, \"#7201a8\"], [0.3333333333333333, \"#9c179e\"], [0.4444444444444444, \"#bd3786\"], [0.5555555555555556, \"#d8576b\"], [0.6666666666666666, \"#ed7953\"], [0.7777777777777778, \"#fb9f3a\"], [0.8888888888888888, \"#fdca26\"], [1.0, \"#f0f921\"]], \"type\": \"histogram2dcontour\"}], \"mesh3d\": [{\"colorbar\": {\"outlinewidth\": 0, \"ticks\": \"\"}, \"type\": \"mesh3d\"}], \"parcoords\": [{\"line\": {\"colorbar\": {\"outlinewidth\": 0, \"ticks\": \"\"}}, \"type\": \"parcoords\"}], \"pie\": [{\"automargin\": true, \"type\": \"pie\"}], \"scatter\": [{\"marker\": {\"colorbar\": {\"outlinewidth\": 0, \"ticks\": \"\"}}, \"type\": \"scatter\"}], \"scatter3d\": [{\"line\": {\"colorbar\": {\"outlinewidth\": 0, \"ticks\": \"\"}}, \"marker\": {\"colorbar\": {\"outlinewidth\": 0, \"ticks\": \"\"}}, \"type\": \"scatter3d\"}], \"scattercarpet\": [{\"marker\": {\"colorbar\": {\"outlinewidth\": 0, \"ticks\": \"\"}}, \"type\": \"scattercarpet\"}], \"scattergeo\": [{\"marker\": {\"colorbar\": {\"outlinewidth\": 0, \"ticks\": \"\"}}, \"type\": \"scattergeo\"}], \"scattergl\": [{\"marker\": {\"colorbar\": {\"outlinewidth\": 0, \"ticks\": \"\"}}, \"type\": \"scattergl\"}], \"scattermapbox\": [{\"marker\": {\"colorbar\": {\"outlinewidth\": 0, \"ticks\": \"\"}}, \"type\": \"scattermapbox\"}], \"scatterpolar\": [{\"marker\": {\"colorbar\": {\"outlinewidth\": 0, \"ticks\": \"\"}}, \"type\": \"scatterpolar\"}], \"scatterpolargl\": [{\"marker\": {\"colorbar\": {\"outlinewidth\": 0, \"ticks\": \"\"}}, \"type\": \"scatterpolargl\"}], \"scatterternary\": [{\"marker\": {\"colorbar\": {\"outlinewidth\": 0, \"ticks\": \"\"}}, \"type\": \"scatterternary\"}], \"surface\": [{\"colorbar\": {\"outlinewidth\": 0, \"ticks\": \"\"}, \"colorscale\": [[0.0, \"#0d0887\"], [0.1111111111111111, \"#46039f\"], [0.2222222222222222, \"#7201a8\"], [0.3333333333333333, \"#9c179e\"], [0.4444444444444444, \"#bd3786\"], [0.5555555555555556, \"#d8576b\"], [0.6666666666666666, \"#ed7953\"], [0.7777777777777778, \"#fb9f3a\"], [0.8888888888888888, \"#fdca26\"], [1.0, \"#f0f921\"]], \"type\": \"surface\"}], \"table\": [{\"cells\": {\"fill\": {\"color\": \"#EBF0F8\"}, \"line\": {\"color\": \"white\"}}, \"header\": {\"fill\": {\"color\": \"#C8D4E3\"}, \"line\": {\"color\": \"white\"}}, \"type\": \"table\"}]}, \"layout\": {\"annotationdefaults\": {\"arrowcolor\": \"#2a3f5f\", \"arrowhead\": 0, \"arrowwidth\": 1}, \"coloraxis\": {\"colorbar\": {\"outlinewidth\": 0, \"ticks\": \"\"}}, \"colorscale\": {\"diverging\": [[0, \"#8e0152\"], [0.1, \"#c51b7d\"], [0.2, \"#de77ae\"], [0.3, \"#f1b6da\"], [0.4, \"#fde0ef\"], [0.5, \"#f7f7f7\"], [0.6, \"#e6f5d0\"], [0.7, \"#b8e186\"], [0.8, \"#7fbc41\"], [0.9, \"#4d9221\"], [1, \"#276419\"]], \"sequential\": [[0.0, \"#0d0887\"], [0.1111111111111111, \"#46039f\"], [0.2222222222222222, \"#7201a8\"], [0.3333333333333333, \"#9c179e\"], [0.4444444444444444, \"#bd3786\"], [0.5555555555555556, \"#d8576b\"], [0.6666666666666666, \"#ed7953\"], [0.7777777777777778, \"#fb9f3a\"], [0.8888888888888888, \"#fdca26\"], [1.0, \"#f0f921\"]], \"sequentialminus\": [[0.0, \"#0d0887\"], [0.1111111111111111, \"#46039f\"], [0.2222222222222222, \"#7201a8\"], [0.3333333333333333, \"#9c179e\"], [0.4444444444444444, \"#bd3786\"], [0.5555555555555556, \"#d8576b\"], [0.6666666666666666, \"#ed7953\"], [0.7777777777777778, \"#fb9f3a\"], [0.8888888888888888, \"#fdca26\"], [1.0, \"#f0f921\"]]}, \"colorway\": [\"#636efa\", \"#EF553B\", \"#00cc96\", \"#ab63fa\", \"#FFA15A\", \"#19d3f3\", \"#FF6692\", \"#B6E880\", \"#FF97FF\", \"#FECB52\"], \"font\": {\"color\": \"#2a3f5f\"}, \"geo\": {\"bgcolor\": \"white\", \"lakecolor\": \"white\", \"landcolor\": \"#E5ECF6\", \"showlakes\": true, \"showland\": true, \"subunitcolor\": \"white\"}, \"hoverlabel\": {\"align\": \"left\"}, \"hovermode\": \"closest\", \"mapbox\": {\"style\": \"light\"}, \"paper_bgcolor\": \"white\", \"plot_bgcolor\": \"#E5ECF6\", \"polar\": {\"angularaxis\": {\"gridcolor\": \"white\", \"linecolor\": \"white\", \"ticks\": \"\"}, \"bgcolor\": \"#E5ECF6\", \"radialaxis\": {\"gridcolor\": \"white\", \"linecolor\": \"white\", \"ticks\": \"\"}}, \"scene\": {\"xaxis\": {\"backgroundcolor\": \"#E5ECF6\", \"gridcolor\": \"white\", \"gridwidth\": 2, \"linecolor\": \"white\", \"showbackground\": true, \"ticks\": \"\", \"zerolinecolor\": \"white\"}, \"yaxis\": {\"backgroundcolor\": \"#E5ECF6\", \"gridcolor\": \"white\", \"gridwidth\": 2, \"linecolor\": \"white\", \"showbackground\": true, \"ticks\": \"\", \"zerolinecolor\": \"white\"}, \"zaxis\": {\"backgroundcolor\": \"#E5ECF6\", \"gridcolor\": \"white\", \"gridwidth\": 2, \"linecolor\": \"white\", \"showbackground\": true, \"ticks\": \"\", \"zerolinecolor\": \"white\"}}, \"shapedefaults\": {\"line\": {\"color\": \"#2a3f5f\"}}, \"ternary\": {\"aaxis\": {\"gridcolor\": \"white\", \"linecolor\": \"white\", \"ticks\": \"\"}, \"baxis\": {\"gridcolor\": \"white\", \"linecolor\": \"white\", \"ticks\": \"\"}, \"bgcolor\": \"#E5ECF6\", \"caxis\": {\"gridcolor\": \"white\", \"linecolor\": \"white\", \"ticks\": \"\"}}, \"title\": {\"x\": 0.05}, \"xaxis\": {\"automargin\": true, \"gridcolor\": \"white\", \"linecolor\": \"white\", \"ticks\": \"\", \"title\": {\"standoff\": 15}, \"zerolinecolor\": \"white\", \"zerolinewidth\": 2}, \"yaxis\": {\"automargin\": true, \"gridcolor\": \"white\", \"linecolor\": \"white\", \"ticks\": \"\", \"title\": {\"standoff\": 15}, \"zerolinecolor\": \"white\", \"zerolinewidth\": 2}}}, \"title\": {\"text\": \"Optimization History Plot\"}, \"xaxis\": {\"title\": {\"text\": \"#Trials\"}}, \"yaxis\": {\"title\": {\"text\": \"Objective Value\"}}},\n",
              "                        {\"responsive\": true}\n",
              "                    ).then(function(){\n",
              "                            \n",
              "var gd = document.getElementById('db337a18-cb07-4cf5-a7a4-a20d5466d870');\n",
              "var x = new MutationObserver(function (mutations, observer) {{\n",
              "        var display = window.getComputedStyle(gd).display;\n",
              "        if (!display || display === 'none') {{\n",
              "            console.log([gd, 'removed!']);\n",
              "            Plotly.purge(gd);\n",
              "            observer.disconnect();\n",
              "        }}\n",
              "}});\n",
              "\n",
              "// Listen for the removal of the full notebook cells\n",
              "var notebookContainer = gd.closest('#notebook-container');\n",
              "if (notebookContainer) {{\n",
              "    x.observe(notebookContainer, {childList: true});\n",
              "}}\n",
              "\n",
              "// Listen for the clearing of the current output cell\n",
              "var outputEl = gd.closest('.output');\n",
              "if (outputEl) {{\n",
              "    x.observe(outputEl, {childList: true});\n",
              "}}\n",
              "\n",
              "                        })\n",
              "                };\n",
              "                \n",
              "            </script>\n",
              "        </div>\n",
              "</body>\n",
              "</html>"
            ]
          },
          "metadata": {}
        }
      ]
    },
    {
      "cell_type": "markdown",
      "metadata": {
        "id": "8yX-pliBZmXF"
      },
      "source": [
        "Διαλέγουμε 3 από τα καλύτερα trial."
      ]
    },
    {
      "cell_type": "code",
      "metadata": {
        "colab": {
          "base_uri": "https://localhost:8080/"
        },
        "id": "3hkcVV03JvrI",
        "outputId": "8d57a549-68eb-4c51-ebc0-93b538b540ef"
      },
      "source": [
        "svc_study.best_trial.params"
      ],
      "execution_count": 95,
      "outputs": [
        {
          "output_type": "execute_result",
          "data": {
            "text/plain": [
              "{'C': 0.5897017446645638,\n",
              " 'gamma': 0.2111157997898418,\n",
              " 'kernel': 'linear',\n",
              " 'pca_components': 117}"
            ]
          },
          "metadata": {},
          "execution_count": 95
        }
      ]
    },
    {
      "cell_type": "code",
      "metadata": {
        "colab": {
          "base_uri": "https://localhost:8080/"
        },
        "id": "0wXyeW1AJv_N",
        "outputId": "f911375c-37c3-44d2-e963-d97a2896ae69"
      },
      "source": [
        "optuna.trial.Trial(svc_study, 234).params"
      ],
      "execution_count": 93,
      "outputs": [
        {
          "output_type": "execute_result",
          "data": {
            "text/plain": [
              "{'C': 0.6773028185586154,\n",
              " 'gamma': 0.20301892479611974,\n",
              " 'kernel': 'linear',\n",
              " 'pca_components': 117}"
            ]
          },
          "metadata": {},
          "execution_count": 93
        }
      ]
    },
    {
      "cell_type": "code",
      "metadata": {
        "colab": {
          "base_uri": "https://localhost:8080/"
        },
        "id": "ZewawSiiPK8H",
        "outputId": "bbd95be8-5ce1-418a-b111-9b27eb277c7c"
      },
      "source": [
        "optuna.trial.Trial(svc_study, 284).params"
      ],
      "execution_count": 94,
      "outputs": [
        {
          "output_type": "execute_result",
          "data": {
            "text/plain": [
              "{'C': 0.35927403231978333,\n",
              " 'gamma': 0.04766569260478588,\n",
              " 'kernel': 'linear',\n",
              " 'pca_components': 117}"
            ]
          },
          "metadata": {},
          "execution_count": 94
        }
      ]
    },
    {
      "cell_type": "markdown",
      "metadata": {
        "id": "Q5BekKFBWqaf"
      },
      "source": [
        "Παρατηρούμε πως στα καλύτερα trials o pca κρατάει πρακτικα σχεδον όλα τα attributes άρα είναι περιττός και πως το C παίρνει τιμές από 0.3 εως 0.7 και το gamma από 0.04 εώς 0.3. Επίσης μετά από δοκιμές ούτε ο undersampler φαίνεται να βοηθά άρα αφαιρείται. Επίσης όλα τα καλά αποτελέσματα ήταν για linear kernel. Ξανατρέχουμε optuna έχοντας περιορίσει τους χώρους αναζήτησης."
      ]
    },
    {
      "cell_type": "code",
      "metadata": {
        "id": "67YEX4XHYcI9"
      },
      "source": [
        "def svc_objective(trial):\n",
        "\n",
        "    scaler = StandardScaler()\n",
        "    rus = RandomUnderSampler()\n",
        "\n",
        "    \n",
        "\n",
        "    params = {\n",
        "        'C': trial.suggest_loguniform('C',0.3, 1),\n",
        "        'gamma': trial.suggest_loguniform('gamma', 0.03, 0.3),\n",
        "        'kernel': trial.suggest_categorical(\"kernel\", [\"linear\"])\n",
        "    }\n",
        "\n",
        "    clf = SVC(**params)\n",
        "    \n",
        "    pipe = Pipeline(steps=[ ('scaler', scaler),   ('svc', clf)])\n",
        "    \n",
        "    pipe.fit(x_train_sampled_10, y_train_sampled_10)\n",
        "    preds = pipe.predict(x_test_sampled_10)\n",
        "    goal = f1_score(y_test_sampled_10,preds, average= 'macro')\n",
        "\n",
        "    return goal"
      ],
      "execution_count": 96,
      "outputs": []
    },
    {
      "cell_type": "code",
      "metadata": {
        "colab": {
          "base_uri": "https://localhost:8080/"
        },
        "id": "m4BWhy99Yevr",
        "outputId": "fe2269ce-b755-4e92-a081-8274579f72eb"
      },
      "source": [
        "svc_study = optuna.create_study(direction='maximize')\n",
        "svc_study.optimize(svc_objective, n_trials=100)"
      ],
      "execution_count": 97,
      "outputs": [
        {
          "output_type": "stream",
          "name": "stderr",
          "text": [
            "\u001b[32m[I 2021-11-30 12:46:11,899]\u001b[0m A new study created in memory with name: no-name-cee2fc10-d5dc-4954-977d-6d631c34891d\u001b[0m\n",
            "\u001b[32m[I 2021-11-30 12:46:12,854]\u001b[0m Trial 0 finished with value: 0.9747280738023042 and parameters: {'C': 0.3515765130259599, 'gamma': 0.08613263695920463, 'kernel': 'linear'}. Best is trial 0 with value: 0.9747280738023042.\u001b[0m\n",
            "\u001b[32m[I 2021-11-30 12:46:13,811]\u001b[0m Trial 1 finished with value: 0.9733108108108108 and parameters: {'C': 0.4456829718313906, 'gamma': 0.06124347404231223, 'kernel': 'linear'}. Best is trial 0 with value: 0.9747280738023042.\u001b[0m\n",
            "\u001b[32m[I 2021-11-30 12:46:15,001]\u001b[0m Trial 2 finished with value: 0.9701908664982655 and parameters: {'C': 0.8301736611718542, 'gamma': 0.03821246219448076, 'kernel': 'linear'}. Best is trial 0 with value: 0.9747280738023042.\u001b[0m\n",
            "\u001b[32m[I 2021-11-30 12:46:16,022]\u001b[0m Trial 3 finished with value: 0.9731717798484387 and parameters: {'C': 0.7481589573937903, 'gamma': 0.03534204030548002, 'kernel': 'linear'}. Best is trial 0 with value: 0.9747280738023042.\u001b[0m\n",
            "\u001b[32m[I 2021-11-30 12:46:16,925]\u001b[0m Trial 4 finished with value: 0.9733108108108108 and parameters: {'C': 0.4948714903133977, 'gamma': 0.03453499446642773, 'kernel': 'linear'}. Best is trial 0 with value: 0.9747280738023042.\u001b[0m\n",
            "\u001b[32m[I 2021-11-30 12:46:17,946]\u001b[0m Trial 5 finished with value: 0.9701908664982655 and parameters: {'C': 0.7846068163658125, 'gamma': 0.09536145953117012, 'kernel': 'linear'}. Best is trial 0 with value: 0.9747280738023042.\u001b[0m\n",
            "\u001b[32m[I 2021-11-30 12:46:18,996]\u001b[0m Trial 6 finished with value: 0.9733108108108108 and parameters: {'C': 0.6992131761140657, 'gamma': 0.06585434344478037, 'kernel': 'linear'}. Best is trial 0 with value: 0.9747280738023042.\u001b[0m\n",
            "\u001b[32m[I 2021-11-30 12:46:20,272]\u001b[0m Trial 7 finished with value: 0.9701908664982655 and parameters: {'C': 0.8888033163864706, 'gamma': 0.14140843595100555, 'kernel': 'linear'}. Best is trial 0 with value: 0.9747280738023042.\u001b[0m\n",
            "\u001b[32m[I 2021-11-30 12:46:21,273]\u001b[0m Trial 8 finished with value: 0.97175490601434 and parameters: {'C': 0.5755896983147827, 'gamma': 0.060057300018118445, 'kernel': 'linear'}. Best is trial 0 with value: 0.9747280738023042.\u001b[0m\n",
            "\u001b[32m[I 2021-11-30 12:46:22,523]\u001b[0m Trial 9 finished with value: 0.9701908664982655 and parameters: {'C': 0.8908871312991936, 'gamma': 0.07334854713149754, 'kernel': 'linear'}. Best is trial 0 with value: 0.9747280738023042.\u001b[0m\n",
            "\u001b[32m[I 2021-11-30 12:46:23,519]\u001b[0m Trial 10 finished with value: 0.9747280738023042 and parameters: {'C': 0.30451648351432686, 'gamma': 0.2771089614180118, 'kernel': 'linear'}. Best is trial 0 with value: 0.9747280738023042.\u001b[0m\n",
            "\u001b[32m[I 2021-11-30 12:46:24,383]\u001b[0m Trial 11 finished with value: 0.9747280738023042 and parameters: {'C': 0.31519293532959847, 'gamma': 0.26282867621096107, 'kernel': 'linear'}. Best is trial 0 with value: 0.9747280738023042.\u001b[0m\n",
            "\u001b[32m[I 2021-11-30 12:46:25,314]\u001b[0m Trial 12 finished with value: 0.9747280738023042 and parameters: {'C': 0.3184994931772977, 'gamma': 0.26530207764527525, 'kernel': 'linear'}. Best is trial 0 with value: 0.9747280738023042.\u001b[0m\n",
            "\u001b[32m[I 2021-11-30 12:46:26,225]\u001b[0m Trial 13 finished with value: 0.9733108108108108 and parameters: {'C': 0.3731398975238772, 'gamma': 0.16199758998809524, 'kernel': 'linear'}. Best is trial 0 with value: 0.9747280738023042.\u001b[0m\n",
            "\u001b[32m[I 2021-11-30 12:46:27,109]\u001b[0m Trial 14 finished with value: 0.9733108108108108 and parameters: {'C': 0.3848192085021492, 'gamma': 0.13093694373432582, 'kernel': 'linear'}. Best is trial 0 with value: 0.9747280738023042.\u001b[0m\n",
            "\u001b[32m[I 2021-11-30 12:46:27,987]\u001b[0m Trial 15 finished with value: 0.9733108108108108 and parameters: {'C': 0.3763279635839466, 'gamma': 0.09373983309782773, 'kernel': 'linear'}. Best is trial 0 with value: 0.9747280738023042.\u001b[0m\n",
            "\u001b[32m[I 2021-11-30 12:46:28,887]\u001b[0m Trial 16 finished with value: 0.9747280738023042 and parameters: {'C': 0.30458581748257346, 'gamma': 0.19111814850939526, 'kernel': 'linear'}. Best is trial 0 with value: 0.9747280738023042.\u001b[0m\n",
            "\u001b[32m[I 2021-11-30 12:46:29,788]\u001b[0m Trial 17 finished with value: 0.9733108108108108 and parameters: {'C': 0.5982337980232292, 'gamma': 0.10221983547840598, 'kernel': 'linear'}. Best is trial 0 with value: 0.9747280738023042.\u001b[0m\n",
            "\u001b[32m[I 2021-11-30 12:46:30,669]\u001b[0m Trial 18 finished with value: 0.9733108108108108 and parameters: {'C': 0.45101548274443615, 'gamma': 0.21591756747167729, 'kernel': 'linear'}. Best is trial 0 with value: 0.9747280738023042.\u001b[0m\n",
            "\u001b[32m[I 2021-11-30 12:46:31,487]\u001b[0m Trial 19 finished with value: 0.9747280738023042 and parameters: {'C': 0.3533991860574651, 'gamma': 0.18661809555744305, 'kernel': 'linear'}. Best is trial 0 with value: 0.9747280738023042.\u001b[0m\n",
            "\u001b[32m[I 2021-11-30 12:46:32,379]\u001b[0m Trial 20 finished with value: 0.9719008427771136 and parameters: {'C': 0.43296928414335556, 'gamma': 0.045449184555852166, 'kernel': 'linear'}. Best is trial 0 with value: 0.9747280738023042.\u001b[0m\n",
            "\u001b[32m[I 2021-11-30 12:46:33,163]\u001b[0m Trial 21 finished with value: 0.9747280738023042 and parameters: {'C': 0.3300616212543083, 'gamma': 0.21821124369993286, 'kernel': 'linear'}. Best is trial 0 with value: 0.9747280738023042.\u001b[0m\n",
            "\u001b[32m[I 2021-11-30 12:46:33,986]\u001b[0m Trial 22 finished with value: 0.9747280738023042 and parameters: {'C': 0.34849729166953314, 'gamma': 0.17609210416216217, 'kernel': 'linear'}. Best is trial 0 with value: 0.9747280738023042.\u001b[0m\n",
            "\u001b[32m[I 2021-11-30 12:46:34,953]\u001b[0m Trial 23 finished with value: 0.9748586488005754 and parameters: {'C': 0.3923147378799947, 'gamma': 0.12781500466567125, 'kernel': 'linear'}. Best is trial 23 with value: 0.9748586488005754.\u001b[0m\n",
            "\u001b[32m[I 2021-11-30 12:46:35,827]\u001b[0m Trial 24 finished with value: 0.9734482980396388 and parameters: {'C': 0.4205352971986577, 'gamma': 0.12285119840635732, 'kernel': 'linear'}. Best is trial 23 with value: 0.9748586488005754.\u001b[0m\n",
            "\u001b[32m[I 2021-11-30 12:46:36,803]\u001b[0m Trial 25 finished with value: 0.9701908664982655 and parameters: {'C': 0.5142402411570723, 'gamma': 0.07924361829639635, 'kernel': 'linear'}. Best is trial 23 with value: 0.9748586488005754.\u001b[0m\n",
            "\u001b[32m[I 2021-11-30 12:46:37,694]\u001b[0m Trial 26 finished with value: 0.9747280738023042 and parameters: {'C': 0.34745888798447633, 'gamma': 0.11082599672979479, 'kernel': 'linear'}. Best is trial 23 with value: 0.9748586488005754.\u001b[0m\n",
            "\u001b[32m[I 2021-11-30 12:46:38,514]\u001b[0m Trial 27 finished with value: 0.9748586488005754 and parameters: {'C': 0.4032913116028018, 'gamma': 0.1549033334544252, 'kernel': 'linear'}. Best is trial 23 with value: 0.9748586488005754.\u001b[0m\n",
            "\u001b[32m[I 2021-11-30 12:46:39,482]\u001b[0m Trial 28 finished with value: 0.9748586488005754 and parameters: {'C': 0.40326503056893925, 'gamma': 0.15241688645494172, 'kernel': 'linear'}. Best is trial 23 with value: 0.9748586488005754.\u001b[0m\n",
            "\u001b[32m[I 2021-11-30 12:46:40,413]\u001b[0m Trial 29 finished with value: 0.9733108108108108 and parameters: {'C': 0.4823739278999657, 'gamma': 0.15035299246026407, 'kernel': 'linear'}. Best is trial 23 with value: 0.9748586488005754.\u001b[0m\n",
            "\u001b[32m[I 2021-11-30 12:46:41,398]\u001b[0m Trial 30 finished with value: 0.9734482980396388 and parameters: {'C': 0.4059794798303748, 'gamma': 0.12105137328279326, 'kernel': 'linear'}. Best is trial 23 with value: 0.9748586488005754.\u001b[0m\n",
            "\u001b[32m[I 2021-11-30 12:46:42,287]\u001b[0m Trial 31 finished with value: 0.9719008427771136 and parameters: {'C': 0.4579884750644291, 'gamma': 0.08968720183738417, 'kernel': 'linear'}. Best is trial 23 with value: 0.9748586488005754.\u001b[0m\n",
            "\u001b[32m[I 2021-11-30 12:46:43,280]\u001b[0m Trial 32 finished with value: 0.9762762762762763 and parameters: {'C': 0.401621811541987, 'gamma': 0.1524766366227319, 'kernel': 'linear'}. Best is trial 32 with value: 0.9762762762762763.\u001b[0m\n",
            "\u001b[32m[I 2021-11-30 12:46:44,212]\u001b[0m Trial 33 finished with value: 0.9762762762762763 and parameters: {'C': 0.3969140246365801, 'gamma': 0.14559066200138532, 'kernel': 'linear'}. Best is trial 32 with value: 0.9762762762762763.\u001b[0m\n",
            "\u001b[32m[I 2021-11-30 12:46:45,104]\u001b[0m Trial 34 finished with value: 0.9731717798484387 and parameters: {'C': 0.5552330666472898, 'gamma': 0.22120573289806347, 'kernel': 'linear'}. Best is trial 32 with value: 0.9762762762762763.\u001b[0m\n",
            "\u001b[32m[I 2021-11-30 12:46:46,177]\u001b[0m Trial 35 finished with value: 0.9733108108108108 and parameters: {'C': 0.624213866821005, 'gamma': 0.1581558326041376, 'kernel': 'linear'}. Best is trial 32 with value: 0.9762762762762763.\u001b[0m\n",
            "\u001b[32m[I 2021-11-30 12:46:47,094]\u001b[0m Trial 36 finished with value: 0.9719008427771136 and parameters: {'C': 0.4703998257191367, 'gamma': 0.14216596440660295, 'kernel': 'linear'}. Best is trial 32 with value: 0.9762762762762763.\u001b[0m\n",
            "\u001b[32m[I 2021-11-30 12:46:48,091]\u001b[0m Trial 37 finished with value: 0.9734482980396388 and parameters: {'C': 0.4203649766881324, 'gamma': 0.10949906267083759, 'kernel': 'linear'}. Best is trial 32 with value: 0.9762762762762763.\u001b[0m\n",
            "\u001b[32m[I 2021-11-30 12:46:49,024]\u001b[0m Trial 38 finished with value: 0.97175490601434 and parameters: {'C': 0.5163388010375927, 'gamma': 0.1682347305571653, 'kernel': 'linear'}. Best is trial 32 with value: 0.9762762762762763.\u001b[0m\n",
            "\u001b[32m[I 2021-11-30 12:46:49,914]\u001b[0m Trial 39 finished with value: 0.9747280738023042 and parameters: {'C': 0.3597987550596114, 'gamma': 0.1995816306094792, 'kernel': 'linear'}. Best is trial 32 with value: 0.9762762762762763.\u001b[0m\n",
            "\u001b[32m[I 2021-11-30 12:46:50,929]\u001b[0m Trial 40 finished with value: 0.9762762762762763 and parameters: {'C': 0.4014018698876557, 'gamma': 0.137414424562652, 'kernel': 'linear'}. Best is trial 32 with value: 0.9762762762762763.\u001b[0m\n",
            "\u001b[32m[I 2021-11-30 12:46:51,910]\u001b[0m Trial 41 finished with value: 0.9719008427771136 and parameters: {'C': 0.4376619044005321, 'gamma': 0.14143438948205236, 'kernel': 'linear'}. Best is trial 32 with value: 0.9762762762762763.\u001b[0m\n",
            "\u001b[32m[I 2021-11-30 12:46:52,779]\u001b[0m Trial 42 finished with value: 0.9734482980396388 and parameters: {'C': 0.41848351182690435, 'gamma': 0.11562834319084966, 'kernel': 'linear'}. Best is trial 32 with value: 0.9762762762762763.\u001b[0m\n",
            "\u001b[32m[I 2021-11-30 12:46:53,714]\u001b[0m Trial 43 finished with value: 0.9762762762762763 and parameters: {'C': 0.39692759341464395, 'gamma': 0.23804353610045628, 'kernel': 'linear'}. Best is trial 32 with value: 0.9762762762762763.\u001b[0m\n",
            "\u001b[32m[I 2021-11-30 12:46:54,553]\u001b[0m Trial 44 finished with value: 0.9733108108108108 and parameters: {'C': 0.3702920113909174, 'gamma': 0.2405352283496373, 'kernel': 'linear'}. Best is trial 32 with value: 0.9762762762762763.\u001b[0m\n",
            "\u001b[32m[I 2021-11-30 12:46:55,517]\u001b[0m Trial 45 finished with value: 0.9687817382263757 and parameters: {'C': 0.976351905869391, 'gamma': 0.2860111988123502, 'kernel': 'linear'}. Best is trial 32 with value: 0.9762762762762763.\u001b[0m\n",
            "\u001b[32m[I 2021-11-30 12:46:56,390]\u001b[0m Trial 46 finished with value: 0.9747280738023042 and parameters: {'C': 0.33082920120050496, 'gamma': 0.24371111646234966, 'kernel': 'linear'}. Best is trial 32 with value: 0.9762762762762763.\u001b[0m\n",
            "\u001b[32m[I 2021-11-30 12:46:57,355]\u001b[0m Trial 47 finished with value: 0.9733108108108108 and parameters: {'C': 0.5045561477157805, 'gamma': 0.13507475009629305, 'kernel': 'linear'}. Best is trial 32 with value: 0.9762762762762763.\u001b[0m\n",
            "\u001b[32m[I 2021-11-30 12:46:58,340]\u001b[0m Trial 48 finished with value: 0.9733108108108108 and parameters: {'C': 0.3815708788832107, 'gamma': 0.1032862644380362, 'kernel': 'linear'}. Best is trial 32 with value: 0.9762762762762763.\u001b[0m\n",
            "\u001b[32m[I 2021-11-30 12:46:59,302]\u001b[0m Trial 49 finished with value: 0.9747280738023042 and parameters: {'C': 0.6822879445090352, 'gamma': 0.17980285940792, 'kernel': 'linear'}. Best is trial 32 with value: 0.9762762762762763.\u001b[0m\n",
            "\u001b[32m[I 2021-11-30 12:47:00,179]\u001b[0m Trial 50 finished with value: 0.9747280738023042 and parameters: {'C': 0.33285322791447514, 'gamma': 0.20842134103275933, 'kernel': 'linear'}. Best is trial 32 with value: 0.9762762762762763.\u001b[0m\n",
            "\u001b[32m[I 2021-11-30 12:47:01,037]\u001b[0m Trial 51 finished with value: 0.9734482980396388 and parameters: {'C': 0.4040501871749972, 'gamma': 0.151540670138712, 'kernel': 'linear'}. Best is trial 32 with value: 0.9762762762762763.\u001b[0m\n",
            "\u001b[32m[I 2021-11-30 12:47:01,841]\u001b[0m Trial 52 finished with value: 0.9748586488005754 and parameters: {'C': 0.39191463099899504, 'gamma': 0.1260516633991381, 'kernel': 'linear'}. Best is trial 32 with value: 0.9762762762762763.\u001b[0m\n",
            "\u001b[32m[I 2021-11-30 12:47:02,746]\u001b[0m Trial 53 finished with value: 0.9733108108108108 and parameters: {'C': 0.44782374046977275, 'gamma': 0.16611132460614908, 'kernel': 'linear'}. Best is trial 32 with value: 0.9762762762762763.\u001b[0m\n",
            "\u001b[32m[I 2021-11-30 12:47:03,556]\u001b[0m Trial 54 finished with value: 0.9748586488005754 and parameters: {'C': 0.40559357421253434, 'gamma': 0.19163659826178822, 'kernel': 'linear'}. Best is trial 32 with value: 0.9762762762762763.\u001b[0m\n",
            "\u001b[32m[I 2021-11-30 12:47:04,397]\u001b[0m Trial 55 finished with value: 0.9733108108108108 and parameters: {'C': 0.36758432669559277, 'gamma': 0.08312720553335047, 'kernel': 'linear'}. Best is trial 32 with value: 0.9762762762762763.\u001b[0m\n",
            "\u001b[32m[I 2021-11-30 12:47:05,274]\u001b[0m Trial 56 finished with value: 0.9733108108108108 and parameters: {'C': 0.3863569845796368, 'gamma': 0.2411374227254674, 'kernel': 'linear'}. Best is trial 32 with value: 0.9762762762762763.\u001b[0m\n",
            "\u001b[32m[I 2021-11-30 12:47:06,163]\u001b[0m Trial 57 finished with value: 0.9747280738023042 and parameters: {'C': 0.3420353815694058, 'gamma': 0.1881293166915124, 'kernel': 'linear'}. Best is trial 32 with value: 0.9762762762762763.\u001b[0m\n",
            "\u001b[32m[I 2021-11-30 12:47:07,068]\u001b[0m Trial 58 finished with value: 0.9733108108108108 and parameters: {'C': 0.4735943387968761, 'gamma': 0.17516561942035141, 'kernel': 'linear'}. Best is trial 32 with value: 0.9762762762762763.\u001b[0m\n",
            "\u001b[32m[I 2021-11-30 12:47:08,002]\u001b[0m Trial 59 finished with value: 0.9719008427771136 and parameters: {'C': 0.43428982629808327, 'gamma': 0.04894229227499034, 'kernel': 'linear'}. Best is trial 32 with value: 0.9762762762762763.\u001b[0m\n",
            "\u001b[32m[I 2021-11-30 12:47:08,924]\u001b[0m Trial 60 finished with value: 0.9747280738023042 and parameters: {'C': 0.3173688162372119, 'gamma': 0.14130335428621765, 'kernel': 'linear'}. Best is trial 32 with value: 0.9762762762762763.\u001b[0m\n",
            "\u001b[32m[I 2021-11-30 12:47:09,839]\u001b[0m Trial 61 finished with value: 0.9748586488005754 and parameters: {'C': 0.39430343447094285, 'gamma': 0.12700300376548437, 'kernel': 'linear'}. Best is trial 32 with value: 0.9762762762762763.\u001b[0m\n",
            "\u001b[32m[I 2021-11-30 12:47:10,633]\u001b[0m Trial 62 finished with value: 0.9747280738023042 and parameters: {'C': 0.36229476363540347, 'gamma': 0.10102158982045145, 'kernel': 'linear'}. Best is trial 32 with value: 0.9762762762762763.\u001b[0m\n",
            "\u001b[32m[I 2021-11-30 12:47:11,491]\u001b[0m Trial 63 finished with value: 0.9733108108108108 and parameters: {'C': 0.3890650284523047, 'gamma': 0.1325919547630769, 'kernel': 'linear'}. Best is trial 32 with value: 0.9762762762762763.\u001b[0m\n",
            "\u001b[32m[I 2021-11-30 12:47:12,356]\u001b[0m Trial 64 finished with value: 0.9734482980396388 and parameters: {'C': 0.40958868930754094, 'gamma': 0.15254061935931706, 'kernel': 'linear'}. Best is trial 32 with value: 0.9762762762762763.\u001b[0m\n",
            "\u001b[32m[I 2021-11-30 12:47:13,288]\u001b[0m Trial 65 finished with value: 0.9719008427771136 and parameters: {'C': 0.45549552756763867, 'gamma': 0.12611849708996853, 'kernel': 'linear'}. Best is trial 32 with value: 0.9762762762762763.\u001b[0m\n",
            "\u001b[32m[I 2021-11-30 12:47:14,171]\u001b[0m Trial 66 finished with value: 0.9719008427771136 and parameters: {'C': 0.43197644505611354, 'gamma': 0.11279881309450875, 'kernel': 'linear'}. Best is trial 32 with value: 0.9762762762762763.\u001b[0m\n",
            "\u001b[32m[I 2021-11-30 12:47:15,006]\u001b[0m Trial 67 finished with value: 0.9748586488005754 and parameters: {'C': 0.39135353875805917, 'gamma': 0.11911167810670308, 'kernel': 'linear'}. Best is trial 32 with value: 0.9762762762762763.\u001b[0m\n",
            "\u001b[32m[I 2021-11-30 12:47:15,861]\u001b[0m Trial 68 finished with value: 0.9733108108108108 and parameters: {'C': 0.37651983459584676, 'gamma': 0.2002721815745753, 'kernel': 'linear'}. Best is trial 32 with value: 0.9762762762762763.\u001b[0m\n",
            "\u001b[32m[I 2021-11-30 12:47:16,664]\u001b[0m Trial 69 finished with value: 0.9733108108108108 and parameters: {'C': 0.49187848468319706, 'gamma': 0.22675880275481147, 'kernel': 'linear'}. Best is trial 32 with value: 0.9762762762762763.\u001b[0m\n",
            "\u001b[32m[I 2021-11-30 12:47:17,543]\u001b[0m Trial 70 finished with value: 0.97175490601434 and parameters: {'C': 0.5354375946724574, 'gamma': 0.1939492951951497, 'kernel': 'linear'}. Best is trial 32 with value: 0.9762762762762763.\u001b[0m\n",
            "\u001b[32m[I 2021-11-30 12:47:18,399]\u001b[0m Trial 71 finished with value: 0.9734482980396388 and parameters: {'C': 0.4123971414564056, 'gamma': 0.16320953073078792, 'kernel': 'linear'}. Best is trial 32 with value: 0.9762762762762763.\u001b[0m\n",
            "\u001b[32m[I 2021-11-30 12:47:19,300]\u001b[0m Trial 72 finished with value: 0.9762762762762763 and parameters: {'C': 0.3954193036726334, 'gamma': 0.11845301437560633, 'kernel': 'linear'}. Best is trial 32 with value: 0.9762762762762763.\u001b[0m\n",
            "\u001b[32m[I 2021-11-30 12:47:20,211]\u001b[0m Trial 73 finished with value: 0.9747280738023042 and parameters: {'C': 0.3549504271422584, 'gamma': 0.09689759430353019, 'kernel': 'linear'}. Best is trial 32 with value: 0.9762762762762763.\u001b[0m\n",
            "\u001b[32m[I 2021-11-30 12:47:21,147]\u001b[0m Trial 74 finished with value: 0.9734482980396388 and parameters: {'C': 0.42523484126017413, 'gamma': 0.11958359701633897, 'kernel': 'linear'}. Best is trial 32 with value: 0.9762762762762763.\u001b[0m\n",
            "\u001b[32m[I 2021-11-30 12:47:22,056]\u001b[0m Trial 75 finished with value: 0.9762762762762763 and parameters: {'C': 0.3964908884141303, 'gamma': 0.07334537758968894, 'kernel': 'linear'}. Best is trial 32 with value: 0.9762762762762763.\u001b[0m\n",
            "\u001b[32m[I 2021-11-30 12:47:22,994]\u001b[0m Trial 76 finished with value: 0.9719008427771136 and parameters: {'C': 0.4670211342571963, 'gamma': 0.06907093379228184, 'kernel': 'linear'}. Best is trial 32 with value: 0.9762762762762763.\u001b[0m\n",
            "\u001b[32m[I 2021-11-30 12:47:23,897]\u001b[0m Trial 77 finished with value: 0.9733108108108108 and parameters: {'C': 0.3726942061772586, 'gamma': 0.06134671861197449, 'kernel': 'linear'}. Best is trial 32 with value: 0.9762762762762763.\u001b[0m\n",
            "\u001b[32m[I 2021-11-30 12:47:24,748]\u001b[0m Trial 78 finished with value: 0.9747280738023042 and parameters: {'C': 0.3402167993080359, 'gamma': 0.08659025625981681, 'kernel': 'linear'}. Best is trial 32 with value: 0.9762762762762763.\u001b[0m\n",
            "\u001b[32m[I 2021-11-30 12:47:25,594]\u001b[0m Trial 79 finished with value: 0.9748586488005754 and parameters: {'C': 0.39275439084007424, 'gamma': 0.10662208636485764, 'kernel': 'linear'}. Best is trial 32 with value: 0.9762762762762763.\u001b[0m\n",
            "\u001b[32m[I 2021-11-30 12:47:26,482]\u001b[0m Trial 80 finished with value: 0.9733108108108108 and parameters: {'C': 0.44951686619838843, 'gamma': 0.106250315814662, 'kernel': 'linear'}. Best is trial 32 with value: 0.9762762762762763.\u001b[0m\n",
            "\u001b[32m[I 2021-11-30 12:47:27,395]\u001b[0m Trial 81 finished with value: 0.9748586488005754 and parameters: {'C': 0.40384552033573473, 'gamma': 0.14580397619070162, 'kernel': 'linear'}. Best is trial 32 with value: 0.9762762762762763.\u001b[0m\n",
            "\u001b[32m[I 2021-11-30 12:47:28,378]\u001b[0m Trial 82 finished with value: 0.9748586488005754 and parameters: {'C': 0.3935542094074551, 'gamma': 0.07628094286846708, 'kernel': 'linear'}. Best is trial 32 with value: 0.9762762762762763.\u001b[0m\n",
            "\u001b[32m[I 2021-11-30 12:47:29,319]\u001b[0m Trial 83 finished with value: 0.9734482980396388 and parameters: {'C': 0.4216946187899911, 'gamma': 0.07604578831650406, 'kernel': 'linear'}. Best is trial 32 with value: 0.9762762762762763.\u001b[0m\n",
            "\u001b[32m[I 2021-11-30 12:47:30,203]\u001b[0m Trial 84 finished with value: 0.9747280738023042 and parameters: {'C': 0.3601820396477659, 'gamma': 0.13569330119833783, 'kernel': 'linear'}. Best is trial 32 with value: 0.9762762762762763.\u001b[0m\n",
            "\u001b[32m[I 2021-11-30 12:47:31,079]\u001b[0m Trial 85 finished with value: 0.9719008427771136 and parameters: {'C': 0.4374929028608722, 'gamma': 0.16883804643599562, 'kernel': 'linear'}. Best is trial 32 with value: 0.9762762762762763.\u001b[0m\n",
            "\u001b[32m[I 2021-11-30 12:47:31,940]\u001b[0m Trial 86 finished with value: 0.9762762762762763 and parameters: {'C': 0.3993756983261522, 'gamma': 0.031464693159776555, 'kernel': 'linear'}. Best is trial 32 with value: 0.9762762762762763.\u001b[0m\n",
            "\u001b[32m[I 2021-11-30 12:47:32,825]\u001b[0m Trial 87 finished with value: 0.9733108108108108 and parameters: {'C': 0.37881237307241483, 'gamma': 0.037076574188417775, 'kernel': 'linear'}. Best is trial 32 with value: 0.9762762762762763.\u001b[0m\n",
            "\u001b[32m[I 2021-11-30 12:47:33,704]\u001b[0m Trial 88 finished with value: 0.9733108108108108 and parameters: {'C': 0.3681843072372775, 'gamma': 0.03338969214451768, 'kernel': 'linear'}. Best is trial 32 with value: 0.9762762762762763.\u001b[0m\n",
            "\u001b[32m[I 2021-11-30 12:47:34,573]\u001b[0m Trial 89 finished with value: 0.9734482980396388 and parameters: {'C': 0.41749518039281536, 'gamma': 0.04180415237807272, 'kernel': 'linear'}. Best is trial 32 with value: 0.9762762762762763.\u001b[0m\n",
            "\u001b[32m[I 2021-11-30 12:47:35,401]\u001b[0m Trial 90 finished with value: 0.9734482980396388 and parameters: {'C': 0.4088185435796945, 'gamma': 0.05047519086142498, 'kernel': 'linear'}. Best is trial 32 with value: 0.9762762762762763.\u001b[0m\n",
            "\u001b[32m[I 2021-11-30 12:47:36,223]\u001b[0m Trial 91 finished with value: 0.9762762762762763 and parameters: {'C': 0.39768107359915345, 'gamma': 0.09220885088651065, 'kernel': 'linear'}. Best is trial 32 with value: 0.9762762762762763.\u001b[0m\n",
            "\u001b[32m[I 2021-11-30 12:47:37,154]\u001b[0m Trial 92 finished with value: 0.9733108108108108 and parameters: {'C': 0.38094110639421574, 'gamma': 0.09210833613838283, 'kernel': 'linear'}. Best is trial 32 with value: 0.9762762762762763.\u001b[0m\n",
            "\u001b[32m[I 2021-11-30 12:47:37,991]\u001b[0m Trial 93 finished with value: 0.9748586488005754 and parameters: {'C': 0.39969142152898113, 'gamma': 0.056339589712304836, 'kernel': 'linear'}. Best is trial 32 with value: 0.9762762762762763.\u001b[0m\n",
            "\u001b[32m[I 2021-11-30 12:47:38,920]\u001b[0m Trial 94 finished with value: 0.9734482980396388 and parameters: {'C': 0.42617660030904153, 'gamma': 0.06294557715172859, 'kernel': 'linear'}. Best is trial 32 with value: 0.9762762762762763.\u001b[0m\n",
            "\u001b[32m[I 2021-11-30 12:47:39,784]\u001b[0m Trial 95 finished with value: 0.9747280738023042 and parameters: {'C': 0.35006270092758973, 'gamma': 0.0318018321225812, 'kernel': 'linear'}. Best is trial 32 with value: 0.9762762762762763.\u001b[0m\n",
            "\u001b[32m[I 2021-11-30 12:47:40,665]\u001b[0m Trial 96 finished with value: 0.9733108108108108 and parameters: {'C': 0.4448803235508195, 'gamma': 0.09834339488152576, 'kernel': 'linear'}. Best is trial 32 with value: 0.9762762762762763.\u001b[0m\n",
            "\u001b[32m[I 2021-11-30 12:47:41,688]\u001b[0m Trial 97 finished with value: 0.97175490601434 and parameters: {'C': 0.7591017857339244, 'gamma': 0.10742786109173369, 'kernel': 'linear'}. Best is trial 32 with value: 0.9762762762762763.\u001b[0m\n",
            "\u001b[32m[I 2021-11-30 12:47:42,550]\u001b[0m Trial 98 finished with value: 0.9733108108108108 and parameters: {'C': 0.38148067028354565, 'gamma': 0.13945423872506182, 'kernel': 'linear'}. Best is trial 32 with value: 0.9762762762762763.\u001b[0m\n",
            "\u001b[32m[I 2021-11-30 12:47:43,515]\u001b[0m Trial 99 finished with value: 0.9734482980396388 and parameters: {'C': 0.4116301854013763, 'gamma': 0.08044589615152067, 'kernel': 'linear'}. Best is trial 32 with value: 0.9762762762762763.\u001b[0m\n"
          ]
        }
      ]
    },
    {
      "cell_type": "code",
      "metadata": {
        "colab": {
          "base_uri": "https://localhost:8080/",
          "height": 542
        },
        "id": "Jc0OFH6mZSPq",
        "outputId": "1c0761b9-2ce5-45cc-df04-b456a0b64cb8"
      },
      "source": [
        "optuna.visualization.plot_optimization_history(svc_study)"
      ],
      "execution_count": 98,
      "outputs": [
        {
          "output_type": "display_data",
          "data": {
            "text/html": [
              "<html>\n",
              "<head><meta charset=\"utf-8\" /></head>\n",
              "<body>\n",
              "    <div>\n",
              "            <script src=\"https://cdnjs.cloudflare.com/ajax/libs/mathjax/2.7.5/MathJax.js?config=TeX-AMS-MML_SVG\"></script><script type=\"text/javascript\">if (window.MathJax) {MathJax.Hub.Config({SVG: {font: \"STIX-Web\"}});}</script>\n",
              "                <script type=\"text/javascript\">window.PlotlyConfig = {MathJaxConfig: 'local'};</script>\n",
              "        <script src=\"https://cdn.plot.ly/plotly-latest.min.js\"></script>    \n",
              "            <div id=\"554a0ef5-7cf6-40d0-9a27-37549087f86a\" class=\"plotly-graph-div\" style=\"height:525px; width:100%;\"></div>\n",
              "            <script type=\"text/javascript\">\n",
              "                \n",
              "                    window.PLOTLYENV=window.PLOTLYENV || {};\n",
              "                    \n",
              "                if (document.getElementById(\"554a0ef5-7cf6-40d0-9a27-37549087f86a\")) {\n",
              "                    Plotly.newPlot(\n",
              "                        '554a0ef5-7cf6-40d0-9a27-37549087f86a',\n",
              "                        [{\"mode\": \"markers\", \"name\": \"Objective Value\", \"type\": \"scatter\", \"x\": [0, 1, 2, 3, 4, 5, 6, 7, 8, 9, 10, 11, 12, 13, 14, 15, 16, 17, 18, 19, 20, 21, 22, 23, 24, 25, 26, 27, 28, 29, 30, 31, 32, 33, 34, 35, 36, 37, 38, 39, 40, 41, 42, 43, 44, 45, 46, 47, 48, 49, 50, 51, 52, 53, 54, 55, 56, 57, 58, 59, 60, 61, 62, 63, 64, 65, 66, 67, 68, 69, 70, 71, 72, 73, 74, 75, 76, 77, 78, 79, 80, 81, 82, 83, 84, 85, 86, 87, 88, 89, 90, 91, 92, 93, 94, 95, 96, 97, 98, 99], \"y\": [0.9747280738023042, 0.9733108108108108, 0.9701908664982655, 0.9731717798484387, 0.9733108108108108, 0.9701908664982655, 0.9733108108108108, 0.9701908664982655, 0.97175490601434, 0.9701908664982655, 0.9747280738023042, 0.9747280738023042, 0.9747280738023042, 0.9733108108108108, 0.9733108108108108, 0.9733108108108108, 0.9747280738023042, 0.9733108108108108, 0.9733108108108108, 0.9747280738023042, 0.9719008427771136, 0.9747280738023042, 0.9747280738023042, 0.9748586488005754, 0.9734482980396388, 0.9701908664982655, 0.9747280738023042, 0.9748586488005754, 0.9748586488005754, 0.9733108108108108, 0.9734482980396388, 0.9719008427771136, 0.9762762762762763, 0.9762762762762763, 0.9731717798484387, 0.9733108108108108, 0.9719008427771136, 0.9734482980396388, 0.97175490601434, 0.9747280738023042, 0.9762762762762763, 0.9719008427771136, 0.9734482980396388, 0.9762762762762763, 0.9733108108108108, 0.9687817382263757, 0.9747280738023042, 0.9733108108108108, 0.9733108108108108, 0.9747280738023042, 0.9747280738023042, 0.9734482980396388, 0.9748586488005754, 0.9733108108108108, 0.9748586488005754, 0.9733108108108108, 0.9733108108108108, 0.9747280738023042, 0.9733108108108108, 0.9719008427771136, 0.9747280738023042, 0.9748586488005754, 0.9747280738023042, 0.9733108108108108, 0.9734482980396388, 0.9719008427771136, 0.9719008427771136, 0.9748586488005754, 0.9733108108108108, 0.9733108108108108, 0.97175490601434, 0.9734482980396388, 0.9762762762762763, 0.9747280738023042, 0.9734482980396388, 0.9762762762762763, 0.9719008427771136, 0.9733108108108108, 0.9747280738023042, 0.9748586488005754, 0.9733108108108108, 0.9748586488005754, 0.9748586488005754, 0.9734482980396388, 0.9747280738023042, 0.9719008427771136, 0.9762762762762763, 0.9733108108108108, 0.9733108108108108, 0.9734482980396388, 0.9734482980396388, 0.9762762762762763, 0.9733108108108108, 0.9748586488005754, 0.9734482980396388, 0.9747280738023042, 0.9733108108108108, 0.97175490601434, 0.9733108108108108, 0.9734482980396388]}, {\"name\": \"Best Value\", \"type\": \"scatter\", \"x\": [0, 1, 2, 3, 4, 5, 6, 7, 8, 9, 10, 11, 12, 13, 14, 15, 16, 17, 18, 19, 20, 21, 22, 23, 24, 25, 26, 27, 28, 29, 30, 31, 32, 33, 34, 35, 36, 37, 38, 39, 40, 41, 42, 43, 44, 45, 46, 47, 48, 49, 50, 51, 52, 53, 54, 55, 56, 57, 58, 59, 60, 61, 62, 63, 64, 65, 66, 67, 68, 69, 70, 71, 72, 73, 74, 75, 76, 77, 78, 79, 80, 81, 82, 83, 84, 85, 86, 87, 88, 89, 90, 91, 92, 93, 94, 95, 96, 97, 98, 99], \"y\": [0.9747280738023042, 0.9747280738023042, 0.9747280738023042, 0.9747280738023042, 0.9747280738023042, 0.9747280738023042, 0.9747280738023042, 0.9747280738023042, 0.9747280738023042, 0.9747280738023042, 0.9747280738023042, 0.9747280738023042, 0.9747280738023042, 0.9747280738023042, 0.9747280738023042, 0.9747280738023042, 0.9747280738023042, 0.9747280738023042, 0.9747280738023042, 0.9747280738023042, 0.9747280738023042, 0.9747280738023042, 0.9747280738023042, 0.9748586488005754, 0.9748586488005754, 0.9748586488005754, 0.9748586488005754, 0.9748586488005754, 0.9748586488005754, 0.9748586488005754, 0.9748586488005754, 0.9748586488005754, 0.9762762762762763, 0.9762762762762763, 0.9762762762762763, 0.9762762762762763, 0.9762762762762763, 0.9762762762762763, 0.9762762762762763, 0.9762762762762763, 0.9762762762762763, 0.9762762762762763, 0.9762762762762763, 0.9762762762762763, 0.9762762762762763, 0.9762762762762763, 0.9762762762762763, 0.9762762762762763, 0.9762762762762763, 0.9762762762762763, 0.9762762762762763, 0.9762762762762763, 0.9762762762762763, 0.9762762762762763, 0.9762762762762763, 0.9762762762762763, 0.9762762762762763, 0.9762762762762763, 0.9762762762762763, 0.9762762762762763, 0.9762762762762763, 0.9762762762762763, 0.9762762762762763, 0.9762762762762763, 0.9762762762762763, 0.9762762762762763, 0.9762762762762763, 0.9762762762762763, 0.9762762762762763, 0.9762762762762763, 0.9762762762762763, 0.9762762762762763, 0.9762762762762763, 0.9762762762762763, 0.9762762762762763, 0.9762762762762763, 0.9762762762762763, 0.9762762762762763, 0.9762762762762763, 0.9762762762762763, 0.9762762762762763, 0.9762762762762763, 0.9762762762762763, 0.9762762762762763, 0.9762762762762763, 0.9762762762762763, 0.9762762762762763, 0.9762762762762763, 0.9762762762762763, 0.9762762762762763, 0.9762762762762763, 0.9762762762762763, 0.9762762762762763, 0.9762762762762763, 0.9762762762762763, 0.9762762762762763, 0.9762762762762763, 0.9762762762762763, 0.9762762762762763, 0.9762762762762763]}],\n",
              "                        {\"template\": {\"data\": {\"bar\": [{\"error_x\": {\"color\": \"#2a3f5f\"}, \"error_y\": {\"color\": \"#2a3f5f\"}, \"marker\": {\"line\": {\"color\": \"#E5ECF6\", \"width\": 0.5}}, \"type\": \"bar\"}], \"barpolar\": [{\"marker\": {\"line\": {\"color\": \"#E5ECF6\", \"width\": 0.5}}, \"type\": \"barpolar\"}], \"carpet\": [{\"aaxis\": {\"endlinecolor\": \"#2a3f5f\", \"gridcolor\": \"white\", \"linecolor\": \"white\", \"minorgridcolor\": \"white\", \"startlinecolor\": \"#2a3f5f\"}, \"baxis\": {\"endlinecolor\": \"#2a3f5f\", \"gridcolor\": \"white\", \"linecolor\": \"white\", \"minorgridcolor\": \"white\", \"startlinecolor\": \"#2a3f5f\"}, \"type\": \"carpet\"}], \"choropleth\": [{\"colorbar\": {\"outlinewidth\": 0, \"ticks\": \"\"}, \"type\": \"choropleth\"}], \"contour\": [{\"colorbar\": {\"outlinewidth\": 0, \"ticks\": \"\"}, \"colorscale\": [[0.0, \"#0d0887\"], [0.1111111111111111, \"#46039f\"], [0.2222222222222222, \"#7201a8\"], [0.3333333333333333, \"#9c179e\"], [0.4444444444444444, \"#bd3786\"], [0.5555555555555556, \"#d8576b\"], [0.6666666666666666, \"#ed7953\"], [0.7777777777777778, \"#fb9f3a\"], [0.8888888888888888, \"#fdca26\"], [1.0, \"#f0f921\"]], \"type\": \"contour\"}], \"contourcarpet\": [{\"colorbar\": {\"outlinewidth\": 0, \"ticks\": \"\"}, \"type\": \"contourcarpet\"}], \"heatmap\": [{\"colorbar\": {\"outlinewidth\": 0, \"ticks\": \"\"}, \"colorscale\": [[0.0, \"#0d0887\"], [0.1111111111111111, \"#46039f\"], [0.2222222222222222, \"#7201a8\"], [0.3333333333333333, \"#9c179e\"], [0.4444444444444444, \"#bd3786\"], [0.5555555555555556, \"#d8576b\"], [0.6666666666666666, \"#ed7953\"], [0.7777777777777778, \"#fb9f3a\"], [0.8888888888888888, \"#fdca26\"], [1.0, \"#f0f921\"]], \"type\": \"heatmap\"}], \"heatmapgl\": [{\"colorbar\": {\"outlinewidth\": 0, \"ticks\": \"\"}, \"colorscale\": [[0.0, \"#0d0887\"], [0.1111111111111111, \"#46039f\"], [0.2222222222222222, \"#7201a8\"], [0.3333333333333333, \"#9c179e\"], [0.4444444444444444, \"#bd3786\"], [0.5555555555555556, \"#d8576b\"], [0.6666666666666666, \"#ed7953\"], [0.7777777777777778, \"#fb9f3a\"], [0.8888888888888888, \"#fdca26\"], [1.0, \"#f0f921\"]], \"type\": \"heatmapgl\"}], \"histogram\": [{\"marker\": {\"colorbar\": {\"outlinewidth\": 0, \"ticks\": \"\"}}, \"type\": \"histogram\"}], \"histogram2d\": [{\"colorbar\": {\"outlinewidth\": 0, \"ticks\": \"\"}, \"colorscale\": [[0.0, \"#0d0887\"], [0.1111111111111111, \"#46039f\"], [0.2222222222222222, \"#7201a8\"], [0.3333333333333333, \"#9c179e\"], [0.4444444444444444, \"#bd3786\"], [0.5555555555555556, \"#d8576b\"], [0.6666666666666666, \"#ed7953\"], [0.7777777777777778, \"#fb9f3a\"], [0.8888888888888888, \"#fdca26\"], [1.0, \"#f0f921\"]], \"type\": \"histogram2d\"}], \"histogram2dcontour\": [{\"colorbar\": {\"outlinewidth\": 0, \"ticks\": \"\"}, \"colorscale\": [[0.0, \"#0d0887\"], [0.1111111111111111, \"#46039f\"], [0.2222222222222222, \"#7201a8\"], [0.3333333333333333, \"#9c179e\"], [0.4444444444444444, \"#bd3786\"], [0.5555555555555556, \"#d8576b\"], [0.6666666666666666, \"#ed7953\"], [0.7777777777777778, \"#fb9f3a\"], [0.8888888888888888, \"#fdca26\"], [1.0, \"#f0f921\"]], \"type\": \"histogram2dcontour\"}], \"mesh3d\": [{\"colorbar\": {\"outlinewidth\": 0, \"ticks\": \"\"}, \"type\": \"mesh3d\"}], \"parcoords\": [{\"line\": {\"colorbar\": {\"outlinewidth\": 0, \"ticks\": \"\"}}, \"type\": \"parcoords\"}], \"pie\": [{\"automargin\": true, \"type\": \"pie\"}], \"scatter\": [{\"marker\": {\"colorbar\": {\"outlinewidth\": 0, \"ticks\": \"\"}}, \"type\": \"scatter\"}], \"scatter3d\": [{\"line\": {\"colorbar\": {\"outlinewidth\": 0, \"ticks\": \"\"}}, \"marker\": {\"colorbar\": {\"outlinewidth\": 0, \"ticks\": \"\"}}, \"type\": \"scatter3d\"}], \"scattercarpet\": [{\"marker\": {\"colorbar\": {\"outlinewidth\": 0, \"ticks\": \"\"}}, \"type\": \"scattercarpet\"}], \"scattergeo\": [{\"marker\": {\"colorbar\": {\"outlinewidth\": 0, \"ticks\": \"\"}}, \"type\": \"scattergeo\"}], \"scattergl\": [{\"marker\": {\"colorbar\": {\"outlinewidth\": 0, \"ticks\": \"\"}}, \"type\": \"scattergl\"}], \"scattermapbox\": [{\"marker\": {\"colorbar\": {\"outlinewidth\": 0, \"ticks\": \"\"}}, \"type\": \"scattermapbox\"}], \"scatterpolar\": [{\"marker\": {\"colorbar\": {\"outlinewidth\": 0, \"ticks\": \"\"}}, \"type\": \"scatterpolar\"}], \"scatterpolargl\": [{\"marker\": {\"colorbar\": {\"outlinewidth\": 0, \"ticks\": \"\"}}, \"type\": \"scatterpolargl\"}], \"scatterternary\": [{\"marker\": {\"colorbar\": {\"outlinewidth\": 0, \"ticks\": \"\"}}, \"type\": \"scatterternary\"}], \"surface\": [{\"colorbar\": {\"outlinewidth\": 0, \"ticks\": \"\"}, \"colorscale\": [[0.0, \"#0d0887\"], [0.1111111111111111, \"#46039f\"], [0.2222222222222222, \"#7201a8\"], [0.3333333333333333, \"#9c179e\"], [0.4444444444444444, \"#bd3786\"], [0.5555555555555556, \"#d8576b\"], [0.6666666666666666, \"#ed7953\"], [0.7777777777777778, \"#fb9f3a\"], [0.8888888888888888, \"#fdca26\"], [1.0, \"#f0f921\"]], \"type\": \"surface\"}], \"table\": [{\"cells\": {\"fill\": {\"color\": \"#EBF0F8\"}, \"line\": {\"color\": \"white\"}}, \"header\": {\"fill\": {\"color\": \"#C8D4E3\"}, \"line\": {\"color\": \"white\"}}, \"type\": \"table\"}]}, \"layout\": {\"annotationdefaults\": {\"arrowcolor\": \"#2a3f5f\", \"arrowhead\": 0, \"arrowwidth\": 1}, \"coloraxis\": {\"colorbar\": {\"outlinewidth\": 0, \"ticks\": \"\"}}, \"colorscale\": {\"diverging\": [[0, \"#8e0152\"], [0.1, \"#c51b7d\"], [0.2, \"#de77ae\"], [0.3, \"#f1b6da\"], [0.4, \"#fde0ef\"], [0.5, \"#f7f7f7\"], [0.6, \"#e6f5d0\"], [0.7, \"#b8e186\"], [0.8, \"#7fbc41\"], [0.9, \"#4d9221\"], [1, \"#276419\"]], \"sequential\": [[0.0, \"#0d0887\"], [0.1111111111111111, \"#46039f\"], [0.2222222222222222, \"#7201a8\"], [0.3333333333333333, \"#9c179e\"], [0.4444444444444444, \"#bd3786\"], [0.5555555555555556, \"#d8576b\"], [0.6666666666666666, \"#ed7953\"], [0.7777777777777778, \"#fb9f3a\"], [0.8888888888888888, \"#fdca26\"], [1.0, \"#f0f921\"]], \"sequentialminus\": [[0.0, \"#0d0887\"], [0.1111111111111111, \"#46039f\"], [0.2222222222222222, \"#7201a8\"], [0.3333333333333333, \"#9c179e\"], [0.4444444444444444, \"#bd3786\"], [0.5555555555555556, \"#d8576b\"], [0.6666666666666666, \"#ed7953\"], [0.7777777777777778, \"#fb9f3a\"], [0.8888888888888888, \"#fdca26\"], [1.0, \"#f0f921\"]]}, \"colorway\": [\"#636efa\", \"#EF553B\", \"#00cc96\", \"#ab63fa\", \"#FFA15A\", \"#19d3f3\", \"#FF6692\", \"#B6E880\", \"#FF97FF\", \"#FECB52\"], \"font\": {\"color\": \"#2a3f5f\"}, \"geo\": {\"bgcolor\": \"white\", \"lakecolor\": \"white\", \"landcolor\": \"#E5ECF6\", \"showlakes\": true, \"showland\": true, \"subunitcolor\": \"white\"}, \"hoverlabel\": {\"align\": \"left\"}, \"hovermode\": \"closest\", \"mapbox\": {\"style\": \"light\"}, \"paper_bgcolor\": \"white\", \"plot_bgcolor\": \"#E5ECF6\", \"polar\": {\"angularaxis\": {\"gridcolor\": \"white\", \"linecolor\": \"white\", \"ticks\": \"\"}, \"bgcolor\": \"#E5ECF6\", \"radialaxis\": {\"gridcolor\": \"white\", \"linecolor\": \"white\", \"ticks\": \"\"}}, \"scene\": {\"xaxis\": {\"backgroundcolor\": \"#E5ECF6\", \"gridcolor\": \"white\", \"gridwidth\": 2, \"linecolor\": \"white\", \"showbackground\": true, \"ticks\": \"\", \"zerolinecolor\": \"white\"}, \"yaxis\": {\"backgroundcolor\": \"#E5ECF6\", \"gridcolor\": \"white\", \"gridwidth\": 2, \"linecolor\": \"white\", \"showbackground\": true, \"ticks\": \"\", \"zerolinecolor\": \"white\"}, \"zaxis\": {\"backgroundcolor\": \"#E5ECF6\", \"gridcolor\": \"white\", \"gridwidth\": 2, \"linecolor\": \"white\", \"showbackground\": true, \"ticks\": \"\", \"zerolinecolor\": \"white\"}}, \"shapedefaults\": {\"line\": {\"color\": \"#2a3f5f\"}}, \"ternary\": {\"aaxis\": {\"gridcolor\": \"white\", \"linecolor\": \"white\", \"ticks\": \"\"}, \"baxis\": {\"gridcolor\": \"white\", \"linecolor\": \"white\", \"ticks\": \"\"}, \"bgcolor\": \"#E5ECF6\", \"caxis\": {\"gridcolor\": \"white\", \"linecolor\": \"white\", \"ticks\": \"\"}}, \"title\": {\"x\": 0.05}, \"xaxis\": {\"automargin\": true, \"gridcolor\": \"white\", \"linecolor\": \"white\", \"ticks\": \"\", \"title\": {\"standoff\": 15}, \"zerolinecolor\": \"white\", \"zerolinewidth\": 2}, \"yaxis\": {\"automargin\": true, \"gridcolor\": \"white\", \"linecolor\": \"white\", \"ticks\": \"\", \"title\": {\"standoff\": 15}, \"zerolinecolor\": \"white\", \"zerolinewidth\": 2}}}, \"title\": {\"text\": \"Optimization History Plot\"}, \"xaxis\": {\"title\": {\"text\": \"#Trials\"}}, \"yaxis\": {\"title\": {\"text\": \"Objective Value\"}}},\n",
              "                        {\"responsive\": true}\n",
              "                    ).then(function(){\n",
              "                            \n",
              "var gd = document.getElementById('554a0ef5-7cf6-40d0-9a27-37549087f86a');\n",
              "var x = new MutationObserver(function (mutations, observer) {{\n",
              "        var display = window.getComputedStyle(gd).display;\n",
              "        if (!display || display === 'none') {{\n",
              "            console.log([gd, 'removed!']);\n",
              "            Plotly.purge(gd);\n",
              "            observer.disconnect();\n",
              "        }}\n",
              "}});\n",
              "\n",
              "// Listen for the removal of the full notebook cells\n",
              "var notebookContainer = gd.closest('#notebook-container');\n",
              "if (notebookContainer) {{\n",
              "    x.observe(notebookContainer, {childList: true});\n",
              "}}\n",
              "\n",
              "// Listen for the clearing of the current output cell\n",
              "var outputEl = gd.closest('.output');\n",
              "if (outputEl) {{\n",
              "    x.observe(outputEl, {childList: true});\n",
              "}}\n",
              "\n",
              "                        })\n",
              "                };\n",
              "                \n",
              "            </script>\n",
              "        </div>\n",
              "</body>\n",
              "</html>"
            ]
          },
          "metadata": {}
        }
      ]
    },
    {
      "cell_type": "markdown",
      "metadata": {
        "id": "pfoFYGQAZgm2"
      },
      "source": [
        "Διαλέγουμε 3 από τα καλύτερα trial και κάνμουμε grid search στις παραμέτρους τους"
      ]
    },
    {
      "cell_type": "code",
      "metadata": {
        "colab": {
          "base_uri": "https://localhost:8080/"
        },
        "id": "leEAVMTTZXrU",
        "outputId": "e46f2a53-3d8f-442c-9be4-ea61714da6c0"
      },
      "source": [
        "svc_study.best_trial.params"
      ],
      "execution_count": 99,
      "outputs": [
        {
          "output_type": "execute_result",
          "data": {
            "text/plain": [
              "{'C': 0.401621811541987, 'gamma': 0.1524766366227319, 'kernel': 'linear'}"
            ]
          },
          "metadata": {},
          "execution_count": 99
        }
      ]
    },
    {
      "cell_type": "code",
      "metadata": {
        "colab": {
          "base_uri": "https://localhost:8080/"
        },
        "id": "z6uKlXGsZacs",
        "outputId": "5953db0b-2054-4899-8fda-f742e5d69b6e"
      },
      "source": [
        "optuna.trial.Trial(svc_study, 43).params"
      ],
      "execution_count": 100,
      "outputs": [
        {
          "output_type": "execute_result",
          "data": {
            "text/plain": [
              "{'C': 0.39692759341464395, 'gamma': 0.23804353610045628, 'kernel': 'linear'}"
            ]
          },
          "metadata": {},
          "execution_count": 100
        }
      ]
    },
    {
      "cell_type": "code",
      "metadata": {
        "colab": {
          "base_uri": "https://localhost:8080/"
        },
        "id": "Qjtv7cQeZdsH",
        "outputId": "0e0bdabd-8751-4db6-a1f7-2c5a759e2fc1"
      },
      "source": [
        "optuna.trial.Trial(svc_study, 75).params"
      ],
      "execution_count": 101,
      "outputs": [
        {
          "output_type": "execute_result",
          "data": {
            "text/plain": [
              "{'C': 0.3964908884141303, 'gamma': 0.07334537758968894, 'kernel': 'linear'}"
            ]
          },
          "metadata": {},
          "execution_count": 101
        }
      ]
    },
    {
      "cell_type": "markdown",
      "metadata": {
        "id": "BlMkI6Wt5KbW"
      },
      "source": [
        "Κανουμε και ένα grid search πάνω στις καλύτερες trials."
      ]
    },
    {
      "cell_type": "code",
      "metadata": {
        "id": "rqzlmfuPmD69",
        "colab": {
          "base_uri": "https://localhost:8080/"
        },
        "outputId": "8604c6ed-079f-4f6f-9b6c-1b72c1b9fbbc"
      },
      "source": [
        "scaler = StandardScaler()\n",
        "\n",
        "clf = SVC(kernel = 'linear')\n",
        "    \n",
        "pipe = Pipeline(steps=[('scaler', scaler),  ('svc', clf)])\n",
        "\n",
        "Cs = [0.4]\n",
        "gammas = [0.073, 0.23, 0.15]\n",
        "\n",
        "params_grid = {'svc__C': Cs,\n",
        "               'svc__gamma': gammas \n",
        "               }\n",
        "\n",
        "estimator = GridSearchCV(pipe, params_grid, cv=10, scoring='f1_macro')\n",
        "estimator.fit(x_train_sampled_10, y_train_sampled_10)"
      ],
      "execution_count": 105,
      "outputs": [
        {
          "output_type": "execute_result",
          "data": {
            "text/plain": [
              "GridSearchCV(cv=10,\n",
              "             estimator=Pipeline(steps=[('scaler', StandardScaler()),\n",
              "                                       ('svc', SVC(kernel='linear'))]),\n",
              "             param_grid={'svc__C': [0.4], 'svc__gamma': [0.073, 0.23, 0.15]},\n",
              "             scoring='f1_macro')"
            ]
          },
          "metadata": {},
          "execution_count": 105
        }
      ]
    },
    {
      "cell_type": "code",
      "metadata": {
        "id": "DQ7UFcB-TV3Q",
        "colab": {
          "base_uri": "https://localhost:8080/"
        },
        "outputId": "ad1bd10c-2cae-4c16-fa4c-d65cbc5bd331"
      },
      "source": [
        "preds = estimator.predict(x_test_sampled_10)\n",
        "final_preds_helper['svm_improved'] = preds\n",
        "final_preds['svm_improved'] = [f1_score(preds, y_test_sampled_10, average='macro'),accuracy_score(preds, y_test_sampled_10)]\n",
        "print(f'Best parameters: {estimator.best_params_}')\n",
        "print()\n",
        "print('F1 score (macro) ' + str(f1_score(preds, y_test_sampled_10, average='macro')))\n",
        "print(f'Accuracy: {accuracy_score(preds, y_test_sampled_10)}')"
      ],
      "execution_count": 106,
      "outputs": [
        {
          "output_type": "stream",
          "name": "stdout",
          "text": [
            "Best parameters: {'svc__C': 0.4, 'svc__gamma': 0.073}\n",
            "\n",
            "F1 score (macro) 0.9762762762762763\n",
            "Accuracy: 0.9943741209563994\n"
          ]
        }
      ]
    },
    {
      "cell_type": "code",
      "metadata": {
        "colab": {
          "base_uri": "https://localhost:8080/"
        },
        "id": "PWDokQxMd7dC",
        "outputId": "07d85ee9-6dfe-44c0-d690-5f3271cc85ce"
      },
      "source": [
        "final_results = pd.DataFrame()\n",
        "final_results = pd.DataFrame.from_dict(final_preds, orient='index',columns=['f1_score','accuracy'])\n",
        "  \n",
        "print(final_results)"
      ],
      "execution_count": 107,
      "outputs": [
        {
          "output_type": "stream",
          "name": "stdout",
          "text": [
            "                 f1_score  accuracy\n",
            "mlp_base         0.709150  0.838608\n",
            "svc_linear_base  0.734076  0.836381\n",
            "svc_rbf_base     0.502189  0.784576\n",
            "mlp_improved     0.965922  0.990858\n",
            "svm_improved     0.976276  0.994374\n"
          ]
        }
      ]
    },
    {
      "cell_type": "code",
      "metadata": {
        "id": "OsVe1V31jlQT"
      },
      "source": [
        "acc_results =[]\n",
        "f1_results =[]\n",
        "for name, res in final_preds.items():\n",
        "  acc_results.append(res[1])\n",
        "  f1_results.append(res[0])"
      ],
      "execution_count": 108,
      "outputs": []
    },
    {
      "cell_type": "code",
      "metadata": {
        "colab": {
          "base_uri": "https://localhost:8080/",
          "height": 484
        },
        "id": "eqgl04hskcoA",
        "outputId": "4ac83c06-0c42-4b5b-9db0-ddd89f6377d1"
      },
      "source": [
        "fig = plt.subplots(figsize=(12,8))\n",
        "\n",
        "\n",
        "barWidth = 0.25\n",
        "\n",
        "bar_acc = np.arange(len(acc_results))-barWidth/4\n",
        "bar_f1 = [x+barWidth for x in bar_acc]\n",
        "models_names = ['mlp_base','svc_linear_base','svc_rbf_base', 'mlp_improved', 'svm_improved']\n",
        "plt.bar(bar_acc, acc_results,width=barWidth, label='Accuracy')\n",
        "plt.bar(bar_f1, f1_results,width=barWidth, label='f1 macro')\n",
        "plt.xticks(np.array(bar_acc), np.array(models_names))\n",
        "plt.legend(loc=2,prop={'size': 20})\n",
        "plt.grid(True)"
      ],
      "execution_count": 109,
      "outputs": [
        {
          "output_type": "display_data",
          "data": {
            "image/png": "[encoded data removed]",
            "text/plain": [
              "<Figure size 864x576 with 1 Axes>"
            ]
          },
          "metadata": {
            "needs_background": "light"
          }
        }
      ]
    },
    {
      "cell_type": "code",
      "metadata": {
        "colab": {
          "base_uri": "https://localhost:8080/",
          "height": 511
        },
        "id": "7JxLkTcCm25y",
        "outputId": "03375ba8-c931-4dac-f203-f204f6001aca"
      },
      "source": [
        "#mlp_base\n",
        "print('Confusion matrix for  mlp_base')\n",
        "print()\n",
        "conf_matrix = confusion_matrix(y_test_base,final_preds_helper['mlp_base'] )\n",
        "disp = ConfusionMatrixDisplay(conf_matrix, display_labels=[0,1])\n",
        "plt.rcParams['figure.figsize'] = [10, 7]\n",
        "disp.plot()\n",
        "plt.show()\n",
        "print()\n",
        "print()"
      ],
      "execution_count": 111,
      "outputs": [
        {
          "output_type": "stream",
          "name": "stdout",
          "text": [
            "Confusion matrix for  mlp_base\n",
            "\n"
          ]
        },
        {
          "output_type": "display_data",
          "data": {
            "image/png": "[encoded data removed]",
            "text/plain": [
              "<Figure size 720x504 with 2 Axes>"
            ]
          },
          "metadata": {
            "needs_background": "light"
          }
        },
        {
          "output_type": "stream",
          "name": "stdout",
          "text": [
            "\n",
            "\n"
          ]
        }
      ]
    },
    {
      "cell_type": "code",
      "metadata": {
        "colab": {
          "base_uri": "https://localhost:8080/",
          "height": 511
        },
        "id": "-M-Bx2xpni6P",
        "outputId": "af086ee1-49cb-413e-e6e0-4662e49c4350"
      },
      "source": [
        "#svc_linear_base\n",
        "print('Confusion matrix for  svc_linear_base')\n",
        "print()\n",
        "conf_matrix = confusion_matrix(y_test_sampled_15,final_preds_helper['svc_linear_base'] )\n",
        "disp = ConfusionMatrixDisplay(conf_matrix, display_labels=[0,1])\n",
        "plt.rcParams['figure.figsize'] = [10, 7]\n",
        "disp.plot()\n",
        "plt.show()\n",
        "print()\n",
        "print()"
      ],
      "execution_count": 112,
      "outputs": [
        {
          "output_type": "stream",
          "name": "stdout",
          "text": [
            "Confusion matrix for  svc_linear_base\n",
            "\n"
          ]
        },
        {
          "output_type": "display_data",
          "data": {
            "image/png": "[encoded data removed]",
            "text/plain": [
              "<Figure size 720x504 with 2 Axes>"
            ]
          },
          "metadata": {
            "needs_background": "light"
          }
        },
        {
          "output_type": "stream",
          "name": "stdout",
          "text": [
            "\n",
            "\n"
          ]
        }
      ]
    },
    {
      "cell_type": "code",
      "metadata": {
        "colab": {
          "base_uri": "https://localhost:8080/",
          "height": 511
        },
        "id": "dRUJkGAdn0MY",
        "outputId": "7806c3e8-1aa2-4f89-906b-cd6aab9cce5a"
      },
      "source": [
        "#svc_rbf_base\n",
        "print('Confusion matrix for  svc_rbf_base')\n",
        "print()\n",
        "conf_matrix = confusion_matrix(y_test_sampled_15,final_preds_helper['svc_rbf_base'] )\n",
        "disp = ConfusionMatrixDisplay(conf_matrix, display_labels=[0,1])\n",
        "plt.rcParams['figure.figsize'] = [10, 7]\n",
        "disp.plot()\n",
        "plt.show()\n",
        "print()\n",
        "print()"
      ],
      "execution_count": 114,
      "outputs": [
        {
          "output_type": "stream",
          "name": "stdout",
          "text": [
            "Confusion matrix for  svc_rbf_base\n",
            "\n"
          ]
        },
        {
          "output_type": "display_data",
          "data": {
            "image/png": "[encoded data removed]",
            "text/plain": [
              "<Figure size 720x504 with 2 Axes>"
            ]
          },
          "metadata": {
            "needs_background": "light"
          }
        },
        {
          "output_type": "stream",
          "name": "stdout",
          "text": [
            "\n",
            "\n"
          ]
        }
      ]
    },
    {
      "cell_type": "code",
      "metadata": {
        "colab": {
          "base_uri": "https://localhost:8080/",
          "height": 511
        },
        "id": "Eik5rylmn6At",
        "outputId": "098bcc51-2c57-468e-ed4f-4b02107910b9"
      },
      "source": [
        "#svm_improved\n",
        "print('Confusion matrix for  svm_improved')\n",
        "print()\n",
        "conf_matrix = confusion_matrix(y_test_sampled_10,final_preds_helper['svm_improved'] )\n",
        "disp = ConfusionMatrixDisplay(conf_matrix, display_labels=[0,1])\n",
        "plt.rcParams['figure.figsize'] = [10, 7]\n",
        "disp.plot()\n",
        "plt.show()\n",
        "print()\n",
        "print()"
      ],
      "execution_count": 115,
      "outputs": [
        {
          "output_type": "stream",
          "name": "stdout",
          "text": [
            "Confusion matrix for  svm_improved\n",
            "\n"
          ]
        },
        {
          "output_type": "display_data",
          "data": {
            "image/png": "[encoded data removed]",
            "text/plain": [
              "<Figure size 720x504 with 2 Axes>"
            ]
          },
          "metadata": {
            "needs_background": "light"
          }
        },
        {
          "output_type": "stream",
          "name": "stdout",
          "text": [
            "\n",
            "\n"
          ]
        }
      ]
    },
    {
      "cell_type": "code",
      "metadata": {
        "colab": {
          "base_uri": "https://localhost:8080/",
          "height": 511
        },
        "id": "xvHRfJK0oFnZ",
        "outputId": "306d6fb5-6624-45fe-bfbc-490f6f2f6d9a"
      },
      "source": [
        "#mlp_improved\n",
        "print('Confusion matrix for  mlp_improved')\n",
        "print()\n",
        "conf_matrix = confusion_matrix(y_test,final_preds_helper['mlp_improved'] )\n",
        "disp = ConfusionMatrixDisplay(conf_matrix, display_labels=[0,1])\n",
        "plt.rcParams['figure.figsize'] = [10, 7]\n",
        "disp.plot()\n",
        "plt.show()\n",
        "print()\n",
        "print()"
      ],
      "execution_count": 116,
      "outputs": [
        {
          "output_type": "stream",
          "name": "stdout",
          "text": [
            "Confusion matrix for  mlp_improved\n",
            "\n"
          ]
        },
        {
          "output_type": "display_data",
          "data": {
            "image/png": "[encoded data removed]",
            "text/plain": [
              "<Figure size 720x504 with 2 Axes>"
            ]
          },
          "metadata": {
            "needs_background": "light"
          }
        },
        {
          "output_type": "stream",
          "name": "stdout",
          "text": [
            "\n",
            "\n"
          ]
        }
      ]
    }
  ]
}